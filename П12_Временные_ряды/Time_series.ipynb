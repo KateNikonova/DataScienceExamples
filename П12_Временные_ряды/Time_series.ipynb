{
 "cells": [
  {
   "cell_type": "markdown",
   "metadata": {
    "toc": true
   },
   "source": [
    "<h1>Содержание<span class=\"tocSkip\"></span></h1>\n",
    "<div class=\"toc\"><ul class=\"toc-item\"><li><span><a href=\"#Подготовка\" data-toc-modified-id=\"Подготовка-1\"><span class=\"toc-item-num\">1&nbsp;&nbsp;</span>Подготовка</a></span></li><li><span><a href=\"#Анализ\" data-toc-modified-id=\"Анализ-2\"><span class=\"toc-item-num\">2&nbsp;&nbsp;</span>Анализ</a></span></li><li><span><a href=\"#Обучение\" data-toc-modified-id=\"Обучение-3\"><span class=\"toc-item-num\">3&nbsp;&nbsp;</span>Обучение</a></span><ul class=\"toc-item\"><li><span><a href=\"#Подготовка-к-обучению\" data-toc-modified-id=\"Подготовка-к-обучению-3.1\"><span class=\"toc-item-num\">3.1&nbsp;&nbsp;</span>Подготовка к обучению</a></span></li><li><span><a href=\"#Обучение\" data-toc-modified-id=\"Обучение-3.2\"><span class=\"toc-item-num\">3.2&nbsp;&nbsp;</span>Обучение</a></span><ul class=\"toc-item\"><li><span><a href=\"#Модель-DummyRegressor\" data-toc-modified-id=\"Модель-DummyRegressor-3.2.1\"><span class=\"toc-item-num\">3.2.1&nbsp;&nbsp;</span>Модель DummyRegressor</a></span></li><li><span><a href=\"#Модель-Линейной-Регрессии\" data-toc-modified-id=\"Модель-Линейной-Регрессии-3.2.2\"><span class=\"toc-item-num\">3.2.2&nbsp;&nbsp;</span>Модель Линейной Регрессии</a></span></li><li><span><a href=\"#Модель-CatBoostRegressor\" data-toc-modified-id=\"Модель-CatBoostRegressor-3.2.3\"><span class=\"toc-item-num\">3.2.3&nbsp;&nbsp;</span>Модель CatBoostRegressor</a></span></li><li><span><a href=\"#Модель-LGBMRegressor\" data-toc-modified-id=\"Модель-LGBMRegressor-3.2.4\"><span class=\"toc-item-num\">3.2.4&nbsp;&nbsp;</span>Модель LGBMRegressor</a></span></li></ul></li></ul></li><li><span><a href=\"#Тестирование\" data-toc-modified-id=\"Тестирование-4\"><span class=\"toc-item-num\">4&nbsp;&nbsp;</span>Тестирование</a></span></li><li><span><a href=\"#Чек-лист-проверки\" data-toc-modified-id=\"Чек-лист-проверки-5\"><span class=\"toc-item-num\">5&nbsp;&nbsp;</span>Чек-лист проверки</a></span></li></ul></div>"
   ]
  },
  {
   "cell_type": "markdown",
   "metadata": {},
   "source": [
    "#  Прогнозирование заказов такси"
   ]
  },
  {
   "cell_type": "markdown",
   "metadata": {},
   "source": [
    "Компания «Чётенькое такси» собрала исторические данные о заказах такси в аэропортах. Чтобы привлекать больше водителей в период пиковой нагрузки, нужно спрогнозировать количество заказов такси на следующий час. Постройте модель для такого предсказания.\n",
    "\n",
    "Значение метрики *RMSE* на тестовой выборке должно быть не больше 48.\n",
    "\n",
    "Вам нужно:\n",
    "\n",
    "1. Загрузить данные и выполнить их ресемплирование по одному часу.\n",
    "2. Проанализировать данные.\n",
    "3. Обучить разные модели с различными гиперпараметрами. Сделать тестовую выборку размером 10% от исходных данных.\n",
    "4. Проверить данные на тестовой выборке и сделать выводы.\n",
    "\n",
    "\n",
    "Данные лежат в файле `taxi.csv`. Количество заказов находится в столбце `num_orders` (от англ. *number of orders*, «число заказов»)."
   ]
  },
  {
   "cell_type": "markdown",
   "metadata": {},
   "source": [
    "## Подготовка"
   ]
  },
  {
   "cell_type": "code",
   "execution_count": 1,
   "metadata": {},
   "outputs": [],
   "source": [
    "import pandas as pd\n",
    "import matplotlib.pyplot as plt\n",
    "import numpy as np\n",
    "\n",
    "from statsmodels.tsa.seasonal import seasonal_decompose\n",
    "from sklearn.model_selection import TimeSeriesSplit,  train_test_split, GridSearchCV \n",
    "from sklearn.metrics import mean_squared_error as mse, make_scorer\n",
    "from statsmodels.tsa.stattools import adfuller\n",
    "\n",
    "from sklearn.dummy import DummyRegressor\n",
    "from sklearn.linear_model import LinearRegression\n",
    "from catboost import CatBoostRegressor\n",
    "import lightgbm as ltb\n",
    "\n",
    "import warnings\n",
    "warnings.filterwarnings('ignore')"
   ]
  },
  {
   "cell_type": "code",
   "execution_count": 2,
   "metadata": {},
   "outputs": [],
   "source": [
    "df = pd.read_csv('/datasets/taxi.csv', index_col=[0], parse_dates=[0]).resample('1H').sum()"
   ]
  },
  {
   "cell_type": "code",
   "execution_count": 3,
   "metadata": {},
   "outputs": [
    {
     "name": "stdout",
     "output_type": "stream",
     "text": [
      "<class 'pandas.core.frame.DataFrame'>\n",
      "DatetimeIndex: 4416 entries, 2018-03-01 00:00:00 to 2018-08-31 23:00:00\n",
      "Freq: H\n",
      "Data columns (total 1 columns):\n",
      " #   Column      Non-Null Count  Dtype\n",
      "---  ------      --------------  -----\n",
      " 0   num_orders  4416 non-null   int64\n",
      "dtypes: int64(1)\n",
      "memory usage: 69.0 KB\n"
     ]
    }
   ],
   "source": [
    "df.info()"
   ]
  },
  {
   "cell_type": "code",
   "execution_count": 4,
   "metadata": {},
   "outputs": [
    {
     "data": {
      "text/html": [
       "<div>\n",
       "<style scoped>\n",
       "    .dataframe tbody tr th:only-of-type {\n",
       "        vertical-align: middle;\n",
       "    }\n",
       "\n",
       "    .dataframe tbody tr th {\n",
       "        vertical-align: top;\n",
       "    }\n",
       "\n",
       "    .dataframe thead th {\n",
       "        text-align: right;\n",
       "    }\n",
       "</style>\n",
       "<table border=\"1\" class=\"dataframe\">\n",
       "  <thead>\n",
       "    <tr style=\"text-align: right;\">\n",
       "      <th></th>\n",
       "      <th>num_orders</th>\n",
       "    </tr>\n",
       "    <tr>\n",
       "      <th>datetime</th>\n",
       "      <th></th>\n",
       "    </tr>\n",
       "  </thead>\n",
       "  <tbody>\n",
       "    <tr>\n",
       "      <th>2018-03-01 00:00:00</th>\n",
       "      <td>124</td>\n",
       "    </tr>\n",
       "    <tr>\n",
       "      <th>2018-03-01 01:00:00</th>\n",
       "      <td>85</td>\n",
       "    </tr>\n",
       "    <tr>\n",
       "      <th>2018-03-01 02:00:00</th>\n",
       "      <td>71</td>\n",
       "    </tr>\n",
       "    <tr>\n",
       "      <th>2018-03-01 03:00:00</th>\n",
       "      <td>66</td>\n",
       "    </tr>\n",
       "    <tr>\n",
       "      <th>2018-03-01 04:00:00</th>\n",
       "      <td>43</td>\n",
       "    </tr>\n",
       "  </tbody>\n",
       "</table>\n",
       "</div>"
      ],
      "text/plain": [
       "                     num_orders\n",
       "datetime                       \n",
       "2018-03-01 00:00:00         124\n",
       "2018-03-01 01:00:00          85\n",
       "2018-03-01 02:00:00          71\n",
       "2018-03-01 03:00:00          66\n",
       "2018-03-01 04:00:00          43"
      ]
     },
     "execution_count": 4,
     "metadata": {},
     "output_type": "execute_result"
    }
   ],
   "source": [
    "df.head()"
   ]
  },
  {
   "cell_type": "code",
   "execution_count": 5,
   "metadata": {},
   "outputs": [
    {
     "data": {
      "text/plain": [
       "True"
      ]
     },
     "execution_count": 5,
     "metadata": {},
     "output_type": "execute_result"
    }
   ],
   "source": [
    "df.index.is_monotonic"
   ]
  },
  {
   "cell_type": "markdown",
   "metadata": {},
   "source": [
    " **Выводы:**\n",
    " - Данные загружены за шесть месяцев  с марта по август 2018 года включительно\n",
    " - Пропусков нет\n",
    " - Ресемплинг на 1 часовой интервал с суммуированием выполнен"
   ]
  },
  {
   "cell_type": "markdown",
   "metadata": {},
   "source": [
    "## Анализ"
   ]
  },
  {
   "cell_type": "markdown",
   "metadata": {},
   "source": [
    "Построим график количества заказов"
   ]
  },
  {
   "cell_type": "code",
   "execution_count": 6,
   "metadata": {},
   "outputs": [
    {
     "data": {
      "text/plain": [
       "<AxesSubplot:xlabel='datetime'>"
      ]
     },
     "execution_count": 6,
     "metadata": {},
     "output_type": "execute_result"
    },
    {
     "data": {
      "image/png": "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\n",
      "text/plain": [
       "<Figure size 1080x432 with 1 Axes>"
      ]
     },
     "metadata": {
      "needs_background": "light"
     },
     "output_type": "display_data"
    }
   ],
   "source": [
    "df.plot(figsize=(15,6), color = 'green')"
   ]
  },
  {
   "cell_type": "markdown",
   "metadata": {},
   "source": [
    "Разложим временной ряда на тренд, сезонность и остаток"
   ]
  },
  {
   "cell_type": "code",
   "execution_count": 7,
   "metadata": {},
   "outputs": [],
   "source": [
    "df_decomposed = seasonal_decompose(df)"
   ]
  },
  {
   "cell_type": "code",
   "execution_count": 8,
   "metadata": {},
   "outputs": [
    {
     "data": {
      "text/plain": [
       "Text(0, 0.5, 'Значение')"
      ]
     },
     "execution_count": 8,
     "metadata": {},
     "output_type": "execute_result"
    },
    {
     "data": {
      "image/png": "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\n",
      "text/plain": [
       "<Figure size 1080x432 with 1 Axes>"
      ]
     },
     "metadata": {
      "needs_background": "light"
     },
     "output_type": "display_data"
    }
   ],
   "source": [
    "ax = df_decomposed.trend.plot(figsize=(15,6), color = 'green')\n",
    "ax.set_title('Распределение значений по датам')\n",
    "ax.set_xlabel('Дата')\n",
    "ax.set_ylabel('Значение')"
   ]
  },
  {
   "cell_type": "markdown",
   "metadata": {},
   "source": [
    "Наблюдается постепенное увеличие заказов с конца весны по конец лета."
   ]
  },
  {
   "cell_type": "markdown",
   "metadata": {},
   "source": [
    "Рассмотрим за неделю"
   ]
  },
  {
   "cell_type": "code",
   "execution_count": 9,
   "metadata": {},
   "outputs": [
    {
     "data": {
      "text/plain": [
       "Text(0, 0.5, 'Значение')"
      ]
     },
     "execution_count": 9,
     "metadata": {},
     "output_type": "execute_result"
    },
    {
     "data": {
      "image/png": "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\n",
      "text/plain": [
       "<Figure size 1080x432 with 1 Axes>"
      ]
     },
     "metadata": {
      "needs_background": "light"
     },
     "output_type": "display_data"
    }
   ],
   "source": [
    "ax = df_decomposed.seasonal.head(24*7).plot(figsize=(15,6), color = 'green')\n",
    "ax.set_title('Распределение значений по датам (неделя)')\n",
    "ax.set_xlabel('Дата')\n",
    "ax.set_ylabel('Значение')"
   ]
  },
  {
   "cell_type": "markdown",
   "metadata": {},
   "source": [
    "Рассмотрим за день"
   ]
  },
  {
   "cell_type": "code",
   "execution_count": 10,
   "metadata": {},
   "outputs": [
    {
     "data": {
      "text/plain": [
       "Text(0, 0.5, 'Значение')"
      ]
     },
     "execution_count": 10,
     "metadata": {},
     "output_type": "execute_result"
    },
    {
     "data": {
      "image/png": "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\n",
      "text/plain": [
       "<Figure size 1080x432 with 1 Axes>"
      ]
     },
     "metadata": {
      "needs_background": "light"
     },
     "output_type": "display_data"
    }
   ],
   "source": [
    "ax = df_decomposed.seasonal.head(24).plot(figsize=(15,6), color = 'green')\n",
    "ax.set_title('Распределение значений по датам (день)')\n",
    "ax.set_xlabel('Дата')\n",
    "ax.set_ylabel('Значение')"
   ]
  },
  {
   "cell_type": "markdown",
   "metadata": {},
   "source": [
    "Больше все заказов наблюдается к концу дня, а меньше всего рано утром."
   ]
  },
  {
   "cell_type": "markdown",
   "metadata": {},
   "source": [
    "Остаток"
   ]
  },
  {
   "cell_type": "code",
   "execution_count": 11,
   "metadata": {},
   "outputs": [
    {
     "data": {
      "text/plain": [
       "Text(0, 0.5, 'Значение')"
      ]
     },
     "execution_count": 11,
     "metadata": {},
     "output_type": "execute_result"
    },
    {
     "data": {
      "image/png": "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\n",
      "text/plain": [
       "<Figure size 1080x432 with 1 Axes>"
      ]
     },
     "metadata": {
      "needs_background": "light"
     },
     "output_type": "display_data"
    }
   ],
   "source": [
    "ax = df_decomposed.resid.plot(figsize=(15,6), color = 'green')\n",
    "ax.set_title('Распределение значений по датам (остаток)')\n",
    "ax.set_xlabel('Дата')\n",
    "ax.set_ylabel('Значение')"
   ]
  },
  {
   "cell_type": "markdown",
   "metadata": {},
   "source": [
    "Тест Дики-Фуллера"
   ]
  },
  {
   "cell_type": "code",
   "execution_count": 12,
   "metadata": {},
   "outputs": [
    {
     "name": "stdout",
     "output_type": "stream",
     "text": [
      "adf:  -3.068924289027945\n",
      "p-value:  0.028940051402613794\n",
      "Critical values:  {'1%': -3.431842162413052, '5%': -2.8621993540813637, '10%': -2.567120978470452}\n",
      "нет единичных корней, ряд стационарен\n"
     ]
    }
   ],
   "source": [
    "test = adfuller(df)\n",
    "print('adf: ', test[0])\n",
    "print('p-value: ', test[1])\n",
    "print('Critical values: ', test[4])\n",
    "if test[0] > test[4]['5%']:\n",
    "    print('есть единичные корни, ряд не стационарен')\n",
    "else:\n",
    "    print('нет единичных корней, ряд стационарен')"
   ]
  },
  {
   "cell_type": "markdown",
   "metadata": {},
   "source": [
    "**Выводы:** <br>\n",
    "Наблюдается восходящий тренд и дневная сезонность. <br>\n",
    "Самое популярное время около полуночи, когда общественный транспорт перестает ходить.\n",
    "А так же время близкое к стандартному началу рабочего дня 9 утра и 6 вечера."
   ]
  }
  {
   "cell_type": "markdown",
   "metadata": {},
   "source": [
    "## Обучение"
   ]
  },
  {
   "cell_type": "markdown",
   "metadata": {},
   "source": [
    "###  Подготовка к обучению"
   ]
  },
  {
   "cell_type": "markdown",
   "metadata": {},
   "source": [
    "Функция для рассчета rmse"
   ]
  },
  {
   "cell_type": "code",
   "execution_count": 13,
   "metadata": {},
   "outputs": [],
   "source": [
    "def rmse(predicted, target):\n",
    "    return mse(predicted, target) ** 0.5\n",
    "\n",
    "comparison = pd.DataFrame(columns = ['model', 'rmse'])"
   ]
  },
  {
   "cell_type": "markdown",
   "metadata": {},
   "source": [
    "Подготовка признаков"
   ]
  },
  {
   "cell_type": "code",
   "execution_count": 14,
   "metadata": {},
   "outputs": [],
   "source": [
    "def df_features(df, max_lag, rolling):\n",
    "    df['day'] = df.index.day\n",
    "    df['hour'] = df.index.hour\n",
    "    df['dayofweek'] = df.index.dayofweek\n",
    " \n",
    "    for lag in range(1, max_lag + 1):\n",
    "        df['lag_{}'.format(lag)] = df['num_orders'].shift(2*lag)\n",
    " \n",
    "    for i, roll in zip(range(len(rolling)), rolling):\n",
    "        df['rolling_mean_{}'.format(i)] = df['num_orders'].shift().rolling(roll).mean()"
   ]
  },
  {
   "cell_type": "markdown",
   "metadata": {},
   "source": [
    "Сгенерируем признаки"
   ]
  },
  {
   "cell_type": "code",
   "execution_count": 15,
   "metadata": {},
   "outputs": [],
   "source": [
    "df_features(df, 15, [10,20])\n",
    "df.dropna(inplace=True)"
   ]
  },
  {
   "cell_type": "markdown",
   "metadata": {},
   "source": [
    "### Обучение"
   ]
  },
  {
   "cell_type": "markdown",
   "metadata": {},
   "source": [
    "Разделение на обучающую и тестовую"
   ]
  },
  {
   "cell_type": "code",
   "execution_count": 16,
   "metadata": {},
   "outputs": [],
   "source": [
    "features_train, features_test, target_train, target_test = train_test_split(\n",
    "    df.drop(['num_orders'], axis=1), df['num_orders'], test_size=0.1, shuffle=False, random_state=12345) "
   ]
  },
  {
   "cell_type": "markdown",
   "metadata": {},
   "source": [
    "#### Модель DummyRegressor"
   ]
  },
  {
   "cell_type": "code",
   "execution_count": 17,
   "metadata": {},
   "outputs": [
    {
     "name": "stdout",
     "output_type": "stream",
     "text": [
      "CPU times: user 4.16 ms, sys: 3 µs, total: 4.16 ms\n",
      "Wall time: 3.89 ms\n"
     ]
    }
   ],
   "source": [
    "%%time\n",
    "model_dum = DummyRegressor(strategy='mean')\n",
    "\n",
    "model_dum.fit(features_train, target_train)\n",
    "prediction = model_dum.predict(features_test)\n",
    "\n",
    "comparison = comparison.append({'model' : 'DummyRegressor',\n",
    "                     'rmse' : rmse(prediction, target_test)}, ignore_index=True)"
   ]
  },
  {
   "cell_type": "markdown",
   "metadata": {},
   "source": [
    "#### Модель Линейной Регрессии"
   ]
  },
  {
   "cell_type": "code",
   "execution_count": 18,
   "metadata": {
    "scrolled": true
   },
   "outputs": [
    {
     "name": "stdout",
     "output_type": "stream",
     "text": [
      "Fitting 5 folds for each of 4 candidates, totalling 20 fits\n",
      "CPU times: user 1.64 s, sys: 2.31 s, total: 3.95 s\n",
      "Wall time: 3.93 s\n"
     ]
    },
    {
     "data": {
      "text/plain": [
       "{'n_jobs': 1, 'normalize': True}"
      ]
     },
     "execution_count": 18,
     "metadata": {},
     "output_type": "execute_result"
    }
   ],
   "source": [
    "%%time\n",
    "model_lreg = LinearRegression()\n",
    "\n",
    "parameters_lreg = [{'normalize': [True, False],\n",
    "               'n_jobs': [1, -1]}]\n",
    "\n",
    "model_lreg_cv = GridSearchCV(model_lreg, param_grid=parameters_lreg, scoring='neg_mean_squared_error', \n",
    "                   cv=TimeSeriesSplit(n_splits=5), verbose=True)\n",
    "model_lreg_cv.fit(features_train, target_train)\n",
    "\n",
    "comparison = comparison.append({'model' : 'LinearRegression',\n",
    "                     'rmse' : abs(model_lreg_cv.best_score_) ** 0.5}, ignore_index=True)\n",
    "\n",
    "model_lreg_cv.best_params_"
   ]
  },
  {
   "cell_type": "markdown",
   "metadata": {},
   "source": [
    "#### Модель CatBoostRegressor"
   ]
  },
  {
   "cell_type": "code",
   "execution_count": 19,
   "metadata": {},
   "outputs": [
    {
     "name": "stdout",
     "output_type": "stream",
     "text": [
      "Fitting 5 folds for each of 8 candidates, totalling 40 fits\n",
      "CPU times: user 6min 16s, sys: 4.93 s, total: 6min 21s\n",
      "Wall time: 7min 6s\n"
     ]
    },
    {
     "data": {
      "text/plain": [
       "{'l2_leaf_reg': 1, 'learning_rate': 0.05, 'max_depth': 5, 'n_estimators': 500}"
      ]
     },
     "execution_count": 19,
     "metadata": {},
     "output_type": "execute_result"
    }
   ],
   "source": [
    "%%time\n",
    "model_cbr = CatBoostRegressor(random_state=42, loss_function='RMSE',\n",
    "                              cat_features=['hour', 'day', 'dayofweek'], silent=True)\n",
    "\n",
    "parameters = [{'max_depth': [5, 10 ],\n",
    "               'learning_rate': [0.1, 0.05],\n",
    "               'n_estimators': [350, 500],\n",
    "               'l2_leaf_reg': [1]}]\n",
    "\n",
    "model_cbr_cv = GridSearchCV(model_cbr, param_grid=parameters, scoring='neg_mean_squared_error', \n",
    "                   cv=TimeSeriesSplit(n_splits=5), verbose=True, n_jobs=-1)\n",
    "model_cbr_cv.fit(features_train, target_train)\n",
    "\n",
    "comparison = comparison.append({'model' : 'CatBoostRegressor',\n",
    "                     'rmse' : abs(model_cbr_cv.best_score_) ** 0.5}, ignore_index=True)\n",
    "\n",
    "model_cbr_cv.best_params_"
   ]
  },
  {
   "cell_type": "markdown",
   "metadata": {},
   "source": [
    "#### Модель LGBMRegressor"
   ]
  },
  {
   "cell_type": "code",
   "execution_count": 20,
   "metadata": {},
   "outputs": [
    {
     "name": "stdout",
     "output_type": "stream",
     "text": [
      "Fitting 5 folds for each of 6 candidates, totalling 30 fits\n",
      "CPU times: user 18min 41s, sys: 5.35 s, total: 18min 46s\n",
      "Wall time: 18min 55s\n"
     ]
    },
    {
     "data": {
      "text/plain": [
       "{'boosting_type': 'gbdt', 'max_depth': 7}"
      ]
     },
     "execution_count": 20,
     "metadata": {},
     "output_type": "execute_result"
    }
   ],
   "source": [
    "%%time\n",
    "model_lgbm = ltb.LGBMRegressor()\n",
    "\n",
    "parameters_sgd = [{'boosting_type': ['goss', 'gbdt'],\n",
    "                   'max_depth': [7, 10, 15]}]\n",
    "\n",
    "model_lgbm_cv = GridSearchCV(model_lgbm, param_grid=parameters_sgd, scoring='neg_mean_squared_error', \n",
    "                   cv=TimeSeriesSplit(n_splits=5), verbose=True, n_jobs=-1)\n",
    "model_lgbm_cv.fit(features_train, target_train)\n",
    "\n",
    "comparison = comparison.append({'model' : 'LGBMRegressor',\n",
    "                     'rmse' : abs(model_lgbm_cv.best_score_) ** 0.5}, ignore_index=True)\n",
    "\n",
    "model_lgbm_cv.best_params_"
   ]
  },
  {
   "cell_type": "markdown",
   "metadata": {},
   "source": [
    "Сравнение моделей"
   ]
  },
  {
   "cell_type": "code",
   "execution_count": 21,
   "metadata": {},
   "outputs": [
    {
     "data": {
      "text/html": [
       "<div>\n",
       "<style scoped>\n",
       "    .dataframe tbody tr th:only-of-type {\n",
       "        vertical-align: middle;\n",
       "    }\n",
       "\n",
       "    .dataframe tbody tr th {\n",
       "        vertical-align: top;\n",
       "    }\n",
       "\n",
       "    .dataframe thead th {\n",
       "        text-align: right;\n",
       "    }\n",
       "</style>\n",
       "<table border=\"1\" class=\"dataframe\">\n",
       "  <thead>\n",
       "    <tr style=\"text-align: right;\">\n",
       "      <th></th>\n",
       "      <th>model</th>\n",
       "      <th>rmse</th>\n",
       "    </tr>\n",
       "  </thead>\n",
       "  <tbody>\n",
       "    <tr>\n",
       "      <th>0</th>\n",
       "      <td>DummyRegressor</td>\n",
       "      <td>84.697800</td>\n",
       "    </tr>\n",
       "    <tr>\n",
       "      <th>1</th>\n",
       "      <td>LinearRegression</td>\n",
       "      <td>28.300891</td>\n",
       "    </tr>\n",
       "    <tr>\n",
       "      <th>2</th>\n",
       "      <td>CatBoostRegressor</td>\n",
       "      <td>24.508115</td>\n",
       "    </tr>\n",
       "    <tr>\n",
       "      <th>3</th>\n",
       "      <td>LGBMRegressor</td>\n",
       "      <td>25.394835</td>\n",
       "    </tr>\n",
       "  </tbody>\n",
       "</table>\n",
       "</div>"
      ],
      "text/plain": [
       "               model       rmse\n",
       "0     DummyRegressor  84.697800\n",
       "1   LinearRegression  28.300891\n",
       "2  CatBoostRegressor  24.508115\n",
       "3      LGBMRegressor  25.394835"
      ]
     },
     "execution_count": 21,
     "metadata": {},
     "output_type": "execute_result"
    }
   ],
   "source": [
    "comparison"
   ]
  },
  {
   "cell_type": "markdown",
   "metadata": {},
   "source": [
    "## Тестирование"
   ]
  },
  {
   "cell_type": "markdown",
   "metadata": {},
   "source": [
    "Наилучшие показатели у CatBoostRegressor"
   ]
  },
  {
   "cell_type": "code",
   "execution_count": 37,
   "metadata": {},
   "outputs": [
    {
     "name": "stdout",
     "output_type": "stream",
     "text": [
      "rmse : 40.034573921830734\n",
      "CPU times: user 3.57 ms, sys: 4.09 ms, total: 7.66 ms\n",
      "Wall time: 6.1 ms\n"
     ]
    }
   ],
   "source": [
    "%%time\n",
    "predict_test = model_cbr_cv.best_estimator_.predict(features_test)\n",
    "print('rmse : {}'.format(rmse(predict_test, target_test)))"
   ]
  },
  {
   "cell_type": "markdown",
   "metadata": {},
   "source": [
    "Сравнение тестовых значений с предсказанными"
   ]
  },
  {
   "cell_type": "code",
   "execution_count": 38,
   "metadata": {},
   "outputs": [
    {
     "data": {
      "text/plain": [
       "Text(0, 0.5, 'Значение')"
      ]
     },
     "execution_count": 38,
     "metadata": {},
     "output_type": "execute_result"
    },
    {
     "data": {
      "image/png": "iVBORw0KGgoAAAANSUhEUgAAA3sAAAFzCAYAAACHARCnAAAAOXRFWHRTb2Z0d2FyZQBNYXRwbG90bGliIHZlcnNpb24zLjMuNCwgaHR0cHM6Ly9tYXRwbG90bGliLm9yZy8QVMy6AAAACXBIWXMAAAsTAAALEwEAmpwYAAEAAElEQVR4nOy9d5gjWX3u/5Zybqnj5LSzgQ2wCwssYBubJV2wDdjG4YIBX2yCDQ742gaHey9+bGywicaYYHL+kUxcAxtgF9jAJnZmw+ykntQzHZVVuc7vj3NOqaRWKPUoTe/38zzzTLeklkpS1TnnPe83KIwxEARBEARBEARBEJuLwKgPgCAIgiAIgiAIgug/JPYIgiAIgiAIgiA2IST2CIIgCIIgCIIgNiEk9giCIAiCIAiCIDYhJPYIgiAIgiAIgiA2IST2CIIgCIIgCIIgNiGhUR/A+TA9Pc327Nkz6sMgCIIgCIIgCIIYCffcc88KY2ym1X0XtNjbs2cP7r777lEfBkEQBEEQBEEQxEhQFOVEu/sojJMgCIIgCIIgCGITQmKPIAiCIAiCIAhiE0JijyAIgiAIgiAIYhNCYo8gCIIgCIIgCGITQmKPIAiCIAiCIAhiE0JijyAIgiAIgiAIYhNCYo8gCIIgCIIgCGITQmKPIAiCIAiCIAhiE0JijyAIgiAIgiAIYhNCYo8gCIIgCIIgCGITQmKPIAiCIAiCIAhiE0JijyAIYsicLJ7ESm1l1IdBEARBEMQmh8QeQRDEkHnpl16Kv/z+X476MAiCIAiC2OSQ2CMIghgyeTWPglYY9WEQBEEQBLHJIbFHEAQxZGxmw2b2qA+DIAiCIIhNDok9giCIIWM5FmyHxB5BEARBEIOFxB5BEMSQsR0bDnNGfRgEQRAEQWxySOwRBEEMGcuxKIyTIAiCIIiBQ2KPIAhiyNjMpjBOgiAIgiAGDok9giCIIUPOHkEQBEEQw4DEHkEQxJCxHXL2CIIgCIIYPCT2CIIghgw5ewRBEARBDAMSewRBEEPGZlSNkyAIgiCIwUNijyAIYshQnz2CIAiCIIYBiT2CIIghwhiDwxwK4yQIgiAIYuCQ2CMIghgiUuSRs0cQBEEQxKAhsUcQBDFELMcCAHL2CIIgCIIYOCT2CIIghoh09MjZIwiCIAhi0JDYIwiCGCLS2aNqnARBEARBDBoSewRBEEPEzdmjME6CIAiCIAYMiT2CIIgh4ubsURgnQRAEQRADhsQeQRDEEHFz9sjZIwiCIAhiwJDYIwiCGCLk7BEEQRAEMSxI7BEEQQwRytkjCIIgCGJYkNgjCIIYIlSNkyAIgiCIYUFijyAIYohQGCdBEARBEMOCxB5BEMQQoQItBEEQBEEMCxJ7BEEQQ4ScPYIgCIIghgWJPYIgiCFCBVoIgiAIghgWJPYIgiCGCBVoIQiCIAhiWJDYIwiCGCJuzh6FcRIEQRAEMWBI7BEEQQwRN2ePwjgJgiAIghgwJPYIgiCGiBR5DnPAGBvx0RAEQRAEsZkhsUcQBDFEpLMHUN4eQRAEQRCDhcQeQRDEEPGKPQrlJAiCIAhikJDYIwiCGCLewizk7BEEQRAEMUhI7BEEQQyRBmePKnISBEEQBDFASOwRBEEMEW/oJoVxEgQxat535/twcOngqA+DIIgBQWKPIAhiiJCzRxDEOPGm774Jn33gs6M+DIIgBgSJPYIgiCHiFXjk7BEEMUoYY7CZ3bAJRRDE5mLgYk9RlKCiKPcpivIt8fteRVHuVBTliKIoX1QUJSJuj4rfj4j79wz62AiCIIYNOXsEQYwLskgUbTwRxOZlGM7enwB42PP72wG8mzG2H0AewKvF7a8GkBe3v1s8jiAIYlPhXVRRNU6CIEaJ3HyijSeC2LwMVOwpirIDwAsB/Kf4XQHwLABfFg/5JIAXi59fJH6HuP968XiCIIhNA/XZIwhiXJDjEYVxEsTmZdDO3nsA/CUAuX09BaDAGJOjymkA28XP2wGcAgBxf1E8vgFFUV6jKMrdiqLcvby8PMBDJwiC6D8NOXu0m04QxAiRG0608UQQm5eBiT1FUX4ZwBJj7J5+Pi9j7MOMsWsZY9fOzMz086kJgiAGDjl7BEGMCxTGSRCbn9AAn/sZAH5VUZQXAIgByAB4L4Csoigh4d7tAHBGPP4MgJ0ATiuKEgIwAWB1gMdHEAQxdKhAC0EQ44IbxskojJMgNisDc/YYY29hjO1gjO0B8NsAbmaMvQzALQB+QzzslQC+Ln7+hvgd4v6bGWNsUMdHEAQxCqipOkEQ44LccKKNJ4LYvIyiz95fAXiToihHwHPyPipu/yiAKXH7mwC8eQTHRhAEMVC8zh5V4yQIYpS4YZy08UQQm5ZBhnG6MMZ+AOAH4udjAJ7S4jEagJcO43gIgiBGBRVoIQhiXJAij6pxEsTmZRTOHkEQxGMWKtBCEMS4QAVaCGLzQ2KPIAhiiDTk7NECiyCIEUJ99ghi80NijyAIYoiQs0cQxLjgFmihsYggNi0k9giCIIYI5ewRBDEuUBgnQWx+SOwRBEEMEarGSRDEuEAFWghi80NijyAIYohQnz2CIMYFar1AEJsfEnsEQRBDpCFnj0KnCIIYIRTGSRCbHxJ7BEEQQ4QKtBAEMS5IkUdhnASxeSGxRxAEMUSoQAtBEOMChXESxOaHxB5BEMQQIWePIIhxgcI4CWLzQ2KPIAhiiHgFHlXjJAhilFA1ToLY/JDYIwiCGCJUoIUgiHGBwjgJYvNDYo8gCGKIUOsFgiDGBSrQQhCbHxJ7BEEQQ4ScPYIgxgXK2SOIzQ+JPYIgiCFiOzZCgRD/mZw9giBGCIVxEsTmh8QeQRDEELEcC5FgBAAVaCEIYrRQgRaC2PyQ2CMIghgiNrMRDUb5zxQ6RRDECKEwToLY/JDYIwiCGCJeZ49CpwiCGCVS5NFYRBCbFxJ7BEEQQ8RyLERD5OwRBDF6pLNHYZwEsXkhsUcQBDFEbMcmZ48giLGAwjgJYvNDYo8gCGKINIRx0gKLIIgRIjecaOOJIDYvJPYIgiCGiM1sqsZJEMRYQGGcBLH5IbFHEAQxRCzHqlfjpN10giBGCIVxEsTmh8QeQRDEEGnI2aMFFkEQI0SOQeTsEcTmhcQeQRDEEGmoxknOHkEQI8R19mgsIohNC4k9giCIIeLN2SNnjyCIUSJFnsMcMMZGfDQEQQwCEnsEQRBDhJqqEwQxLnjDN2k8IojNCYk9giCIIWI7tlughapxEgQxShrEHkUaEMSmhMQeQRDEEKE+ewRBjAveMYicPYLYnJDYIwiCGCKWYyEcCAOgxRVBEKPF6+xRRU6C2JyQ2CMIghgiNrMRCoQQVILk7BEEMVIojJMgNj8k9giCIIaI5VgIBoIIBoLk7BEEMVK8YxCNRwSxOSGxRxAEMURshzt7ASVAO+kEQYwUCuMkBsmvfP5X8JYb3zLqw3jMExr1ARAEQTyWsBwLQSWIoBKkapwEQYyUhgIttPlE9JmHlh9yC5IRo4OcPYIgiCHi5uxRGCdBECPGYuTsEYNDszQ6r8YAEnsEQRBDxHIsKtBCEMRYQE3ViUGiWzqJvTGAxB5BEMQQsR2bCrQQBDEWUBgnMUjI2RsPSOwRBEEMCcYYtV4gCGJsoAItxCAhsTcekNgjCIIYErIgS1AJ8mqc5OwRBDFCqPUCMSgsx4LNbBJ7YwCJPYIgiCEhJz1ZoIWqcRIEMUqoqToxKHRLB0CO8ThAYo8gCGJIyEkvGOCtF2gnnSCIUUJhnMSg0CwNAJ1X4wCJPYIgiCEhxZ3beoF20gmCGCENBVpo84noI7rNnT3TNkd8JASJPYIgiCHhOnsKOXsEQYwecvaIQUHO3vhAYo8gCGJIyF10cvYIghgHKGePGBQk9sYHEnsEQRBDgnL2CIIYJ2xmI6AE3J8Jol9QgZbxgcQeQRDEkPDm7AWUAFXjJAhipFiOhWgw6v5MEP2CnL3xgcQeQRDEkGjI2aMwToIgRozt2IiGou7PBNEvSOyNDyT2CIIghkRDzh6FcRIEMWK8zh6NR0Q/kdU4SeyNHhJ7BEEQQ6K5qTrtpBMEMUosx3KdPVqUE/2EnL3xgcQeQRDEkJA751SghSCIccBmdt3Zo80noo+Q2BsfSOwRBEEMiWZnjwq0EAQxSrzOHm0+Ef2EqnGODyT2CIIghoS3QEtACdBOOkEQI8V2bKrGSQwEcvbGBxJ7BEEQQ4IKtBAEMU40OHu0+UT0ERJ74wOJPYIgiCHR0FSdCrQQBDFiqM8eMSioGuf4QGKPIAhiSHibqpOzRxDEqLGZTTl7xECQzh4Do43NEUNijyAIYkhQU3WCIMaJhj57NB4RfUSKPYDcvVFDYo8gCGJINOfsUTVOgiBGCfXZIwaFrMYJ0Lk1agYm9hRFiSmKcpeiKD9TFOVBRVHeKm7fqyjKnYqiHFEU5YuKokTE7VHx+xFx/55BHRtBEMQo8ObsBZQAhU0RBDFSvNU4aTwi+gk5e+PDIJ09HcCzGGNPAHA1gOcrinIdgLcDeDdjbD+APIBXi8e/GkBe3P5u8TiCIIhNQ0POHoVxEgQxYiiMkxgUJPbGh4GJPcapiF/D4h8D8CwAXxa3fxLAi8XPLxK/Q9x/vaIoyqCOjyAIYtg05OxRgRaCIEaMt0ALLciJfiKrcQJ0bo2agebsKYoSVBTlfgBLAL4P4CiAAmNMfuunAWwXP28HcAoAxP1FAFMtnvM1iqLcrSjK3cvLy4M8fIIgiL4iJzxy9giCGAcanD3afCL6CDl748NAxR5jzGaMXQ1gB4CnALisD8/5YcbYtYyxa2dmZs736QiCIIYGNVUnCGJcYIzBYQ41VScGAom98WEo1TgZYwUAtwB4GoCsoighcdcOAGfEz2cA7AQAcf8EgNVhHB9BEMQwaG6qTtU4CYIYFXKziZqqE4OAwjjHh0FW45xRFCUrfo4DeA6Ah8FF32+Ih70SwNfFz98Qv0PcfzNjjA3q+AiCIIaNt0BLQAnQTjpBECNDLsAjwQgAPj599oHP4uoPXj3CoyI2C+TsjQ+h7g/ZMFsBfFJRlCC4qPz/GGPfUhTlIQBfUBTlHwDcB+Cj4vEfBfBpRVGOAFgD8NsDPDaCIIihQwVaCIIYF7w5xAElAMuxcGDpAH62+DMwxkA18ojzgcTe+DAwsccYewDANS1uPwaev9d8uwbgpYM6HoIgiFGzLmePnD2CIEZEq/FILtBtZiOkDNIPIDY7uqVDgQIGRmJvxAwlZ48gCIJYn7NHzh5BEKPC6+yFAiHYzIZu8Twr2ogizhfN0pCMJAGQszdqSOwRBEEMiYam6uTsEQQxQuR4JDefLMeCZmsN9xHERtFtHckwib1xgMQeQRDEkGjI2aNqnARBjJB1zp43jJM2oojzRLM0pCIpAIDpmCM+msc2JPYIgiCGhDdHJqAEaPecIIiR4RV7smCUN2ePIM4Hr9gjZ2+0kNgjCIIYEg05exTGSRDECJHjj4w0sByLcvaIvqFbOuXsjQkk9giCIIZEw046FWghCGKEdArjpBBz4nxgjEG3dXL2xgQSewRBtOTTP/s03nPHe0Z9GJsKKtBCEJsX3dLxsq++DPOF+VEfii8aCrRQGCfRR3SbO8RUoGU8ILFHEERLPn/w8/jPe/9z1IexqWgu0EILKoLYPBzLH8PnDnwOt564ddSH4ovmSAPLsdxFOm1EEeeDDAcmZ288ILFHEERLTMdEzayN+jA2FbZjI6AEoCgKgkoQAA93IQjiwsewDQCAaV8YlQdb9dkjZ4/oB/I8SkfSAEjsjRoSewRBtMS0Sez1G8uxXJEXUPjwS4sqgtgcSFdMir5xp6FAiyL67FHrBaIPyPOo1wItDy0/hNtP3T6w43qsQmKPIIiWGLaBqlkd9WFsKmxmIxQIAeB5MgAtqghis+A6exdIT7GOffZoE4o4D+TGR69hnG+56S143bdfN7DjeqxCYo8giJbIME4KM+wflmO5Ik86fGWjjE//7NP0ORNEB249cSseXHoQOHMGsMdTiFzIYZwyh5haLxD9QG4a9Cr2FsoLqBiVgR3XYxUSewRBtMSwDTjMuWBCki4EbMd2RZ4UfV968Et4xX+9AscLx0d5aAQx1rzuW6/D27/5V8BFFwFf+9qoD6clUihdKGNmczXOhjBOcvaI88AN4+yxGudSdcn9W6J/+BJ7iqIkFEX5O0VRPiJ+v1hRlF8e7KERBDFK5O40hXL2D83SEAvFANSdvZXaCoD6QpEgiPXUzBq0hZOArgNnz476cFqyqcI4ydkjzoONVONkjGGxskhibwD4dfY+DkAH8DTx+xkA/zCQIyIIYiyQCxYq0tI/VEtFPBwHUHf2CloBwIWzQCSIUaDbOmr5Jf6LMZ7O2YUWxtlQoCUQhG7rrqNHzh5xPmwkjLNslKHbOlRTbXl/1ahSiOcG8Sv2LmKMvQOACQCMsRoAZWBHRRDEyJELFxJ7/UO1VMRDXOzJapx5LQ+ASlMTRCd0S4eeXxG/jKcL3q4a59cf+ToOrx4exSF1pCFnTwmiatSjOBzmjOqwiE1AczVOPxsgi5VF929b5bC/5luvwcu++rI+HuVjB79iz1AUJQ6AAYCiKBeBO30EQWxS3DBOg8I4+0XNrCERTgCoh3GS2COI7ui2jpgu3KYxFXvtwjhf9fVX4d9/+u+jOKSONIdxekP2KYxz83C2fHbo4n0j1TiXqty5Z2AtI13Ols/iXOVcH4/ysYNfsfd/Afw3gJ2KonwWwE0A/nJgR0UQxMihMM7+o5odwjgvkNAvghgFhm0gLTXemIu9ZmdPs7SxLNrSUKAl0OjsURjn5iCv5rH3vXvxtYeHW9RoIwVaFquL6/7ei+VYtCm6QXyJPcbY9wH8GoBXAfg8gGsZYz8Y3GERBDFqKIyz/3jDOF1nTyVnjyA64TAHlmMhJfXSBZazZ9jGWG3m3HL8FjzvM89zi2iQs7d5WVPXoNs6ThRPDPV1N5KzJ5097997sRyLzssN4rca5xMB7AZwFsACgF3iNoIgNilUjbP/NIRxNjl7JPYIojVSlKSlxhtTZ08epzcEzXZsLlbZ+Fzf3z36XXzv6PdcJ6VVzh45e5sDKZrKenmoryuvBZmz16vYa1WkhZy9jRPy+bi7ARwGr8IpC7MwAM8axEERBDF6KIyz/zSEcTbl7FE1ToJojZv/M+Zir1UYp7yux8nZO1M+AwBYri4DqFfjJGdv8yHFXkkvjeR1Y6GY28OxG7JAi/fvvViORZsQG8Rvzt5zAZwDcA+AX2eM/RJjjIQeQWxSGGPu4EwFWvpHQxincPbkJEw7lgTRGimeLpScPe/GjbxtnK7vhfICgHqPTxnG6YUW1ZsDuVEySrEXDob9OXu17mGc43QdXUj4zdm7kTH2TAC3A/iWoih/I6pzEgSxCfEuVsjZ6x/eME7ZekFCkxhBtMZt0Dzmzl6r1gvS0Run6/tMiTt7KyoXe8FA0I00kJCztzlwnT1juGJPt3UoUBAOhBEKhPrn7NF5uSH85uy9SVGUNwHYA+C/APwWgOODOyyCIEaJN+SIxF7/UM31BVok4xTmRRDjhBRR6QuwQEu7dgyjRIZxep09GWkgIWdvczCqnD3N0hANRaEoim+xt1RdwnRi2v37ZsjZ2zh+wzjTnn9xAF8B8B+DOiiCIEaLd2e6alZxtnwWl//75Ti6dnSER3VhwxjjYZxNrRckNIkRRGukszdhiJIBY+rsXQhhnCW9hIpRAdA5jJOaqm8O5LUzijDOaDAKAP6dveoidk3sAsBTHpqhnL2N46tAC2PsrYM+EIIgxofmMM4DSwfw8MrDOLB0ABdNXjTCI7twkTuVzU3VJeOyGCSIcUMKpiknCkAD03W3Utw4IRfW41ygRYZwAnWxF1QojHOzMqoCLbqlIxaKAfAn9gzbQEErYPfEbtx79l5y9vqML7GnKMot4NU3G6AiLQSxOWkO41xT1wBQsZbzQe5UNhdokYxTmBdBjBMyjDNnhQFosNWa71Liw8Rw2odxjssiVYZwAlSg5bHAyMSerSMa8u/sycqwuyd2A6Awzn7jd7z83+AtFz4D4GWDOxyCIMaB5jBOKfZk+A/RO7JvEDl7BNEb0jHLmDzzxNSq4yn2WrReGDux53H25DHJPnteyNnbHMiNkrIx5D57tt4Yxtmlz6Ts+SjDOKlAS3/xG8Z5DwAoiqLKnwmC2Lw0h3HmVd4LjhqsbxxZ6Ebm7FE1TmIcKOklnCmdweNmHjfqQ2mLFEwpjeeR2ep4Fo1qlbMnXb5xce6ls7cnuwfzhXkAohonFWjZlHidPcYYFGU4AdC6pSMSjADgYq9bGLNsqL47S87eIPBboEWyLpSTIIjNB4Vx9p+uYZxjktNDPLZ49+3vxjM+9oxRH0ZHpDsR0/hCz9HWF28YB6QDOdZhnKUzyMVy2Jra6t7WMoyTHJRNgTwnLcdqKaAGhWEbPYVxyrYL3cI4aRNiY/jN2SuDC72Eoigl8JBOxhjLDPLgCIIYDQ1hnEYVa5oQe+TsbRgK4yTGkZXaCvJaHrZjr9uAGBd0SwcYEK6JKpzGeFfjbBXGOS6bOWfKZ7A9sx25eM69rWWBFlpUbwq8oqmkl9zIkkGzLoyzy/xW1IsAgC2pLQDq86UXcvY2jt+m6mnGWIYxFhL/p0noEcTmRYYcKVAawzjJ2dswzWGc1HqBGAfkYnCYu/69ots6YhagODyMM2CO57XSMozTGa+m6gvlBWxPb0c2lgXAw8kVRVkfxknO3qbAe10PM29Pt3or0CKPcyI20fC7F8rZ2zh+m6oriqK8XFGUvxO/71QU5SmDPTSCIEaF3IWeiE00hHFWTCrQslHWhXE2N1Ufk5we4rGFPC/lZsS48MDiA9j6zq1YrCzCsA2khZlnK0DQGM9rRYabjnNT9TPlM9iW3oZcjDt7MnyTqnFuTuQ5CQy3Imevzp4Ud7FQDLFQrK3YY2DUA3ID+M3Z+wCApwH4n+L3CoB/H8gREQQxcuQCZSI60VCNk5y9jbMujJOcvQ3zzp+8E7eduG3Uh7EpkGKvVRPjUfLQ8kM4VzmH44Xj0C0dKREZuRYHAsZ4XivjXo3Tciycq5xrcPbkplPz5hMtqDcHzWGcw8Lr7IUD4a7nv27pCCpBhAKhlmLPYQ6YKBtC7l7v+BV7T2WM/READQAYY3kAkYEdFUEQI0XuQmdj2cYCLZSzt2HaVeNMRVK+dj6HyfM+8zz8463/OOrDaMvf3/r3+OyBz476MDYFchOiVY7MKPEel27rSEuxl1AQMsdzsdepGuc4XN+LlUU4zOE5e03Ontx8khUUaUG9ORiZ2NuAsyebsLcSe96/H4dr6ULDr9gzFUUJQlTjVBRlBgBt+xDEJkUuULKxLKpGFXmNcvbOl3ZhnJloxldp6mFy/7n78eDyg6M+jJYwxlA1qmP1eV3IyEXVuDl73vBS3dLdMM61ZABB2wGc8VuCyMqH41qgRZa335La4jp7zWGcMvKAwjg3B7qtQwFvt1DWxztnT4q9eCi+bjzy/j2dm73jV+y9D8DXAMwqivKPAH4E4G0DOyqCIEaKG8YZm4Bqqe6CkJy9jdMujFOKvXHarayZtYZcj3HCsA3YzB6bHKgLHTeMc0ydvZpZg2EbbhhnMSnCDQ2jzV+OjlbCbpzCOL0bTm4YZ6AxjDMZTgIgZ2+zoFkaphJTAIbv7EUC9T57XcM47bo4JGev//itxvlZAH8J4J8AnAXwYsbYlwZ5YARBjA5vGKeXikEFWjbKumqcHmcvHAiPjXhhjLluyjgiNxzG5fO60PGKqnHCm0voDeMspcL8B338zk9vGCdjzP3Z+/8okdd0NBR1Wy80O3vJiBB75J74wmEO3vidN+LBpfGMhNAsDbPJWQDDFXu99tnrJYyTNiJ6x281zkkASwA+D+BzABbFbQRBbELcMM5o1r0tGU5SGOd5oFoqFChuHsO4Onu6rcNhztg6e/IcHIewuM3AuBZokYs9ufGQs7gYKadFuYAxFntAfXE6Ts6evKajwej6Ai1iPHLDOGlB7Yvl6jLu/ur7ceOBr4/6UFqiWzpysRyCSrBB7N115i6cKp4a6Ov2krOn2zrl7A0Qv2Gc9wC4W/y/4Pmd6BOfvP+T+PA9Hx71YRAEgMYwTsnOiZ0UxnkeqKaKeDgOReH5E3KRlY6kx0rsSYfHu3AdJ+Q5OK7Hd6Hh5uyNcRinbuvImvx6Kaf5AnIcxZ53g0Q6eWMl9oSzFwvF1hdoUZrEHjl7vqitnMVtHwMu+fYdoz6UlkjHLBNOIXzqDAAevfH8zzwf/3DrPwzsdb1hmX6dPSkOvWJPbjqQ2Ds//IZx7mWM7WOM7QXwsPx9wMf2mOLj938cH7vvY6M+DIIA0DqMc0dmBzl750HNrLnFWYB6Nc5MNINwcHzCOKXYG9cwTnl84/J5Xei4VS/HzNnzFmgxbAMTFhcjlYy4hsY0Z09Ws2zO3xsHJ9p19kLRtgVaKGevN2orZxFiQGStOOpDaYkUe79xOIy//f1PAefO4WTxJPJaHku1pYG8JmOMh3FusBpnPMwLtJwonEDibQncf+5+KtBynvh19gAAiqJEQC0XBoJu67R4IcYGuVDxir2dmZ3QbZ121TaIaqluvh4wvmGcrtijMM7HBOPaVN1bOEa3dEwYASAchpXkC8Jxc/bkAjcVSQGon59yLLWZ7ebxjQrplkSDUUzEJqBAqRdoEf9Tzl5vaIUVAECwOl7Xj0Q6bHsrYYRsBiwu4uDSQQBAXs33/HyqqXY9j+U534uz563eKZ29R1cfhWEbmC/Mk7N3nvjN2fumoijfBPAQgK8M9pAem+iWTmFJxNjgbb0g2TWxCwC1X9goqqW6IVLA+tYL4zKBjbuzRwVa+su499mTYZwZMwCkUkBkPHP25Pnoir2mME5g9ItUb4GWgBJwxx6gRRgnOXu+0Eu8B22oOl7Xj0Q6ZpMm/55RLuPA0gEAcPvn+uH2U7fjhZ97IVL/lMKH7vlQx8d6c0MBLva6jdeus7eygm0FG5qlYVVdxVXnAMPSqUDLeeLX2ftXAO8A8BzG2P8Z4PE8ZtEsjXaqibFBDswTUZ6zF1SC2JLaAoDaL2yU5jBOr7MXDoTH5vqXYn7cnT3aHDt/LMdyHZxxD+NMGwqQTgPR8czZk+ejFHutGqyPXOzZ9Zw9AMjFc67Ik6IvFowhoATgsPHrYziOGEXujoWqWpdHjgbN0hALxpATOa8olVyxJ/vn+uFvb/lb/PjkjwEA84X5jo/1bioAPYZxvuY1+LN//TE0SwM7eBAPfBDI3fkAOXvnid+cvR8yxm4DUFUUZZf8N+Bje0yh2+TsEeNDcxhnLp5zFzHk7G0M1Wx09hLhBAJKALPJ2b45e7Zj49M/+/R57XxeMM7emIjjCxmvmzduzp5bjdPizl7KAJBKQYmNZ86eHDNlzltzGCcw+kWquwgXjks2lq07e2LzKRaKIagExyOM821vA97xjlEfRUfMEhdMkdp4ij0ZHjkhxV65jAOLQuz1EMZZ0kt4+s6nYyI60TXkW24qyPxV3332glHg9tsxucZ7+zqnTvK/XyuMPGdvubqM/3rkv4b+uv3CbxjnryiKchjAcQA/BDAP4IYBHtdjDt2inD1ifJALFVmNczI+6S5iyNnbGDWz1pCzNxmfxB2vvgO/c+Xv9E3s/fjUj/GK/3oFbjt523kdJzD+zh6Nl+eP180bO2fPbMzZS+sMSKcRiI5nzp4UUp3COEd9zro5e6G62JMiT4q+aCiKYCA4HqFyX/4y8NWvjvooOmKXeTuDSG28Nh8k0jGbEJeLVcjjkZVHEA6EUTWrvk2GqlFFMpLkxVO6bAy5OXs9FmiZKznAuXNIlnWopgp7dRkAoNTUkTt7n7j/E3jJF1+C5ery0F+7H/gN4/wHANcBeFRU5LwewHjWmb1A0SyNnD1ibDAdE6FAyBV4uRg5e+eLaqkNYZwA8OTtT0Y0FO1bNU4p1DaSeN/8HOTsbX68i7ZxLdAic/ZSOgNSKQSkszdmYq9tGKc9fmGc4e/dBFx7Lf7iSX+Mv3j6XwCo5+yNlbNXKADF8axyKZFiL6oO53w0bRMfu+9jvsW4bGmQ0nhRlZXFYzAdE0/e/mQA/ueKqllFMpxEIpxAzeri7DWFcYYDYV9i75L5Mn+8YQGqCmdtVTyhNvKcPdmj8NHVR4f+2v3Ar9gzGWOrAAKKogQYY7cAuHaAx/WYQ7d1Wrx4ePXXX43vHf3eqA/jMYthGwgHwm7Y4WR80q3SVjEqozy0C5aGMM4vfhH44Q/d+/rl7MkFZtkob/g5mp29uxfuxnM//VycLp0+7+PrB5Sz1z+8jYvH1dmTOXtJ3QHSaQTHXOztLCsA84RxOh5nb8RzvG7xxtXKPfcA99yDF7D9+M0rfhNAYxhnQAmMh7OXz3PBN8Y4VS4CYupwhPwt87fg1d94Ne443d1vcZgD0zERC8WQ1Pn3uXz2KADgmbufCcB/3l7FqCAVSSEe6u7stSrQ4qca597j9WPJ1BxgjReQUVRt5M6e3GQ8vHZ46K/dD/yKvYKiKCkAtwL4rKIo7wVA2/t9hMI46zDG8LH7P4bvHvnu+T3R178O/N3f9eegHmOYtolIMNIo9iiM87xoCON885uBd73Lva/vYk/foNir1WCvLLnPxRjD7adux/ePfR8v/NwL3d3NUUJ99vpHQxjnmOXsua0XLBW6qWF2VQe2bUMgOp5iT7d1bC0B73v9N/GCw/Vrcaxy9mReVEVs2D38sHufW6AlFONhnKN29hyHu3pj7uzJzzKuDmc8Kmr88/AzFkuHLRaKISHE6InTBxEKhHDdjusA9ODsGR5nr1vO3gYLtOw+uur+ntMA5AviTm2gOXuMMXz4ng93/Ezle97szt6LAKgA/gzAfwM4CuBXBnVQjzXk7gvtVHPkRX3eDtJXvwp84AN9OKLHHqZjImuFEC5XEQ6EkYvlXGePwjg3RkMY5/Iy37UW9Ksa53k7e3/3d3jx69/b8Hxy0X1w6SBe+63Xnvcxni8Uxtk/VFPF634KPPxv4+3sZVcqSKoWcMUVCMb5BhQbM7Fn2Aa2VoCgw7CrWN+MMG0Tly4DWXX0Yk+zNL4Ar4ox3CP2ZBhnNBjlYZyjdvZKJYAxQFXHrhiPF0X014trw/m85LrIz6arN0czJsTo2YVH8YKLX4C55BwAf+0XbMeGbuv1nL0uY0Wvzh5jDLqtY/vRJWB2FgAwqQLhIp/HApo+UGfvgcUH8NpvvRYfurt9S4nHhLPHGKsyxmzGmMUY+yRj7H0irJPoA3IXxLTNkTddHQf8LFg1S8MHfvqBzuWhNY3vCtJn2jOGbeBf/qsGvOAF+Lf/8W/4gyf9QT1nj5y9DeGGcaoqX2x5xF6/nb0NO3AnTiB3ehUQl4xu6+6i+0WXvgj3nb3vvI/xfKE+e/1DtVRctQhctgqgtPHQ30HgzdnbfVps/F1xBUJx0fRbG68cQ8M2eMVQABm9sRrnLZ8E/vLHoz9n1zl7Dz3k3tdQjXMcnD3P+DjO7p5S4+dpUne4Gzlg5PjnZ9PV22pD5uz96tZfxNd+62uYjE8C8BfGKV/zfJ29dutbwzYwXQWySyXg2c8GAORUIFnhF5SiD7bP3tE8D2296fhNbR/zmHD2FEUpK4pSUhTFFP+XFUUZfTzPJkFekAxs9ANsE4Zt4FTx1NBfE+js7N147Eb80Xf+CPcs3NP+iTQNsG2gNl6LgvvP3Y/nfPo5Dfky44bpmNhRdIC77sJrr3gFHj/3eDeMk3L2NobbZ29lhd8wQLG34TDOUglhw0JCrEl1S4dmaW7+5qidCYBy9vqJZmnIimEosTJeC2q39YJZw56zwkm44gqEYtzZs9Tx2nQybANpYTZmdG+BFgOzVe5UjPr6kWX4Wzl7DWGc4+DseXP1xljsBb3N1KuDPyc34uzFQjEEK/zxc04cASWAXDwHwF8Yp3zNZCS54Zw9AG035zVLwxPPil+uvx4Av14mxcsENGOgzt6x/DEAwG0nb2s7r8h558jakQvSlPHr7KUZYxkABxljGc/vRB/wLvrHLTTp/Xe9H7veswvXfvja88+h84nc/ewkKuQuS8cdJlWMFGM2Udx+6nbceOxGnCicGPWhtMW0TaR0cLH8wAMA4ObvURhn75i2CZvZPGdvWZRu9oZx9qka53mHcZb4Ht60uKx0W+fhp+F43wTp+UJhnP1DNVW3JHtqbXycPcaYOy+qpoqLzmooTcSB6WmE4zzCYNzEnm7pSHudPXk9axqCDIhZoz9ndZsXaHGdvUcf5WM8mqpxBoKjb6rudfaGWKTFciy85473+K5GHFI9m7blwV9DrtjzMQ+7Yo+F6pve4hhlD11fzp54rVQk1ZOz5+2zB7QXaZql4RIZK/iMZwDgOXtS7AUHHMZ5PH8cAF9Ptit8411zLpQX+vr6w8Bvzp7kwpOzFwDeQWXcdqsXK4sIKkHMF+bxztvfOZTX9LNglZ9Zx15gmhiEx6yalzxmv1WwRoFhG0ga4nK/+24APMwnFopRGCeAm4/fjBd+7oW+F0QyJC0RTtTFXq3m5qL0S0jJ6+J8xd6M+IrtRw9B02uIhWLjI/aMKt5wJ/Ck+fEaKy9EVEvFhBgmM6vjc13LRWpACaBm1nDJWQPndvOwMxnGaWnjlWPYHMYp57FQVSy4rdE7e7IMv+tA6TpwnC90G/rsjUPrhRE5e3ecvgN/9t0/ww9P/LD7gwGEVc84NEyx52Medns/eodKcYyhQAjpSNpXzp43jDMe6p6z5/bZCzU6e+3Of93WkZTHuHMnmKJgUhVFWgAEDHOgBVqOFY7hotxFCCgB3HjsxpaPqZpVd8P7Qgzl9BvG+URFUZ4IIC5/Fr8TfcArWEYd09+M6ZhIhBO4au6qoQlRP2GccjHQcfdtTJ09eezn0wtt0JiOiZQmhMw99VDZZDhJzh6AW0/ciu8c/o7vCobamRP4+NeAtBmoh3EC7u71OIVxAtzZ21kAdj31ubj0jsOIh8bL2fvnG4FX3mNfkOE044Rqqm4YZ7YwPuJJLiYn45MwbROXLNlY2jMDAIjGknAA2Op4hec3h3FKFy9UE0UyxkDsuWGclQowPc1vFHl7lLPHkesOv2N7RPOs2cbU2Ut6i8eU6hlYk/HJnpy9ZMRnzl6bMM5Ozl7SBJiiAPE4rIkUcp4wztAQwjiv2XoNrt12bdu8vZpZw1WzVwG4MIu0+HX23in+nQPwr55/RB/whnGOm7Nn2ibCwTAiwcjQxV6nBascTDrmvUlnb8zEnhSo4+zsmbaJhC4W0h6xl4qkyNlDffLzuznDfngrXvUzYOcjC3VnD3AXNP2uxrnhAi0esbcvDyiOg9RKaazCOO1KGUmT7/qO2+bYhYZmaW4YZy4/PtUt5UJ7Kj6FnUUunlb3bgEARMMxGEHAGbMCLbrdOowzLJptx6zRn69ugZZqFXjSk/iNIm/vsunL8KStT8KVs1eOR87eiMI45djeMWrIQ0wzoXItAzaEtYYUe35y5+X6KCHF3vR0gyDNxXO+Np0bnL2wj5y9FgVagPbnv2ZpSJiAHYsCigJrIoNtZSAupptgs7PXx3PTYQ7mC/PYl92H6/dejztP39lSSFeNKi6dvhTRYBSHVzeZ2FMUJaYoypsBfBHAcwD8AEANwC0Anjvwo3uM4HWnRh3T34zpmAgHhiv25Gfgy9nzE8Y5ZmLvQnD2DEtHXLeBYBB48EHXJU1GklSgBb3njVmVAgBgcqncUuyNRVN1x3EXAjM1YJt4imBVHStnL1rg59+kOn7jZTdqZg1vu+1tYxMG5A3jnC5ufHx3mIO3/+jtKGiFvh0XwJ2HK8TlsrZvKwDuPOkhwL5AwjjDtbrYG/X1I5uqo1IBtm8Htm1zxd6W1Bbc/Zq7sSOzgzdVH7WzN6IwTjm2+83Zi+k2zvI0UljFwc/pbjVOP2GcYn0Ulw3ft29vcPZysZyvME4558um6qZjdjyXe3X2dIuHcdqJGADAyWWxz/NRhnRzYM7eQnkBhm1gb24v9k/uh81srKrrmw3UzBrSkTT2T+7Ho2vjMX73Qjdn798AzAJ4PLjQmwXwDgAT4v+2KIqyU1GUWxRFeUhRlAcVRfkTcfukoijfVxTlsPg/J25XFEV5n6IoRxRFeeCxFCbqFSzj5uwZtjE6Z88otw3TkoKpo7M3pmGcTq2K5xwZnrP3sfs+ht/5yu/09DcBTUeQAXjykxuKtCTDSXL20Htjb6vMz8GJxeL4hnFW6iJ+Tg1gu3iKUE0bq5y9eJGffzl19E5JLxxePYzr/vM6/M3Nf4PPH/j8qA8HAKBpVWTEsD5Tsnmbmne9CzjRW/GoBxYfwJtvejO+/ei3+3JcrrOXmMIVS/y24v4dAITYCwKOPl7VjNuFcUY0kb9kj35zoqHPXjIJPO5xDRU5JcHAmDh7ExP85yHO4XJs9+PsOcxBQmdYzvCltFnsLpzOl41U44zLvMLt23meuOhRmYvnNhTGCXQOc23n7HUK40yYdbHHshO4yHNYQcPynbN3ePVwT2tVWYlzX26f2we3VZiqzNm7cvbK0Rcv2gDdxN6TGGNvAvAGAJcBeCNj7FYAfwHgF7v8rQXgzxljlwO4DsAfKYpyOYA3A7iJMXYxgJvE7wDwPwBcLP69BsB/9P52LkwaqnGO2eJlFM6efB2HOW3FnFugxbP7xhjDO378DpwpneE3jGmBlst/cBDf+wxgn17f0uJU8RTec8d7+vp6Pzr5I3zj0Dd6+puwKCqAZz6T/y+KtCQjlLMH9O7s2UJIpc+tcWcvyifBhjDOUVfj9Oz4btOjrrMXUfWxCuNMFPlEnNNGv3j2i2mb+OXP/zIWygsIKsGuOS/DgpXqi+gtZQbr0UeAP/9z4HOf6+l5Vmp8A2PDhYGakOP+VHwKl60Ai0mA5XipeOnssTETe+2qcUbEQnssnD1vGGcyCezdC8zPr3vc2BRomZoC0mn+86lTvCz/2mAFlRvG6cPZq5k1JA0gn+UiZRjO3oaqcdbEOLl9O/9fRHBMxiY3FMYJdK6EvuGcvTh/bkxOuteSEVQQ1i1fzl5ZL+Oq/7gK77vzfV3fk0RW4tyX29dWyMq1aDKcxBeOXoNvHnqS7+cfF7qJPRMAGGMOgFPifzAfWfGMsbOMsXvFz2UADwPYDuBFAD4pHvZJAC8WP78IwKcY5w4AWUVRtvb2di5Mxrka5yhz9oD2i4dWYZyL1UX81Y1/hY/f/3F+w5g6exGxWDXXVtbd98UHv4g/++6f9TXE07AN1MxaT99fSOSZ4PLL+e6q2P2lnD1Ozzl7FX4eJxZWuNjbv5/fMUBnr+fiJR6xt1ULumIvrBpjE8bpMAfpMn+POXX8xst2fOL+T+DR1UfxsRd9DOloums1u2GhiO/cjIWxtQyY9/JNHayuD2PqxGqNP75fId7eMM59eeDIZN0lkM4e08ZL7LUL44yqfIwYC7Fn6UiwEGCaQCoF7NkDLC3xufLRR4FMBnj00fFx9nI5IJvlc/gPfwjcfDNw8OBAX9YN4/Th7JV1nj9cmeRxnHaxMMhDA7CxapxREUrcLPbOy9nrMIbplg4FiivywsEwgO7VOFmCP7eSm3LvW8qGEG529tqcm8cLx6Hbuu9KqgB39hQo2DWxq62Qlb8nwgng618HbrvN9/OPC10LtCiKIvvpPc1z204IIegHRVH2ALgGwJ0A5hhjsn3iOQBz4uftALxWx2lxW/NzvUZRlLsVRbl72Zv7cgHTUI1zzHaqXWcvMBqx127x0KpAi9yNObR6iIcjjWnOXkAcl15av0Mp328/P2u31UMPAtKdHNJpYMcO4Ax3S6kaJ8cN4/Tt7PFFdfzsEg/jvPhifod09oL9LdBiM7t3QeERezM1xRV7UdVwnT2bjbYCZs2suT0AMwZg6uPhkHVCszS89YdvxXU7rsOvXPIrSIQTviv9DRqlwMfGwu4tmNQA507RY6pH90TmuGy4CmwT8vORYu9Yrt6zKxbiBVowZs6eN4wzaQK2OL6Yxhep0TEp0DJhiWoiySSwezf/+cQJ4I47uAg4cmR8nL1cjm82FovAyZP89spgc8bl/OZnDq6oRcQtQJ+c4BViS4WBHhuwMWcv0iz2xFifi+WgWVrX8chtqi5aLwDdnb1IMAJFUQD4D+OEEHuBqWn3vpWJCMKG7cvZmy/MA+DtM/zOUxd/+tv4n2enEQlG3PfWPHfK95qMJPl5uGuXr+ceJ7qJvVdA9NZjjHlH1iiA1/p5AUVRUgC+AuBPGWMNJeKEQ9jTyoEx9mHG2LWMsWtnZmZ6+dOxZdyrcUaCkeEWaPFMiO0WD61aL+iVIn7yn0Ds9p8ClsULTgBjJ/aCwjUzRNEOL71MNH7ZSPVPGXrUSuxRgRZPGGePOXuRM4t8J33bNr7Y6rez53hc8V4X3mIBcDatYLLKsF2M1jHVdHP2gP73OOqFqlF1xR4AOGtr0CwNDy0/NLJj6sbH7/s4zpTP4G3PehsURUE8FEfNGg+RGijza7m0dxsAIHzjzfyOHp09GcbZb2dvJjSBnSUu9mRIWDQYhR6Cm3c0LnidPQBQxGcbFWJvIM7eT3/KF555f2O7ZmlIm3wB7jp7ABd7j4qiE7Xa+DRVz2a52CsU6mKvOtjNRjdnz08YZ4EbDsHMBMpRgJU2WAW5B+QaoZecPTctozmMM857V3ZbG1TNqtuSw2/OnnTigfZi76Vfein+7c5/c8M4lSTvoRnyiL3VbASRJrHXbg6SYm+ltoKj+aMd35Pkf3zlAbzqZ/yakO+tWci6ziYiwMLC5hN7jLFDIgSz+fYjjLH7uz25oihhcKH3WcbYV8XNizI8U/wv0q9xBsBOz5/vELdtehqqcY5jzt4Iwzi7OXteV9Q5fhRPOw3MHDwOVvNcrGMm9mSIpFVaf1zy/fbzPJCfkZ+qWxJ3JzCV4hPE6dMARM4ehXHWwzj9OntlvghQDIO7JtPTfNd6QGGcwAbyp8RC5WiOIVsxXWcvptluGCcw2lC0qlnFlFfs5Vfxyfs/iWs+dM3YbkJ889Fv4pKpS/BLW64DajVfpcuHRUgIktpFfPESefARfscGwzj7lbMnP5+dRYYgE2KvOYzTqJ/rH7z7g/jxyR+3fT7DNvDmG9+88ZYkPvC2XgCAgHCg4h6x1/fInYMHeS6bFELdjtHSkTKE2PM6e/PzwGFRTr5WG4/WC9LZk2GcQxJ7vYRxqkLshTJZlCMAKw/m/PrmoW/ivx75LwC9OXvyPYSrKhCP888TqDt7cf57t6ifqlFFMsyFmJ+cPcM23M0ZoL3Yu/n4zfjRqR/x8GIT/JwEEJzmRo6j8HzIsNmbswdwd88Pcc3ClB1peG/N47N8r9N5nUeNbTaxdz4o3L/9KICHGWPv8tz1DQCvFD+/EsDXPbe/QlTlvA5A0RPuuakZ+2qcIyrQAnTP2Wso4HKa7w2EVAOLq55qcmNWoCWki1C7Kn9vN/7cdtz0f38XQH2i6ednLZ+rpzBOsUBBOs3F3uIiYFk8Z4/COHuuxulUm87jmRk+8YpzMxwIg4Gd9wKr4drZoLN3JAdkSjpi4lDi+viIPW8YJwA4a6tYqa3AsA1XcIwThm3g1hO34tl7nw28/OXAy1/OwzjHJGcvXOIfprZ/T+MdGwzj7Lezt3WJ/98cxqmHAEWMowWtgDd85w34yL0faft89569F2//8dtx8/Gb+3J8rTBsg1c2FRUkQ2X+2cZ1fiENxNmTeek+m3nrto6UHLJSKR5hEAqtF3t9aqp+24nbcNn7L0OlVuBVIHuhnbPnM4yzpJew/337ceuJW3t62V5aL2hFft5HM1MoRzGwpurv+Mk78I+3/SMM23DnnF6cvWClxufyjMjKkjl7MSH2fDh7yQgXYr5y9mx/zl7FqCCv5rmzZwCBVBpAPYyzlozAjIXWO3tt5sn5wjwunboUyXDSn9izbSQMhqTmNLy3dc6e+Kwnl8W5R2KvgWcA+F0Az1IU5X7x7wUA/hnAcxRFOQzg2eJ3APgOgGMAjgD4CIA/HOCxjRUN1TjHLWdvxAVa2i0eWoVxKgsLAHi+xLGFB+sPHjNnL6zx79ipVmDaJp760wVMfecHAHqv8uiHjYRxxkVRAdfZcxzg3Dkkw0mYjjl25+mwkd+T78VbtQY1rNR/l2LP4+z19Hxt8F47PbsYQuwdy9VvcoIBJHTbzdnrxzGeDzKM0w7yqYut5d2xoF893vrJXWfuQtWs4vp91wNHjwL338/DOMekGmekwo/DumR//cY9e3p39tTBOHvT5/jY7Q3jlDl7ASEevnf0e7CZ3bENj7xvkI6qG8a5jYfEBitVOMxBUuOZKlEbsPo9bkqx50MAWY7Fj0cOEckk76O6c+fAnL2fLf4Mh1YPQfvTNwDP7aE1s6ryMN3zcPaO54/jaP6o64j5pZfWC4ZotRDPTaMcqYfu9puKUcFKbcVdD8VDcX/OnqUjoAQQqFS50EtzMdXs7HXbKKuaHmfPZ85eN2fPsA0YtoG8lndz9oJC7EkH0phIwYqEEbVYw7XTydm7aPIiPGX7U3DXyds7vif+JsSGjOhD2C5nT37W2SUxp5LYq8MY+xFjTGGMPZ4xdrX49x3G2Cpj7HrG2MWMsWczxtbE4xlj7I8YYxcxxq5ijN09qGMbN8Y+jFM4ezazhxLa4cedkJ+ZZtcn+MDZcwCApAGcOHeI3xgOD1zsHV49jAcWH/D9eCn2AjUN82vHkDSAudN80d9rlUc/bKhAizhG19kDgDNn3N06PxPhZqbXMM5ATcWJLfH6DQMUe/K5NhrGedwj9gpbc0jpaMjZG3UY53QNWNuaBQAohbrYK+rjtakDADceuxEKFPzSnl/i49CpU0gGY2MTxhmp8ONw9l8EW+5FPOtZ3NnroRBPv3P25Hc6cWYVWhA4m1ofxqkY/Nr79mHe269bdUCg8wL1fNFNDSkd7ngZqtRg2qabxxdkgG32edzsQezJzzTlFXsAF/d33ll/jlqtb03V3c/70KPAoUP+/1BEPHz+9A34/spdfPNBumY+nT25AXH7aR+Lfg+9tF4wRUGWZHYW5SgQGFCIadWoumLvkhXg9D/p2La6ftPVYU5DOLNm8R6pSqnU0tm7KHcRwoFwV/ezYlSQivCKo/3K2ZOfc0Er8GqcJhBICrE3yXMJc9v2wY6GxZupr/U6ib09E3vw69XduPWN90I92uWcE5+DFHvtnD35e2pRrKF27sSFxiCdPcIPjMHwVJQzbANlvYw/vuGPxyJczuvsAcMRo94BrBdnL3SOp38mTeDkokg2n5sbmNhbrCzimZ94Ji55/yW4/lPX+/67iC4GFhN48MTdCACYXawCuj7QMM5ecvYSmpjopbMHAGfOIBbi/YQ6NrPf5DjMcReWfq+HkKqjNJWsT7ZNOXuyNPX5Xl+GbWAqzstWbySM00kmsJis37S4I4eUgbEJ45TOXmnnLABAWcsje2wB//JdoNDHdiV9wTCw5f2fwNOnr+E76KUSYFnYVlHGxtmLVXRokQBiqSyWkoA2neXtViyroTprN9ycvX5V4xTXV+LUORzLASzQ2LPLCAEB04TDHNxw+AYAnccked9AP3dVRZChUew5ZkPRFqb2WeT3IPbkXJkwhIhP8cU7du8Gjh+vP1CGcfZhY1d+3qxY8F1EBoD72Pu0eTxqLzbe51NQyfnu3rP3+hJu7tP3kLNnlPhxpnJzKEeAQGUw51fVrKJiVLBaW8WlK8Bk1cFlK+tDOb9x6Bv4uY//HA4sHgDAz/toMMpFTSZT/85LJeDZz0buAx/Dr1z6K/jMgc903LisGvUwTr999ro5e3Jtl1fz0PUa4tZ6Z0/JTcKO8LlRUevXd6uNiKJWRF7LY092D55SzSJmASdv/++2xwgAlhDrUVGQrl3OnttncGGFz92iauiFBIm9UfORj+DPfuNfERbXgGmbuP307fi3u/6t5x2pQeB19oDh5BT6ydlrVaAlssiTpSesEM4uH+M3zs3xgc3pf2WxO8/ciVtP3IqLchf15poJsZc0gUMn7gHAd31x5EjPjpEfNhLGGdNsWOEgEInwapwAd/bEAN7L5LnZ8E4Efr+niGbwHkIy/GNmhocnDcDZm0oIsbcBZ89OJbHsEXsLcwkh9sbE2TMqmK4BtT18Qa0UCrj6pgfxv28H1LOnuvz1cFF/cCNe95UT+IP8Pu6SiU2nHfkNtMUYEPGaATURQTwcx+FJYOWq/byRNdBT3l4vOXvzhXkcyx/r+BjVVBFUggjOn8RxvsnvzkGKosAMBxEwLPz0zE+xXFt2/6YdbhjnAD/3QFUsfkUYZ6SmravQ2ffegL2IPTFXyhzCBmfPiwzj7IOzJ7+TQKnEwzL9il3h7J0OVrEaaToOv86e2IAwbAP3n7vf3+vC4+y1EHuHVg5h7l/ncKLAawLIwlvpqa0oR4FQdUBiTxzTfGGeFzIBMKGvL9JyeJWH4j66+qj7HmKhGF8DZTI8bDeZBB58ELjpJuD738ernvAqLFWXcMORG9q/vieM02+fvVggAtj8u+sk9gpaAXaN/yyrcUpnD5OTsGLiutd1dwxoNQedKPLvZE92D+YYP8byycNtjxEAjAI/R2KiIF0oEEI4EG7r7MUWli7IEE6AxN7o+exnkSrUsEWMX4ZtuANkv3ZJzwfZekE6D8MWe92cPe9ubmyRX7hblDTOrvCdyuNRlQu9AfTmka/95O1Phs1s3wv/qJhsEyZw7LQn/PORRwbi7LlhnD2IvYRmwxCDLKanuegjZw9A426qXycuqttQUql69Tvp7FUqgGn2VexNJ3hye8/jR7EIMxXHiti0XI0DKwkg7ABJFh4LsacX1xCzAbZ1CyphIFAoYfJcAQCg5cer7+rJwzwT4fGRnTw3RCx8tq9ZAw3j/OLBL+LD93zY12MTNQNqMoJEOIHf+E3g1v/7yrrY85m3Z9qmmx/qZ4PhD7/9h3jF117R8TGqpSIeikE5dgwnp/h55w0Ls0NBBA0L3zn8HQSUAJ6y/SkdF5/DcPYCFTEuCGcvUlkv9jAoseejMIjcoIvpYuPT6+wBfIyfnR2IsyeL1fguliY2wU4pZayEPWNsIuHb2ZMbEID/yoxA/ZhbzcGHVg9hqbrkpm04on9qKsudvVB1MPOinHPmC/NISrGnrXf2pOCRVSllGCdkGCfA//9v4XgdPozn738+ZpOz+MT9n2j/+l5nz2fO3qu+uwhccw2AuthrFbVlMxvlPE/BcTcg4nEgFgNyOTjRurMnxV6rc1O+5z3ZPZi0xHr19Il1j/Micy7DmumOz/FwvG3OXuTMORJ7xAbI54Ef8/jqrUKLmI7pTkyDLBPtF2/rBWC4Yi8einfN2fM6TPElPkHMII5SgYd03qqLcM5iEbccv6WvjpRcsMmKVn4FUMyoi70Tpz2FZB55ZDA5e9LZ8+k+MsaQ1BmMhBB7isJ3q0+fppw9NE5yfgS+aqpI6IxXGrv8cr4YDIfrZbALBYQDYd/P1wnDNtzeSRsp0GIm41gVqYXnMgHkQ/x40qYyFmLPWebXdXBmDvk4ECyWMHOWv099bbzEnrPEw8+yNachlHxuRRuY6DBtE3/y33+Cf/nJv/h6fLJqQUvGEA/FsZwCColAfVfdp9iTi+pIMOLL2VtT1/Dg8oMdmx6rpoptBl+knpmu99eT2JEQgqaFA0sHcOnUpdiR2dFx/JXj1SDFXqgqFohbtsBRuLPnzdkD0H+xJ5+vh5y9ts7evn1cCPTR2ZOfd0SKIL+hnEIULkZMLIfFBxgOAxdd5Hvjdk1dQzwUx87MTtxxxr/Y61SNU962WBWhpbKXYpZX4wzX+i/2DNtwx9xuzl4rsRcNecI4Af6//Azn5xG2GV521cvwzUe/2TZ1qGJU1rVe6Jazd8kpFXjoIYCxjs4eABTXROF9b3jkBz8IvP71cGJ8gzmg88rwQSXYcg6S73lvbi+SOh9bHFG0rx1mwRO9IDZMEuFEa2ePAcHTZ0jsERvgu991dxN2VIMA+IUtB+V+VTY7H7ytF+Tvw3hNgDf8rJg+nT3bRmKVL/qmWQIpm3+epxN8UDhx4gE861PPwlcf/ur6J9sg8rV7F3t8ZzVpAKW1c/U7Hn54LHL2TMdE2gDMRH1xhe3bG8I4H9POntGbs7dSW0HCBELpLPB//g/wk5/wO6TYy+f7JqR0S0c8FEcynNxQGKeRjEKNAHY8hqWJEFZD/NxJ6a0n7KGzwguBROa2IR8DQsUSZhf5GGEUB9t64fDqYbzuW6/z//7FscYrWoPYm1lRBxZO+N2j38VidRFny/66FqVUC3oq1riA69HZk+Fyuyd2o2JUOoo4gLt2Ba3Q4Ly0eswlJX6+nZvlC8AGZy8cQtCycbZyFtvS2xAPde5dOIxqnMGaeO5MBtVYANGq4Tp7ZpwfO9NHH8YZ1SwgEODOCVB39i6+mC+2++nsWTUEHE915x6dvUIMWAwJ0bVjBxejPTh7U4kpXLfjuq7O3pcf+jI+cg9v3dEpjFPetljhYo9VhdibmOTOnmEB5sY27Bhr3XrHO98cLxyvi70Wzt7JIq9YOl+cd4+3pbMHANEoj3qan8clU5fAcqy2c0bVrLoFWgJKANFgtGufvemScMsqla5ir5IX4lluQADAK18JXHUVWISvPQOajlAg1LYtyPH8cSTDSUzFp6CI6yG82HkDUObsAagXawm1cPbMKrIa+POS2CN65lvfcgfcPRqfDEy77uyNSxjnsMWe6ZgIKkFkopm2n4FboEUOyEtLCNhcRE3YIXzhlz8BADgnIlVOnToIoLdQxm64Yk+UL/a7gIuLBPmEWa+MVoqi0dnrZ85ej2Gc7gIlEavfKMSeDON8LOfsNYRx+vieVsqLiNlANJ3loVNyshiA2DNsA5FgBOloekMFWjQh8M2L9+Hw1ghWAvx7To6J2Aus8nM4MrcN+TiQOL2ITIV/B3ZxsAVaPnzPh/Ghez7kLqi6ERBiKVpWG8Te9HIFhm0MpLKxDMWqmtWW3/+jq4/i0Eq9Ql1ac2CkE40lx3vM2ZOibU92T0PxonbIRaLMK2qFaqnYV+QbdqszfBCXcxAAOJEQQqaNs+Wz2Jreilgo1vcwzh/O/7Andzws3at0GtVYCLGa7o6lRo4vsBV9dNU45Zgd1U2+qFZE+dUdO/jC/3GPq4s9JQiHnX+ee82sIe15y4eP3OVvI0KIvXwcOBcUn+uuXXz87CFnbyo+hadufyrmC/NYrrZf+H/ong/h3Xe8G4yxeusFH86eInL0wqkJVORexAZ77b3hO2/A0z/29HVrLO9809XZK6x39hIszB1gr7MHAL/5m/z/I0e6RpZ4m6oDrUMdvei2jlxRvI+1Nff524m9qmhO3yD2BI7YKFF0Xmk6FAi1dvaK89iT3QNFUdzvILbauTifXfbc38XZu7gixh8Se0RP2DZwww3Ar/0aHAXYWeULqXFz9kYVxikXrO3CgtwCLXJAPsMbqudjfAAOioa7srLgytmjANYPjueDHOx6cfYYY+5gnfSIvXu3AOyRR9zBdpRhnKZtIq23FntRcR48lsM4e3X21lZ44ZDYxFTjHR6x189qnJFgBOlIekPOnpbgx7H8nS/jPS+aw7LCJ72kMR5iL7TGz+HAzCzW4sDE0TPufc6AW6zcdPwmAP4FQ2i1AACIlqp1sbdli9urqd/u3mptFd849A1sS/MCIWcr6xfVb7zhjfjD7/AWtrZjY0IFrFQC4SDPyVRNtX5e9ujs7cnuAdC9SIt012QxiVZoloa5Gl+eVKe4UPKGcTqRMMKmg7OVs9ia2op4KO6vz57Pz7ykl/CsTz0LH7z7g74eD3hC+NJp1OJBxGqGW43TyIoF9hgUaInUjMZFdTgM3HYb8Fd/1ejs9alAy4RnqviXb/813v7jt3f/w0IBViIGKwgU5TS0axc/7h6qcU7GJ7FzgpfJl4V8WlHWy1hVV6FZGhj4ZmxHZ0+IvUBNhRoJQAkGocVFi4ANir2Dywdx15m78M8/+ueG273zzXxh3u2T2OzsFbUiinoRoUAI84V5MMagWZqbv7bO2XvNa/j/hw93rMkgG7nLnD2gtSDyols6ckXx+a2tdXX29JLYWGpR5ZIJQyQonb02PSDPls+6Y5/8Dibyncdqu+SZM0T14Xh4fZRA1ajiYqnmSewRPXHgAN85feELUUpHsF2EcZqO6U5I4+Ts7fvmj/DbB4Yr9lKRVNsF67owThGbfWRa4Va7mFSls1c4Nw+gvzkbbi+o2AQAfyFCpm24CdYpS3HF3k+3A0q1iu1iI7lfn7Pt2O6k3auzZyc9feF27ABqNSRrfLAepzDOH87/0O3zNQx6zdkrrvFzM56dabxjgM5eJprZkNirxfhxxHMzCERjWBJiL6E54yH28nxyDszMIh8DAlZ90mflweU4r9RW3Ip+fkMBw2v8WMOlSl3sPf7xmDhXAFj/Qwq/fujrMB0Tb7ruTQDQ0kEpakX3WtEsDRM6YGf4IOmGL4VCvFKsT7Enn2/3BA8H7DZvXX9vAb95sLWzd2DxAB5dfRSqqWJOrGONrBB7njBOFgkj6DBYpoGtKeHsdckhAvyP/4uVRTjMcR0SP0RE+XakUqglwoirJky1iogDmJN8jlD0Ps+fG+izF9HMenEWyZOfzHM1Pc5evwq0THimikiZh/B2JZ+HkeIL/4JX7KVSPYdxZmNZ/jwdXrekl7CmrjWIp07O3rkKT78I1VRoUb52K6WF83OH//xAL/L4/uHWf3BbJwCNgq5slNs6ezLi4MnbnoyKUcGaugbd0rFDDouzvF0Ntm8H9u4FnvEM7vIdPlx39lpsNsrXaHD2WoQ6elFUFYmaeK4285tX7CWaez96YDF+3Qe7OHuGbdTHCHE9zBQtOB3O44Y5o5OzZ9Xw5AXhhJPYI3pCTqQ7dmA1G8XWMt9N8jp7JWN8CrTs/8Q38A83D9nZi3Rw9mSBFrvR2Ts2E+aTgZgEVbErXFnm9zfHuJ8PqqkiGoy6pYj9CCC9Ut9JylghV+zdLTakLhOapV9hnPL7mohOQLM0f4JU5OzZCY/YExXmUsv8+LuFcTrMweu/9fqems1vhLJexvWfur6nHfjzpddqnKVVvuhOZmcb7xhwGGdPBVoYA0olVON84ZIMJxENRbEU4Od0TLPGQuxFC2XYChCanEY+3nhfoNz/iruSW47f4u74+xUMsTxfPAQL5QaxF9YMTNX67+zJPKJf2vtLAFo7e5qluWOqWi0gbgF2Woi9cLz+3iYney7Q4tfZe82Panjzj4DDa+udvdd+67X4/W/8PlRLxXTVAaamEI3xBWCjs8cX1lEL2Jre6oaVtcsX7DWMU7pAp0unfT0eEI4ZAKTTUONhxFXLDROzclkAAwzj7KEaZ1jVWy6qAbhir59N1b3OXk7zed4XClDT/PuuRYClD/wL8NrX8uPuMYxTir1OkS1lowzLsVwRB/jL2QvUVBjC0fvxlRmcuGgKeMMbgHPn1v1tNwJLK3jl1PWIhWL4t7v+zb29ORopZfNle7OzJ4uz/MLuXwDAXUDN0nDVMfF5PeUp/P9//mdeGFBReJ7mkSP1yJIW6w75GjJnD+ju7E0UPGshH86eFLCdnL2AEHvtXGfZJgyAez0kTWB1cb7tcTLvddMhZ+/p33oAf/r9EvCCFwBbtrR9vnGGxN6okA1rJyawMhHCdMlCOBAey5y9SDCCaL6Ei/KAcnLwvay8zl6rhYPlWO7F7gqsM2fgBBScmY7wfj5i9y++fQ8AQF3lg3O/nb1YKNaY79IFvVSfcFJWwBV7h0SEn7cFRz+Qk9OWFB+g/Lh7soKclfIMvGI3K/MIb2nRTdiu1lbxwXs+6DY8HhQHlw7y0s1DvFYawjh9iPKqqAybzLV39vpZjTMSjOBFdxTwib/5qVsAqiu1GuA4qMT4lBALxRANRiHTFGJa/9pDnA+xQhXFZBDhcBR5seOfT/Bjdkvf95tKBU/91T/EtSJi1O8YEi/wizlQKDSIPQDYXex/ZciqWUVQCbqiq5Wzp9u6e63oq/y8dCZ4iGHDImdqyn/OXm0V8VAcs0m+mdHJUXaYg6TGMFdp7ewVtALuOXsPKkYFU2UHmJ11N9Pk+QcAiPITM2LDDeME2o+bvYZxyvyuXsRe1OPsaYkIEqoFR8zzzmQWAF+w9pUNhHGGVH29syfpd4GWJmcvp/o87/N5VERIOQAs/trzgJ07fYdxMsawpq41iL1uzh5Qd8ciwUjXnD2HOXAqFThCoISicXzgj5/Gv4vXv777e2zir7+yhP/7Hw/hGbue0VBQRootmUozYfENuQm9UTDJfL1n7n4mAF7MZVVdxZVHStzV27ePPzCTAbZu5T/v3+/f2fOEcbYKdfSS9Yo9z2am9/krRgXRYBQBJeBGO7XchHDDODs7e6ZtuqLVu/mxdLTDhrNX7IlrdZ2Q/c//xB/857344eMngK98pZ7reoFBYm9UyMk/k8FSJoSpoolIIIyX/Ms3sfNuvuM56pw9xhjfLVFCCOdFP5kf/5S7AA8/PLDXlW5iOtK6yIR3EHZ/XlhAIRuDKtsFrK4CioLprRfBCAKOKLHbT2dPir1ees+Z5YL7c1KEcTJFccNN5S5ov3L25Ofjij0feXuGbSCtAyzpEXtPeQpw8cWY/o9PAqx7zp4cLHv6vN/wBuBzn/P/eAAHlni4yzDDShvCOH18TzWRfB5IpRvviEZ5P6E+OXuMMVfsXXJaxUVndd481w9ioitHFSTCCSiKgmioLvai6niIvXhZRTkZRjgQdp29+ekQyhFPefd+c/o0dh1bwfPzvCWBr8Wq4yBRFI/L5/l4HwgAV1wBANhd6H8YZ8WoIBlJIhfLIRqMtnX25LxirokwggkeYpgIJ+rHNDXVk7M3lZhyd/47OXuapSFtALM14OjK4XVOXM2soWbW8NDyQ8hVLFfsRYNRXnhBwCKiHYMNt0AL0F7MbdTZO1Xyv7kZU02YoQAQiUBLRJBUbTgiTMyZ4ufOSMWemAuCNa2rs9et9YJhG/7azlgqdisT7u9Zzed5XyiglAi6v7rnVCrlbkx1oqSXYDMbk/HJrmKPMeauM04V+fc9GZ/s6OwVtAKO5Y8hoTvuuB4LxXBsawz4oz8CvvlN/w3kwYXKdMnCREHHdduvw8Glg+4xSbG1a4JvuKal2NPWh3FGghE8dcdTAQBffPCLOF06jSccV4GnPa21SLn4YmB+HlFbcY+jGTmHu2Gcn/sc9hYDHa+lyaLnPF9bc4Vqc5+9dDSNbCzb0dlT5G265oq9VhsRDc5epQJTbLAUjrdfqyqVCkqy7pN09rxC9itfAV77Wtx51STe+oYr6xVsL0BI7I0K6exlMlhMB5ArGdhfDOIp33sQV9z2CIDRO3tyUZc0GAIGvxonbr8X+M//5P3CBiT4ujl7cuKOhWINYZxruRgs2Qh8ZQWIx7EntxfFKJBWewvB8oNqqYiH427Zcj+CwxBiz4pFkDAYJu0w7GTczUuQu6D9DuPsydnTa4jZgJPyLAiCQeDNb0b0gQfx/CPd36sr9nopiPOZz/AKtT0gcxuGKfZ6rcapFsWiutUCK5frm9izmQ0GxnP2DDGxyzYP3RDjUSkK10nxOnvRMXH2IpoBLRZCOBjGmhB7xyYVlCO8QEa3sv8bYWWF7/Y/KXUpAJ9jSLGIoMOgB1EXe5mM29NsEM5exaggFUlBURRsSW1pK/Y0S4PlWDDz/LxUJrIA+Pfujre9ir34FNJRvujtNG/VzBoyOhBygFiptu4YvQ2tsyUDmJlBPBRvyNcDACXqCeNMbe3a+0vOE34FtnT2VmorvseWqGq4RTr0RARJzXabbkuxpxijz9kL1rTuzl6XnL0XfPYFeOHnXti1YmfNrGGvwt/7coKHcXY67x3m4HMHPgeWz6MQrV/L7pgrx9Ba52tHhhZPJaYwEeVis53Yq5pVN0RbivvJ+GRLl9i70fyTUz9B0gRCmSwAvh7RLI0LK9sGDh7seIxeCloBKQOI6hau23EdGBh+uvBTAHWhK3NiU5YI49TXh3HuzOzEZHwSV6hprHz7y9hlxDFxcpEfUyv27wccB5lzfDO8q7NnGMDLX47fuGURqqViobyA7x39XsPjGWOYLnrmiHzeFXteAV0x+XiVi+XcojOt5kglxq9tRa0XaLFYd2ePXXwxP/6TR1q/dwCBag0Lcg9W5uyFPM7eG98IPPGJ+MvX7kUk3uaauUAgsTcqvGIvBYRshuce4QNO7hx3/UbdVF1e+JkSvxLNADB5+/3A3/89f0CXhpUbxZt3pFrqusWlWxhF5KExxoCFBaxkI7BEmV6srgKxGPZk9yAfAybFnNjPapzNzp6fhYQlJn99cgJJU8HF0W1wkgnoYcAMBVxnr59hnEkduETnA5WfXnsy9Ig1D7wvfznsHdvxN7d2z9mTO+y+nT3G+GDrc4EpcZ09e4hiz3MO+RE+hgzdbbFrKcVeP6pxynMmEowgJb+eHsXeAf2kW9EsGoqiFgYcAOGaPhZiL6SbsKIh7uyJDZJjWYZyFEhpbCD962RZ8C2MXw++RNqycIamRdnzxUXuoOVycMIhzFX6n7Pn7YW1Nb21ZRinN0XAEs6eks0CAHZkdtSdrB5y9lZqK76dPdVU3VL8W1qEcnrHi4mSDszO4uotV+OJW5/Y8DhLbERttWNIRVJuGGc7YbZRZw8AzpTOdHgkR7d0BCo12KKCsZGMIaU5UIpiDp+eBgAE9f5VWQawoTDOYK3mw9nrnLN3ZO0Ivn/s+/jwPR/u+Jo1s4YdjK+m57PC2etw3v9g/gd42VdfBmttGSsxxxUJDc4e0PX9ygqxU/EpRENRxEPxtmLPuzkhwzhzsVzLOc57fv3k1E+QMoC4qLLsFgm65hr+gPvu63iMXvJaHimDF/l5ynaeWydDOeU1IcVewuQbeRM6UNU9YZzFE9id5Y/52zsiuPFTwHuOXcLvfPrTW7+wEETpEzzHsNW6Q372yXCS90lkDFvXTNTMGt7x43fghZ97YcNnZTkWtlQAJ6AAMzPA2pq7WeN9frk51eDsxZsSsVF39gK63jmMsylnL/y4y/lrnmnfKidQrWE1AbBwuLEapzxHV1eB66/HqqI1hLFeiJDYGxXFIj+xw2EspLjIe94j/IyfXhQhVSMO45SuRabML+Qb9wGJc6vAaZHH4LdBao94nT1gvUCTk5asgmk6JrCygrVUsFHsxePYk92DpSQwVwX2Zvf239kLxbsuNLyYQuyZkxOI6zaeN/d0IMnfZy0RRmYAYZz/54fAn/3l1wD4C+OURQVYumknKxKB/XuvxM+dAuwulQ97DuNUVR6a04PYY4zh4OIBfO3zwOPuOu77786XmllDPBRHKBDy9T0ZsnFrO2evUOiLkPKKvYTOd9zZ7bd3/bvPPPAZ5Bd5vsdPK4/iD574BwC4s8cCQDUChKraWIi9iG7BjEYQDARRTPBFz6GsjWo8iLTOq032G0tcD/La7EXsndwiFi8nTnCxpyiwchOYUgcUxilCrbamtrZ09uSirGyU4ayK8OJpnku6N7sXx/LH+ObZ1BSfo6zu3/VqbRXTiWmkI2n3udtRqxURExpiS6Wx/YK3x1nQBlJlLvbe8JQ34JZX3tL4Xmf52H+FkYWiKAML4wT85e3NF+Z5SL4oa68n+fGEZFNnIfYGGsbZxdWW371SUzuLPcYQtdDR2ZPC6S++/xdurlgz8vvc4iRgBoCFdPecvaNrRxFwgHC5huWI6YYuumsAedxd8vbkpuZknLuK2Vi2vdjznK9ysyMXz3UM4wSAH5/6MTI6EJucA4B6+4+9e/m13oPYK2gFpHWeT5mLZXHZ9GV1sSfeu8zFlfltIQcwPQXfThZPuoJwmxlDkAEv+cLPeHXda69t/cKi8Fp8TaxLuhVoEf0PZ9Z0qKaKh1cehuVYDVVrdVvHlgqgZpOu2JMizCsKpdjLxXNImoAeCfJQ9yaks9fQVL1VGKeoHA/HASoVKDt38ciKs+37OgarKioRgGXS66tx2jZ3MhP8d2810gsREnujolRym1ueTvET9+cO84lgeqkKsNGHccqFbKrEJ8ovXy7uELtBgxZ77RYPXmcPADRTBVZXsZYIuDurWFlxnb3FFLClqmD/5P6B5uz52am3q3xQtSazgGnywVOIqlJMccM4++nsbS8D2bN5hGx/YZyO7D3TnGMGILiDT76BfOfn6TmMUyZK9yD2zlXOwcqv4cWHgGt/0rjgePuP3j6wCp1Vs4pkJOkWVOqGDOUadBinV+zFNf48ypEjwNJS2785nj+O3/3a7+Lvv/W/AXCB/6qrXwWgXuq+EuFuwHiIPdsN1T64LYwfvPTJ+NolNoxEFBm9cxGGjSLd+JQQ0L4Ewwp3zRa2iA2T+Xk3N86ZzGGqNrgwToCLPW9lQQBu3y2Azy1smR9jaIYvVvfl9qFm1rBUXao3Vu9ynQP8M89Gs76cPaNQv763VpWGRaI8tlAghGn50cw0FTUSqHP8+C7V65VEvc/RzEYKtGSiYn72IfaOrB1B2gCCIiS2NMO/68zDvL+rIgR1wOjjteM47mIUjOFvv/mmjg+XQkWp1jqHcQKIm6xtiKbDHJT0En738b8L0zbxTz/6p5aPk595RmMoxRQeYaMrHTc55gvz7hx4LqS54sWdt/06e54wTkCIPb3Q8rHeCCrp7E3GJ2E51rrPQLfrEQ4PLj2IrBlAQFzXbhinogBXX92bs6dyZ09hDFBVXLfjOtx++nYwxtz3LoVv3KiLeibmasM2cLZ81n3MDmUCekiE8l9zTUvHjL9RLoajRf4aXcM4xXgwvcpzax9Z4SlHR/NH65+RxcVebWrCnd+CgSCCSrClsyfDOI1YGK0IhyLQgkBAN7s7e8FwPcQ3nUZ+IorIUvs1RaimoRzhj/VW4zRsA3ZVnGOJBKpm1U1vuFAhsTcqvGIvwcVe1GIwwgFETQdzFS5yBpGD4he5kJVi79bdwH2v+VXgk5/kDxhQE2O5Q9Nu8SB3h6SzZ+RXAdPEahJwZLsAEca5e2I3FpPA1loAqUiqv86eyXP2einQYosBxRI5HFhaQiDFz4NClNULtPQxZ09OIlsqnZ09xhg+dt/HoIqwNSXdQuzN8Ip7wbVCx9ft2dmTYm/Ff7+8A0sHMCO+zh2nGs/FT/7sk/j0A5/2/Vx+uOHwDZgvzHOxF04iHAx3dfYc5sCRk0YHsdePapxesRdTTazK+b2Du/fwCs+7zZ/jYvkFT/pt97qTpe6rUQWoVMZC7EUNG7bMy41G8IVXPBFrCcBKxpE2BiP27IpYBKgmgkqwJ2dvcZtopi3DOAGwyUnu7PU5jNMplXDdUT6AbE1vdftsSUzHdHOTykYZ9grfBEht5QvqfTlere944Xhd7PnYfFEtlRdRCUURDoR9i72L9GSDgyY/12u3XYtZOWzI3mDNzzMzCQfAPpFU2i2UXgqdmlnzNacu15bxh2d3IlfzJ/aO5o8iZQAxEdJ34qodAIBtt90PAAhO8/cRMvoYxikbtAtB/JWffrLjw3VLR8DhPdA6OnsAYrrTNoyzrJfBwHD1lqvx8se/HJ/62afcsEkv8vxO1CxUEyEUYsCk3rmwx3xxHllZYDtUc8Wee075dPa8YZxAF2fPs6kuv+vJGJ+fm0M5dUvH9jR3wxhjSGnMbVLuij0AeOITgQce8OWMA0BeXXMrc6NSwXXbr8NKbQXH8sdQNaqIhWKYS/FNmZjpuGtHGSacV/NgYG5F3H3hWUSvewbw5jcDf/In7V84lQJCIUQKomhTtwItYoM/u1ZDuZp3xfGRtXpenHT2tKkJLiZFVd9oKNpW7CVMwGon9gJhqOF6n712xYMsh1e0d9cS6TTKUykkV9tHIYVrGioRQElnGqpxAoDmafROzh6xcUold/I/kahfAPc/nl+sewt8oTiIHBS/yIVsssSPYTkB3PkH/wN46lP57lWPzt795+7Hi7/w4q6ulTdnD1jvcDY7e+Yy38FeibP6ZFAuA/E4JmITKGVjyFZtZALxgeTsdSsO4IWJhT/ziL2gGLjXwhYmNECB0j9nz9LdHJlLjHTHnL17z96LV3/j1fj+/V/lN7QQe3IRKKuztmPDzl6lwnerfXBg8QBmxNPvWmgMY1pVV7FQ7m9O6W99+bfw9h+9HTWzhkQ44cvZK+ml+k7sEJ29qGrg1t0iF6GD2JM7s6/a8yIAwO8+84/d+6TYU6OBMRJ7DhzRZDcSjLiuP0ulkNGBot7/DSi5wxup6l37S7kIsbe6Y7J+mxjvlakpTA4gjPPZt53BP7/tLmBlBVtTvLS6193zbkaV9TKwsoJSBMhN8EXk3txeAMCx/LG6o7ZcF2PtkJteAA/16hSRYhbq488uLeo2ZAfqi8pf2PULXcVeJJbEuRTchtHd2t/I9+4wx1fotbq6iH9634P459sivp29CSOAcJaPj+p0FkenFEyc4C1/QhM5GCEFwX6KPRnCKb4ru1zsKGQ1S8OELdpXdHH2YqbTNoxTiqZsLIs/eeqfQLVUfOTej6x7nLxOEjUDWiKKQlxBSrWhGx3EXmEeOdfZ07FzYicAzzwij7ub2BPOXi6ec4+1ndjzOntyDJV/1xzKqds6srEsMtEMohYQtpkrvBrE3jXX8O/n0KGOx+keQ3EZIfnVVSq4ZivP+zu4dNDdXJxO8FDgqG67rRMCpXLDe5BuNMplPn//0z8BL3tZ+xdWFGBqCpEiH+NaXRtuzp7H2Qs4rKHi5tG19c6ePpNz5zdAtLOw24dxmrHGIkyScDAMLQSEuzl7skCLR+xpM1m3559hG3jxF16M+87WHddwTYcaD0LJZBqqcQJ1scdiMVQNcvaIjSKrswEoBgyoSX6i/+gpvGriXmHAjLJIixz4EgUVLBhEMSZuCwT4wqVHsXfjsRvx9UNf7zp5NufsNYdxujl7QuxZS3xBsxRzGtsFiDK5P/+UlwIAZqtKX529cKmKP/z0IYQ1EwoUX86edHnYDB+4sbQEJZVGMpzEWsTGhM4H7L7l7Nm6u2O4X09iTWsv9mRT1uOnedGTQDqz/kFS7BX6nLPn7XfjM5TzwNIBXOrwSTmh2cBJvsvIGMNqjYu9fjnjtmOjbJRxNH8UVUOEcfpw9opaEUkDcEJBIBJZ/4BcDiiVEGKi9HWfCrREajqWE4B62X7g/vvb/s0jK49gOjGNX8xeDQDYueNy9z4ZxlmLhcZG7MVNBkeEaocD4bqwmJhAekBhnKzGr9lQTePtCfxswK2soBpRoM7m6rcJsReYmh5IGGeypCHAAJw5g61pvhj05u15XYqyUUZgLY/VBC9GAdRzgo7lj9VF1uJix9e0HRumY7piKx1No2K2d/asYj2yYHst1CD25OfxhC1PwB/t4WN2O7EXC8VwOgPMFfj14jeM0/s67WCMwV7lx/XrB20sFNoXeJAczR9Fzgy60RCRYAS37a4vr0KZCRjhAIJ9COP8wfwPcP+5+9eJvbjudHRVdVvHpC3GoC7OXtSw2zp7ckNlIjqBq2K7cP2eZ+H9d71/3caX/JxjVR12JonIFP8uI2W17bg8X5jHrMEdnnwMmEvO8arAzc5elzDONXUNE9EJd8zyk7MnWzQA9WuilbMXDUUxl5xDWmodj9hzx4Yei7RU857rrFLBXJJvwCzXlt20gZnEDMB4xU4p9oJlPr+2FXt+mJxEqMg/g04VSGOhWMOab5fYV0uEE01hnBq2VLj73uDsBVs4e2Gvs9difgS/ltQQEDKstjl7bpswr7OXSsGamcaWEkPVqOJ4/ji+fujruPHYje7fRVVe3dkbxuk6e6JyuhkLg4FRgRZig4gwTtuxYTkWqpMpmEEFP34C3wneW+AP6yVvjzHWsgLbRpGDd6JYBZueAhTPYJDN9hzGKSf2bkUUpNiTF13zDrjr7IkwTmeF7z6fi1tAwnNBijj1Z1z7EgC8SEs/c/YefyiPF/73USh33YV4OO5L7LEaf31FhEPCMIBUCqlICsUokNX5oNqvME7d0t1Jab+eWJfH4+VU8RSecwSYW+ATRyAzsf5BQuzJncB2yO/Mt7NX8ohHn2JvvjCPyzBdv0H0lCvqRdjMhmEbvqqP+kGeN8fyx+phnAEfYk8vImmiXjioGdFYPVrhn1e/nL1QTUM5ChiZRKOQbuLQ6iFcNn1ZffMpWO9tJZ09LRYEyuWRiz2HOUgYABPXdTgYdhdqoUx2YDl7TCwsQ5VaT87eWjIAJipdAnAXhcHpWVGgpb9iL1ITC9OzZ11nzzsfNDt7oUIJa8mAWwk2EU5ga2orF3tzfLHZKd8TqDtpfp09WxQrYoEAtlRYyzDOZDiJl0w9g9/YJmdPir3cas39HWjvlvYi9ipGxf0sp8o25u5+pOXjHOZgscIX6cdWjmC6VF+Eh4Nh3LpL5HiGgEgkDiMcQKgPYu8N33kD/vqmv3bFntw4THUJY9YtHTkp9ro5e3p3Z2/KigDbt+Otpy/GmfIZN0pAIj/naFXHvj1PxGue/ZcAeEXOlsVPLB0L5QX8XIb3oszHec5dMpJc33rBh7Mn8/UAf86e3OyIBqPu2qOVsxcNRjGXmnMLNklRJQu0fPaBz+L1R97LN5s7iL2yXsazP/VsPLr6KNS85zqrVjGT5Of9cnWZby4KZy9ic1cN23jF5HC/xF6hfYEWOccFlWBDDu/OIo9C+sU9v9gQxmmtLCPiAObMFJ/fymXANDs7ewZgJ9o4ewHh7Bl2W2dPbkyEg+H6RkA6jcDkNLIasFxd4rnIqK9DYRgIWQ70WJh/VrIap9i4MioFAIAW4TKJnD1iY4gwTnnyF7dP49HdKeRjDCvpIPYX+aKrl4qcn37g09j57p0dF/S9IC/yWLHiTrqu2NuAsyfj6Lu5lc1ir3lybg7jdJb5RXwuakFJeiYx2QBTLFymy7avnI07T9+JH8z/oOv7Cali4FpebtzV6wATk1Rgdq5+YyqFdDSNYgzI6AoiwQgMpz9hnDJnDwD2qLGOoY3mfffge58B/uX7/PeWzp5I6I4VOos9+Z112mluYAPOXs2sYa7qaRQrxJ43f6RfoZxyAXuieAJlvczDOIP+wjiThieXtBkh9iIlfl70RewpIYRELoIR8ySst+CRlUdw6dSl/Fr2ChPUnT09Fh64s/fx+z7e4PK0QjN4/0e5ieN19iK5aUQcoFLqrXWHL8TnF+xR7C0n0fiZCmcvODOLqN29om2vxFRxoZ8929LZaxB7RhnRYgXlVGOezN7c3nrOnqJ0dfakuJILpHa9USWy+JO1czumylZLZy8ZSXKRGQy618e69yrEXmqp0PD67cZg3aoX1ugWPrtcW3aLhADA03/SurH6DYdvwI5378CBxQMonznGQ/p28Fy9cCCMH+zi80wlwjdgzFAAIaN9hUu/VIwKj8IQYk/N8jmvm7Ot2zomLZ9hnEb7nD35GtMlC6hWcdEdvH1G88aa/JwjFRXRyRlMb+eF3dpV5JT5X9clL+OvEwOmE9NIRVK9F2iprbr5ekBd7LWa++UYsie7Bx/5OvCiY+GWrQKAurO3JbXFTY9oDuP84D0fxKce+hxw0UXAsWNtj/Fo/ihuOn4Tvnf0e9A9uayoVJAIJ5AIJxqcvWQkiff+/Nv4Y8SmQkRsEsp1oixq16vYC+YLAFpHlsj1mKIoXOyJDcGdJf6ZXTlzJY4XjrubA845PufaczPuegGFAl/XiM/TdvhazJuzZ7cpIhMO8py9qMna5uzJebg5Zy8yOY0Q471SpdhzN5jEOaTHI/w7bHL2ZE9kNczXGJSzR/jm3+/6d7zlxrfwX4SzJy3ym9/y2/j7P7oSpmPiZC6Ii0t8Eu7F2fvQPR+Czey+uXvyAooVKm41sQZnr1exJ+Lou+XVyKpK7cRec4EWKQ4WIjqUVAuxJ0KBpkq8ularXUUvb/rem/Dn3/vzru8nLBdXy8v1sstdUGo12AoQmvQ4Uh5nL60zRJRQVxHhMAcv+eJLGkISWuEN49xeCXQUP8FHeRn0j10NfPzqJkEqiURQiQUQL3Ve8A4jjLNm1jBVdaDFQljMBOtiT+2/2JMLWMux8Ojqo/VqnH7COE20r4YmFrNhmTPRhwItcVE1shwB9Gio7S54Xs1jqbrEnb1WYk84e0Y8MlCxt1BewP/6xv/CFw5+Yd19qqni+k9dj4NLB6G6CfN80vXm7IWzfFGhrXV2ojYCE2IvUK32JPaW4g7isXR90SXEnnTHldX+uM4AP28SmqgceO4cZhIzCCiBjs5eolhDNRNreJ59uX3c2QuFeLuAHp29dCTdcYOSCYHr7L8IEwUNq7VVd5Ho5niFEzxXcGamZSl2oC72wuUqUC77CuOUoXndvr/l6rJbKGt1xyT+xwMqDHW9uDhdOg3LsfDWH74VcwVxTQixFwlGcDwHlKZSqET4ItQMBxEyz//aUS0VJwon3POykOZuXTdnT7M07BObyNi1q/WDZBinbsNhTktxJCNzJlR+vuXuE0Wemio9y885XK7xc1+ML1mtteCWlVn3gj8uH+MFVpLhZM8FWtbUNbftAsDFnuVYLb/7kl5CUAliZ2Ibfv8+4NcPOu7Yty6MUzh7W5Jb3HPEW6BFNVXcdeYu1Mwa7OmpjnOZHK+P54/DLHk+OyFCZhIzXOwJZw8AXnfFK/hjhNiLVjX3PQDC2ROtB3yLvakpBPP8O23p7Nme/nWFAjA7Cz0Vx64icNn0Zbho8iIYtuGm5yjn+AaRMztbF3ui1558z/J78ObsOfHGsUginb24hbbOnpyHm3P2YtM8LSq/eAKLVX5c7gaTeJyZiDY6e2IskS13NCH2yNkjGvnrvwae97yWd91w5AZ85eGv8EISUuwJ4WFtnUNxNgPDNjCfU7AnX6+a5odHVx/FT07xBsr9yvOTF1A0X4YyPY1wIHxeYZyu2PMRxvn0OxeQWuCPb96tbXb2lNVVIBDAuZCGSCwJhMXAJBfYwtnLlvhn3Sm0kDGGh5Yf8tWvK6KKgbEHZw+1GmphIJT2hEhKsRcDAgzIWqGuBVqKWhH/9ch/4ebjN3d8nG5q7g7kXMlCSS+13XlPzPPB+o0vAP7Xi3noUcvXToYQL3d+r94CLb7y5rxiz2dFTtVSMVmxUMnE8MhcXex53YK+OXue61CGcYYC3UV5Uec5e0i22UkXC6BwqS4mN4pcmMi2C+UooEcCbZ29Q6u8eEBXZy8xWLEnd1xbnZcniidw8/Gb8ZNTP3ET5mWT3XAw7I51igg51gv+q7n6RREOilIqIxGK+xJ7bGUFS3HGFwjSnWoSe3I3vR9UzWo9h+jsWQQDQaQj6Ya5wLvJVTbKSJV1qBONu9X7svtwqniKjz9zc3139uSCSrn4YiSLKgI2c0WCHJcT4QQXmW1COAHgly/5ZTzjab/JfzlzxlcYpyy60VXseZy9+Rf+PKZUYPWuH657nHyfX3n4K26hGNfZC4YBBfjZ0/fhkRkgGAjCjAQRNs/f2VNNFVWzilKBfzerSb4Y7RrGaeu4aFWMxfv3t36QJ2cPQMv2C/I1MjVRRfzMOWwvrq/0XDNrUBwgWKnyc19cBzmt9Xcgxd6UEYQdUFCNeMI4m/vsdXH28lp+ndjzHruXslFGOprGdsbH6L155jZzXxfGKZy91177Wrzl6jfwGz3OHgNz524jl+k4l8nx+ljhGCzZi9Xz3maSMzyMUzh7AOoid3YWjsLzIYEmsedpPeCLyUkEOjh7bksDgDt72SzUrTPYWeRzx/5Jfi65eXuyqNPsTH3sy+d5GKd4z/La8bZeYG2iX8LBMNQQEPOIveYQ4wZnT54bqRRS0zzctbx0uq2zZ0ixV6kAjuOKOqvK5/xjOo+U8+Z0XoiQ2Os3y8u85G4LVEvlJ3lNNGzMZFzhEg1F3bCwY1kHW/IGAo5/4fbJ++tll/sm9sQFFMmXgOlphINc7B3LH8N3ln4CO9/bzrTfME7T1PG6f/0hJj7yKQAtnL2mpuqB1TWwyUlYisMnfTkhSGcvleKVOQvdG+ueq5xDQSt0PUbGGCJao9jz4+wFVA3VMBDJeMKTUimkI2kURch6Tg90dYxkyEw3UWqrNbfKVzbPj6+d8zt5ehVrUwlctOMqAKgP8E2UUmEkS53fq/yMZe5cVzbo7GXLFirZJB6aBfDQQ8AnPoGt7/u4+5h+O3sSN4yzy/dU0ktImkCgXdiUmAxlgnw/wjhjYhOiEgHUaLCt2JM5Nt2cPTMe42JPCZ73MbZiucon31bXpTccWC+LSnBJvojxhnHK/FKr0D+3TBKQYs9xkGOx7mLPcYClJSwlRUhiG7HXrchRL1SNaj2sTDQRbs4j9v5crRaQUm0Y2cYF4b7cPjAwHlI3O9u7sxdNd4xGUcQCK3jJZVAYw0yt8ftXHCARjPHXbVOcBeDhfS+6/g/5L6dP+6rGKRf/3TblvM5e8FIeUphfnF/3OO+Y0Cz2pFj41KufjF9/Bb+OrHAQ4T6EccrjX1nl4aVn4/w5/eTs7V21uYiemGj9II+zB6BlKKd8jWS1Pq4/49T6MM6aWav3jvM4e7k2bUfmC/MIBUJIVy2oqRigcGevYQMhGIQdDeMb936+7fsERIXYUF08dBJ7Jb2EdCSNOYt/T7tWrPpGVxtn78rZK/H82afzGz3OXsMxZOIdxZ7X2bNLnnlcCLpWzp47lqdSMBJRpFQHqqk2ij2Ps+WLyUko1SoiVmtnT4ZxAuBiL5eDvm2m7uzlLgLgab8gTIBgdrLR2fMUaJGbp6lICvsn9yPjhJCd3Nby8GTrhbgJt0CLX2cvPcOvx8ryGTe/ttnZsxIxV7CjWnXPG9lf9X0PfAR7sntw/b7ru3yQ4w2JvX7jqerTjNyRc4tRTEw0VDqSMc1HJ2yEbIbtJX9hnLZj41MPfAoXT/KY+I5u4Ic/DLzlLb7eiumYCDhAuFAGpqfd47t74W4cdpbBCt0b7npxC7R0CeMMawaCDkP4LL84u+XsBfMFt5VBPByvx/VLsacowNwcUoXuoYUPLT8EwF9eYVKOi8vLvgu0KKqGWhiIpLP1G4WzV5Jizwh0FUiu2OvyWTJPXlBqlZ8XrQSQaZvYfk5FcecMnrbjaQDqC5ZmyqkIUuXOobA1q/6d+QrlLJf5QiOR6EnsZUo61FwSB6YdPhH+3u/hmvd/GRGLTxLenKXzofk6dAu0dHP2RDXOYKv8R2Cd2OtHNc6YdPYigBpG25CnQyuHEA6Eecn9QmHdAlB+/1YiBlgWQsKV6LfYk+NCN7FniLCaoNjMCQfD7rkVEM2srWIe+OhHgUdaF9XYCAG1fl3nrFB3sTc/D0VV8cg0Wjt7YgEULvoP0e9Gxag0OHsA1kUbNIxP4hqzc9mG52lov7ARZy/c2dkLlKvQg0Bw9x4AwJZK4/f/5f8P2PUbvw8sLHQUewBcYYUzZ9zFeasxWLZb8B3G6XH2Int478Hayvo8+IpRQSwUw2xyFrvLAd7mRLiRcnG+UD2LsLiOuLPXulG5XyzHcq8/KfZORfnB+nH2di+b7V09wBV7EVFIppWzV9SLSIQT7pjFFAU/d6p1GKdbxMTj7GXbOHvHC8exM7MTgUIRkZk5fPCFH0Q8HEcynGyYQ6rRAM6cPdS1zYRXfHVz9jLRDOYM/j3NFUzELe6WtnP2ANTXcR5nz0slE+PXmdP6O5fPfSx/DKziGQs8zt5KbaXR2ZNiL5mEmUpgQuNrgbLOC2jFQrGGapS+EOPRpNq6Gue6MM5cDsrOXdhZAq7Zeg12ZHYgEoy47Rdk779gbnK9s2evd/YmYhOYtCOYmmkdWixbL3jDOH3l7KVSiE3zqC519RyWak0FWsTnbKcSdWFcKrnOnqycfnfxYbz1F9/adj10oUBir9+k03xx1eIC1ywNFaMCJnPdPGGc0SBvSKtaKo5m+N/uLvoL4zyaP4rTpdN45RNeCaCLUPnKV4D3vhcwuy8qDdtAVuM72l6xVzWqKMRE2d82A1kzjDE3jLObkJKV0AILZxEKhNaF5jTn7IXWCrAnswDQ6Ox586Tm5pBc4xdvp8n+wWUeCqjb+rpdPS+apfHwPKAexumjb1awpqEWaVr8S2dPzBU5PdBVRPjNf2Ri4HN27EBkJY+A01rsLZQXsH8N0Pfuwm9f+dv4+V0/74rpZqqZKNKVzsfn/Sx8VeQsl/mkOdU5z6H5NTJFDWo2jRv2WGBXXQW84AUAgO0VBfsn9/fd2QsofMj03XpBVOMMpDqLvWA/nb0aP6ZyFKiFwSu+tmju+8jqI9g/uZ+HZ3YI47ST/DoKVc+/YmgrZFhNJ7FX1sswKlLs1cvbS0IT/HOML60Bv//7wMc/jn4RrNUFxKTpQ+z97GcAgAfmxKK/jbMX7VLkqBcqRqW+sD7HhUk8FG8r9hRRDt2R/T4FsrG6236hm9hr5ex1mLOC1RoqUQXYwnNp5prE3hXLQOzWHwMnTnQXe9t5c2ucPo2AEkA0GG05BstxXIZxdi3QUl3GlBkEC4WQ2sFdi4ZqiYKKUUE6ksZbfu4teEZgN5Tt290cw2ftfRYA3m7I3TQJh847jNN77IU8F/UnA2VYAX85ezuXdV9iz3X2WlTkLGgFLp7EOka57jr8/OngujBO1VLreW0TE0AiASccQq5Dzt6e7B5ezGNyBq+99rUAuCDwziG1iIKE0dmhbRB7xSIu+vbt7rE3U9Z5GOeUUa9EnDnLr4/mNYBmaW7EgysqhNiT18BTtj+Fv2wqzNdHbdJd5HOXjTLMoscVFSJkNjHbUI0TQH3jLpGAnUlhQuciW7qTiqJsyNkDuNjzG8Y5e9mTMFMDnjJ5FYKBIPZm99bDOEtF2AoQy063zdnzij0wxkVsonVOnGy9IMM4g4oPZy8e54VkxJhr5JfdMM6CVuDrK7k2SiTqzp4n/9cWLXd2bbkUL7uqQ6/CCwQSe33mpyWxo9wiply1VF4gJC9ihpvCOCPBCMp6GYtiQ2a26s/ZO5bnFZ+u3XYtgC5iamUFUFV856tvx8Glgx2f17RNTMt1jVfsmVUUoyI8o0NZdy9lo+xeoN1CD+ViFQsLLQsiNDt74XwZViuxF/PstM3NIb7GP5dO4kM6e/KY26FaaqOz57NAS1DToYUDjQObp0ALAGT07g6P3zBOyB3DSy6G4jiYrbYRe6cfxmwNCFxyKX5p7y/h1t+7tW0YZzUdQ6aL2PN+Z76cvVKJT04+xZ7lWDBtE8liDfpkBvM5wLzvbuCNbwQAXGZksCOzo+85e9dF9uH+/wC2n6shHAh3FT4lvYS0FYDSrq9VPA5EowgWiu776oZqqvjHW/9x3XXuVuMUVWK1WBBV+RWqPIT8n277J/c1juWP8XwLuSBpE8apT/ABKbRW8H2MveDX2TNFdbSQEM7ubjOAkCjQsveQWJRr3a9FvwS1+m531o/Ye+ABMEXBwdnOzl6s2L/WC1WzKYyTsXXRBnJxmQwn3WssMN2YFzeT4L+v1la5s1cu1/u5taBVzp5maW3PkWBVRdUj9rZU6mK/alaRUwEmr5UOOXsA+Pg+PQ2c5rnG7aIr5G2TMf65+3H25qwYlIkJTMzypt5Gfn04XtWsIhVJ4U+v+1M8Q9lddxrBHdInbX1SQwicHQkicp7OnlfgFApc1J+2VlGLBjBphTq3HqmpmFvrIvbEnBnW+fjeLowzG8vyhX8sBlx/Pa48a6PWJIhrZq1e1XRiAlAU2Jm0W43zdOk03n/X+93HBw4fwaWxHW6ooKShQAuAUthB0ui8NtJtjwP3pS/hoj/5f7hotX0YZyaawaRWXw6nTi+5z7PueaXYk86eOF+luHzxpS8GAKwlxfO1CeX0umhxWVxJUephnMkZqJaKglZwew67zl4iAZbJYELjuZIlo9TYdgHoqUALAMxorTeZG8I4hbPnFvg5dco9VtfZLRZRjALJSKo+pwhnr6XYk+NLmznSLdBidijQ0pyzJ9+7EHF2fs0N4wTEZrlYozteZ69crvfZE0VzfvWa30YwUN8IuFAhsddnHtZFw/AWIkhOjG7FuKYwznCA941aFjpghx715exJsXfl7JUIKIHOYk9M8t//7N/jg3d/sOPzmo5H7M3MuBdrxaigIHWUz4qc3nL4ndwoxhjisvDJmTOIB9fnyGiWhqASdEMbooUyzKwnlKKNsxdd46/babL3ir1On2NLZ89HgZaQZkCPBhqPzdN6AQAm9NbhFF78hnEqFdHX75JLAQD72rRfKB28BwCQuOzxXd+Dmkkgrdo877QNDWLPr7PXg9hTTRVpHQiZNoxJvojWLM3tP3SxlsS29La+O3vPU7fjCYvA3kfO+Wq9UNSLvBpqO7EH8LAYmSDvoxrnR+/7KP72lr9dV5zHFXvCGbeTCVRCYhFRreKGwzfgr2/+a9x39j73Pbk5Hoy1dfZqc8J9PMOdhL6Kve9+F8n7uJveUeyZFTdhPiyKG3k3I8ITfCH/+CNivNQ7hxn3QlgzoImK9VlDaT1+HDkC/L//x4Xzz34Gbe9OqJE2OXuRCKqxIJJdihxJFsoLXfsHyjBOFhQ5muXyumgDKXpmkjMwl/h3GZpprLgbDUXdech11jrk7bWqximPpxXhqoZaLOgWzWoI4zSqmNQAvP71wNveBvzO73R8zwC4wBJir90YLBfsvRRombYiwMQEMiLnxyyuT1mQfcIA8GPwiD0AeOnlvDG8PE+tSBgR00exqiaOrB3B1R+8Giu1lYbvs1LiIvmUvgw9FsakHel4nkwvimvj4ovbv1iAz00RnV/jrZy9ol7kG61SlD3xiQg5QPL46YbH1cxao7MHwMlmeDVOS8VnH/gs3njDG7GmroE5Dr753mW8/EuH1kUZeFsvMMZQDFpIGe3nZxnq6jp7ojfczlKHAi2RNDJq/b0mT3Nh0Kqpuvu8cs4Sbu4Ttz4RT9vxNPz2lb8NAFhOiO+6jdjzCsmUwcNhMTXVUI0TAG/o3Zyzl0xCmcg2OHsbFnti82lGD7Z39gLCpZTfjSeEGuCbWnKeD5QqKMbERlcoxAXX2lrbAi3e99QK2XrBdfZaNFWXxx0KhBrbTsjzrsArT8v+o8vVZfdzZqlUQxin3LjKr/Hzed/Wy7t/hhcAJPb6jJJuuuA8yMlWX6s7e94wzkgwAs3SsCLE3nYt7KvYyvH8cUSDUWxNb+Wlrzu5gWIh/cQTZlch2dbZE2GcAHxX5PSWw+/0nmxmIyXHQF3HNjPWkP8F1HftosEowIBosQI950mSbuPshVcLCDjtnSbGGB5cftAdZDsdp2p6nL3VVcQDUV/OXkgzoEWDfAdPunvNzp7Gui76/Tp7dbF3CQDgCiuHhcp6AaQ/wl3eySc8tet7UCcSCDA0NFhtpmbW3JBH3zl7Uuz5qMZZM2uYEaeFOZUF0Cj29qpRbEtvw9nK2ZZ5J70iJ6fLg9yRyK2pvlovlPQS4ibahqjwJ8tBKRRa7lg24zAH773zvQ3HJJFiLyzEnpNKohwSk2Kt5paelotdt4iB3LBp4+xpc6JVwMJCyxCa8+KP/xgv/NhtDcflxevsuWIvud7Zi+R4K5MnLIjvuo9iL6SbWMlwtTdhBFpv6nz5y8Bb3wr86EfAAw+gdOkeAGLB8+QnA49/fMPiq5KOIlnyd4zXf+p6/O/v/e+Oj6mqvBCQsUuENp492zaMczoxDSauscjc+qIIbpEVH43Vm509Kaiai3VIIjUNajzEx+iJCeypht0CLXapiJADKLOzPK98376O7xkAX3QKd6H5/Urk+5Y5e9025RYri5gyQ8DEBJR4HFYAYMXCuse5Yo+xlmLv1y//df6eXWcvhLDV+1h039n78LPFn+HQyqHGIjtF/h3O64uwEjFkrRAK+vrjlGw9J8aLTs4eACQSdbHXzdnL5dz3HVts3KSrmbV6aKRwWFg261bjlOdIxahAqxSQ04DLbz+y3tmL1J29ol5EOeQgabaPvPFuoANwHbjtbcSeFEppUV3UDgYQP8E3Q7yCjDHW6BjKaBTBZdOX4Sev/gn2ZPcgFAhhMSY+Ox/OXsrwtADw5Ox5PwMADc5eKDfZkLPnij1PU3FfCLE3qwXbt14Ihvn7ZYx/N00bQd68ylC5gmLU06pgcnJdgZYGsecJTW2Fr9YL0tmTYZzyvafTcBQu9op6EZfPcOG2UltpzG1sEcZZWDuLWgi4ePoSXx/juENir8/IqnBOaf0iXE4y5pq4+FtU4wQAMwQY6QS2aCF/zl7hGPbm9iKgBJCJZlAy2ogUw3AHgqed6t7wusHZaw7j7NHZk7u3sVCsoxtl2EY99wTA7mp4XXy/jMePhWJIGkDIsKBlu4i92VkojoOpWvud3eXaMtbUNVy34zoAPTh7to0pPeArZy+imbz3GdAg9rw5exmN+XL2UjpQ7LLjH5ADqdjNvdhItazGGTjK3eHEZVd1fQ8yrK+TA1cza25T20E4ezWzhhnxtLbIO9IsDZiaghlUsLMaxLb0NliO1bVZtx/KehnxUBy7bX6eZVYr/pw9tYC44XR19pDP+xJ73zn8HbfqWfPnWhd7fExxUkmUvGJPhLHIcUi1VD6xtRN7YlFjzolFx5kzvo6xJ86dw7ZT/PVbXZfyPZb1MhwRkiyLG3lz9iIijFNWnu2n2ItoJlYzfGxO6/UQ4gbkZ/ixjwFHjyJ/CQ//S4aTwG/9Fs/j8/SMq6ajSFe6H2NJL+GRlUfqle7aIJsy2/t5jhnOnWtbjXM6MY1MhX+H8S2NAgXgFf0anL0OeXvNzp7cKGt3zUVVA1pciPQdO7C3GsaKKh4rN49kno8fLrmEF+NR1a5hnH6dveOF45g0hCOhKKjGAmCl9XOBK/bW1njYcJPY2z+5H1dvudrdNLEjYUStzs5e1aji8OrhhtvkGqBqVt3PezoxDVVUp53XF+Ek48iYwY7O3tZF8b59iD03jLNTzp4UZSJ3MrnU+NqqqWLWFNeoHFuyObfPnjzWilFBdYVvQOYW1riA8IxFyXASlmO5vdwqES6O2m1qezfQAbhib28ltK6IDCBy9iJpxMoqrACwvCOH6Enu6njnYbcVlTdnT4oED4qiYDI+iYWIuL7bOXtClIYCIaQMwEnE+TzR5OzJzwBAgzAK56a5s6eKnL2op6E60LPYm1ZbF4ZzwzjlGJfL1UOsRZuFZCTp6atYRSnmGZ8nJoBisW2BFnhqWLRCtl6I2kAYwdZN1WXOnizQIovTBAIw4hGERPP5K2auACDGp0oFjgIEkp5w07U1hAIhXj+jtIpaGG5riQsdEnt9RhYKUFs095ViwBQTs7epuqzGKdFzGczVAr5z9mRifSaaaS9SxCLa2LMT+/NAcLnzorqds3c+YZx7s3s7ulGGbdSrygHYWQm2bKoeDUQQPXwMU0JfaRkunDqFcQLAXLW9+JAhnH7EXkPOHoDpavuGvl7CugkjIsSePM5kEqlICrUw4AQCSGtOV8coX1nGiXcD//yVYseqZEFRVENO8HvUaMvQxuSJBZzNhds3//bglmvvIvbkzmQ3Z+9HJ3+E0upCXezl810L/6iWilnxtM4Md3U0SwMUBecyAWwtMWxLc9eiH6GccmG32+HvfbKg+3L29EqBu6DdxJ5w9ro933vueA+mE/z9Nn+ucqKWhVSC6QxKQSHMqlU3QV2OQ66zJ935Ns5eKJnmC4J+iz1NA0olTJZMTLbZhPE6e7aojhZNi0b0njDOWCQBK+k5d/sp9nQL+Qk+Nqd11nBcLlKofPrTAICli7gD7O7IN1FLx7vmvQJw86q7ncNGkV+L0sHH2bPrwjjlQmsmMYMpFVBDwERu67rnchujb8DZk+emdOuaiaomtLiY53buxK5SXRjKvFWvq9OVZz2Lf9c/+UnbIllyXM5EMwgonTfliloRa+oazzUTIWBqPIxAixz8ilHh368II20WewDw4V/+MN71vHcBEGKvSxjnu+94N67+0NUNc5RcGFeNqnvsl01fBqdWBQuHYSoOLzNvKq3F3sIC8NBD2LmkoZKOdv98EwmEtfbOXlHzhHFms8DcHOyAgonVxs+oZtawRRXO3jQ/LwKTk27OnhReFaMCtbnaqecYZahs1ajidOk0qhHwnL02G+Hy+2529vZV14e5MsbcapxKsQg7k0b68msQPsG/U28Yp/y5nbPnZTI+iVMRcZ61mSfleL1/cj/SBt+cQyrVkLMnaVWNMzI5w3P2zjeMM50GQiFMaUrnME45xmWzfJ5WFHdsSITqYZyRiopKPMiLxQBcxJXL7Z094cxj586WhxcOhFEVQ0ZCd7o7e00N5Y10wg0nvmKWi73l2jJQLqMSAWLhOI8IUhT3WBLhBGIGgxEJ1EO1L3BI7PWZSJa7Gc3Vu2zHdi8kW8b/t6jGKTGnspiusq7OHmMMx/LHsDfLS2ano+n2IkXsMK3+Ehczux9ZX07ai3T2WCzKQzs8zl5DGOcHPgB8/esdn0uGce7L7esookzbrBcaALC9zOoLq89/Hvjyl6HZGn5xHghd+Xi89CE+oFQzfLHRKYwT4NXf2u3s9iL2pLNnpbjInK46vsReRLdgxsT37HX2omlAAfQk753TzdmzF89hUgNeezegf+gDbR8nF/6YmgKmp7G9rGChvLBOIE6dXsPS1jYVI5uwRH5kJ7GnWqq7M9nN2XvPHe+Bll8GS6f5okDmBnTAG8Ypdxnl538m5WCmYPZV7MnGu7MaX7xM5bX2zt63vw385m8CjGFiQYSz7d7d/smFs9et4IvDHNx64la8/KqXA2jv7AVrGpBIIB5NoRAQ55EnjNMtFGXrvpy9eDjOd+/7LfY8IuLy5e5ij9X4+42KHpXe8TIajPLcC8l5Fmj597v+HS/54kv4c+s2ilk+liR1p+G4XORnKDYpzu3jrpgbytSENpHARLV7ZUav2Ou0qWOLMMPQZSK/RIRxtnL2ZhIzmK4BK4m62+XFnUM24uwlG529w6uHG8bRRM3kTYwBYOdObMlbrjAMyr6DvYi9X/gFnhd0001twzjlIj0eitcLfj3wAHDvvesee7xwHACQVC1X7OmJqOsMeHGdvQ5i78nbn4znXvRcAIATDSPSxdk7tHoINbOGO07f0fA6AD/n5Pu7dOpSxE3AFFEigfRE+2qcf/7nwNVX4zkPqljZ2qa/npcOzh5jrLEaZy4HBIOoTKYwuaY1nKM1q4Y5VVREjPDVejA3xatxWo3OnrbaXuxJoVMxKjhVPNXV2Wsn9nZWAus+n5pZg8McPv/m84hOzSJ56ZUIzZ8EWGMYZ0vHsI0bNRmfxBlW5O+7S87eZdOX8X6EqRQXe52cvVqNi5JoFEomg4gDlEorXLBGmsRepw1GL4oCTE62r8Ypwzil2BPfOaamGpw9ufkYreioJTzF3dJpoFRal7MXCoS4wdFN7AXDWBDaLZdXubPXJmfPdfY8Ys9Op9xCQY+bfhwAPj4xIfbiIV4kDVu28CrA4ONZwgSseNTPJ3hBQGKvz0ixpzdV7/JOuqxQ4Av9UGhdNU6JPZXDZMXumrMnd3W8zl5bN1AszheediUsBbj4SOcGxIZtIKcCjhh4vc6ezC9DPg/8zd90LXW+WluFAgW7J3b3FMa5teQRe+96F/Cud0G3dOwrcJH3Z2JOrGT4wB4PxTs6e7PV9k7TyeJJhANh3mQanfPhNEtDygD0nVxQ5MpWx1yQT9z/Cfxg/geI6nZd7DU5ewBgphNIqXbX8EBFDLIrcSD6p39eHzCbCMmy8akUsGMHtuRNVM3quk2ErUsqyju7lDoXmD7EXi/O3kptBWmNoRYPuZXBuoVyqqbqhnFKsadbOq/ylmLI5bWBOHsQJetx9mx7Z+/GG4EvfQk4cwbbTxb4bZd3SPL2Gca5VF2C6Zi4eOpiRIKRtjl7wUoNSKeRjCSRD9bFntfZ8y6AXaHS1GdPLmriocGLvSuW/Ig9/nM8I/rUCWcvGoxCURS3154TDJy3s3fz/M245fgtAGOIGjYqmTigKEhodsNxueTzPC8vmQQyGSxOCXEYbr3g0idSyNa6528dWDwAAO41u1BewN/d/Hfr8lAtUTkutGcfX7hIZ69Fzt5UYgpTNWA1Xs9j8+LmfcfjfNHUxdlToLjninT2VmorYIzhuo9eh3/58b+4j49rNs9NAoCdO5ErGSiJQiOhkhiTegnjTKeBpz4VuOkmxEKxjmGc0VAU8VCcf3evf71budeLLHYWrWru9WAmY4jW1j9v1awiFfaIPdkKog1OJIxYl0vnVJGP47edvM29zXX2zEZnL24B1SA/D8KZHJKa3VrsnTwJmCa2lhjyO7tUOAWEs8fHjWZnT7VUmI7J2x55cutqs1lsKzVuTtfMGmZraKiqGpic4mGcRq1B7BmijkHxKlE8pqlAi3z/3jDOdmujlg4cgO0ltu7zkc+RjqTrxUf27YNSq2G22sXZaxPGCXCxt6bl+eZll5y9y6ak2Ms0iL1UJOVeVw3OXiLBBZrY3KoVltY7e4kEF2R+EY5ry5w96ex5wzgBvhnkydmrmTUwxhCr6agl62tZ2Xu6uRpnKpLi7t/Jk0A47FbobSYSjOC0eGu5lWpvOXsAMJFxnb0dmR3IxrJYrvI+0YWoZ1Ng925+LOBzXtwCEO+Qa3+BQWKvz8RzfMFsFBoXqw1CwLMj1FCN0xOWZE9OYqJidg3jlJNTL2GcS5NRrCSAdLFzjplpm5hUAYjGu5FgBKZjomp4cvbuu48PAh3KcwN88s/Fc8jFcyjppba71DKM0wkGgJkZzBXt+mdXKgGLi9AsDXNiob+9xJ+nnOaDYltnTwyMGSvQ1tk7Uz6DbeltbgNWPwVarF18NzdX5jkF7YqB/MX3/wLv/Mm/ImrYjc5eLAaEQu6EZqWSSKhW13C+8DIXHe96GqDoOnDoUOvH1TRYAfDX2bsXU4v8PXkF0OraGcxUGZRdHdwnD84kH+ztldahWoAQez6dvbXyEuIWsBxQfYs96ezZ8ZhbnVGzNKzWVrGQBjIrZXfh6a0Eu1FkxTZX7C0sIKyEWotyMSmy++/H7oUqnIACXHpp+yfP5YBiEWG0TpCXnC6dRlYFdsbm1jUaBvi1E1ACPOQslUIynEReEbNctdrg7DU4Mm2cPbnASEVSPYk9xhhuO3Fb9+JSHsfIj7OnCLEXTfHjjAT4gkJO1jJf+tzuqfMWewvlBZSNMpimIcDEDm8qhXjNajgul0KBhwK99rXAr/0aauLzbefsGbk0sirAWvQ/9HJg6UDDMX3h4BfwD7f9gzvuS5gIxVUyGb5oOneOO11N1ThjoRjSkTSmVGC1g7PnLtq79NpTLRWxUIwv2m64AWmFV5Veri2jqPOQSHnegTEkdKcebit28iNn+YIxWhTncy/OHgBcfz1w992YNtb3ZJXvG+DnSSKcgGrWgIMHWxaYOpY/BjDRQ1aIPTuVRFQ1181ZDc5eINB2sSpxohGEHXSsYnyyyBebXrEn1wBVo56z97jpxyFuAgVFx2XTlyEztRUxnYu9dXPr4iLMF/8q/t8zgYde+osdjxEAL/6h8XGoeT6TG6DZSIZH9YjvSp+bwfYyGnrtqaaK6SprEHvK5CTCDmCViw1hnNYaH6NXf533SfW6pHLDpGJUcLp0GoWJCDIGoBVbj+vtnL25vLVO7MnzPBPN1MWrKAx00dp6Zy9iAY//8m28b2mHMM6p+BQvQNNB7OmWjqASxEse9xLsDGS5UeDJ2VMUxd0wbcjZ80QEAYCWX+bVeL05e35DOCWTk5issZbrDjdnzxvGCfCxwePsOcyBbmmI10xoSY8jlskApdK6Pnvuezp1is8vgdZyJBwIu2Ivu1rl1Tg75eyJ+U8SyOZcZ282OYvpxDRW1BU4a6soxJrEnnD2EuEEEiYQ9NuY/gKAxF6fiU9ysdfQJBNN+Vzlcj1EpE0YJ2amkSnpKHdZMB3P87ATGcaZiXQXe8sxB6UoEK11DhU0HRM5De5OqzeM0woCajQI3HQTf3AXsbeqrmIqPoWJ6AQc5rR1e6SzZya5mzBbMOoLq1IJWFqCZmmYqTROaKU0/+zaij3h8k04kbbi40zpDLZntiMeiiOoBH2FcTq7+IIlU9bd25upGlWs1FawsHQMAQbYMTEQJpPuoLQzs5OXFc7lkKxZXcM4ZRuJh+U82qYyZljVoUYDfCdw716kzqwArFHsnXyIN5xNXnRZx9d0mcjADAD2cusdf4fxkNZ2uWXNaKLv5FlU6mKvS0VOWaDFmp50B2vN0vjnnAYiVRUxkXfipyVGN9Y5e4aBiardWpSLhbd1/724bImhsG2ycy5kLgcwhkkzBIu1X/yfLp3GvR8Crv34dxvCZiTupCxyFpKRJNYUcT42OXtyURwLxdo6e3uze/Hpl3waL77sxXwyXlxEjHWvxnnH6TvwC5/4BWz51y340//+0/YPFLvCi0ng6tXW/etkJd6ywfu9qSFAETvWcnNMfv9KJoNzE0EsT4T6IvYc5kAticIniRiQySAmHI+WYi+bBd75TuDjH0fVrEKBUl9INGFlJxAAoDfnKnlgjOHA0gFcMnWJe0xH13jj4nXFtaQrlk4DW7fyMM4WffZioRjS0TSma7wPWKvjy0Q80SFzc12dvXg4zoukvOAFUL74RcwkZ/h1KMYY91hrNQRZPfRdLuin1jTUzBqishXFRsSe4+BJh8odq3HGQjHEw3FeNbJUqvdJ83A8fxw7AlkojuNeDyydQlpjDdeb7diomTU+JszPc6EfCnU8TCfKNydYmxBjhzk4XToNBQpuP3V7fWFsrnf2Lp2+FM+cfTLmpnfjoT98CJGJSURVEw5z1p8b585B3TqNt/4SoD35mo7HCICLPd1w36cXKZZmzEi9MiMAe+sctpfQUAClZtYwWbEb+yUKoRAoFBucPbvAx1Xthc/nIbZPe5r7J3LTqWpUcbp8GvZ2HrEROH2m5eG3E3vZko6z+ZMNYth19qIeZ09UdN5aC6xz9p5/BLjunz8D3HJLd2evi9iT4/VTtj8F+yNbEEinG3L2gHooZ4OzJ9c3QtAVVriz3FCNcwNiL1tzOlfj9IZxAvx7lTl7YlOrml9C0GHQU55xxePs6bYOxni0lvueTp6s9+1rQTgYxhnZSWG51KXPXmjd+5eFbJLhJJKRJBd7tRWwQgH5eD0EHbt28WNxHDeMM5L0EfZ8gUBir8+kJ7fAQT2HQuLdcQyWK+4gIfMVmgu0YGYGIcuBUvLn7O3N1XP22ub5CbF3NmqgHAViaudFm3T2lFyj2JOTSSUerIcP+hF7iSl3QGoXImnYBq94l+RJs5N5vb6wKpf5hVyrYariAPv24eRUCI4ClON8Adi2QIsQfhkn3NHZ257eDkVROjukAFSjioTFw1KQySBdaiP2HnoI+S99CgCwtDIPALBlHHgiURd7Ezux+permJjdhUTN6OjwOMxBIs8nhENCG7kipIlIzUAtJhYh+/YhqBvYUmkUe8uP8NyVqYuf0PY1vcTCcazFAaeNsyfP9VQkhXgo3tHZc5gDU0z0p5xCfSLp0NYBqBdoYdNTDWJvVV114/sD5xbbFm3olbLOc/awtuaGx0wX23xPHrF3+TJQ3Nc5vEu+5ylN6Sikzi4fx94CMHn4NHf2WuTsRYIRd2c3GU5iReHv3SgX3Ou2wdmTYZyp1LrFqqIoePnjX84n5e3bAcawtdL5GAFgvjAPgC9I33vne9vnsgrH6Ad7gMd1cfYM2wCrVaFGFPc+uTnmLupe8Qp84fk7UVHM8xJ7DnPcirW1Aj/HnXgMSKfdDbKWYZwekVI1qkiEE/UiBU3Yk1kAgLbYesEKAGcrZ7GmruG5+56LqAlc9Lq3QD94P4AW+UoVj9gT4VWxUAy6rbvuTIOzV+MVQVuxEWdP9tvCgQOYTkxjuba8XuyJXCInJcZn4eztLHL3PV5WYQWVhl15X1x3HZBI4KpH1lqea3JDVTp7s/Ni3Goh9o4VjuGKqHCVhNhTMhNI640RAvL7T0aS3CW84oquh+lERVVOtfV4KMO0f3HPL0K1VNx7lo/LDQVaPNft7ugsEpkpfo6lUoioBsCa8vYqFaBaRWWSf6aTcR8hsokEQm3COOVzT8kG5OKcV3bsQFYHCqv187lm1pAtW41iTz6+WHRdwIpRgVPgP8entwBXXcU3JwXNYZxMnDfhM603Slrm1oVCCDAgeG4ZD6887D5WXkcNzp44xlk9tM7Z2yFPmUcf7VqgpWJUYE/m2kapNLRxkBUkPWGcANY7ezKME3Cvk9LqQv09yOfqVexNTSFba10roCGMMxCoP7fX2RPHp63yscJIeSIaMhmgWkUMot+kY6Fm1upRD6dOtc3XA/g4r4eB5QQwsVxGKBBqm7MX1SyeN+15/9EcL2Qzm+RGzExihq+783nkm509wwCWlpAIJxA3gdhEDyHlYw6JvT6TiU2gElnfesG74xgqV4EMFxMfuudDeM6+5yAejjeEcSqi2W2m1D40EOBibzox7V7oMmev5d+srACJBFZZFeUIkNJa7+RITMdETgWUKe7QePvsAUApXj99ysX2IX0Anyin4lM81h/tQyRNx0RGB+xUAti+Hbm1Gp9Ybdvd8UqsVTBVtoG5OXz02VP42dVboDI+SHVz9lIs3NJpYoxxZy/NF+aZaAbXf+JW4PbbWx6nLRZXwXQGmJlxQ2LXCYt3vhNbX/2nCFtAQBRLceLiuH7v93jyvCATzQATE4jXzI7OXkkvYabCYIYCmM+KG9uIo6hqQI2J2P29fENgb75RbJeO8sI0c5c9qe1rNjxnMIrVOMBWW+9YyoVQIpxo6UB5KWgFJETRi+P2SkO/m07UTJ5TwWZnG8VerS72sLBQL8hwnjQ4e6Ky6WRea+3sCacseM99uGQVqO3vEh4rQ4zNQMfrsXCKl2SPnDnX2dnzij2IMMh8fcHudfbcMM6mEM51iHyk7eXuTdXPVfgi7H9e+T8BtK/MiKUlWIkYfroNmClZSFXMde/f+9051Qr0cH3MaXb28MpX4rZfeyJK0M9L7K3WVt3vtVbg5zgT+WuRql4/rmKRvw5jYIUCblq71x13G3auW8DE520utxdSMl/vefufh6vPAbu/dxd23P0ogPXOXkD000Q67Va/kxUypQDSbA3RYBTpUIIXyZj4/9l783BZzqre/1NV3V3V87TnffbeZ8zJPIckhARCEkgIowIyCAgKiiOKXvU+3vt48adXr4KCXlFxwBlRrqBcRgMBTICYgQwkJznzuOfd81A91e+P963q6u7q3sPZ56TxnvU8ebJP76Gra3jf9V3f7/oub4mp3bNnWVZHQucVlYZ0dLXZv2eeYTTUh9mzwV64C+zlhTteuGBSDusdif6GIhCAsTHipeZAGaeu6YT8ISZPrLWPp8v190jmCJcE5OxBuRb54kliZuc4CfszxdQgPP206NdcLySz1yh7jzyyJZxvuUI8N984/o2O93Ize0F/UBRY7T0uGkWxLCHtdIM9CdSzcQEqNg32upJqu98+VZXXSAIj34xY48zjR/j9b/8+Xzj0Bcq1EvFCzRPs1VaWHCBZrBWxcjlaQCg13nM43TJO304hswye8WacPZk9uWbvyMN9R+5zftYuanT07NnFN7OX2Zuyt6UnnhA5yQBmD8BMRNZl9sSHK7bBXrns3Jc9zJ6HjNNXarvNig+1NRlnrOTdPtIh40wk2s/n6KjYD+t15/hMCfYabrAnjyVcE4yq2TTb60azKWTQA5g9RVHQFI3TUYiuFDxnvdr7hiHbW5hsuwxryRRxE8Yj4t6ymT01myMT7AJ7AMePCzOnOoTiG+hx/R6JC2BvmyOmxyjoYHUlq+6Ko79UgViMD33zQ6xWVvmNO34D6JwbpUlDkdEyAxP/I9m2E6f9/haWN5uyugrpNJlKhoIO0drgWXv1Zp1UFZQugxY7ycy6sFRxPbAnmb24LsBeP5MWu2evGRFsQiRbpl4td1S7ItkSyUIdxsb4zEsm+B//5cbOBf6uu+DHfkzMYLJDVSEQINrsHeUAAkCV6iXH1OOiksFr//EJ+N3f9TzORkEcvy8ah9FRQlnxN3sqy2traGaNqxbhalmIXN4hN9x774Wf/MnOn4/HCZbMgT17a5U1xktQSUap+KHp9/UFe4FKHdNm9iTY253pvO71E4IdDsxtYIgx4hyvhuhbsay4+pW8esvcsVJecdxXn63PtzdPj6p7x3vUK4yXQBmf6GH2Ttv775kzbUOGs4yOnr3LLwck2BvA7AWOnSDQgtr+deb0yE07WlcHAqnKKSHZVo4fX5/Zi0SEQYvs2Su7+ls8mb0Ngr2pvLUhsBfQAuxLC7OF5XKftWFxkXIyytNyP/Xq2+v4d7lMNdDesuz10i1FnIxMkrOqA8He08tPM/bbY05y3R1u1tuWcRIKQTTqzDAs18uCUfrAB6BcRmk0+OLqtx2DjVK91LdfD0CNyp7tfH+TLNuJ8+YdN3NdRiTrLdnb1L1ua0V5nqJRRzZly5McsCeZvZGlEpoFmYmE5/tG9ajYQ+olUTgr9X9+HRmnDQifeUYwe6VeZs8pgNqJaChEPRFjJifumXCpTqUP27huGAZ6w1uy3SHj9AWZPunae1z7dMtqcSx7jL2qvCEls+dPponVYNVVtLA/0+SZgmADNgD2LMnsNUree65971w/dT0XpS/iwVMPikP06NkL+oLCcdZWr9hrSLcjpwR79pxIrx7NngiF8FUGM3vxigTJct0wZsV8x8rxw/yXf/sv/Po3fh1foYSvaXnKOGur7SJHsVZEyeUp6BAxesGTzezNF+bFPLld+2kqEF70fnY6coFmU+QO0iDrmtYY9x1tgz276BxvBcSakUyK+1NVSZuaYPb+7M/gT/+UaqPaBnsPPyz+P4DZA1gOWTRXV7j/8H09P2M2TcE+WlYb7NmFENmf7IA9N7PXJeOMyPQwGji7nr2w2cLyWDcdGaftvmqH7da7uuqsdbVV8Yw0Yy52Xu7p9tiaWrPWZvYWF0X/4wBmD0Rh71QMoss5bxmnzJeMBbleu82S4nH0JszobWZvpbiEmsuTNdpjYxzAefw4MT1GrKmhhTboaPo9EBfA3jZHNBClEAClay6Pu+IYKJmYYYMPfvODfN8l38f1U9cDnVbi/nEBOka7HKG642TuJHOJNnNgV3c8mbPVVRgZIWtmKQTEgOBBox2a1YpYSOyePbVTxpnV5cOrgb82OAFcKa8wEhzZsIyzFQnD1BSqBel8g3qmnaxGsxUS+RqMjaH7dKqNaofjGlNT8NGPOnbPThgGkabmCT5OF4T8ZDomFonbjsjN7P77xWLcFfaAZ380IcGeOCc9YE+CsJtPwouPidlWZy7pteh2IhZDL5k0mo2+JjZrlTXGStAYSYIClViwL9gLVhvtuVY7dwKwO6t0JIva6XkKYf+GrZp1n05epwOAu6OH2Rsg41wuLTtzFQ/VFzF9ipATrgP2ymaR8SJok1NOsm82TadnD3CYva327D23+hw/+4WfpdlqUqwVSbZ0kWBJsJfIVPozey6zBuuyAU6c4Jz3aH2wRLJ+Rrr+ra2Rbum9zF6rq2fPH6algmUYVPMusHcWzN5krrU+2CstMBGZcGQzfZm9xUUKiaAD9i5ZWQfsVSqYetthrkfGiQB7BaWOVe1/zZ9cfJLl8rLDnHWHG+xVbTAWCkEs5owyKdfLolfru98le0aA8EwQjueOO9/v58QJskhEu2jkFc+sPMNYeIx0KM11GZFMxSpiTegGe75ShaaqtB00CwXnvNjX2u7ZS50STEN21tt9104aHUfOARJ9p0Jvg72jR5nwJTyZPcehOtZORK2ZHczkRT9qtFynEtui+52uYzSsgW6ctoxz7rTruXGtM2cKZ6g1a+xUZEIrwZ6eEMqW3Gr7vrCfvYmj8nNvBOzJXu1m1bv4dDIvwN5MbIa5+JwjJfZi9gyfIa5LF9jrGb+wICqMSxHBxmyU2dOqIufo17MXrcjXZfIf3iUKqyef/ibVRpWHTj+Eb1XuSR7MXnOtkyXVCgVyuqt/yhU2a/Td5e8CMJ3ayUrcT3zR+9npcM2096hLhOX+beou7j92v7OGOTLOqgu8qiokEqSriii0/9EfwYc/jNk0mbZvlyfl2tGH2UsHRX/FQ9UjaBYcPfpYz884xTnTFKDU7tkD57ivGL+C8fB4e9abh4wzUgMsuPRjn4YjR7YG9uT6r3uMGOmYs+cGe/Z1XVpy1rq6fMZbrmfcYfbkOe4Ae9L9cl2wJ01aIktZb4MWWXTVF+V91QX2AH7jul8EBLNnlOsoltUr4wQ4cYJfu/3XGFWj7XP9nyAugL1tDk3VKBkqWrEzEbMTTqMO4XyFJZ9JsVbkx677Medn3MxeYELcrKPlwcO6s9Vsh322s1F7gTjJ7GWrWfIbYPYcK2wXs1dtVJ0EbC0gHriHJyFQ6+8wZv9OOrS+jNM2aLGikbZ0LA9mpp0wJrNVYnkTpITPbJpUG1V8qg+fOqBJPhgk1FQ9wcfpvAR7UsZ503NyQ15eFjKdrrDkYmzLOPWMOFc9wEJK+l46r/Pi4/CtHaAZAxaQeBytZRGqe8+8gTbYY3wCTdGE9KkP2DOqDWpBWUQIBmFykn15n3PdLcsivJQhP7bxRmTDZ1Dyg1L0BnEdYM9m9v7kT+AHfqDnZ1fKK86ojVzA4lDmsOPeNTDW1vBZ4Juc7mD2MpUMrWhYLNJnKeP8uyf/jt/79u/x9PLTNFoNRuWMPaanIZkksSZmNHVIpi1LMHu33QZAC/BdcvngN5KbdrjuPdTWCVfv1FxO6bmPzYbZKeOUSZIVDFKzrflVH5VGxVlTNszsjYxAIMBEvrkhZm8iMuFUpfsye0tLZGJ+8nKG3UjZG+zZvTdqxaSmt5/vHhknMBmdpOqD1oA5e7aJxHxx3vP7brBnFuRzFQ5DNIpP3vNmtSiA//w8X3zkHwChdLDZwvWYPRvs1fPZvj9zLHvMUW1ctiKS9YT8WN3rtr9sUgn6hMQqGgXTJGSJ82OvSdVGFd2nEz0uPndpp3cvqV2QK9Qk2Gs2oe59XzrMni3jbLXYv6qQqWacc2Efa02altmuqQC+mZ3syIuiZbzUohbdYiXdMAg0LGrNWg9AcTteB30Gu+er7UTVtc7Y/e87sN0gxHEG00JlU1xp3xf2Zxo5dEYUpy7egLnVOj17J3MnCflDpIIpksFkh1sltOfsOe6nGwF7cs2YD4siwYbAXjCIVqujtHqZPbtIGy7J+0HmBqGdgsVfOfQEIPZxIyPvUQ9mT8u285NirYivUKIQVFGV3pQ0EoigoPCxRz8GiP725ZEgqRXv3KWD2bOv79wcBINc3RghZ+Z45MwjACyWFlFQnOfKATPJJMmq7P9bXoYjRzDrLmbPfh7WkXF+pSjOh7LSq4IxG2YnILVlnOC89s6r38mJnz2Bpsq9xwPsRWuCFJj77T+BP/7jrYE9eR+p1V4VmQNK19a8mb3lZWevsY12LPd5kV+HpEeE2TDb64bt+TBAxgnt8QvBbBGjIVh4dzHc3jcDC3Kv8QB7e33iPhwNjzrXu0PGGY+LYz1+nP0j+8X4kQtg70IMiorhaw+zlmEvQD/8GBhmk4O3iYZuWzYIdPTsOWCv1Gn/2x05M+eMCoANMHtSxlnSFcHsDRjtEMjJRcjlxmkv9obPYFlvYPl8PDQNeq1/X6Hd2G67cdrH7RX1Zp1oTYI9uZiMljvnFs4tVNBaop9E1wSz51SYB0UwSLjpPXqhg9mzLK55Zo0nZ6Wk6P77e37esqU44TCMjKBnC2B5AHMJ9m472uLqBfj6XGdy2hNyYYzUvGfeQBvsqeMTxPQYxXB/GWeo2sQMtosI7NrFnqziFAMWigtMZprUJ72r/F6hazrFAI4VfnfY5zfoC7aZvT/8Q/jMZ3pYUreMsxCAAysHNgT2fMvinlImJhwwUG1UyVQzJIMpwe6ePk3Q7z1oeSPx7KoYZ2HL6VL2n0mJvx9bFUlbB/ipVIQs5ZprqId0jiUglhpsye4we7X+/XCWZeFfacuWZjK9jra1Zo2Ay3rarra2gjr1onjeZmIzjozzg1+AuT/8242BPUWB6WkmspsAe9JcYBCztxzViMRGaPp9xKveYM/utQiYDRoBF9jrw+yZGgNlnLYxROrTX4Lv+76e77tBoG3QooQE2LMLHI2cfN7m57nvsU8BAuwdz7qYvQE9ewE5GL5R6n+fn8idcFQbe+bFumInKd3FvEDFbD/nXfKubhln6NgZcjqoY739UYBj4e4we9CX3etg9vzieuxeEOfefm5ssFKX44jUaBvsqbOzzOVVDmUOkaxCLb5Fq3NdJ1AXe1D3fulWfUznIFptCQkudKwztrP1ZFMmeDJJDMvnt7TWNgSxP1PiueOCNepWkXgeo7hPm2VvsHcif4KZ2AyKopA0kh0GJtBm9px9bqNgT1E4bYiEfd09EhxQqje9mT2/6m/nBrbhSjRK3lBIr1Wd4vOo/Si7wZ48pwnXNlmoFfAXypSC3nPhDJ/Bp974KX7nrt/hT175J9y842YyoxFGV7zvSU+wF4/Djh3MlcQ9aks5j2aPMh2bJpCX18ReB5NJkhVZKFhZESBraUn0LMd7WavusMHeYVW8v7rWuz+bTVdxDjzBnqIoncZ97p4913PunM9HHukZPbChcMBeHxmn6nfyRydczJ5d2LKNdhQ3KJTHac8o7WD21hmoboct4wSIy33XXYhw3DgXlkT+4P78tsu0bK/YndwtXOaBjNHFJtuz9ixLXPNBLtrfY3EB7J2DMEMBp7fDjkq9gr8Bv/SgypMXxXnqEvHQ2IkMtJk9v+pHi0RpGAEBdPrIOM2GYLRsAAXrgL2VFYfZIxol1IBSub+MKJCXq7WL2bMfsInIBB95ARz+/f9B1gC9YfU0u9uxVhFJaiqYGnx8uIaqR6IOyExV6JBx7puXWYyUcdrnYSCIAggGCdYVbxmnm9k7dIj0aoW/uV4XFaevfrX3b9l9LOEwpFKotTqhuodBSzZL1a+QytfRLPjanGsoq1e4Nu1+vZqrpRXGi+CfnCZuxMmHtL5unEHTNcQYYPdu5tba9twH1w6yIw/a7M7+x9QVuk+nFAC1NBjs2cxeaCkDjz8uEvCu/p/lclvGWdAlwJIGE4PCAT7j4x3MXraaFX0pMzNw4sRZMXsHVg4A7VlnKfuRdsCeOMYOUO4aPHvi2r18fY6O59MzJNgL1/sD/NXKKulCE0s2x0+t1T179mJNn9ioXMxeI2TQLBaJBqIkg0lHxvmmp2Dyd/4YzpzpGbvgGdPTjGfrGwJ7k5FJ4nrcmbnWE80mrKywGGoxGhmjEYuQ6Af2wmKNDDagbrjUD149e9FJTB8otf59zjZjMnv/Y/DP/wzznQxfR8+e7HXUIsL4RMmLoo7ttmwtLLBwQrr7JRJtZq82mNnT5WD4Vp/7vGW1OJE7wWxsFvJ5RlbEeUmbKj7V18PsBcs1aqFOsGf3yNhrkr1G6oePcTANY5E+YE+qQ/Jmfn2w52b2rrsOFIUdp8VnOpzpHBPRkFV/X9yVCM7MkCq3ODF/gGQFmvFNMhJ2GAb+RufntaPaqKIpGj7Vx655+T0PsHcsewwFhVRdFhTkM6ElxPFWV9uGIPZnCh84AldtzMUYaczV6iMxPpk7yUxcJL1JI+nMzLOBvd2z5ySnG5VxptOs1LKkgqm+7rAdIU1fjEYvs1esFQkHwijZrAD3LuZjKeFnugC377qdy0YvY9RentxgT9MohfxOsj0WHqNYK6KXqpRDrtFTXfG6S17H+1/4ft593bvRVI38aJzxTN2zxaLDjdO+vrEYTE9jLCyzN7WXxxaErPJY9hg7Ezt7Z40mk8QrFlal7OxZwWcPk6xC9eYb2m+2DrO3Kk+Pby3b8zO1Zk0co5vZs1sp+vXJunv25Ln3BHubZfbkNVc91s16S/bsdYM9N7NnFxZtsBdPtH9OnqOgzew1hcN6yCdlnJHIusVG96y95EpvkdX+2ndmsZPVgx6wtz+9n6R8BDvm7EF71p6tDLnA7F2IQVELBQh0zbCrNqq87QnYkW3xsXvGWSovoylah6yiu1JtJmOMDJBx2uyYLY2EAWCv2RTsTzpNpprBnxDvW830qboDhl3tcjF7dkxEJnh2FB67dR8Ve43uI52yk6sRQkTvF03nfXv2GqaoSMdiHWCv5ppbeMm8fMi7ZJzrgj3DINjwtng/XThN0kiKjVSCuy/M1eD22+FrX+sBskoX2ANIVrquVbMJuRxf3Sk2pIZP5Vs71mH2bGmG2V/GWVydx2iCMTlDXI+TCSp9mb2waVEPud5v1y4msg1mnjwBb3wjx488xlgZIrs3IEOSYfgMigHQyt7Xu7tn7/rHXfdYlzPZSnmFVEPcQLH0FM+tPrchZk9fyYovxsfxqT5URXXAXsJIiMG4R45s2aClZbV4dkUwezbYi5Vk4iPBXsQGe+7rJDcU4nH+9le/n3e9ps2U9A1bxjmA2TuVP8V4EUo7xsHnY3y16snsJeqyOi579gAaRgBKRcYj42LQdqNCtVoUBjeNhgDh6zF7ABMTpAqNgWCv0WqwXFpmIjKBoiiMhEac+X4dsboKrRZHAiVGQiM0Y9G+YM/u/QvV5WeR4SnjlMye2mz1HV5tJ8PJU/K+fOSRju+fKZxhR0z01do9e1pEGJ8ojQaRls8xG1HqdfbIRy8yvmPDPXvBuEiamkXv+3yptITZNAWzd0AUHeoqjNcDRAKRXrBXabSf864eGZvZNpuiZ089eIiZG+7kx2/4cc/3dpi9WqGd7GyE2ZudhV27GDnRfsZVRaXeEu7CTXnOfIlOsAdQPfwciSq0Eluca6Xr+GUrQTeTX21U2VUKwPg47/3v/yJetOe4udaZvJknHAgLt2xF6THCqGU7+8ySZQicWdyYEye0mb1+Ms78SWZiEuwFk9RbdYq1ovNMlOqlTgWLG+zJYxxp6r3M3sQEa9W1jUk4oc3sNXqZPcdUxO7fcoHHtWSQ6TzcNH0Tt87e6s3sAZWw7iTbO2I7KNaKGCWTSngD7KiM4kRKFJg9nGI9mb1YDPbsge9+l0viezm4KpyNHbDXPUMumSRebqJn289Z+mHRzlG79YXtN+sDqmJ6DE3RWJWXx5ftzXcc2f0AGWdPuGWcqkozHCJq4oBnB7RuUcbpq3q7ceqW5uSPTiSTYgzR0lK7sJhZo6FAIJpo/5w8lmCl7vy9ux8r8JY/fgCeeUasAesUIfya3zFei6+Ifdd9b9p7sDq/sC7YGwuPsUOy9x0yThBr2PHj7fXuAti7EIOiEQpiVDofmkqjwmsPwInxIPft01gsLjIaHu3QqNtgyq7c1VOJgTJOGzC5ZZwdEhx3ZLPCIlwye3pSNJ1Xs/3Bnt7F7Lllpna1/XjuOBVZCG32cRmzmb39f/GvqPe8govL4b4yzmaxgGaBEo1BLIalqqQqbS34iRhM2m/jknFulNkzGnj27J0pnBESznod/vZvyY9EeSJWpXnbrQKgdPXtORJGF9hLdYM9udF8dQ4aup8z+6epBFzzf7zCJc3ox+w1FgTzoE1OETfirBlWD9j74qEvkitnCNcsGl1gT7PgVz74H/CP/8jIX/8fAOJ7Lut/TF2hazolP6j1umcvj11Zt5m9W55yXesusLdcXma8FQS/n8mRnYIZ2QDYC67K74+PoyhieLUj4zSSAuwtLpJsBgbO2bv/2P1E/2e0Y4YWCHBlJ422HC1m96mkUjA5SXglj9Lqw+zF4+QaRUJ6eHAfKbSZvVp/p8tT+VOMl8CaHIeZGUZWRN+de8OrNWvEay6wZ2/Auh8qFcbCY0LWWq+gLC6hWdCckhbVGwF70Sih6mCDluXSMhYWE5EJ+Kd/4hMfL7LsBfZkj9d3WvPcs/ceWvHYhsBeyw32ZHHMzZSPhkep+WTi0EfKmalmwIKJM3KN9AB79iBzu2dPC0edZ3OsFcRyjda5pSjWx/j4nAP21uvZC0YSNJV272932AzhXHwOviuMKR6dhJSpEg1EO8Beo9UgbFpiNin0yKbcMs5I0wfHjzN+zYtIh1yJmyt6DFpgMLNnj14YG4NLLiF25LTz/bm4kKEWa0Ws5WVqKgTcs6t2Cwfgy46VUQFrswPV7dB1fI3Oz2uH2TS5btkHS0s89opreNvroLVbOli71hlHWpbLiTVIlXuzZCbqroJjsVbkKruFdoNgT5Hn0vKQv9eaNeYL88zGRe+Svaefyp9yfqZUK7WZVPBk9iYI81dP/BW/+Q8/RaGaF8ze+DiZSmbjYM/F7HWPcLILBj1mHUB+JMJ0AW7acRO3zt3KaAnqQb1HCleJGg4TNR2dplgrEizXMcPr7N/uvzElAaRt8OGKDrM2N9h7zWsgm+XeEwYH1w5Sa9Y4lT8l+mI9mL1ouUko284VRh8TxT+uuMLZ8/sxe4qikAwmiaXF+uqlgqk1a509ex4GLR3RanWCPcCKhInUYKzexYpukdnTap37ud2THivLfcYN9lRV9HK7mD0rs0bOgJBbwi7PkS4dXs16lf/+pRq3/Ovj8KUvrduvB53Mng323PuQvQerZ+bXBXuKonCxJqTZHQYtIJi9bNYxNroA9i7EwGhEQs5Ga0elXmG8CKsTUYr1EkvlJSeJsaO7Ut1IJwbKOB0bZD0uKlwHDhBfE4tKD7MnbfKr8TAtq0U4KW52e6C1VwQLcoPvw+yB6FGxmb1+4xfs3oORzwnG7NJyqP/Acrk4K/E4qCr1eETIe2SPzLERl67fZvY2IePUa62+zN5MeAre9jb4+td56IfvBgVK9oy0Y8c6ft6emdcN9jqqynIDWQrDwV/4YZ770dcDG2P2BvXstZbkQjQ2RlyPs6w3xEImmYynl5/m7r+9m7984A8BaIZcm61MrsKVBsTj3Pjph8TnsZ2oNhA2swd4yk3czF4Mgxc9W20nRB7M3khTh2iU2YRMljcA9sKZAnVNcRIO+z5wmL09wgp8bq05kNl7evlpirWik6TbYUs4g76gMyQ8UpTgO52GkRG0ZktcJy9mL5EgZ+Y6WPe+oWmg64RqVl8292TuJBNFYUjD3BypZbHhuT+bYPbkku7q2asZfrRKlfFwm9nzLQqwVfvV/w4vfGFb1jYowmGM2uCePbvfbSI0Br/8y9z2VIHiWu8suX/75t8CcN3V9/AzN/4MJOI9YK/eFJJRN9hrumZnOuul1n5NVVQU6XrYV2lQyTBRhLCc7+gF9ubicwS0gNPrqEVjTtIw3jQ6ZMbX5cR5Hpnay4ncCSzLWpfZCwcilPxg9enfsnv/ZuOz8PTTtAIBHp2EaKVFJBDp6Nkr1UpETTmuBtqV9Kq4TpV6Bf74j/m3/3aQi06WhfRt376+x9Zj0AKOFXx3VBoVIgTEWjc6CpdcgnHkBKo8tTZoLtaKaPMLnIlC0J0IXncdjYCP1x6Q/05tEewZBr56s/15XVFtVJkriOfi4R+5l7+5Cgq6LAi4wV7DBfbcsmaZrLakdBeglsvwoS9KI4obXLK+QSETx5ZHUfRM4QwWVpvZk31vtkOnqqidzF6jIf7rAns/uv+t3B26ip9/8x/wt//1lW1mr7LWYeQ2MNw9e10yTsdUpNuGHyiNJpgswnXjV/PSXS9l2gzQSPe+pxkJkqyKokLCSFA0C4TLDWqRjfdH1acFiGocO9L79xumI9vtAHsvexnEYtz20CLlepmHTj9Ey2p1MnsdYK9BONu+78efFD2d2vRM+/kZAKquGr+Ke64Se77iUSxxWNKNyjgfeEAAvkvb7s5KJEqkBhP1rpxiq8ye2bn/2DlIrChfHxnp/L3R0Y6ePfI5cjqdhS55LLpUu1mPPcpFa/DE3deK5+yaa9Y9PL/mp6hDPRIitiyuaUfPXqsu1px5D7BnA/Jcu0C3B3FfZoJ09rHaedCzEthf6Nm7EIPCioSFxMDFelQbVcZKYKbiFGtFFouLPWCvuwelkU4xWlpfxpmuKoIKv+QSUvuvZjrXH+wVouI9oqPigWgMAHuGDfbkAugF9o7ljjnMXjnfyY7Ykalm2L8MgWfEQOC9hUBfZs8eWaHGxHs2E3HRsyePM3SJ6I+wFAXS6c0xe4aBXm9Rb/UObz6dP80b/qMM//AP8L/+Fyd+4G4ACvbg+Fzn8WoVeU0ikf7MngR7mSDw0z+N/urXARvr2Yt2gwhXqEsSVI+NETfiLAXqHcf4j9/9RwAWFw4BckC9HZdcQkNT+cgr0vC2t5HKyOPdMWAcRFfYPXuAZwXSDfaue3Re9OS9/e3im14yzrofolHm4nOczJ3EikbXBXuRTJlMzO/IPxxmr+Ji9oDpZXMg2LOfE5t9tsOWcN6+63bntVC+IhIh294eeZ36MXtmrj3odr2IRAiZ6zN7+tQczM2RWBDv45Zy1po14qZMYl3Mnqn78FdqHcxeYF7cQ/6rrxFJxItetP4xhsMEzcFgzx6ofvFDR+CQuP9aXYPDT+dP83f3fRiAn3vNb4o+okSyB+zZX9uunsE6tILtZ9yrZw9ANeQGPYDZ2yeXKmtiogPsNVtNFooLTEWniAaiNIp5WoAeijnJ7VjN3+FEu+NUHiIRdqR2Uq6XWSwtkjfzbbt0jwgHwuIZ6tP3ahcf5hKC2WtctIfVIARLJlFfuIPZK9aKRGvQisr3c2RTskfGLMNv/RbTmSZv+WtpAe+eQdoVmzJoqVcYsT/C2BhcfDGKaTIrl0s32POfWeRUrCsRNAzWrtzH3eJWQU16s43rhq47iaqXjHM2r4CmkdwlEuWTVlZ8sx+z5wZ78nxWM8t88MEP8szid7n7A3/LlYvA3/99m+VZLyTY82L27J5xWz5sz8OzZ++NhkY7mT37etjFD7lvXKRP8dc3/AY+C8Y+/w2a82dgfJy1yiZknO6evUEyzi41wEVX3o6vBaFMkYnIBG8cu53gZK/xRi0WIlEVnzESiNAoF/E3LeqbcGJt7RD5i3nscM/3OnIBN9jTdXj1q9n79afwNeHLh78M0O7ZCwYdoEsqha9pMSL7wxgdFe6MgH92p3h+3FJfj/jy277Mb77y92gpoHq0PDgulxuVcX7iE+IYX/Uq5yU1FidWE/JuoP1cb5XZ6wZ7MgeJFlyFTneMjcHyMpqqoWs6Wr5IzqDTnCoQAF1HL4v1OPXpL1JX4cH3fb8oRnzgA+senq3iqE6MEJVgr5vZmyyrKM1mf7B38qRwBH/8cWasKA0FigEPGScIeSlcYPYuxDphP2iu6m+lUWG0LKSZxVqRpdKSI4W0o7tnzxpJC2ZvHRnn2Mk1kdi86U0ozSbXL/t6wZ5MsnNhgcxiI+KBaLqqld0RKpgUgppgHugEe/axH8sec5i9vmCvkuH1z7Q12TsLWt+ePUWeM01utpYEe+XVRQEqp4V7qTIyAprGjtgOViurPDr/6IaYPduxzZ1UNloNFkuL7Fltiabzn//5du+j0VsBBvBV5DUJh50kMFXpqirLamHWEBX6y8YuYyIywf70/v7HuAGDFnVJAibJ7C34zY73+6dn/gmApSVR9Wy5F6yxMX7ur97KB2/X4Y1vbL++CbDXwewNAnuLa3zfh7/Ek2NQ/4E3iG92yzhLy0zmWzA1xWx8lnqrTslQ1wV7sWyFbKwNmnVNp1gvUqgVOpi9qaXqQDfOfmDvwMoB4nqcG6dvbH/ufFkkdra9PR69lS5mL2/m1zdnsSMcJlTrL5GcXztOqgLq5CTMzRFayeFrClbnY498jA9980PUmjXGcvL3p6YcZqnqVwiYTQH2JLNnLEmzjB3rS2iciETwNyysPjb80AZ7c3/xz+0Xl9vX3LIsfvSzP8pIQRynf0rcd2oy1Rfs7TyaIaoGCdXBcoE9LzdOAGU9sFfJcJFcqqqve7UwqJGyneXyMk2rKcCeHsUqlij7wfAHneR2rB5AK7Tve382D8mkI1n8+yf/nlqzxk07+rOlQV9QjC/pw5idyJ3gknKY+BvfDp//PIGbX8SbXvSjqC2LUSvYAfYKtYJwtI10gj0nufrat+HoUVZDCvuelsB7ALMX9odRUNY1aLEsi0qjQsruZR0ddYosVxTFvecGe/riCqdjvbPUqi+6iZC8bbWRzv6uDYdhoNbFH+kujlYbVaZzFkxOsiMlrtHJ4hmxdm8E7MlkUSuU+fkv/zwP/PwbufTfn+VX7tFRXvGKDR+iGrZnpfWyNjZTa+873czeeGSccr1MuV4WTITNRNlgwzCErK5YdL73isMKWtWkPpoiU92EjNPds9eP2Vta6unFu+TqO8UXpwVwVZaXe34GoB6PkqwIqWokEEHLi3u5Ge1fHOkO/9gEZR80Ngr27JzsDW/AnytwxxH40pEvAbSZPTdTKb/esSjv+xvFPlDyg54chbe8Bd773oG9ZoqioKgqVb/SLg67wjmXdp4YDvcHe40G/NM/wStf2eE0qUQiJBo+Rmo+Aarsot0Wmb3uecl2DtKhanGHZPZAADx/sdLL7MnjCZSqKC2Y/vwDfHGPfNZ13XHxHRR27lkbSxFe9e7ZmytJ1qEb7Pl84tz+wR/AJz8J//qvTNR1sgageMg4wemTvgD2LsTAUKJiwbZcG0mzkBdueyNJas0aZwpn+jJ7Dq2cSBCuQ63PEFZbxpk4LRPVn/opAK7MBHrn7Elmby0kFqdwWjBzrQFDfUMlk3y43W/UV8Ypf6RS8GYJ1yprvPGAKuRiqRQzOauvjFORSZRP9nVYqZQwaMmukNdBm5A9RtIJ6qdu/Cnm4nMslhY3BPbsxczNiCwUF2hZLUbLipApKIqz6X5l9WEA5k8f6PhTvopJQ1PEAuti9kyzDD/+46LPRrI8VjxGOBAmFUwx//55Xrzzxf2P0dWz10/G6cy0Gh0lrsc545MbUibDgZUDPLX0FKqisrIgZCetroqplkqLZPGWW1iMaxTDgQ0PVId2zx7QX8ZpgfH2d+GvN3n9G6GUioiigQezN7ZahdlZx2Y+428K2VijP4OUyFWd+WwgFmzbCCQZTIrNOh5nfKlEuV7uO6C+L9hbPcDFIxc7c84AArlSu4rfT27rMmjJVrMbk3HKvxc0W32vefWM7E0ZH4fZWdSWxY68uI//4jt/wa99/deoNCqMZ+SmPDPjVFdPt3KE6sKFLOgTzF5wOUNDpe2otpGQ90ig0t/pcqG4wP5lCH79QXjtawEIZktO0vDAyQf4vwf/L68fuU1swjKp0lJpT7A3l4Hv/8Ff5z2P+8Rm5ZIkexm0AGhBuUEPYPauKoQwNVi4SwIyye7ZTpxT0Skx36tSFmDPZzjHOmJqNOV8vJad7CUSTr/VRx/+KH7Vz5277+x7nhRFoRpQ0MrehYjjueP86oMBlC99CX7t1+CDH2TvHiEXHG/oHWDv8fnvEK1BJC3H+NhgT16ni/7+yzA1xXu+Tz604+MD3VcVRWlLRQeAPbsImSrIpGtszAX2xDXYlxKgsmgWMBZXOR3tTQQDL73L+do/son70R267rAS3TJOs2kylW3BzIxzjbx6gzvs4CcmOv42fj+/eu3P8nP67bz975/msRvn+MvbNyk5HSDRs4/ZBsI2s2f3bo6Hx7GwyFQz4mc+9znxi7feKv6vKGJNKhYdZ2ajLta8Y3pVGMpsVMY5gNmrNqroakDI5aamOn/PTrIl2KMP2GvGIiSrAtBGAhH0kriPrNjGAUpUj3EyDtaJkz3fM5tmWz2Tz4vzLgvWvOxlWLEYb31a5aHTD6EqqmBTu5lK+azPLFTFub3uOvHRYqBpPrj7bvjf/3tDx1rVNXwea6bD7J04IQDPyIh43hSlF+zdf7/Y99/0ps7XIxHiDY2UqYpjlse56dEL8pr7uuYl2/tRpCDBqhezd/IkfPjDzFZ1jJJJ1vAAe7EY/nKVm05BdDHDJy7vLfoMCnutb4bDBGShvZvZm5FS7R6wB2K9s51GDx0ibWpkgqDQNdpiYkJcCxvsXZBxXohBYQ+NrWTaxgS+VVFta6ZFsmg2zV5mryt5UeTfafYZvGtLIcOnFtsL0ugol61pvWBKulathEVyEkqJ97Y8rL/f+9n3cv+x+4kUTDHDTUYHsydtuwu1gsPsVfPejpCcPs2VZ5piptXMDFOZZk9ybYcqwZ4mrXsVCfaauQx5HQJTkomQSWokEOFPX/2nwDq9cCDsuWVC4K7+2nPAEvmasznZYO8jT36MugqFpVMdf8pfrWHqcgMJh7H8wk46cGYBPvpRYekuwV4gvYkEZh1mL2/mieQqVKJBCASIG3FWdNkgs7bGp54WM79es/815FZF4mp1ATnbzc9SFD78kiD/cXv/Kr9XbITZ21/UUf7933nk3a/kuREoNSpio3CBPbNhUqwWSK4UYW7OYUaWffbgvd57005yU7k6hVT7cxk+g/mC6BdLGAnxPOzZw+hCjpbV6iuJtZ+TboOWZ1ee5eKRi0XVV4Y/V2iDPbeM0/23s1kBYkIhlkq9fbl9Yx2JZHNBjgcYH3eqjzuzgtlbLi+TrWY5vHZYAOdksqNn72D1FOE63Dp3qzN3MLycYymqtpOgDR4j4MiZvGKhuMAdC3KDfM97ADEsfaUsrrstV9tXj4nPIsGSLzWC0QSz2C4+leolLpa3y4uOSbAebF/zfsyeZvQHey2rRa6a4+p8iMNJOLonLY6hC+xNRiaJBqKoFZOSLfWRyWC6prEsCym1mbbBjV2sOLh2kNvmblvXhbWqa54VfxBFtNlyAPbvh1/5FXG/yfcfrfk7DLi+9tyX8LdgYqqzj8hfrjKXgdlvPY31oz/KP++pcXrfxIZGBUT16LoyThugJPLyfhgdFQoBn4/9eT9JI+nMWjRXFvFXa2Iwctest9TtrxCzEQH/ZtZKdxiGYxvvJeMcz9Zhxw4mI5NoiiYYMw+wN2b64PDhdtJsRyxGoGzyvr88wHIIfv/dVxJZz2W3K3xGiKaCZ/+jfcx2kmwDM9ugxd5vV8ur4vx98pNikPvll7f/SDQq1kzJ7FnSYObRlnjmNs3sefXsNU1GTU0kzpOTnb/nBnuW1RfsteJxwnUY8cWIBCLE7UdgI+NfZET1KBkDLA9lUg+z5zZRMQyUN76R7/+uRajaYjo6LfKap5921CCAA/bmlmtizZdM+EJs8ylzVdfwecyvcySxBw7A3r1i31BV8X42YLbjH/5B5Ab33NN1IqKkmzqzLbk+vOlN8F//68bHgdghn/NAF7Nn722hfB+w9+pXi/vgfe/jkx9dJVasCxlnd79yNIqvWOF6sbzy5T0egHBA2Gu9FQ7hl8C5u2dvpjgA7E1NCWOdm2+GQ4eIlupkpRNnxzgSVRUtUReYvQuxkbDnCJVX270qfjlnxRptN7j2GLR0JS824Gn1kVrmqjkUFIwTp8Umq+tw8cXsW271gr35eQiHWdbEQxuVVWClK6Gu1Css/fUf8Y1//zvCpTqFSBvgeTF7AIGwWEzNovdx6qelocjll8PsLOOZmvfsLUCVvTA+ORpCTY+KYdb5PIUAhKcl0+JiJO7cfScfvvvD/Mi1P+L5N50IBtHkYuY2vXGsmrPFHrD33NpB8jpYXT17gUod05AoV1FQUilGqyr6ogQNJ0+2wd6I9zwrzwgEaPm0vqMXjmaOMl4UDDEgRy/Ib2YyfPbgZ7l5x83cvONmgqZcDLskHZFAhJYljGo+eH2NL/7MKzd+fHT17HlVqRsVLs2JHyheISSreTMvKpcusLdSXmG0DL5aA2Znnar7oiqTtS4p58HVgyR+M8F/nPw2qUKDcqr9uQyf4UgIHXfa3btJzmcB73EbznHRyewVzAKnC6fZn97vgD1VUVEz2Y0xe/E4FnK4eNjFEAyKcBjDbPbv05SGKoyPO2Y3t5zAkYQDWFiMrlacvoOAFkBTNJatMqG6kBLbzF5sJc9ifB2X0O6Qn1mveB8jiM/8glVDbJJS+jRabhdUbMWBsZzpSBa1pGTys+2CUbleZrf857UnxAavugoX/Xr2fDYg9AB7eTOPhcXelSbPpeGUlRV9Lo+JXjb7PhgJjRDVo4Tq9DB7qapCzATTr2Lslj0yySTpYNpJYO7dd2/fc2RH1fCh9WFJT+ROMFpROg0RJNgbMbUOZu/hA18BQJPFQZuJ8pdM9svlqPGS27AU+MTv/rDoM1snYnpsXWbPBiixvDzPo6OieLBzJ3uzKruSu5y+xdYpwcCc7u7ZAwKROI/NSmfV0Q0+L92h6yiNJmrLw6ClLhnvmRk0VWMqOtUX7F1+Un6WbtOVWAwOHmTmwDy//wL4ZvXgwJ5Mr/Bpfsp+PMGevT4l/v1hePObidVEAurIOGVhOFPNMF6wxDigN76xU0bYxezx0pcC8HVT9MpvS89ew2TSThm6wd7YmLj+p0+LfaFa9QZ7SXGfTjVDAuzJU94xm22diOkxUXD0KDYOBHsA73wnoZrFG74rJZyrq8KQ44WukQo22FttdMiTN71mArWAD3+fkQYBLSDee7+rteOWWwST546HHoLbbutlmiIRpohytbFTrA+pFPz6r29IGtkR8pr7u5g9u+AczlcEGO2Wh955Jxw5Ap/8JPsWakznLW8ZZyyGr1RhZ1b0kC+FNwn2tDbY8/Vh9qZlX66nWuWf/1k8M5ddBocOoWZzmJGQN0EwN9cuNF8AexdiUAQSovrhZvaMNekyOdZO/Me7htp2Jy822LP69C/lzBxRPYpy+IizGHHxxexeqPXIOJcOP8FCpN3wHRsVvTJasTNZX5s/wj9+El788fuJluqUw+uDvXRa/C2z5C0J9S/LjGNiAmZnSS0XyZt5T+MZTbpc2p/dNzJKogr+Qom8DrGZveIHuzaRn77xp3n1/ld7vr8TwSCaZCXc7+2AvbVcD9gDyOmgdF2DgNmgZrgW1FSKkaoqkliAU6cgk6GpQCS1iQRGUWiGQ32ZvaPZo4yV2vdR3IiTsderTIaDqwe5euJq5hJzAiQjZKTusBmHlfKKcHB0je7YSPhV/7oGLRdnxaY4ftUtKCi84R/fQDke6gF7tpEDs7NE9ShJI8lp5L3bdc6fXX2WptXk2YPfwt+iB+zZ8xwdudKePcTnM6itDYC9ahvs2dKpXcldTEWn8Kk+ooEoytpau7Lp0bP3pcNf4v7vfJpmLOrc3+7nZGBEIgSrLc9not6sE1xrj5pgbIzSNZfxqucEOPm+b+X5Eekxkl4uO2DPluOVAuBvAfU6QX+QptUktlpiJRHoea+BYcs4PRIXOxaKC1yxYInCTjJJy+9jpIxT3LEZKf/yaqdUzpZQ2QY3dIK92WXxLCjhdoLdT8bpD8n7wsONM1MR98PoQoGDaQQbvHev47Zr3w9RPUo00AZ7QX9QbPx+P4kqxGoSXE22mT1FUZyCxb0XrQ/2arrPkyUtmAUy1QyJYsMT7KVM1QF7RzNHWV2STrLuRCwaRSuWGJfLu5mWQDCZ3JChSDQQXR/sSVAVzVVFkmX3PO3ezfXVNJ98/ScdQKRIpuKMh4wT4MEbJjiUhHBspOd7GwqZrOqNXnOyQL6EUWs5fcmz8VmxD8bjHWtMqVbikqPyhHUze9GoM3/1y3sE899hQrGB8Gt+2ac54Fx+9svwiU+g/cCbSPtizn7tXkdueuiMcGV091xDG+xlMhAOo7zjHVQCKv9afRzYArPn1bPXNBnPSyVJN9jTNPHa6dNt63qPxFuRcxZf+J1Vbv+tf3D2Kbvgs5GIBqKUAq55t13H6Iw38gJ7N9/M0o4U7/yOBHvf+pbzuhO2y3MD8QzK/Gp5K2DP8HmumWbDJIhfMMkXX9z+xh13CABlO4BbFhw92sk82mFf82x2Y+Nz+oV8zvW61TFuwy5kBvNlsff161F8/et59GKxxuS8ZJzRKFqhxM4sLI+GQOll+AdFm9kLe4O9Vp3pgiX2FC+1yo4d4pru3StMYU6exEom+oM9Oy6AvQsxKAJyhp2ZaSe2RkYaj4y3F8j1Ri/4YnLzLPbK2UD07MX1uFgY7IXg4otJFOuoq+3kNW/mOfj0v3NQL/Hhb38YBYV4fIy6pqAVO5Pg6kMPogKXPnaSWKlBKdI2wXCD0aAv6MwPG02LBKfeZ0BwaFlm9BLsBYtVolU8hy377OOxm+LTo6jA+FqdvA7xnfvFgtO90WwkgkG0egO15Q32/B5gT1M0cka7l9AOo9qg3gX20lWV0JLMTiWzlzcURiKbkya1JNjz6t86kjnCWAn0KeFyljASDrNnLi+wWlllZ2Inc/E5ZuRpb0x2Ag47AbMlQpsFe4qiiPlJ0Ldnb98qEAxy5bV388Uf/CJLpSW+UX6mA+wtl5c7wB4I98HjljyH+TxPLD7BAyceAGBt8Tgf+wxYj4g+SjPdPm73ou1m9rR6g+l8b7XfDi9mz34tYSTQVI3Z+CwJLSw2CTt56WL2fuvff4u7/+ZuistnKARVh2XcMNiTzJ4XKF0uLzNm337jAuSXX34nN56G/OMP8fufg//2DbGUp1aKHXOLwoGwYBMASiVng02ulVlNriN79jhGWAfsFebZe7osZESKQjOVZLTUZvZskKItLHU+wzJRUXOdTMuubOff10LryzgDQQkIPZi9TDXDTE6wySfGdeaL85xKao6Fuw1GY7qQmIVrLmZPUSCR4IbgXm4fuUGoD1xgD4Qhyf70fseYZFDUjYDnubSdOCP5aifYkwlosqpQqpdoWS3uO3ofE/a94f7ZaBSlWGSyKtboalLOuhrkBOyKqB5d16DFZvYiubJ4b3su3e7dBI6fZE9qj7PW+OaFyqU8nkJTe5Oxb7zuWvb99Oaq/R0hAYrRoMfpObksT5Ac4D4Tn3F69nLLp5x1sFwvs+9IVkj2uhPnWAwaDVqpFI9NCBZ908ye6qPcD+zJc+k/cVqsLV/8Io99qMyXP1ri5hN0tHxc+81jcMklgqVwh5vZS6XgrW/l5z7+Jk5q4vPbfYDrxjrM3lheJtlee/D0tAB7T4nZpFxySc+PKBLUvfEj97HvH7/CnXJ6gq3m2UhE9SjFgGsEkivWZfYUhWOvewm3noDrClF48EEBENxsrtusZWQExsb4/Ksu4QvXbtBd2RV1w0/A7JXn15o1xpfKwrXdzezdcYf4/333if+vrgqmadeunr/RId3d6oxKAJ+PlqpgNDrzDruQaeRKvRJOdygKH/vBS2kocDpKbyEkFkMtCbB3Ji3yyK0xe2H8FROl1WvQMpFveUs43bFXkgXz8+zZfR2/+pJf7f0Z99y/Cz17F2JQBJMCMNSy7T6gUEYkxYHJ9s3Y16BFNq76bRvqAczehBoTEk0XswcweqL93r/wpV8gmTMxRxKsVlaJ6TFURaUS9OErdVa/7UR6ZK0qpHLRXrAX9ocd1gBgbERUQholb1AayRRpqVKSJB+kmTwsFnvnb/lKFdHXIB8yRS4wO/JQCwUE4/e5z8GP/qjnew0MV/XXDfbMpkmgAb5CqaMXUEHh7r13k9fl99x/ymxSN1yJUzJJqgIRe9j3qVO0MmtkdMuxjt9otMKhvqMXjmSOMFFS8E+I+2hXYhdVvxicnV8UjNTOxE5m47PM5GElCFqkV8YJbYnQZsEeQCMkP3sfZm/XaksUIFSVu/bcxY9d/2Mc95Wwupi9uaz8h7wvZuOzHG3Je7dQ4Fe+8iu8+1/fDYDxzf/gRx6De37n0wDURtqbmzuJdZIa+UzszmxSxilZcXu49M7ETq7M6mJTtntkXD17lUaFw7/9y7xJv45EFQpBbfNgLxLBqNap1Cs9ZjILxQXGS9AIGe1ZXfeK3o17fuXjROowm20xnYNQ0ewEe34X2CuXCfqDBGsQLTfIpja5kUmAa1T7G+coZ+aJFWqO1FQZGe1k9moFwoqOsuQN9pQuWd3uDDSS7V4e973cj9kLSGbP6sPs2X2AaztG+M7Cd/ij5c/jy+Yhnydv5vGpPnRN72D2nPdIJtnRDLPfPyHuAfszyETro/d+lC/84Bf6nh93NIIBdI9zeSJ3Aq0pGCkvZi9eFfdHqVbivqP3cXNenh/X/C07CZyq+Gj4VCoh73PVL6KBjffshTLFTgZn924BOLJZp3cnsCCuf2vK+3nYEZtBVdVOs4TNhFzbQy3VMS6zI7Uqn33J7M3EZjiVP0UlFCC3eII/fviPAXG/7Ty0Atdf3/v35fOu3HknsaA435sFe35VyDi9Zq7Z51I7fgJe/nL4sz/j2bkIVy3A2x/vVAGNLOS9j9EN9pJJUBT27WwzlFvp2fMaqj6SlfvSILD3+OOiOOLuKZShpcSebkZDWKrK9z8tXvcnN87qRgMC7PVzuRwI9oDm234QU4OX/8t34ZvfhKuv7mRxolGRswDZiB8UhY+//Qqe3b0VsBfA6AJ7dh/51LzMmdxg79JLRVHPBntHRX+wk+O5IxIRLO/8/Nkxe4pCQ/cTbHTmHba6aF2wByztm+Sin4I/v8ab2VMLRXZm4URSwI5NGbTIwh5ylmiw0SvjTJYtT9lwR9hgD5iavYz3XPee3p+5wOxdiI1GMCk2vnqunUCGc2VMv0oo0b4Z+/bsySHBfrtvrQto2JGr5thfkJuji9kDmDotkqZT+VP8yaN/ws6KzrXXvAIFxUmGzaCfQNf8l8BjT7ZlgUA52n4gHbAnqzb2ZpdOypl9HmDPsizimSrFpHTEsqurOW9mL1CqUNSVtlxASo58FtTtoat3373uwuMZMnEJNnqZPWdWlFwsVEXld172O3zg9g9QCvnwFzs36KDZpBF0gb1UimS5RXRFnoNMhsbJ42SCOCYFGw1rgIzzxMphUhULRTI8u5K7UBWVckSnvCSkUjsTOxmPjLMzr3Ai3lvNP1tmD6BhW+D3AXtzy7WOhXU8PM5yCMHsSTCTN/PM5qAVCTsb1Vx8jufqUgKUz7NWWeN0QXwu/2Gx6Y0sSatuV/+rJ7Mnn4k9GwB7boMW+zWb3f2lW36JX45JWZ49HF6yXJEarOUW+JN/sfjlb/lJmApZgy0xewGzQdPq7dtbKC4wUYSG6/MGrr2BkzHYcWyNVflYvOaIlBh1MXuq7cxWFrbtU/IWzY1s0rFNfmbdo0oNYj3afUquVdIgQBuf6OzZMwvsrIfFPeAh4/Tl2/dTuVZidwaqL3up85o/0gZ+dvKaDnWuBbr8mVq5dz3KVDPcfEqYV6xdMsfXjn+Ng1F5vo8fp1ArENNjKIri9OyV3GAvkRCSqUKhE+zJ45+KTnWY+gyKRtBA7+qRAQFIk1VQLKsT7MmkNVYWv1OsFfnG8W/w0sqESErcSYoEe+NllXzcoCqdMzcM9nQp4/T7BWM3gNkzMsXOJMtOSo8eRVM1gr4gwYVVMlEf6bi3IuPd172b333573aaJWwmJEAZ1aI9Y31GVuWxy71nNj6L2TQ5VF8kZgqFjGVZRNdKwizKa0i6PPfKXXc5rO1mwV7QHxTSwz4GLQHVj3L8uGBw3vUu/uf7ruUbc3DzaaVjjQ4Wq94sTjTalnHKffOKsSucb2+pZ89j9EIqVxPnw8vB2QZ7Tzwh1n+Pn2ldcjFf3Qlf+72fpXjt5aTkVqynNr5PRvUoJT/4PObXVRvVTjdOD7B33bX38ugrrmH/vzwoZJxuCSeAqtKS7Q9/dvLTfO7g58SoBE3v+VvrRSOoo9c6QbPNno2fzIoX3GBPUUS/5Ve+0pZwgjez5x7VcDZgD2gG/L3MnvxazxXXzbnC/jBHU1D3effsKcsrpKpwJC72/80we04RKNxW1HQbtIRq1vqu4m4pbL/z5V5HLzB7F2JQRNJiQ3O7aEZzVbKxgOPgFdNjvRXprp492+hF9ZDKgdik9mWkJMbeYOfmqAd8zM6LDW6xuIheFxX/1K5Led9N7+PWWWHXbIZ09EqdZqvpAK/4dw9x3y44OCb+rukB9uxNzmY+4kmRtLX6zA8aL1pU7J4Rm8HpA/b8pSpFw3VbuvpLrM3aCXeHDfbqvWBv1D50V9Lyczf/HNdOXks16Ed3yUUarQahGjRDruuXShGvWOhLbdCgfvdpsgabZvasaKSvjDN76pD4QlbSA1qAnYmd5IIqdTm8emdiJ6qisrvg52Scng3Kvm5nA/YUwxCVT497s2qWmF6udszymohMsBJCDD2VZjflepnZHFgzOxxwPxuf5Ywi/2Y+T7aaJW/mKdaKhI/Pk9PhRErcm62x9nl1nhnV13YCk5KOyUKvQ58dc8ey3PdxaK62GUdbymf3Nt615y5uXhP9Wk5vhabRDBpETcgvCEZ15skTpOoaq/76lsCev1IDq1dyOl+YFwDNZXUe1iN8VioFf/bl4v+/VZU27DPtQca3zt7KjXtvF/8olQhbPgfs5dPbC/ZO5E6IQdMgnM8Q8zDHK5rD7BXrRXZV5HPjZgakE5/fVdhqriwTN8G65mrWRsW18EXaidve1F4e+9HHuGt327of5AB0oOrRQ5ypZLj1ONSvuJT4qDhPxxLym8ePkzfzzvNhm0d0DN5NJkUyXSiIJLIL7G0mWkEDw+wFe5WGa1C5G+xJg4RwWZz/tcoaZwpnuGixIeRyqmvdlGBvrAT5mO6MSdgo2IsFYuI5UBSxbg5go/S1XC+zB6K9AHEew8tZTsfVnj51O64cv5KfvvGnN3RsniEByogW7ZFxjqyZNFXFKS7MxMR1f7R0iJgJBTNPvVXnmtMyIfdizWzAcNdd7EuLda3HcXCdCPqClP2g9unZ21kxRJ/pzp2AWJe/tQMuX7SISsMWtQVGP7AXiYj70pZxAleMy+cQZeMzP909ex6jF1KZav82iulpAbAefLCvI+TOnVfzY++/iJlXvInKnWIMUSEAkeDG3TgDWoCqoYme1y4lxLoyTvn7N//+P4uCSqXSac4iw5cSz149Gee/ffW/dY502EQ0DZ2g2cuQAoyeWhPPeHcf7R13iLaBp592nqO+Mk47zkbGiVAHBeudzJ79dSBbWBfs2eAtoAWcFh/3cSpNcS8ditY6fn4jYas4FJkDhmu9zN6GwF4k0i4y9jtfdrHU7xdr7n+SuAD2zkFEYyPUVWjl25tOPF+lEDccoNQ9dgE8ZElykerL7Jk5dmXkImJXLDSNtZk0e5ca1Jt18mbeadJncpIPvfxD/NXr/gqAetggWK7zBw/9AXs/spfK0hnip5Z5eAq+KP9cNdZ+IN0yTmiDPgfsVXorlplKhskC1EZTzjFYmsZsDhZLvTJOvWyKodp2uMGex6K9qXBVLN2D6s2GyZgH2LOjEtbRy22WrVgrEq7TSfGnUoSrTVLLJRojko1czQiwt2lmL+LJ7LWsFpXT0oxhvH3/7EvtY1VvYmXWCPqCDriczrU4EadHGrUdzJ7uN6jqPk9mL7acJ9CwOpm9yDgr9umSUs5KvcJsDpTZdiVtLj5H3t5PJdgDAXhSp1Z5Ng3veFWTP79aAAk7bDY8YSTa7EAgQDMcIlXxZvbqzTo3HTZ56TG44+FVRz7ZzewBolJ96aUdLmetSJhIDcrLgnlMHDnNSKHJks9kobiAX/VvvJoeiaA1WwSavce6UFxgOg/+uZ3OawEtwAdv1XjfvRp/fRW0UkkiX5dGAy5m7yP3fIQfuuXHxT8+/3m+/4U/wk89JP5ZGk1s7NhcxwgQrPYCFBC9ZlctgDk90QY/IyOMlq0Og5a5irwfPZi9QKGdCOsnxHn17bmIxT0CTPgjnWvA1RNX97BBoYjYxL3AXr64yk2ngBfdyu7kbgyfwewVchCxi9kDiKshpgp0FkxsZi+fF4nW5ZeLJOyaazzPyaBohYPCOKfW+ZxX6pUepYETySThkvj5g2sHsbCYOLnWKeEEB+ylSxaZqN8pbm2UmXCYPRDrXL9xARYEFlc6r6UH2IuuFDgRbm7cnXazIQFKWgn3gL2JTF0UNqRxw0xcgL2nzJOoQL2QpVwvc/0ZRAHr2mt7//4998AP/zDMzXFRamvMXsgfEmDPQ3pYaVTYV5Bri0zqk0aSb+0AzYLEU6LI54wp6Af2bGZPfn88PM5IaIS4EffslfSMQcxe0ySRqQwGeyAMWvqAvXQozbM/+SyXjV1G825Rqcrpmz+fjaCOatFTiDCbUsZpWX3BHiAYnLe/XXzdzeyBk3vs2HMNz6482wkiNxHNkCEMglxh7+3pkyud5ix23C4LdF/7mmD2Rka8B6W7C+Bnyey19IA3s2eBfwNgz84LPUGc6xo8HRZryVYMWhQ3s9fVsxc0WxubF2znJf3Anl0s/U8k4YQLYO+cRFSPUQjA6BOH4N/+DVot4oU6hXiw3efmMX9LUzReuuulvGD6BfIPyWp2yVuClqvmmFmuiwfJBYpyOye5bFmwankz327gn+jcaBvhIKFqk88f+jyFWoHVB74MwCNT8H/2iQcpN9autnUze46MMyLMXiyPhCBTzTBRdLEwPh/K9DS7i74OZu/fjvwbL/3Ll2JkChRCrk3J9UDa8wu3HANknKP9kisEKA6V604FMVfNEa7RudDK879nDY7ta/+NrTB7SiTiOXphobhAMi9fc1XSL0pfxLy/ipbLszOxUyS/+TyRcmOgjPNsevYMn0HV0DyZvdF52XflYvbGw71gr1wvM5vvAnuJufYMv3zeSdzOFM4wOS8cFO/fBT/8Wgi5msDtTbj7szSTCdIVb4OWQq3g2Ii/+fEWpXrJeR3aDCggwF5X8mL3VlaWzjivBRoWp9USC6UFJiITG5elyU0qXOtlIRcK8+wogLZjtuP1lbEIH76hie7TUa68SiQ9tiOeO+xN68/+DM2s8QbZI1MZ22QlWB6jFxsFYjbclYtgXdmWjjE6SrzcIlNo9+xNl2W11H2cwSB1TcFwyaWNk2K2YGDfxaztFf1WgUhi3cMMyp8xy729zsGnDhBqgP/Ft/PLL/plnnzvk0zvuYaqjzazJxnd8VwDzYIzKV/7OrqZvWhUPIdHjmx+rhVg2cPfu56hvsweQCJBsCgKVc8sP0OsCpHFTF+wN1Jskon42o7Dm+jZqzVrYkTNAGZvtCT7ptysQzwu1sPDh+E732G8GSSxUuREpNmX2TvrkAAlpYZ7evYmcw1yo+1k02b27KJSM5uhXC9zwxnI7pr0Thhf9zr40z8FcJi9Lck4/aB6zFyrNCrszcl9TzJ7SSPJQxI7RR/7rnhtI2BvddXZjxRF4YqxKzZedAIISIVRF7NnWRZmwyS+Vlof7EFb8j4g9OtvZDEsHBw3ez6bIQkWup6faqMqihrlsuhnG1Qk/uAH4V/+xTnnHWEbIu3YR6le4mjm6JZknK1gkHCNjl5se/RT8sRSp4TTjl27hJLjG98Q64tXvx50AsCzlXEaAYKNziJzrVkjXAO1Vl8f7Mn92JPxdh3nc1I2v5U5e4r8O+F6L7MXrG0T2DMMUUy/APYuxHqh+3Tu26sy8/gxuOsu+MQnhNlJIuQ8CF6bnqIo3Pf2+3jdJa8TL/j9VH3CtKQ7LMsiW80ysVQWC4Erqcxdto9dWSiePkrOzLXn4nSBvWY4TLQGXz/+dQDMbz8IwCOT8NXdsO+n4Mz+tnSsX8/eSGgEM6CiVHuPM1NaFcyi2xFyZoZL1zRWcvPOS5997rPcf+SrzBzLcHDa9ZC5Hkh/Ygt9eu7YpIzTjnokhK9pOVbuOTNHuA5a1LWJyM1VBf4t3U4yM4Y3sB8Y0agns2c7cQIdYG9fah/LgSb+XLHdL3RSALmTsd5q/rYwe5pOWVc9mb2pBfnaOsxerZgTYyRcGvmJyASWCrWQTiuXddwbF1aOMZmpc3yszVK6Nws7iXXGLsiwUom+zF7ezDMpD/XWE5A78LjzuuEzHKadlRU4c6YnebEigoFtrHbOjDypFDiVP7VxCSd09AB2H2tx8YSwAJcGE86vyOdwLDyGYh/b9HSv9MTeAA8dInvzNRxOQj6wBaZcPj/9wN7JzHH2r4J+hYvlkmClJWWyxVqRqaJcq9zrkaJQDgcwilUeX3icTz39KcKnRDFI27OXE3fewBf2gH/G1U/R7zDDCQBqHj3EY4+JmWPKi15EVI+yN7WXWCjBiRhYx45SMNvM3uiKWM8W0p1GTA6zd5ZKA8W+Ll1Fsg5mzwPs6ZL9PLB6gEvsW6/bmVGCvWShyWpU3TzYk4DXGb/Qp2dvZ1b+o1titns3/NmfwTXX8Fe/e4x4sc6pmLeiZVtCMntJgh09ey2rxXTWojiWcF4bCY1g+AwH7Fm5HOVaievPQOYyD3v7rtiX2iLYkzJO2zreHZV6pe08a4O9YJK1EBwfNzAeFmtT0r4M/cCeZQkXWtf3f/Ulv8pv3flbGz9QRcHS9Z6h6o1Ww+ltdEvKO8IN9jZQAIkYMX7rFviHyzZ/PlthCfa69iCHgbPNngY9p4kEvOpV3t+z2dGd4tk6nju+JRmnFQoSakCt3mkKl6hAaK3gDfYUBW69VYC9o0e9JZzQWXA+SxlnS9cFs9cl43TWog3KOAcxe2U/LIdFu4Wzv24g7J9VpUFXd89eq14TaqLtAHsgWN//RP16cA7BnqIof64oypKiKE+5XkspivJlRVEOyv8n5euKoigfURTlkKIoTyiK4qGj+N6Kn3h7mp/9ux8S4OHznydVbFJJRtFUjZA/xFhoYwCgpKv4S72yj3K9TNNqMrJY6Kn6lK8TlfXWNx8cyOxZ0TBR09Vo/+BDzI8Gychn9VCajgeyp2dPJgTpUJpaQEPx2MSKCyfwt8A31e4j4tZbufq4ye+895/hAWGrf2DlALuyEDfh4KzrgfX7KRmi4qlvwq3LM1zylG43ztEyWO5ZUa5oRuXxyF6zfCUrwJ7LLML9ew/452lKKWfW6DWQWC+UaMyzZ+9o5qg32EvvYy0IiVKTnXGZDJ8QfWQn4r0Jnn3d5gvz6Jq+JWmK4TMoB7x79qYXq9QCWsfGHw1EKdrOrhLsGfMyU3XJDu0KtBnSqblGl5SeeQLVguae9r3uloH0Y/ZIp0mXB4C9AqymxQ2v/P0nACE17GH1oCd5sSLi+WmtiT7Nluw7yxgWj80/tjmwZ/ci1HtZSEsC925babtwNBoebR/bbCf7B3RUKDOvfyUv/iF41VsguFmbe1XFNPyEuvpP7Fg9fRB/CxT3ccriiSZHwRTMAuOFlnhe9M7EqRLRCZXq/N0fvpfH3/cm4scWWA4rEImw+47X86u/dCMT6fXBXjgq7qG6h0HL7BMnOD7i72Am4nqc4wloHTva0bOXXBLJ4tKIa9NPJKDREADNS1a1ibAlSc1CJwNZaVQYr8ituTvBSiQISFn/gZUDXGqDPS9mL58nZDZZDrWZhA2PXpDnwHHk7MPsdQMUJ+65R8jTfvmX2Sn7x0/HvIuc2xLyXkqowQ4ZZ61ZY6IIldH2Wq0oCjOxGaddQCkUqB87wngJCld5SOq64rKxy7hx+kZumPIwchkQmqpRDaj4PGYrVhoVZjOWWNfl82oXrp7dm0D7j4fBwplJ1xfs2eFS+tw2dxuvv/T1mzpWy9B7mD2zaRIzwW/W12f2EgnvtagrAlqAP3iRn197yebBnvN5u/Ygx41zSSqHugsmGw15jmd2t4tXW2H2LMlAVgsZ57Vas9Z2ou7H2t16qzC7OXy4/89sp4zTCIievS4ZZ9q+585GxinXylNJbdMz9qDN7KmywN7ds6fZRj0bAXsvepFQH8wN2Euuu64/wP4ejXPJ7H0cuLvrtV8C7rMsax9wn/w3wD3APvnfe4CPnsPjOi+xJ7WH71SPiEbbz32OUB2qSXHD/9G9f8RPvuAnN/R3SkGtxzET2rOEoquFniSwfu1VNBTQvv0fDtizFKV3wGkkhuyV5e6DMP2N7/C5G5MdPV6O5S0ePXv+CJqiEdfjNAJ+T3lK7ZToMdN3uB6sX/91fu0XbhS24x8Vl/rAygHeqwr56pl9nUlyKSJHUqTOMlEYIOMcLyuiB0ztfSRaMZnUyUph8DOfF69f7KrIuTbX+UgbQNRjod5m5XVCjUaJ1KHe6Dyfx7LHGCuBFQg4hhYgZJzPjIoxAFdV5OsS7L31Fb/IZWOdVX9d09EUDQtr47OXuuLqiatZVso0Cr19UXPLNdYmkx3nUlEUNDkI3gZ74QVpZtM1KiCgBagEfTSy7c0x/10xNTx8eXvjdW8qdhLb/XmU1AipirdBS66aY7IIixfP8PVZiH3qX8V71fKd/XqPi6p6T6VaGumQEcfZetmd4u/qsFpZ3RKzF/Zg9uwZZYOYPYd1dJmzOOECe7WX3cHpOHx95+asr+2oBwOEar2W7ADF09JIwNVPaidafjkUvlArMJJreCaL1bBBuFTj5X//H3zgyw1u+sqznEyL9efGHTfyrR/51oaOORwVSUm90sU6WxYXHVjiyYs65eBxI87xOHD8REfPXmJR3NsrI95Kg7MFe6r8/WputeP1Sr3CRMUn7onu6nIyiS8vkttnlp/h6jU/lmH0gq1o1JGdL4XZNLNnF10WS4sbY/a63/8DH4Ann4Tf+A1+96dvIB+Ax8fPIbMnC3lxjA4ZZ7VeIVyHVlcSeMnoJezYIQCyWiiiPfIoAJWruhhSjwj5Q3zrR77FLbO3bPow64YPv8dsxUq9wsxqoyPBtAtXR/aPoSwscHHJGCzj3EazDgJ6z1B1s2E65k59wV44LPamK6/sP4C7K2yQt9kh9XaxxIvZ0zUdjsv+9kFJ/aCQ53Bs7lKn+LEVZs92kDTzbXd2s2GSsK9ltzmLHbfe2v66H/DYRhmnDfC7Ry+kN8jsOTJOr+soj/O0XM83O0/Tk9lzFSJ8du65EbD34hcLdcagIsBHPiJGfP0ninMG9izL+jqw1vXya4C/lF//JfBa1+t/ZYn4FpBQFGULU7OHJ66bvI5H5x+l9dKXCncswEyJJONtV72tJwHvF2VDI1DurQTmqjlCNdCLlR5JRSQxxuMTEHrkcfJmnumyijI62iPvUmIxoiZcEZjhY59VmJ9N8cHbDfYk21IWL2bPBnsv2fkSXn/p61HkjBaf2XuczXlhshCacVWmVJWTt17JE1MaHD5MuV7mRO4ENy0FsHw+PvBT/6fjb5SiYiMPp8+yud8l4zRdQMpsmKKS3mdGi2X3CuZyUK9z0Yf+gqdGofn617V/yLVg18dHOBUTG51t37yZ0KLy/boqlsvlZWaqAZSxsY6NdDY+y2Mz4tpeeVzuICdPgqbxE6/5/1CVzsfcPSNxKxJOgNdf+noKPovc6pmO14VsqkV+ojfZiKQmqPkUB+xFFySYc4E9RVFIB9MUDY1mrg32ms8dAGDqmhc7r7kTf4fZ0zs/jzYyQnqAjHOqAMrUJP94GUQOHoeDBwWzp3cxexMTvfdHJEq0BlpOZEDaq14D4Ay53wqzF/Ho2QstymW0D7M3Fh4TMj5d75DOtn9QboA33IBvqg0YN1tdBTEzKlzvdekDaMhnvaOoJM9ZJFeh3qxTrBVJ58welQFALRokVmxw/YkGT41CCzg6uXnWORpO0lSgUelinUslEoU6CzOdyVVcj3MsAdrSMmYx13bjnF9lIQxa0JVAuBOqs5RxamHxPmauc5t0mD2vZCSRQM23gfPVawGUSy5xzEeccCWBi6HWpsHejTtuBOBrx742mNnLgJVODwS+T926n8QvwWNTm3wmNhOS2YtbOgWz4BQjqqUcmtVmV+z4i9f8Bb/+2t8HQCuWCDz2JDUVGldsbF/eatR0v3CzbXUWS8r1MlOrZgdotgtXqzvF83RpTl9fxmlHPwCx0ejD7E2uB/YA3vUu+KEf2vBbRQIRDJ+x6aKo3b/lBnuWZbUNWmTBcyMMo2e8/vXwi7+IEotx8YhgfLfC7Cmy2FYrZJ3Xas1aG+z1A2mXX97+3nlg9ixdF3P2uoaqbwuzJ9fKrQxUh3buqUmDru6ePX9F5p4bAXsbCZ/P6V39zxLnu2dv3LIsu1FrAbDLfNPASdfPnZKv9YSiKO9RFOVhRVEeXl5e9vqRoYjrp66nWCty+Pr2Q9pIb77aVjV8HU6QdmSr2fbC2wX2YnqMb+6A2OPPUihn2VHyeSZXajyBCvzPh6JM5S0+8p6rmK+vOQ3o0Onk2C3jfPMVb+YTrxfSt6YRwGf2VixZEBb0wR2dlanx8DgH4jWsQ4c4uCpc5fYcL6BcfjmjqU4GoyLHP0RG+vQJbDQk2Iu0tB5mb6yk9AV7atwF9j72MaInFvmlOyEecm2ors11dN9VPBcS4EJJbn7TtaUKSrEzWV0przBV8fUwtD7VR3n/bio+2HlQPhMnToj7oo91sA1mtgr2bpm5hUZIp5zpHJ9RbVSJ1qAZ6V3Mx6MTZMIayOc2vpSjpdDDWKWCKQoGIN1sNUUjfnyJpRBM7rjYMbzx7NnrYvbU9Khg9sxeuWmxsEq6AvqOnfyLTdL+y790SPkAUSH2AFFKNErUFHOvSn5Q3vQmKn/we3xD5hZbYvbqncC0WCsysmYKl8CuZ9iuoI6GRsW9/eCD8HM/1/u3o1Hx97//+z0B8maiHtRFn6JrowWRvGjLkqFy358SsIyUxZpVMAvE+1i316Jhrl6AWA0+9BKdy34C/uANm0/UYnoMU4NmtzuwLJ4osU5gEjeEjBMgtVxymL3gmSWOJ7rO0zYye3ZRx3TJu0AatFSUAWCvgCqxwv7Fphi70B2uYztjNDYN9iYiE1w+djn3Hb1vILO3K6egrCN3igQiWKqw/9+sM/GGQzJ7MXQsLGd8ip1gK6HOJDAVTJEcF4yPv1gh/PjTPDneNvc5V1E35H5a7VTrmLUyo6udRje2jLMu52vOVPzrG7Qw4PubCdmz52bwq42q0+M8EOx96EPwzndu+K0igcjmJZy0E393UdQZAu4zxLqt672Kpo3GtdfCb/4mKAr7R8QGsSWwJ9moWr79nJtNc32wp6pwi2SPN9Kzd7ZgLxjs7dlr1jfM7A3s2ZPr0YKUxG9WVWIrzDRZeO/u2dt2sPefMJ43gxZLWBNZ6/5g7+/9iWVZ11uWdf1on+R8GOL6KTGr51vqGZp7BVO2FbBXCfkJVjyYPTPXd+GN6TG+tQP8FZP4oZNMlnoTRYCAHNp+x1eP851Lktw3ViRbzbI32U5s3TJOe6HrYD1ktAwdf63ZI+/SlkRir3QB0rHwGIeSoKyscOjYo2DByIETnrbXphz/kBjbYoXODjshaPk9DFqsvmBPk+epkV2Dj3+c+Yt38H8v6rLmj8edmVT7dl3PEwGxsNuzejYTjutoF9hbrawyXvKQ4wK7x/bz6CSknzwsXjh5cmBF82yZPU3VGBmdwyoWOsBJuV4mXBNOld0xHh5nPoroQwCSywVWEoGOcQYgehyzAQvyImHbl97H3lWL59LivtkRE+DQC+x1fx4lnUazOseg2NE4IwxqInP7OJGAxb2T8JnPdEj5AJif93x+lIgw0klWoBDygd9P8Cd+hrCc87ZVgxZ3z95icZHpAlRT8Z7z1MHsgXh2vDZ8XYdnnoH3v7+DzduKjLMR1Hv6JQBO5k62TY48wN5oGeaL8zRbTaJrRc9ksRmLEJDLh+/W23huBGrJzbNnkUAE0wfNbsMoyQD43L22yJ49+dLObHt985+a53h3z+s2gj2/BHvuJBDEepQuW33BHsBIzYdRh/HVqrfBg+vY5oONTY9eALhj1x1848Q3aBqBvsze7izeToaucFybQ+lNszcbDsnsRVri79ttDnVbZh72ABOSbYhWLeJPPsd/TG2ecdhsNG2w12XKE10p4G9ansxeY1zsSztKGsmKsMj3NI/YVmbP6Bm9YDbMvgXms4mtgj1fNCG+cDF7zn3u00XBc3Z2w3LSQXFx+uL2391kaPLe4RSoIAAATTdJREFUc7c8bIjZA+ECOz3tLc8HkdNomtg/uvaHTYeuE6z3unEO7BN1xUA3ztlZ+Jmf4f7rBGDc7HP2wpkXcu++ewkmxJrYvQf5qxfA3npxvsHeoi3PlP+3aYHTgPtu3iFf+56Ni0cuJuQP8cj8I5i3C+11a3TziX81GMCo9A4xzlVzbf1818IbDUT5pjyb00+fFIYIHsnV7LSQrBi5Eo+9eD/fXRb2zruSu9AUIQtyyzjDgTAff83HeduVb+v5W5ZhEKxDqdYJUPSlDKWA0rkRIRr1D8n9aPWph9iRB/9qxnNelRkXv5s8W7AnN8hoy9dj0JIeAPZ8kp2rri7Cc89x/KIxx2jHCU0Ti/bUFFdPXsOzSZG1KhOb3xRteYpW6mX2Roqtzp4oGddOXstTO0P4v/OEMJA4caL/BsHZgz2AHVMXEzItPn/w885r5XpZzCD0AHsTkQkOxhtYR48CMLJSZiXdm7Skg2ky/gZaUSREl6QvZv8qHEyL+8YGe14GLd1unHY1Ul3rTKgBrDNCghqdu4igL8gTN+6EBx5AW82wo+xrD+tdWPBmxmNxojVhh16MtJ8T29p9SwYtXT17C8UFduShPtUL8Dt69taLmRnw+ToA3lZknI2g3iOhATFQfawElqp2JpqBAPVIiJGy+JmYCf5aw/N8NuPivl9LBdl7zR3A1pJvVVGp+RSsamdCbdlgL5boeN3N7O3OyCKOZaGdPN3L7G2jjNMvj6PukneBAFGpUssb7Mk1ak8tzG77lnaNOHHCBfZOGuamh6oD3Ln7TqqNKsutoifYq9bKzGStdY0MBs2W3baQhbyIJZ5Du2+vnhf/V72SQHn9fu6bEChWePg8gL1GSIKFLrA3sizXejfYk2uZP5GCYJDJokKyCq1EnxFE2wn2dL1nqLrZNJkoQsMInHWhwx1bBXuBmDg/rWLbiKmDwT5+fOv9el1xNsye7dpdd4E9s2G2WdpB68i73iUKt/2AnCJzq7Nk9QCwmb0uGWfMFKzferLGgTJOTYPf+z2WJ8R9s9m95/Zdt/PZt3wW1eenZfTuQQG7D/YC2Osb5xvs/QvwDvn1O4DPuF5/u3TlvAnIueSe35PhU31cM3END595mMwPvYk/vQYa05tvQ6yFAoSqvWAvW832bZaOBCIcSUIhFeHlXzpCOu+dXDnyRL+fU3fd5CSZI6ERp0HfzewBvOPqdzAd61XYKsEgwUZ7RpkdodU8mXjvIjEWHuOwzMvLB57k7oKLneiKkblLaGgK4eT2GLREmhrVZhvs1atl4pVWX7Dnly6gjUMHIZfj9FiQmB7rnaGWTAqwN3E1n74YbvphUPaub+XdE3LTVrvmK66UlknmTU9m75df9Mu8+Z0fQqlUhDHCqVMbY/a6etw2E1OTFxGpw6PzjzqvlWslOYOwNxkYD49zJAEcOwatFmOrVVZHezf5VDDFiq/mzJe8ay3BZBG+NaeSMBKbYvbspEfL9jJ76qIwPjFmdpEOpXnwmhFotfin3z7OH737M/CFLwi5VTbrWSxRozE0C6YKwknSDnto81ZlnO6ePXugOlO9z5zjxrmJOY66pqMg7tstMXshw1PGeTx3nLESNNPJnv6xRjrJaEmAvUE9P46b6bWXcNOMGHK81eS77lOwugyjimtCUq7HO+VIcT3OyRhk0xHuOSSdKJeWUKpVTiXVzvO0jcyeHpOKgS6To0qjQrLY9F6P5ADmK9f87LN9XQaAvbpfY1mpOGv7ZsDebXO3oSkaJ2srnmAvsLImRoJskNk7Z06c4DB74Za49+zxC/Wi+L8S8QATfj+P/+hrOZqA07tH+eLecw/2WhKUdvdj60W5H7nur1Qwxav3v5oX73oJTE4yXmiJnr1EH4bF/oyqevZgzAh6MnvJKtTj0W1hy+x41UWv4nUXv279H+wKW5lUc/V2dxQ1bGZvG8Lp2dsKsyflpm7XXZvZa8Qivf227lCU9c91JHL2sl0AwxA9e10yzrgJ1ga8B+xnx5PZk2Gfv7N5zlqhYI9BywWwt36cy9ELfw98E9ivKMopRVF+GPhN4C5FUQ4Cd8p/A3wOOAIcAj4G/Pi5Oq7zGddPXc9jC4+R2TvNu18Dhr75G9EMGYQrvWYI9vw8S9d7HnRN1YjoEf7hZ+5k7nRJzB/xAHvOhnDPPaSn26AkHUy3wd4GZ6EowSDBujC96HiLTIlc0lvSd1gWH9XDR7hjMSz6yzxm8+z977+L73NfQOnTf7bhkBttuNnJ7AUy8pj7gD0jKe3jH3sMgGNjfuKGR3X1Va+Ce+9lb2ovhh7i2zObH6gOONdF65qvaGZW8NdbnmBP9+nEbhNukPzgD0KtNnCord2TdjbMnhqJYjQgX2obTFSKWXyWa4aYK8Yj4xxJglKrwenTTKzVyY31biLpYJplzSRQqqJY8NKvn6Tig6/dMIaqqFw+djkJI9Hh+mVXXL1GLwD4M533JYB/URjFKFNTpIIpHptS4OKLUZuS0XvySafntB+zBzCTAzPavsdnYyLB2BST4TJocTN7S6UlduTBN7uz51d6ZJwbCEVRnIR/K8xes4+M83hWgD11vBfEWWNj7MkIqed0n5mfAOFRwYLHbr+H6yavQ1O0rYM9vwZmZ19UZlXIdmPpzmOMG3EsFb5x4wR3H4JUTXOc/JbSwU6A5HLBPduE2pBgr3v0QqNcIlxtejN7EuxdtqKwz37svEx55LGVkxGatHhy6Ummo9ObSlZjeowXTL+Aw9V5T7AXOSNHo2yQ2Ttn5izgrO0hG+xJGacNpG0znO44+r53cPs74b/89l2cip97sOcYxXQxe46boAuUaqrGZ970GV6y8yUwOclovkmyCkq/xN6+H5OdTshbCcUwxJy9LmYvUYVmbPtYPYCfvfln+cDtH9j07xkxsbbXXC6X9r4ebKpCfr9NzN7e1F4SRoKp6OaVOj4b7LnmftrncisGbj0RjW4Ls6eEQj3MXq1ZI2YC0fWP096PBz1Dtu/D2TxnVjjcswfpNiFyAez1jXPpxvlmy7ImLcvyW5a1w7KsP7Msa9WyrDssy9pnWdadlmWtyZ+1LMv6Ccuy9liWdYVlWQ+fq+M6n3H91PWU62W+s/AdYItW52GdUM3qce/KVXNMFxUh4fSo/MT0GN++eoT3v22cpqp493XY7n7veAfT0TZzkA6lnX6BbmavXyihsGD2zE5mL5mtUkr1VlXHwmMUdSglI0RPLXHLMyW4+Wbvh3V8HF72sg0dx8Dw+0FViTTVDjfOYFZq/vuAvUg4SckPxnfEyMjDaZW47gH2fu/34Bd/EU3VuHJcAK0tGRLIDd9XbidYlXqFSFb+u1/D+e7dgsl6+ml4//vhLW/p/xbbIOO0j7OSa8/Ds+2l1Ujv5jAeHueo/Xbf/jZ6wyI33vv+6VCatUATtWVxkRlh9xce4p8vhuCISBbfc917OPhTBzv6f66ZvIaX7nop1052McOS2fPnemeu6ctrNBVgbIxUMMVaNUPj0YeZe59FJSJlQDbY82CiFCm/mShCPda+x19z8Wt4yxVv2ZyVuK5jqSrhrp69cmaJhAmB2d6EelMyTlfY69BW1qNmKNhXxjlT8aN6SIwbr34lN54G68kneNNT0Az4PQsRF18mnFZH7/l+woEwP37Dj3P3nu7pPRuLRsAnCh6uyEvn2MRIpyFQ0BfEp/r49JV+9CbMff1xB+zlxuO9cm1bdnWWMk49Lu7NVqnTOl7PyX97gb1wGHbtYv9ik71r0EglvRM9mfhXkuK+/PcT/+70kW8mrp28lvlmpgecAMTPyCR7o8zeuZRxSplbsCH2QlvGaZ9bn8d6BO2i10JRGoltoQCymbBsebvrfFqW1Xbc7pesTkyQztVJVkBJ9THKsIHiNrA8Sp+ePQFQthfsbTUi4QRVDequnlcb7CVXJHO6Tcye4TM49FOHeM9179n073rJTW1mbyOM2bqxZw9cdNFZ/xnFCOJvQaPmUj216sSrdBa5+sRAGacMuyi7lb3HDisU6jFo0U25H4XObbHmeznOUbf0hQCcoav/duTfgK253zXsSmCx2JFcZKtZZkoaSh9XrGggSr6W5zOXtdA+8S5+9557en9o/35nYOf06Yecl7fC7GmhMHq9V8YZLzU4E+8Fe8lgEk3ReDbR4PoTTWaWluCHfnpD77XlkAYq4abawez5ZG9YvwUtqkfJ6TC1mgVV5blYnZg2eJG+evxqvnXqW1tj9mywV2of42pltT1Q3SOhBsTn+//+P1EY+PEfHyj/2BawJxMT95wwu0fGGR/hionIBEfsPOT++wEoTfT2lqSDaT49Aw1N4d//oIy/2OKvXtlOFn2qj5FQZyI8EZngvrff13uMEuwZ+d5kNbSSYy3qY1TTSAVTPLvyLAVqtFQoTKYIHj8uqsPgzYzbclva/WYAr9j3Cl6x7xW9Pz8oFAUlHCbRKHPcxeypZ8T7ezF7OxM7SRiJTcvj7IR2S8yelNCsdIG9U4VTjJdVz0JE4N0/SuV//Bqv+Jtvc+PjsPLmVzLuAWSU17xG3Beyb/cj93xk08fnHGfAh9I1CqYgZZzJdCfYUxSFuB7nC0aGkzGY/MK/w13iRv3Ft/whI1NdzFkyKWZuniWzFw4lqKm9YM/IDgB7AJdeyp4nvoZPA6ufTFzuFWYqBpzmTOHMlsBe2B+moDag0RS9wC51RXIhK75Yhz05L2BPUYSpSEvUr20ZZ7MoWFOfx3oEbTOexeKimD+qDpDUbUcEZTLa5SAZtm9VL7kpwOQkyWyVuh/Ufv14hiEYvbPt1wPHjdPN7FUbVaaqbbn18x3RQJRSABr5NjNuF3Hji1nxwjYxeyCKkFsJvzSEcj/nZsNkpgrWSOLsD+xTn9oWWa09IqLpGlljyziVDTCHcSNOXI8zl+h/zh1mz3cWzF4kTDgHWTezZ8r79AKz1zeeNzfO/xfiovRFzMZn+dfnxLDmLRki2Bb2+U6pz1p1rc3seURMj5E38+TNPHpygDGMnN/iZvbcPXvu0QuDwheOEmz0yjgjVYtmtPcBVBWVt175Vk6MBLjCtul5+cs39F5nFYZBqNEJ9vy2XLJPpT4aiJK31U9zc6w2C94yTldcMykS1i31qdhgr9JmH1fKK4x7uR12x3vfCz/xE+su/tvJ7NVdPRP2117J1XhknBNxsBTFAXuVyV4wnAqm+OYsvPNHRgnWoTU1yb/t3jyDJf6YuI+DHmAvulZkLSEu7FhojIXiglOsqEyNiZ6PATLObR1iDBCJEGv4Onr27IHqStd4CoB3XPUOjv7M0U0Xkeyq6laKT62QISQ0LqkPiOQ6VWh43pvG+DT/eIXGbY+u4m9C7id/xPuP+/1i4O02RMvvQ611HqM9JmRkbGfPz8eNOPPlRf7xUoh95UH4jd+AeJwXX/2a3pmoiYQ4Vn0LA5ZdEQ6EKQXoGQodzsvrPwDszc6XuWQVfPs9xi6A82zWUgnnpa2AvaA/SF6TiVSXlDO9VCQbC6xbTT8vPXsgAEpdSLBtGed6zJ7turtYWjznEk5wydtdzF6lUSGyAbAXLtXEHtBvrbHNOraxf6uD2ZPSQ6ufQcx5jpgeoxiAVrHd82rv6zEb7G0Ts3c2YTN7VhfAT1bYnmul69syE06VhYiW6zhtgxZlAyoGw2dw7H3HeOsVb+37M9sh4yQc7unZMy6AvXXjAtg7h6EoCvfuu5e1ipC7bEk2Zcs+Cp2M2VpljfG8t8smiIVwpbyC2TQ7beT7xHhkHFVR0TWdkD9EyvA2aOkXvnCMYL1TxmmZptgwYt4b2F++9i957b1yLlg67enEue0RDBJsKJ09eyUJqvpU6qN6lJydF+/dS97Me8s4XfGDV/4gf/7qP+eKsSs2f4xyw/eX28e4Ul5pM3tbnRvkiu3o2bMX1obLTdB2FvTHes9PNBBFMwyyoxH4rnB+Nad7E0C7gvp3Uyu86wPXoX7lq+xIzXHp6KWbP0afj1LQRzBf7flWPFNx+kln4jOsVlZZLApwVZseF1K++XlRLfc6567EbCvzFHsiHCbWUDt69vQFKZH1AHuaqm3p+jnM3hbWo1YoJJjMcqfBRLWQEX1mfe7Nv781AcCnLgV9/7kdXA3Cnt7XBfZsBjqR7jW7ietxLCz+6Hqov/hFov/2j/7I+48nk2ct4QSR8JT8oHRJJMM5Car6zbW69FL8jRaTBVC8zFlAyE0nJ6nMtYuB101et+ljDPqCVOwtoAvsRQomhcT699BcfA5VUbf2/G4mDANfvYGu6Q6zZyfYftumvyvsdXClvHKewJ5cM9xgr14hXIempvZP2mWxKVRnMECIxdadh7ah0HX0htLZsydlnBthec5HRPUoJT+0PEYvRBbWBPj1WDfPdxgS7CkuEGUD52E5lwBqUOznlmtkTa1ZI2EqG5JxgsgnBrHjds/w2cg4ifT27AXNJg2fevbjJ/4TxwUZ5zmOe/fdy0cf/iiwxUq6zYp1gb1ydplIpTmQ2bNHKWwE7PlUn9NAryjKpmWcgUgMnwXFctZ5zcwsYwDWILnTHilDuuuuwa5U2xXBIMFGqRPsldcBe4Eoh+0i/r595KqPrntOQ/4Q77xm44NlOyIQoOZT2sdFF9jbhvmS28nsuQ0mbEOEQLQ3IVEURczaG6uSXCpQ9HuDpHRQJCstq0VlZgL27+epXU9t6fkBKEV1ogWz5/V01uTMXgE2Z+OiAvz08tPiM83sEGz6s8+K8+11b7ruF196G2Z+hsNE62oHsxdYk1XrbQD4djg9e1tQGtg9R60uUxH/alZ80ec4T+wf5+2vXeUru+AJjzmd2x6BAFqt09jKNnLwMg+ymfqDI9D6wudh0L2WSGyL9XzQF6TsB8qdICpclDRPPznepS7Q5GXOYscjj3Bk4X74l08xF5/bUv9w0B+kYmcJXWAvXKpT7cdEuWJPag9r/2VtXTXEWYeuQ7VKwkg4PXu2XDLQD+y57sXzAfZUG+y5En+b2WsGDbR+igx3UXcQ2PujPxo4cmfDYRgYDaurZ69KogrFfm6g5zmigSiZAMRdYM924wydWRYA+SzZ9+0IQw+LZ8gF8O2evb6S3OchVMnQW67jrDfrRE1rw2BvvQio28HsRTp69izLIlizqBv6BUAzIC6cm3Mct++6HcNnUG1Ut5RctaJic2jlsh00rO0kOAjs2SzFRsAeCCmn0+C8SYMWPZIAoFJwOTOuLgqwN6gKLt3l8OopPBfhAfZ0uzm+n4xT9uwBWHv2kC+tz+ydbZR1lUCl3XO0Ul5hpAytWBR1GyQb29mz50787SZ02xa7O9KhNKfTS1wKnIhDyMPExC40uI9vK3OY7ChHg0RKXQYtzSapQpPyiHTUlLPx7AKJI//59rf7suduZs8/sg1gLBIhsqJ0MHuBXIGGCr5tYJLsOBtmzwZ7Vnef2Zq8B/r0kyaNJH99tfj6bK7lhkPX8TU6wV4jn6PqVzE8gLv9PPtV//qztH7yJ4XE9yxDURQqutphxAQQscFev6T+Epd0sx+zBzA5iV5MAHDd1OZZPRjM7IUrDWojG0vazjnQA5HYmyZxI+7IOO0EW495n0v3vXg+wJ4mR9JYpRI2rKvUBdhrhA36ruzuNWgQQLj33u04TNB1Ak1RcLOjlc+jWdukYtiGiOpRTgU6GTPHjfPM0rb2651NGD6Dgh8U13Neq5aJ1aCZ3AYWdptCC4lnwc3sNeqmcOPcpv3HYfbOwghJiUQ6TMLqrTrhGtSDAc6tvdL3dlyQcZ7jCPlDvHTXS4GtMXuWTCgbrr4oAGNJgqoBBi0Won9ho2DvXde8i3dd8y6ATTN7PmltXXU7Y62JHhk1nuj/i9ddB1/8Iry1v857W8MwMOqWUwEEMCpS7tWnSq1rOkVDbM213XPCoeocJy8VXSNQacvQVsorpMugpAf0X24ibt91Oz9w2Q+wKznYNn1gyPMVqDacTdYGfvYMse5IGAmOJcWyc6KP1bm7EX47QHUlFiRe7JpVubyMZkFtRBynPRvPZvZ8uyTjfPy4d78edLA7wdHNW3L3RDhMpGZ1uHEa+TLFsH9b51qdFbMnq79uZ7lGq0EsJ4snfZg9u3gU0AIb7gM+m1B0g0Dd6rARt4oFqkHv+qb9PEf1aO/8zO644w545xZZ+66o6hqaqze33qwTr1jCTTTY5/pEo+1ixCBmj/aec/3k5vv1oD+zZ1kWsXKLhkc/9vMWhgHVKnHdBfZKZRoK6CFvJlZV1A25CG5X2CMgmq5iSbleJlIT88P6hnsN2o4+r/XCduN0yTjJZQHw9XMDPc8RDUQpBkB1jSiy96HAmaXtYTi3Ifyqn1IAVNfzoxbE9deGBDiDMNkDsNzHWZRAeruYvW3o2VNsZk/em/VmXYA/49zvK9/LcQHsnYd48+VvJhqIdjAWGw1Fzjdxg71Gq0F0TT6EA5g9r68HxY9d/2O876b3AfQdqt73OGUSaBazzmu1tWUA1EG6dEURYxXOh4QTIBhEr1sdzF6wWqem+zqc5joPUaESEgtJfkYksxs9p1uNStDXBqHAanmVCdOHsh39GIghsZ94/SfOLvGWzF6kRo9syraV746EkeBQXCzS/cBeQAtsD/Mow4yHiZc7R5c0V8S92UqLxMk2KLKZPX23y8p6A8xeaKy3D2zTEYkQ6pqzFyxUKEe2V4p0VsxeRCb3LulUwSys20+aNMR5tnukznUowSB6U7gDO+xEqdQ3IbCLCuf6ue4OU9c6jJgqjQrJKlSj61ybSy8VBi7r9PzMxmfxqT7u2H3Hlo6vH7NXaVSIm9s/c+2swsXs2euRUqlQ9oMx4F63r/n5AHt6KEpdhUaxrYaoNCqEa9AaZC4xOtqenXc+wJ7N7DXbRTIlK45ZG2T4dh4j5A9RDoBWae/lthuntrq2rdL3swlFUaj4FTRXD75qG+6dj2u5wbAL9riYPV9psFP5ZsNWTZwV2ItGO0zC6q06oTrUg8+/ZHeY4wLYOw/xg1f+IEu/sLS5uVsybBekRrYtj8xWs0zZhfUBBi1eX280btpxE2+49A2Oq+S6IavQNZczVj0jDBG0+PAsaJ5gr9LADA1eKFZGglSCfrKT4rOcaxln1fChV13MXmWFsaq2Pc332xUS7ITrkKmIYoRtiKD2GcKa0BM8ExMb8ol4f8BhFxu2A+zV41GSZatDklRZFiMNVCmj0X06E5EJjmWPARCa3tk2S+jH7Ok6dU2wQJHxbagih8OEq62Onr1wsUY5tr3ilLNx47QBvlvGmTNz64K97ZDjbiZUI4jegF/6t19i5+/tpNqo4itXaYa9z6X9PJ8vMGpH3fDjd42IqNQrJCtQi62zV/zKr8Dv//66f39Pag+FXy7wgukXbOn4+jF7RbNAvLqORP98h2T2EkbCMWjRKlVKATpmcnaH3bd3PsCe3afZdO2TtozTmcHnFZrWlkifJ2YP6BhfoubEMfu3SV1ytqEoCqbhx+8qllQbVdQWqLn8UO2VFV1Fq7aPU8vKBG6IDFo0adCiuMBzoDDYqXyzYReXz8agRYlE8VmAKc5nvSlknM0LYG9gXAB75ym2ai6hSFfDVr69OaxV1pgqyOHEfRb+swV7qWCKT77hkxtnIyXYq5dcZh05AVD9Q1IJBMAw0OtNB+xZlkW42qK2Dtj759sn+ZnfuYOsJRa/cy3jNA0fRrVdVV0pr5CuMFQbmBezp9r9E32q1AkjwcOJMtWpMR6Y7Z9g2SYt23Ge68mYYEtqbcastCwGbPtdxip23x5ANBhvS+X6gT2gZIglNDaxDf0h8TihaqOD2YuW6pjrJf6bDHuI+KAEuG/Y19XVJ5OrCrDXCOp9r7vD7J0PcxZAM0LoTfjYox/jZP4kXzn6FUI1sPocn71Gnm9mr2YECLiKOpVGhVQF6h6zSTvillvgTW/a0Htsde+B/sxeKbOEzxoeG36gzey5ZJxqpUolMFiWawP8rRRjNxshf0iCvXaxxBm9sJ7Zjb0OnSdmD0CptcGelhcARR0i6WE9qHf0tleliYxiWdszb3Cboqpr+FzH6ZcyzqECe9I8SHGB0vVmEG82tkPGqcq+V0WyjvWWkHE2g1tf5/5fiAtgb8jDH4pQV3vB3kgZaulE314ed1J1XhIYCfYaLiOMZlawPYFhAnvBIP5aG+yZTZOoCfXQ4IVCj8Q5Fm06ScS5PqflWIhEvtONM1FsDhfYC4WwNI14FTJVca2VcpmWglMZ7o6EkWBeK3PfV/+c+3cNAHuyb287mL1mIo5mQWVlwXmtuCgMNiJjbWtuu29P13SxKdlgr5+ME9FbWfGBP7wNICaRIFSuUzXFJmZZFvFSi0af0SVbfhsjsWVmWrE32mIb7OXNPGMlqKf7J6F2z975Ys58wTBGow0yP33g00RqoPaZt+bu2Tuf0QgGCLiKOpW6kHE24sPBmPVj9qryWVKHSbVhGG2w5zB7JpXA4DTHYfbOYtDzRiPoD4pxAa590mb2lPXAnr0OnUdmT3WBPV9u+ABKI6ijVxtgCX8Cs2mStmtlQ7RX1gIafheI8ufl+jlE59Jhc6su87qS/Hq7ZJy+bZBxyuekJaXQDrO3Tg73/3pcAHtDHrrfoBAAK9cGe6vlVVIVaCUTfX/vbJm9TYdcKNxgz5IN3XpqG2zptyuCQQK1Ji2rRaPVwGyYRGtQjwyWFUQDUQq1gjM0/lzLOIsTKSbW6tAS0sNsYZlwpdF/0PLzEYpCMxknVWkze1q5SllX+xYhbPA2XxQyyn6Lvs0ob8d5bqVEcmQunXFeK6+I949P7nRes5k953mx3dwGMHsVQyMf2qZlNJlEtUCTFctSvUSqAo3k9t5r77/5/Xz2LZ/d0u86Camb2TNz7MhDc6z/vXm+mb1YfBS9CX/5mo8zEZngM89+hnAdfH3kxc9Xz14zaBA02yYYlYaQcbaGBez1YfbMVWm+NSRmHUDH6IVSvUS9WcdXMTHXA3uB8y/jtLpGL4Tr/aXvTkxOis/Yz7hnO0Mye6rZZp19xeEDKK1QEK1lgQSl1UaVlH2bDhHYMw0ffldRJ1CQiHSIevbs+0ox26BUL0qwt90yzrNw47QZ8Jr0sXCYvUEGRxfiAtgb9tA1nbwOlmvO3lpljVQFlAEbrZ20aIp2dg/WRkMuFC3XsGUrl6emQtBj5trzFoaBryYW3WqjSrVRJWbSt5fHjqgepWAWnIrxuU4KzR0T6E2wFkQF3VoV/Y/DtIEBkEyRqrR79rRydWAl3QZ7ZwoCePW7N20Z53Ywe7acp7686LxUk8xEenKP85o9a88BJDbYG8DsVQ0fhfA2DXKVSZSdCBTKWRImWAOKOluJyegkN+24aUu/aw+Fdg8Cz1dzXLUAjcsu6fdrDrN3vnr20okpVAtetecebtpxE0ulJSI1CPQxDnKYvfPcs5cbixEyW7AiRunYzN6gQt75jJA/1Gb23HPCpPmWf4is4x1mT17LvJnHb9Yw9cHmX+fToCXol7MV3WBPMnu2PK1v/MiPwP/8n+f2AO2QxVut1gZ7DkDZJpZnO6IVkddMymKrjSqTNbkeD5GMs677CbiAc6AoEekQAWeHzXX1QAbK28zsbYNBi90qUCtIsCeZvYFuthfiAtgb9jB8BgUdFA+w5xvpz5i5e1DWtRLfjpBgzz2QUynkyesQPk8J3oYiGMRvdoK9qAnNyOB+DZvZs2Wc57pnrzkrWKbiwe9SrpcJ5eWiO2RgTx0ZIe1i9vwVE9Po3wvWDfbW69nbDrCnSkOB2nJbxtlYXaHkh9Fk20Wzh9m75x4xt8qWc3pEccc4uZltYq7lxm8Uq1iWRXHplHh9iJIWm31Qiu3nvHn8GKkqKNf2n+V2vt04nWHKpslN0wLYhmtgxL2fn+eL2VudlffOgQMAVKtF4iZDU/EP+r2ZvcaaAKfuntfnPSSzZ99jhVoBf7WOqQ/uTT3fzF4pAFTaz09Fjl7Q+gx+d+Kmm+Bnf/acHp8TNrPXAfYqlAMK+LepuLUdEersITYbJmNVeb2HaK+sBQMEzDazFyxUaCqs36d5PsNm9lzS3WBJfr3NPXtnY9Bin7NGPgu0mT3rAtgbGBfA3pCH7tNZCYG2vOq81gZ73gOMob2BnbfkxQZ7rk1MzRfJ6+dnE91wBIOiWmkJsGc2hYyztc68qGhAMHu2jPNcn1d1bicApUPPtM1ZYKg2MBBAaqSqtMFetTYwudqojHMqOoWqqB0z97YagTHBzNVdYM/KZsgFlY73t3v2HEDyghfAZz/bduX0iBd88Umuu/+5sz5GwAF70UqLeqtOVcpOtdTwSHc1I0hdBdVV1Ak99SwA+nX9HR/t637ewJ7dM2qaDosZqYMvlvD88eeN2ZuTEuFnxTm0QZQyJAA/6PPu2WtKp2U93X8POu8hmT2bmS+YBQL2WJ0BcV7dOCWzp7hmw9XKRfwt8A2aR3u+w2H22gBFL1YoBM/TiKSNRlSCJcnsLZYWGTclGB2ivbKhBzBccm2jWKUY0rZ1fupZh8zh3K6hRrlGU1UgtD3Pxp277+S917+XPck96/9wv5DMXlPO9K3XTQn2hijPHMK4APaGPHRN52AKgsdOOa+tyZ49dcBidt7d5eSDplYEKwGgFUvkjOEDe2rLwt/slHFa61TYorpg9tYqa4T8oa05GW4i9D1izlvtyEFWyiuMDGHTOQCpFOmK6hi0BKp1asH+lV8H7BUGg713XP0OvvZDX9vSbMruMMbELEp7th6Ams1RCnVewx5mb0N/3Ni+HhoJ9hJVIe0y5XgI38hwzIsCYWFfCIhn247EM0dpKaBfc0Pf3zvfMk43s3f91PVoqIRr9HULdUYvnGeDlvqOKao+sJ55BoCmBHvD0gsX9AcxfWApClQqVBtifbeyWfH9kf79rOc9PJi9gNmgZgxmop6Pnj3VZW/fLEgzmfV69s5nyOfHLeMM2gBliEKzDZdKJZZLy3z6wKe5MbhXzCQcIrlpI6hj1FqOkUywVKMYGiKGFMDno6mA5pKbBst1ykHftoHSmfgMf3jvH+LXzuKzy1zNKgq1W7MsgP7A0SUX4gLYG/YwfAbPpUFfy0FGJNTF7BJ6k4HyrvMO9sbGaPg1dq5ZzpwwX7FMQVfO7sHe7pAVy2BDgr1qkWADrHX6JW7ecTONVoO/eeJvzrk5C0B8dIaMAdaxoywWF9sOY8Nk0AKQTpMqtxxmT682qPcZXA29Ms5+tvAhf4gXzb5oWw4xPC4cN1susOcrlChHOt97IjKBT/Wd94TfCRfYK9fL1FeECUZgdHgSap/q43QMggttpcHIwdMcGtEGugmmg2n8qp/R8HmS/dlgr1olHAhz08jVaBZ9ZVOT0Ul+/uaf59X7X31+jk9GKjrKwRQ0DzwNgLUmxtX4hkQeafgMUKCu+6gWsoz8rxE+d/BzIM23QqNTz+8BusOD2dPNJo0B6xGcf2av5AfV5XjYkklrv0LE8xI2s+dO/Evm0AEULSr2YqtQ4I8f+WPMpsnNof1CBq0OT3rbCuqoFiCve6hUo7hdvd7bFYpC1a+guWYrhso1KsFzW9jedDizXkXBsSVbnKzQED0/QxjD8zRcCM/QfTrP2UXegwcBqK9Io4kBYM/wGfhU3/kDez4f2bkJLlvGkToGihXKwyb7kCxMqC70/U2ZtCjruN+98qJXcsPUDaxWVs95vx7ASGiE43HQTp7mTOHM0Mo4SaUI1SyKBZH8G9WGmLfWJ2ywt1BcIOgLnpd+0ngoRcYARRZLAIxChXq0M7nTVI2X7HwJ105ce86PyTPczF6jQkOCPZuZHIbwqT6OxyF0pg2cpw8t8eyOwbbXQX+QB971AO++9t3n+hBFuJg9gL95+R+Lf/dJqFVF5bdf9ttclL7ofBydEyOhEQ6MgHVAMHuWvEeHBeypioqu6dQDPsr5VUr1Ek8uPYmaL2BqEIoOh9wUENe8ViPqE9e4UCug19YHe+fVoEUye75yWyrnmK8NU/+WzezV2zLOUKlGecgAii3LruRW+N//8b+5e+/dpMqtoepzBtdYAAlQwqU6lfDg+/L5iJpf7WBzQ5UG5WE7TrmG267V9hgTZR3fhf/X4wLYG/LQNRfYk30djjPjgAVNURSigeh5NRwo7Jvl8iVRUQUxo6U0ZJVA21lxOi+YvYa071XWkdAoisJv3PEbwPlhS9OhNMcTYJxeEGCvDJaub5t2fttCgk9rTYK9WovGgHk3kUAEVVFpWs3zJu+N6TFWg6Bmss5r4VKNRryXwfvy277ML9zyC+fluHpC2lsnK4LZs89pcGx60G+d1/CpPo4lIDK/yl8//teYi2cYWSlxeOf6z8QN0zecP9a0C+zt9ElGfJgSagTYezYNvmMnoVZDkfdoYEA/9vmOoD9ILaA5Y3WWSktouQI5Q4DBoQnJRsUU8f9iOYdRt6gPKD7B+ZVx2kPV3X1RlOT8umG6Nz3cOAVAGXwuz3cEYkIe/sAzX2ShuMDP3PgzsLo6dEXRlr1v50UhPFIevnMJYAZUfGYdvv1tWFoiXG5SCQ0Z2JPPSaDaELJy2a85VMz4EMYQrdQXwit0n86RJLRUBZ4TRhAOQ7FO9eqW2Vu4Yap/H812R2X/buZyUFoTRhh6uUZ12BaKvXvF/9YE2LMHv6ux9dm6O3ffyfdd8n3n5ZwmjAQnEhCdX+NM/jTTdR0lnR6uhm5o34OrQn4WNFsDLZAVRXHYvfMF9nSfTiak4M+KjbbZahKttCAxHI6HTvh81MNBp2dPWRP3ZnR85nk+sHb4VB/HE6AXyvzkJ97OA5/9QwBO7hkyeXEX2HOs7ocsIbCZPaXZhMOH0WQvnD7af9zH+Y6gL0gxEiD4xNP4msIEw1coDZ9Zh7zm0ZYoMFYKYk1qrQf2ZAHirBwCNxi2QYu/1nBmqCr2vTlMYE+eS5/LoCVSblCJDBdAsUepPH74m8T0GHfuvhPW1oYO7OWn5fp4+DAAsdLwnUsQzF4iU4HbboNf+RXC1QZmaMiOMxCgGgtx0SrkqjksWSxRhmxtH7a4APaGPAyfQd0H+cm0A/a0jBywvg7Y+9c3/yvvf+H7z/UhOtG85GLx/6eeBCBUrmMOG9jbvRuAPRkB9lp2c/wGE/9PvfFT/MEr/uCcHZ4dqqKyPBJCr9TILx5nsqYP3QYGOPegls3RslpENjDvxgZ75yO5sqMQ9hHIiaRqtbRMogJacrikPgDNWNTp2VOzOfI6GMHnqYfQI2xmD2AuC81HHgZgce/wgBOgF+wVh5A9QfQyPmvj5GefxZcT7NmwMXv/5/WXET1whP/6DcHsBYpliqEh6+WR1zyCAHvVvAB7zXUMlF40+yJ+7qaf44UzLzy3x4c0OArKtGtZSKEVKUcbqkKEPXPN7tmzLCKVJtXIYLn2+Q5dPidrJw7wkp0vEcZpq6tDJ+PM7pLr4zPPQDbLWL7JylTieT0mr6gFNK55alUMqf/a14hUWphDyEAu3nQFLzsMuWoWS5qFqeHh2SeHMS6AvSEPewjl6owAe81WEz0vK4FDtqBx2WUAaM8cANPE32hRiwzZ7JNQiPrkmMPsWVJWofWxZH8+IzeeEF8cP8F4RR1OsCePyciVKJtFYYG8jnb+fDN7AIWoTjAvkqqVxaOogH+IEmo7mvGo07PnyxXIBtXzMydzg2H37AHM5SD83eeYj2soY8PjGAq0nfgWZX/zEDN7z9qP9YED+HIFYc1vDE9SHfQF+foNoxy694X8t69B/MAx9GJ16Pq3bIASqLcIaAFqecGMW8HB5zISiPDBl3/wvK1HT87K5Plb3wJAtcHeMBUiJHBuSKdDSiV8LTCHbD8PpcY5HocrFizu3HWneHEIZZyNEdE3bj39NDwpiuHzu4ZszQTqfg1fUziG8txzTOaamEMG8AGyL76RqSKYjz0MZQn21jHZ+389LoC9IQ/dJxbdlekkPPcc2UqGpG3WMWRgL7B3P2Uf6M8ecrTp9SHbHADqu3aydw3MpumAPX98uM4lQHFKbFj6qXmSZWv4nDjBuQcTZYul5ePitfDgpOX5AHuVqEG4IFiezPxRYMhs42VYiYTD7Om5IvnwcEnlbBknwM4sTBxa5IkplVhgiGzjAa6+WiTPX/mK+PeQMntxI045qJFPR+DAAQL5Erng8IB7kIPV6xXu++lXolrwgofnCZZMKsMm73KxudFAlLpUbQzbsOUDOyPUfSo88AAAvrJ05hyme1MCZ7Ms9kekvLgWHa6e8WggymMTcPUC3LH7DsFIFYtDB/aCgRDPjEDrmadpPfEEAKVLdj/PR9Ub9YDcb14knLCNBtTCwwf2zDteDIB+3/0oxQtgbyNxAewNefhUH5qisTgdh3KZ3NFnSFWgGfBv33yvbYpYKMkzoxB57pgD9ppD6JDU2r3TYfYU6YTmTw7X5gBg7hDSj9hCllixPnQbGOAcU7oCS4tHgPW1888H2KvGw4TLdWg2yS8IUBoeHR7jEyck2KvUKxj5MsXIcMmgfaqPpTBUfHDxCswulHl4rHFeHGo3FX4/3H47fPnL4t9Dyuypiko6lObYrhQ8+CB6oUJuyGaZBX1BKo0Ky0aTQynYe7JEqFQfOkmfDVCoVonqURpFCfaG7ZoHQxzbkx5usOcweyUxN1eCvXp0uM5lVI/ynQnYvwqXBGdFvx4MXSHc8Bk8MwrKgQOYjz5ExoDY7kue78PqiXpASrP/1/9ynqdaZLgAPkBo10U8NQrxr30bpSyY8aGaUzmEcQHsfQ+E7tOZnxRVC/PpJ0lVoJ6IDp1ZR1SP8t1RSBw+Azmx0Q4j2GPvXiaL0MhnUWTFP5AYPiAVGJ9iNQgvPWIRKlSHE+xFIrR8GqkKrEhmb70KW0JPACKJPF9RT0TFnKNsltLyaQBik3Pn7f03Gkoy6TB7oUKV8pA18ftUHyhwPA6vOqTia8Ej49Z5mT256bjrLmGIcOTI0DJ7IKScD1+ehIMHmT28QiE8XL1wNrNXMAt8ZwKuXIBwuT58qo0uZq9RFAVHZcgcjIP+IM9clISHH4ZqFV9FzjUbJlAqz6W/IWeoSrDXiA3X8xMNRHlsElQLlKeeEhJOGLq90vAZPDMC6tIyyte/zhPjsCM+PMZbdhTiBsfGAnDTTXDjjcBwqrMSRoIv7oWRR57BvyZ9FyIXwN6guAD2vgdC13ROT4iNoPHMd0lVoJUYvuQq7A/z3TGILufgxAkAWrHho9bVfWKWlnH8DGpBJIF6cvgkkunQCB++EV79HKjN1tBtYAAoCo1EjFQFTi2I0SBqdPC9+Xwwew37eVlbo7o8D0BkbMd5e/+NhpZMOT174VKdamy4ElXbav9YAmYzwk3wscnzM45k03HXXeL/X/7y0DJ7IMDeVy8SDO7ocmnohi2H/CHK9TJ5M8/jE7A3I+aU1mNDdi67mD0zJ1geZR1Z+fmOoC/IE/tiQnL48MMEKjUh6/QP0XVXFJp+H0ZDGPJw6hQA9eRwPedj4TEaV10u/vHYY0PL7CWMBM/I0ZnGoWM8OQY7YsO3/3zyPbfwhh8fBUXBuuUWABpDyOzF9Tj/sl/Mgbzmz/4vcIHZWy8ugL3vgTB8BotJP8TjlB7+JumKQmB0+PqNFEXh6Z1yYfi/4gG0Z4cNU/gvEvKJ8PEzaKUyVQ38xpAlLohZe793E6zZaqlhBHuANjJGugzPnngUAN86i+7zAfaslHRbXV2ltiqGlaup4TufWjJNzIRKtUisVMeMD9d9qShKR99eVhfAb+hknAD798PMjAB7QzyLKR1M81isBHOCaS4NmfudLePM1/I87vI0GrpCXhezV5MyTiU0XNc86A/y2C7JljzwAHq1hhkcIqAno6UH0CXYs774RTIGZPYNFxul+3T+7y8+AcmkAHtDyuztTu7mGVc9+Ynx4QR7vpExDupirWy8SLjT1oYM4IMwVfr3XSr/9EuvpqUqlH3gDw3ZejRkcQHsfQ+E7tOptEy49loiTxxgphHCNzJ8Tk4A392XoGr44FOfAkCJD18S6Nu3H4DoyUW0YoWCzlA5HtqRDqYpGPDbt8gXhtGgBdDSI0w3ghw5KVzG/NHEwJ9/PsCeXem1VldpZWT1N5E4f++/wfClRlAB3+Iy/ibU48O30fpUH6dTQmr4nQlAGVJmT1EEu3fffUKGFggMF3siYyQ0wmp1DV7+cgAq0SEEe/UKeTPPgR3tY2sN271pM3um2dGzN2zGDUFfkIVQEy66CB54AKPaoG4MV28uALoumL3CAnzuc3xhL/j14ZP0oShwzTXwne8MLdjbm9rL8QQ0ZE/cMxMaY+Hhy+ESRoK8madltai99MW89gfg1Asufr4Pqyfseb333zrDx//2F7jtneD3DeEzNERxAex9D4Su6ZhNk/wVF7HvdIWJkjJ0MgU79HCMJ64YAzn4XR22wdUIALoUhsSpFfylCiVjOB+DkZAAdx++CZq/9yG4447n+Yj6RDrNZC3gSOX8scHX3Jmzdx579tQRoaGpLy2gZLO0FIaSdVaS4twFTwqpaSsxfMfoU300Z0VV+sCMSLCHsmcP4DWvEUDv058eyn49EM/5SnkFS8pOq9HhSqiDfsHsFcwCwZ17WZWHZw1bIc9m9qpVooGoM39LGzKwF/KHqNQrcMstWA8+KMDesDmbAmowiN4E5ZFHUJaW+OxF7VFQQxdXXy1GGiwJ1caw5UepYIpYKMH8tHhm1vZMOZL4YYqEkcDComAWqFsNPnMJ+AJDZsQkI67HyVazZNIhHpkGvzp8hbxhiuG72y5ETxg+A7Nh8u2JJnoTwpni0C1mdsT0GA9e2U72fUM40gDgWFojcXoNf6lKcUjBXjokqpOxxDjaz/xsu3I9bJFKkSpbhKXPQCC+MbB3Ppm9gByzUF2eR8nmqYQCoA7hdZds444njgFQmRmyYeVAQAsQ2CvY8cV9U8CQyjgB7r5brJWHDw+lhBME2Gu0GuRvfQFLcR9n5oaLlXAze7OJOR6fECoIZdiY8VHZFPXss0QDUUJyHrhvyIwbbPDMLbegrK5y7ZnhYx8BVCOE0YCRr3wLS1X5wt72KKihi5tugmoVfvu3BXs/hIWdvam9PDVncGRHmOTY7PN9OJ5hF+2y1Sy1ptjQA9pwMmYJI0HOzFFvigfdr10Ae4NiCLOdC9EdY+Ex7j92Px+qfa394pCCvWggylcvkTN6NMH0DWM8PR1g54F50os5yvpwWZ3bkQ6KpG8qOvU8H8k6kU4TLphEJNjTY4PvzecD7Okj47QAc+kM/kKR2pCxJ07IBHrm69+hrkL26uGT0PzvV/xvXv9Dvw1//uccfdkNwJDKOEFIN9/4RvH1ECaA0GbwV/x1Xvg/Znnilj3P8xF1hg1OcmaOhJHg4Ix4brVhG1czOQm33AJ/+7dEAxHCEuwNG7Nng2d7ltmu7HDOeVUMg1jLz+5vPEXtxutYC4nC81DG938/fPCDQtK5e/fQOZUD7Enu4Rde4efNPz4+lP160N6bvxdAVMJIkK1mqbfEcWrKcOZxwxIXwN73QHz03o+yK7mLL1gHKdvN+8MK9vQoR0M1zMsvJqdDODCc1fS/eXGSQK3JzPEsleBwWZ3bYSeBQw/2Uim0qkm6Iv5pJAb3Fj4fYC8WTJAJQn7+GIkKNIet38gOCfauOm7yyCSE4sPXp/mmy9/EZRNXwDvfydy4YPjsazqU8da3iv8PKbNnF3VWyitUmtXzKm/eSNjHs1JeIRaI8cxlY1R8wPQQzql861vh6afZc6JIqA5VDQx9uK67bXjDRRdRTohjC62zZj4v8f+3d/dBclVlHse/z7z1vHVPkslkyHvMJCEZIgaIEKiAhaJLAA2CzIJQgmFrFRcXVlkLiy1EVBRXV8rVwjdSshQgbmGpFCqwspbZ8mVBN5sXEwjgGEjIJIGQhCSTzEzO/nFPTzqz85rcmXvuze9TNTXdt++9/fTTPXP6uefcc3M5lm3oYtqfX2PP+5ZFi0IdxllWBp/4BLS3w6pVSUfTrzkT5rDxwMusObw1+GKvtIgKdXhkQ3U0jHPz7s1MrJ0Y5LwLIVGxlwItE1r4zYrfcM+F91D29jOjhYEWe4VcgT0H9/Dq313L904f40k4RmDLtALPLI6KqAMBzoQG0Th/SEexBzBvf3TUt2aILy6T85OpKq9iamHsviw2VDfweg0c6HiFcZ1Hzo0Lji/2yhysmhn+e/+RxR/hvvfdF3axd845MGtWkBPyQEnP3v6dHOg6EF6xVxnFs+fgHvK5PBvOmUvTP0LVpPCGGNPWBhUVLHp6PbVdsK8qvN6omsoa9nftBzOemxcV+kOd55yI2bPZVajkS38znx0fvgIIeBhnUT5/ZDhvYFrGt9Djeujs7gy22CsOx0/NMM7O3azavIqlM5YmHU7wVOylRE1lDTctuYnqs6LpcEMt9vJVefYe2svWi8/jtguia++FqLqimkcvmQ1AZ22YxV5leSVXLbyKi+denHQog/Mzn122tic6kl4z+LCpibUTab+pnUvnXzoGwUUKuUI0scS2Dma+AZWN4c2EBkRTiHvX3fg9Lp4X9ns/JT+FFaetSDqMwZWVwU9+Avfck3Qk/Tqq2Os+0FtchaK0+CzkCjTXNbMv1FEbjY1w0UWc/MQfeMsu2F8ZYLFXHMYJ/GaG740IcYjxQw9xw72X8MBpZRz0vTzB9uylwJwJc3pvh1rs9Q7j7EzBMM7cOLbu3cpLu17i3BnnJh1O8FTspY0f58/0sK53U5SvyrP34F72HYpmQgu1Z6+6oprVLXU8eMkMVp0V3jULix66/CGWz1+edBiDW7gQ6uvZNWcqt1w5flizjE3OTx7T2cgKuQKv18DC9duZsQcqPnz9mD33iBQKveebNL3n0iBnbEulU0+FU05JOop+lRZ7nd0BDuOsPLrYK04ZX18VYIECcPPN5Hbv45JNUbEXWoFSU1lDj+uhq6eLx5uiWauDLPYqKmjMN7Nj3w46uzuBFPTsBaxlwpFzcUMv9tIyjLPH9QBw3szzEo4mfGGerCQDu/hi2LgxumBwgAq5Al2Hu3j9QHQtsyCP/hJ9Aejs7uQbl04Jd3KJtFiwAPbuZUrPIT57cG/S0fSrIdfAa/64w4OnV3L15VcmG9BAysqigm/atOCuFSWjo5ArUFFWwSt7XgFIRc8eBFzsnX8+v33yPv7y8Q/xcgHeG1jP3uzx0YiSxzc9zi8b93CgUEtNoAdvJ9VNYuf+ndGwU8IrnNNkcv3k3vM1Qy32SmfjPNh9EAi4Z88XpvVV9Sw6aVGisaSBDhunjVmwhR5EE7QAdOzrAMLu2evs7qSzu1MNWEyqyqt6LxcRmnwuz/+cBBsmwjeunjP0Bkk6/XS47LKko5AxYmY01jRy///eD8DUfFgTn5QWn/mqPAuaFpArz/UWfSGqbJnHNZfDp98d3jDO5Scvp76qntuevo1DFfBfT34PPv7xpMPq16S6STgcW/duBcLLZZqYGS0TWiizMk6qD3M0UWV5JbWVtew+uJud+3cCR0YehKZY7J097WwqytRvNRRlSGJV7CXbvHszEPY5e53dnRzqOaQG7ARQVV7FvedV87WzO1nWPCvpcAb39NNJRyBjrLm+mTUda7jt3Nv44Fs/mHQ4Ryk9YFfIFbhg9gVs+cSWYA/swJGDjhBegVJXVUdbaxsrV68EoGXeWdG14QJUHLL78LqHKbdyZo2blWxAKTd3wlze6Hwj6OKkeEmDV998FQh3krBiL6TO1xuecD9xkkpLpi0B4McbfwyE27PXXNfMEy8+QWVZJYunLE46HBkDDbkGOrs7mV4Ic8iUnLi+fcm36T7cHeSscn2HcZpZ0IUeRD2QRSGeZ3bdoutYuXolufIcMxtmJh3OgJrqopktf/7Cz2k7pY3J+QBnYE2Rz7/z83S82ZF0GINqyEWXNCj25obaC1nsJb1wzoVJh5IKKvYkVvMa5/HWSW9l7fa1QLjn7N15/p08+dKTtL/RrmGcJ4hCrkDHvg6mN6jYk7AUD5KFqO8ELWkQcs8ewNIZS2kZ30JtZS3lZeFeDLrYswdw81k3JxdIRrQ2tdLa1Jp0GIMaVz2O3Qd3s3XvVppqm4K99MKpzafy2qdeC/uyPwHROXsSuytao2vyGBZsIdVc38wvrv4FjTWNwQ5TkHgVv6jOaJiRcCQi6VHas1daRIWsdPKYEIs9M+ORDzzCd9/73aRDGVSx2Dtz6plBH5CQ+BSHcW7duzX470Yq9IZPPXsSuw+0foDbf3U7dVV1mJ9GPkQnTzyZ9pvbgx1qKvEqXjBWwzhFhi+NPXsVZRXUVNRwqOdQsOdHnTHljKRDGNKEmglcc+o1XH/a9UG35RKfhuoGNr2+Ceechu1mSJj/BSXVFjQtoLWptXc2p5AFO324xK74RVXDOEWGr7RnL03/L/O5PG8eejPpMFKtzMp44P0PJB2GjKFxuXHs7tzN/q79vK35bUmHIzFRsSej4jPv+Azrtq9LOgyRXsViL9RrHImEqNizl6/KU2bpOfMjX5Wn+3B30mGIpMq46nHs6tzFYXc4+GGcMnwq9mRUtJ3SRtspbUmHIdJrfuN8Fk5aGOQ5PCKhKvbspeV8vaJ8Ls+B7gNJhyGSKg3VDb0HSVTsZUd6DtOJiByHW5feyuqPrE46DJFUKS8rp7KsMjXn6xXlq/I6sCMyQqWTnqjYyw4VeyJyQjCzoKc5FwlVTWVN+oq9XD7Y2aBFQqViL5s0jFNEREQGVFNRc9SFytNgxaIVbHtzW9JhiKRKQ66h97aKvexQsSciIiIDSmPP3uWtlycdgkjqFHv2DKO5vjnZYCQ2KvZERERkQJ88+5PMGjcr6TBEZJQVi71JdZOCvUaljJzeSRERERnQjWfemHQIIjIGGqqjYZwawpktmqBFREREROQEV+zZU7GXLSr2REREREROcDUVNVSWVarYyxgN4xQREREROcGZGXe96y6WzliadCgSIxV7IiIiIiLCLefcknQIEjMN4xQREREREckgFXsiIiIiIiIZpGJPREREREQkg4Iq9szsQjN7zsxeMLNbk45HREREREQkrYIp9sysHPgmsAxoBa4ys9ZkoxIREREREUmnYIo94EzgBefcS865Q8APgOUJxyQiIiIiIpJKIRV7U4GXS+6/4peJiIiIiIjICIVU7A2Lmf2tmT1rZs/u2LEj6XBERERERESCFFKxtwWYXnJ/ml92FOfcd5xzi51zi5uamsYsOBERERERkTQJqdh7BphrZm8xsyrgSuCnCcckIiIiIiKSShVJB1DknOs2sxuBJ4ByYKVzbn3CYYmIiIiIiKRSMMUegHPuZ8DPko5DREREREQk7UIaxikiIiIiIiIxMedc0jEcMzPbAfxliNUmAjvHIJwTgXIZH+UyXspnfJTLeCmf8VEu46Ncxkv5jE9achlanDOdc/3OXJnqYm84zOxZ59zipOPIAuUyPsplvJTP+CiX8VI+46Ncxke5jJfyGZ+05DItcYKGcYqIiIiIiGSSij0REREREZEMOhGKve8kHUCGKJfxUS7jpXzGR7mMl/IZH+UyPsplvJTP+KQll2mJM/vn7ImIiIiIiJyIToSePRERERERkRPOmBd7ZjbdzP7TzP5kZuvN7Ca/fIKZPWVmm/zv8X75fDP7rZkdNLNb+uzrH/w+1pnZw2ZWPcBzXuv3u8nMri1ZfpWZrTWzNWb2CzObOMD2K81su5mt67P8c37b1Wb2pJlNOd78jETGcnmHmW3xuVxtZhcdb35GImO5fKQkj+1mtvo40zNiGcvn23xsa83sMTMrHG9+RiJtuRwoXv/YFX7ZYTMb81nMMpbLRNufweJLaT7VBh1Zfry5VBsUbz7VBh1ZPmAuS+LcYGb7/d/zejO7uyTOjWb2kpk5M1syinH+tY9xvZndPUhuz/Cv5wUz+7qZmV8eb1vpnBvTH2AycLq/nQeeB1qBLwO3+uW3Anf725OAtwNfAG4p2c9U4M9Ajb//Q+C6fp5vAvCS/z3e3x4PVADbgYl+vS8DdwwQ83nA6cC6PssLJbf/HviWcnnMubyjNCZ9Lo89l33W+Spwu/J5XJ/NZ4B3+NsrgM8plwPncqB4/f0FwMnAr4DF+lweVy4TbX8ymM87UBsUSy77rKc26Pg/m2qDhpHLYpyAASf5OE8FtgLf9Ot8HbgXaAfmj1KcjcBmoMmvdz/wrgFy+9/AEh/zz4FlfnmsbeWY9+w55151zv3R394LbCBK7HKihOB/X+rX2e6cewbo6md3FUCNmVUAtURvaF9/BTzlnHvdObcLeAq4kCixBtT5SrowwPY4534NvN7P8j0ld+sAN/Arj1+Wcpm0LObSb98GPDzwKx8dGcvnPODX/vZTwOUDv/L4pS2Xg8SLc26Dc+65ESchJhnLZaLtzxDxpS6fSctiLtUGxZZPtUHDyGUxThfZ5uOcQVSMPe5X+yLwTn975yjFORvY5Jzb4df7D/p5z8xsMtFBu9+5qML7N47kMNa2MtFz9sxsFnAa8Hug2Tn3qn9oG9A82LbOuS3AV4iq51eB3c65J/tZdSrwcsn9V4Cpzrku4AZgLdGb2Arcdwyv4Qtm9jJwNXD7SLePSxZyCdzou71XFocDJCEjuQQ4F+hwzm06xu1jkYF8ridq1ACuAKaPcPvYpC2XfeINShZyGUr742OZRcrzidqguP/O1QbFk0+1QSPMpZnNBpYBP/DP/bOxihN4ATjZzGb5YvFS+n/Ppvpt+m4fu8SKPTOrBx4Fbu5zhBJf4Q56lNL/I14OvAWYQlTpXzOC568k+tCc5rdfA3x6JK/Bx3qbc2468CBw40i3j0NGcnkv0AIsIvrj+uoIt49FRnJZdBUJHFEtlZF8rgA+ZmZ/IBrCcmiE28cibbkcLN6kZSWXIbQ/g8UHqcqn2iBi/ztXGxRPPtUGMfxc+jj/HbgSmAaUm9nCsYrT9/LdADwCrCIaMtoz3O1HQyLFnn/DHgUedM79yC/u8F2axa7N7UPs5gLgz865Hb7a/xFwjpmdZUdODH4fsIWjK+ppftkiAOfci/7N/6HffnrJ9h8dwct6kDHuWofs5NI51+Gc63HOHQa+C5w5/CzEIyu59LFWAJcR/bNJRFby6Zzb6Jx7j3PuDKIvLi8OPwvxSFsuB4g3CBnNZSLtD2Qnn2qD4v1sqg2K9bOpNmj4ufxYaZzOuTeA3UQ9omMVJ865x5xzZznnzgaeA543s/KS7e/0607rb/u4VYzGTgdjZkbU7brBOfcvJQ/9FLgW+JL//ZMhdrUZWGJmtcAB4F3As8653+M/EP75JgB32ZEhGe8hOhJQDbSaWZOLxtW+28f0cun2Q7yWue7I8ITlwMbhbBeXjOVysjsyHOD9wLrB1o9blnLpXQBsdM69MuSaoyBL+TSzSc657WZWBvwT8K3hbBeXtOVykHgTl6VcJt3+DBFfGvOpNijev3O1QfF9NtUGDSOXPs77iXrSVvp91QCdwEy/r2KcbaMYZ+l7Nh74GNDmnOuhz/cOM9tjZkuIhsV+CPjXwRJ4zNwYzugTFeIsJepCXQOs9j8XEc1e80tgE9HJjBP8+icRjWPdA7zhbxf8Y58lauDWAQ8AuQGecwXRGNoXgA+XLP8o0Qmca4DHgMYBtn+YaFhHl3/+6/3yR/1zF7efqlwecy4fIBqHvYboH8hk5fLYcukf+z7w0bH++85iPoGbiGb1ep6oUTPlcuBcDhSvf+z9Pp6DQAfwhHJ5zLlMtP3JYD7VBsWUS//491EbFNdnU23QMHJZEufzwH6iQq2daFKWYpzPEfWedROdv7dvlOJ8GPiT/7lykNwu9s/xIvCN4ntLzG1lcaciIiIiIiKSIYlN0CIiIiIiIiKjR8WeiIiIiIhIBqnYExERERERySAVeyIiIiIiIhmkYk9ERERERCSDVOyJiIj0YWbrzOxP/gK4W8zsjqRjEhERGSkVeyIiIv1b5pxbBHwt6UBERESOhYo9ERGR/6+S6IK2vcys3sx+aWZ/NLO1ZrbcL/9n3wO4zfcCrjazOwdaX0REZKzoouoiIiJ9mNlWYK5zbp+Z3QLUA58Hap1ze8xsIvA7v47z29wBvOmc+4q/XzHY+iIiIqOtIukAREREQmJm5UDeObev70PAXWZ2HnAYmAo0A9sG2tUI1xcREYmVij0REZGjzQae72f51UATcIZzrsvM2oHqQfYz0vVFRERipXP2REREjtYG/Laf5Q3Adl+4nQ/MHGI/I11fREQkVurZExER8czsBqJz8/5iZkv94iagHPgUsNjM1gLPAhuH2N2DwGMjWF9ERCRWmqBFRETE85OstDvnvj+c5SIiIiHTME4REREREZEMUs+eiIiI5y+X4JxzPcNZLiIiEjIVeyIiIiIiIhmkYZwiIiIiIiIZpGJPREREREQkg1TsiYiIiIiIZJCKPRERERERkQxSsSciIiIiIpJB/weuMWXaEiUNBQAAAABJRU5ErkJggg==\n",
      "text/plain": [
       "<Figure size 1080x432 with 1 Axes>"
      ]
     },
     "metadata": {
      "needs_background": "light"
     },
     "output_type": "display_data"
    }
   ],
   "source": [
    "plt.figure(figsize=(15, 6))\n",
    "\n",
    "plt.plot(target_test, label='target_test', color = 'green')\n",
    "plt.plot(target_test.index, predict_test, label='predict_test', color = 'red')\n",
    "plt.xlabel('Дата')\n",
    "plt.ylabel('Значение')"
   ]
  },
  {
   "cell_type": "markdown",
   "metadata": {},
   "source": [
    "Предсказания и тестовые значения отличаются в пиковое время, но в основном значения близки."
   ]
  },
  {
   "cell_type": "markdown",
   "metadata": {},
   "source": [
    "**Итоговый вывод:** <br>\n",
    "Выполнен анализ данных и выявлено: \n",
    "- цикличность количества заказов \n",
    "- тренд на увеличение количества заказов\n",
    "\n",
    "К данным добавлены дополнительные признаки:\n",
    "- день\n",
    "- час\n",
    "- день недели\n",
    "- скользящее среднее и отстающие значения\n",
    "\n",
    "Наилучшая показатели у модели CatBoostRegressor <br>\n",
    "Получили итоговое RMSE на тестовых данных 40.03"
   ]
  }
 ],
 "metadata": {
  "ExecuteTimeLog": [
   {
    "duration": 1641,
    "start_time": "2022-05-07T22:20:52.615Z"
   },
   {
    "duration": 1583,
    "start_time": "2022-05-08T07:31:54.842Z"
   },
   {
    "duration": 39,
    "start_time": "2022-05-08T07:31:58.041Z"
   },
   {
    "duration": 109,
    "start_time": "2022-05-08T07:32:29.075Z"
   },
   {
    "duration": 11,
    "start_time": "2022-05-08T07:32:37.814Z"
   },
   {
    "duration": 11,
    "start_time": "2022-05-08T07:32:39.617Z"
   },
   {
    "duration": 4,
    "start_time": "2022-05-08T07:42:40.541Z"
   },
   {
    "duration": 9,
    "start_time": "2022-05-08T09:27:12.572Z"
   },
   {
    "duration": 236,
    "start_time": "2022-05-08T09:27:17.902Z"
   },
   {
    "duration": 319,
    "start_time": "2022-05-08T09:48:05.413Z"
   },
   {
    "duration": 9,
    "start_time": "2022-05-08T10:21:34.411Z"
   },
   {
    "duration": 355,
    "start_time": "2022-05-08T10:21:35.301Z"
   },
   {
    "duration": 260,
    "start_time": "2022-05-08T10:23:37.308Z"
   },
   {
    "duration": 233,
    "start_time": "2022-05-08T10:23:56.477Z"
   },
   {
    "duration": 247,
    "start_time": "2022-05-08T10:24:15.399Z"
   },
   {
    "duration": 260,
    "start_time": "2022-05-08T10:24:25.988Z"
   },
   {
    "duration": 8,
    "start_time": "2022-05-08T10:24:27.652Z"
   },
   {
    "duration": 173,
    "start_time": "2022-05-08T10:24:28.207Z"
   },
   {
    "duration": 7,
    "start_time": "2022-05-08T10:24:47.668Z"
   },
   {
    "duration": 226,
    "start_time": "2022-05-08T10:24:47.985Z"
   },
   {
    "duration": 166,
    "start_time": "2022-05-08T10:25:03.532Z"
   },
   {
    "duration": 227,
    "start_time": "2022-05-08T10:25:14.347Z"
   },
   {
    "duration": 253,
    "start_time": "2022-05-08T10:25:30.018Z"
   },
   {
    "duration": 318,
    "start_time": "2022-05-08T10:26:18.077Z"
   },
   {
    "duration": 261,
    "start_time": "2022-05-08T10:26:25.517Z"
   },
   {
    "duration": 14,
    "start_time": "2022-05-08T10:38:59.819Z"
   },
   {
    "duration": 4,
    "start_time": "2022-05-08T10:39:49.460Z"
   },
   {
    "duration": 10,
    "start_time": "2022-05-08T10:39:55.385Z"
   },
   {
    "duration": 4,
    "start_time": "2022-05-08T10:40:49.059Z"
   },
   {
    "duration": 3,
    "start_time": "2022-05-08T10:40:55.069Z"
   },
   {
    "duration": 4,
    "start_time": "2022-05-08T10:46:32.009Z"
   },
   {
    "duration": 27,
    "start_time": "2022-05-08T10:49:21.387Z"
   },
   {
    "duration": 17,
    "start_time": "2022-05-08T10:49:53.076Z"
   },
   {
    "duration": 10,
    "start_time": "2022-05-08T10:50:07.685Z"
   },
   {
    "duration": 9,
    "start_time": "2022-05-08T10:50:28.776Z"
   },
   {
    "duration": 7,
    "start_time": "2022-05-08T10:53:20.816Z"
   },
   {
    "duration": 111,
    "start_time": "2022-05-08T10:57:57.088Z"
   },
   {
    "duration": 12,
    "start_time": "2022-05-08T10:58:31.069Z"
   },
   {
    "duration": 6,
    "start_time": "2022-05-08T10:58:33.699Z"
   },
   {
    "duration": 115,
    "start_time": "2022-05-08T10:58:35.016Z"
   },
   {
    "duration": 5,
    "start_time": "2022-05-08T10:59:43.788Z"
   },
   {
    "duration": 4,
    "start_time": "2022-05-08T10:59:45.309Z"
   },
   {
    "duration": 13,
    "start_time": "2022-05-08T10:59:46.157Z"
   },
   {
    "duration": 7,
    "start_time": "2022-05-08T10:59:47.447Z"
   },
   {
    "duration": 17,
    "start_time": "2022-05-08T10:59:49.499Z"
   },
   {
    "duration": 107,
    "start_time": "2022-05-08T11:00:55.750Z"
   },
   {
    "duration": 36,
    "start_time": "2022-05-08T11:01:46.089Z"
   },
   {
    "duration": 11,
    "start_time": "2022-05-08T11:01:48.987Z"
   },
   {
    "duration": 10,
    "start_time": "2022-05-08T11:02:31.133Z"
   },
   {
    "duration": 9,
    "start_time": "2022-05-08T11:03:01.980Z"
   },
   {
    "duration": 14,
    "start_time": "2022-05-08T11:03:03.366Z"
   },
   {
    "duration": 105,
    "start_time": "2022-05-08T11:05:24.099Z"
   },
   {
    "duration": 130,
    "start_time": "2022-05-08T11:06:45.719Z"
   },
   {
    "duration": 4,
    "start_time": "2022-05-08T11:07:29.678Z"
   },
   {
    "duration": 19556,
    "start_time": "2022-05-08T11:07:39.482Z"
   },
   {
    "duration": 8,
    "start_time": "2022-05-08T11:10:21.493Z"
   },
   {
    "duration": 13,
    "start_time": "2022-05-08T11:10:30.485Z"
   },
   {
    "duration": 105,
    "start_time": "2022-05-08T11:11:03.329Z"
   },
   {
    "duration": 1451,
    "start_time": "2022-05-08T11:19:48.872Z"
   },
   {
    "duration": 47,
    "start_time": "2022-05-08T11:19:50.325Z"
   },
   {
    "duration": 10,
    "start_time": "2022-05-08T11:19:50.374Z"
   },
   {
    "duration": 15,
    "start_time": "2022-05-08T11:19:50.385Z"
   },
   {
    "duration": 5,
    "start_time": "2022-05-08T11:19:50.403Z"
   },
   {
    "duration": 428,
    "start_time": "2022-05-08T11:19:50.409Z"
   },
   {
    "duration": 12,
    "start_time": "2022-05-08T11:19:50.840Z"
   },
   {
    "duration": 301,
    "start_time": "2022-05-08T11:19:50.859Z"
   },
   {
    "duration": 247,
    "start_time": "2022-05-08T11:19:51.163Z"
   },
   {
    "duration": 276,
    "start_time": "2022-05-08T11:19:51.412Z"
   },
   {
    "duration": 415,
    "start_time": "2022-05-08T11:19:51.691Z"
   },
   {
    "duration": 7,
    "start_time": "2022-05-08T11:19:52.109Z"
   },
   {
    "duration": 6,
    "start_time": "2022-05-08T11:19:52.129Z"
   },
   {
    "duration": 45,
    "start_time": "2022-05-08T11:19:52.139Z"
   },
   {
    "duration": 7,
    "start_time": "2022-05-08T11:19:52.187Z"
   },
   {
    "duration": 226,
    "start_time": "2022-05-08T11:19:52.196Z"
   },
   {
    "duration": 207,
    "start_time": "2022-05-08T11:19:52.427Z"
   },
   {
    "duration": 251193,
    "start_time": "2022-05-08T11:19:52.642Z"
   },
   {
    "duration": 9,
    "start_time": "2022-05-08T12:11:29.305Z"
   },
   {
    "duration": 1751,
    "start_time": "2022-05-08T12:11:35.867Z"
   },
   {
    "duration": 38,
    "start_time": "2022-05-08T12:11:37.620Z"
   },
   {
    "duration": 10,
    "start_time": "2022-05-08T12:11:37.660Z"
   },
   {
    "duration": 10,
    "start_time": "2022-05-08T12:11:37.672Z"
   },
   {
    "duration": 4,
    "start_time": "2022-05-08T12:11:37.685Z"
   },
   {
    "duration": 290,
    "start_time": "2022-05-08T12:11:37.691Z"
   },
   {
    "duration": 8,
    "start_time": "2022-05-08T12:11:37.984Z"
   },
   {
    "duration": 283,
    "start_time": "2022-05-08T12:11:37.993Z"
   },
   {
    "duration": 310,
    "start_time": "2022-05-08T12:11:38.278Z"
   },
   {
    "duration": 252,
    "start_time": "2022-05-08T12:11:38.590Z"
   },
   {
    "duration": 386,
    "start_time": "2022-05-08T12:11:38.844Z"
   },
   {
    "duration": 11,
    "start_time": "2022-05-08T12:11:39.232Z"
   },
   {
    "duration": 6,
    "start_time": "2022-05-08T12:11:39.246Z"
   },
   {
    "duration": 34,
    "start_time": "2022-05-08T12:11:39.256Z"
   },
   {
    "duration": 8,
    "start_time": "2022-05-08T12:11:39.292Z"
   },
   {
    "duration": 32,
    "start_time": "2022-05-08T12:11:39.302Z"
   },
   {
    "duration": 29,
    "start_time": "2022-05-08T12:11:39.336Z"
   },
   {
    "duration": 264656,
    "start_time": "2022-05-08T12:11:39.427Z"
   },
   {
    "duration": 1603,
    "start_time": "2022-05-08T12:44:25.420Z"
   },
   {
    "duration": 66,
    "start_time": "2022-05-08T12:44:27.026Z"
   },
   {
    "duration": 13,
    "start_time": "2022-05-08T12:44:27.094Z"
   },
   {
    "duration": 11,
    "start_time": "2022-05-08T12:44:27.109Z"
   },
   {
    "duration": 13,
    "start_time": "2022-05-08T12:44:27.123Z"
   },
   {
    "duration": 406,
    "start_time": "2022-05-08T12:44:27.138Z"
   },
   {
    "duration": 9,
    "start_time": "2022-05-08T12:44:27.548Z"
   },
   {
    "duration": 285,
    "start_time": "2022-05-08T12:44:27.559Z"
   },
   {
    "duration": 283,
    "start_time": "2022-05-08T12:44:27.846Z"
   },
   {
    "duration": 196,
    "start_time": "2022-05-08T12:44:28.132Z"
   },
   {
    "duration": 283,
    "start_time": "2022-05-08T12:44:28.330Z"
   },
   {
    "duration": 19,
    "start_time": "2022-05-08T12:44:28.615Z"
   },
   {
    "duration": 9,
    "start_time": "2022-05-08T12:44:28.636Z"
   },
   {
    "duration": 29,
    "start_time": "2022-05-08T12:44:28.648Z"
   },
   {
    "duration": 7,
    "start_time": "2022-05-08T12:44:28.678Z"
   },
   {
    "duration": 9,
    "start_time": "2022-05-08T12:44:28.688Z"
   },
   {
    "duration": 65,
    "start_time": "2022-05-08T12:44:28.699Z"
   },
   {
    "duration": 336,
    "start_time": "2022-05-08T12:44:28.769Z"
   },
   {
    "duration": 110,
    "start_time": "2022-05-08T12:44:29.107Z"
   },
   {
    "duration": 9,
    "start_time": "2022-05-08T12:44:29.219Z"
   },
   {
    "duration": 158,
    "start_time": "2022-05-08T12:44:29.230Z"
   },
   {
    "duration": 274431,
    "start_time": "2022-05-08T12:45:49.658Z"
   },
   {
    "duration": 267593,
    "start_time": "2022-05-08T12:50:44.371Z"
   },
   {
    "duration": 4,
    "start_time": "2022-05-08T12:55:21.553Z"
   },
   {
    "duration": 4,
    "start_time": "2022-05-08T12:56:02.668Z"
   },
   {
    "duration": 55,
    "start_time": "2022-05-08T12:56:18.592Z"
   },
   {
    "duration": 104,
    "start_time": "2022-05-08T12:56:33.343Z"
   },
   {
    "duration": 5,
    "start_time": "2022-05-08T12:57:00.952Z"
   },
   {
    "duration": 1556,
    "start_time": "2022-05-08T13:37:58.216Z"
   },
   {
    "duration": 39,
    "start_time": "2022-05-08T13:37:59.774Z"
   },
   {
    "duration": 17,
    "start_time": "2022-05-08T13:37:59.815Z"
   },
   {
    "duration": 24,
    "start_time": "2022-05-08T13:37:59.835Z"
   },
   {
    "duration": 5,
    "start_time": "2022-05-08T13:37:59.861Z"
   },
   {
    "duration": 400,
    "start_time": "2022-05-08T13:37:59.868Z"
   },
   {
    "duration": 11,
    "start_time": "2022-05-08T13:38:00.270Z"
   },
   {
    "duration": 350,
    "start_time": "2022-05-08T13:38:00.283Z"
   },
   {
    "duration": 345,
    "start_time": "2022-05-08T13:38:00.636Z"
   },
   {
    "duration": 261,
    "start_time": "2022-05-08T13:38:00.984Z"
   },
   {
    "duration": 379,
    "start_time": "2022-05-08T13:38:01.247Z"
   },
   {
    "duration": 8,
    "start_time": "2022-05-08T13:38:01.629Z"
   },
   {
    "duration": 22,
    "start_time": "2022-05-08T13:38:01.640Z"
   },
   {
    "duration": 47,
    "start_time": "2022-05-08T13:38:01.664Z"
   },
   {
    "duration": 7,
    "start_time": "2022-05-08T13:38:01.713Z"
   },
   {
    "duration": 40,
    "start_time": "2022-05-08T13:38:01.722Z"
   },
   {
    "duration": 26,
    "start_time": "2022-05-08T13:38:01.764Z"
   },
   {
    "duration": 270402,
    "start_time": "2022-05-08T13:38:01.792Z"
   },
   {
    "duration": 283,
    "start_time": "2022-05-08T13:42:32.197Z"
   },
   {
    "duration": 8,
    "start_time": "2022-05-08T13:42:32.482Z"
   },
   {
    "duration": 13,
    "start_time": "2022-05-08T13:42:32.492Z"
   },
   {
    "duration": 18540,
    "start_time": "2022-05-08T13:44:00.855Z"
   },
   {
    "duration": 268060,
    "start_time": "2022-05-08T13:44:50.615Z"
   },
   {
    "duration": 1710160,
    "start_time": "2022-05-08T13:49:18.677Z"
   },
   {
    "duration": 1475,
    "start_time": "2022-05-08T14:17:51.795Z"
   },
   {
    "duration": 35,
    "start_time": "2022-05-08T14:17:53.272Z"
   },
   {
    "duration": 14,
    "start_time": "2022-05-08T14:17:53.309Z"
   },
   {
    "duration": 15,
    "start_time": "2022-05-08T14:17:53.330Z"
   },
   {
    "duration": 4,
    "start_time": "2022-05-08T14:17:53.348Z"
   },
   {
    "duration": 262,
    "start_time": "2022-05-08T14:17:53.354Z"
   },
   {
    "duration": 10,
    "start_time": "2022-05-08T14:17:53.618Z"
   },
   {
    "duration": 374,
    "start_time": "2022-05-08T14:17:53.630Z"
   },
   {
    "duration": 258,
    "start_time": "2022-05-08T14:17:54.006Z"
   },
   {
    "duration": 194,
    "start_time": "2022-05-08T14:17:54.266Z"
   },
   {
    "duration": 272,
    "start_time": "2022-05-08T14:17:54.462Z"
   },
   {
    "duration": 6,
    "start_time": "2022-05-08T14:17:54.736Z"
   },
   {
    "duration": 9,
    "start_time": "2022-05-08T14:17:54.743Z"
   },
   {
    "duration": 24,
    "start_time": "2022-05-08T14:17:54.755Z"
   },
   {
    "duration": 6,
    "start_time": "2022-05-08T14:17:54.781Z"
   },
   {
    "duration": 10,
    "start_time": "2022-05-08T14:17:54.788Z"
   },
   {
    "duration": 47,
    "start_time": "2022-05-08T14:17:54.799Z"
   },
   {
    "duration": 44306,
    "start_time": "2022-05-08T14:17:54.848Z"
   },
   {
    "duration": 1608,
    "start_time": "2022-05-08T14:18:42.965Z"
   },
   {
    "duration": 36,
    "start_time": "2022-05-08T14:18:44.576Z"
   },
   {
    "duration": 23,
    "start_time": "2022-05-08T14:18:44.614Z"
   },
   {
    "duration": 10,
    "start_time": "2022-05-08T14:18:44.639Z"
   },
   {
    "duration": 4,
    "start_time": "2022-05-08T14:18:44.652Z"
   },
   {
    "duration": 346,
    "start_time": "2022-05-08T14:18:44.658Z"
   },
   {
    "duration": 7,
    "start_time": "2022-05-08T14:18:45.006Z"
   },
   {
    "duration": 277,
    "start_time": "2022-05-08T14:18:45.015Z"
   },
   {
    "duration": 256,
    "start_time": "2022-05-08T14:18:45.294Z"
   },
   {
    "duration": 230,
    "start_time": "2022-05-08T14:18:45.553Z"
   },
   {
    "duration": 274,
    "start_time": "2022-05-08T14:18:45.784Z"
   },
   {
    "duration": 6,
    "start_time": "2022-05-08T14:18:46.060Z"
   },
   {
    "duration": 5,
    "start_time": "2022-05-08T14:18:46.067Z"
   },
   {
    "duration": 24,
    "start_time": "2022-05-08T14:18:46.075Z"
   },
   {
    "duration": 7,
    "start_time": "2022-05-08T14:18:46.101Z"
   },
   {
    "duration": 23,
    "start_time": "2022-05-08T14:18:46.109Z"
   },
   {
    "duration": 96,
    "start_time": "2022-05-08T14:18:46.134Z"
   },
   {
    "duration": 315868,
    "start_time": "2022-05-08T14:18:46.234Z"
   },
   {
    "duration": 1335954,
    "start_time": "2022-05-08T14:24:02.104Z"
   },
   {
    "duration": 7,
    "start_time": "2022-05-08T14:46:18.060Z"
   },
   {
    "duration": 11,
    "start_time": "2022-05-08T14:46:18.069Z"
   },
   {
    "duration": 1739,
    "start_time": "2022-05-08T14:46:43.524Z"
   },
   {
    "duration": 35,
    "start_time": "2022-05-08T14:46:45.265Z"
   },
   {
    "duration": 10,
    "start_time": "2022-05-08T14:46:45.302Z"
   },
   {
    "duration": 17,
    "start_time": "2022-05-08T14:46:45.314Z"
   },
   {
    "duration": 11,
    "start_time": "2022-05-08T14:46:45.333Z"
   },
   {
    "duration": 267,
    "start_time": "2022-05-08T14:46:45.346Z"
   },
   {
    "duration": 16,
    "start_time": "2022-05-08T14:46:45.614Z"
   },
   {
    "duration": 432,
    "start_time": "2022-05-08T14:46:45.632Z"
   },
   {
    "duration": 330,
    "start_time": "2022-05-08T14:46:46.067Z"
   },
   {
    "duration": 205,
    "start_time": "2022-05-08T14:46:46.400Z"
   },
   {
    "duration": 270,
    "start_time": "2022-05-08T14:46:46.608Z"
   },
   {
    "duration": 6,
    "start_time": "2022-05-08T14:46:46.880Z"
   },
   {
    "duration": 6,
    "start_time": "2022-05-08T14:46:46.888Z"
   },
   {
    "duration": 41,
    "start_time": "2022-05-08T14:46:46.896Z"
   },
   {
    "duration": 8,
    "start_time": "2022-05-08T14:46:46.939Z"
   },
   {
    "duration": 9,
    "start_time": "2022-05-08T14:46:46.949Z"
   },
   {
    "duration": 69,
    "start_time": "2022-05-08T14:46:46.959Z"
   },
   {
    "duration": 580871,
    "start_time": "2022-05-08T14:46:47.032Z"
   },
   {
    "duration": 9,
    "start_time": "2022-05-08T14:56:27.905Z"
   },
   {
    "duration": 12,
    "start_time": "2022-05-08T14:56:27.915Z"
   },
   {
    "duration": 1606,
    "start_time": "2022-05-08T15:01:42.334Z"
   },
   {
    "duration": 43,
    "start_time": "2022-05-08T15:01:43.942Z"
   },
   {
    "duration": 12,
    "start_time": "2022-05-08T15:01:43.986Z"
   },
   {
    "duration": 10,
    "start_time": "2022-05-08T15:01:44.001Z"
   },
   {
    "duration": 21,
    "start_time": "2022-05-08T15:01:44.013Z"
   },
   {
    "duration": 317,
    "start_time": "2022-05-08T15:01:44.036Z"
   },
   {
    "duration": 10,
    "start_time": "2022-05-08T15:01:44.355Z"
   },
   {
    "duration": 393,
    "start_time": "2022-05-08T15:01:44.367Z"
   },
   {
    "duration": 317,
    "start_time": "2022-05-08T15:01:44.763Z"
   },
   {
    "duration": 208,
    "start_time": "2022-05-08T15:01:45.083Z"
   },
   {
    "duration": 304,
    "start_time": "2022-05-08T15:01:45.294Z"
   },
   {
    "duration": 6,
    "start_time": "2022-05-08T15:01:45.600Z"
   },
   {
    "duration": 60,
    "start_time": "2022-05-08T15:01:45.609Z"
   },
   {
    "duration": 37,
    "start_time": "2022-05-08T15:01:45.671Z"
   },
   {
    "duration": 9,
    "start_time": "2022-05-08T15:01:45.711Z"
   },
   {
    "duration": 48,
    "start_time": "2022-05-08T15:01:45.722Z"
   },
   {
    "duration": 16,
    "start_time": "2022-05-08T15:01:45.772Z"
   },
   {
    "duration": 269517,
    "start_time": "2022-05-08T15:01:45.790Z"
   },
   {
    "duration": 11,
    "start_time": "2022-05-08T15:06:15.309Z"
   },
   {
    "duration": 42,
    "start_time": "2022-05-08T15:06:15.322Z"
   },
   {
    "duration": 143,
    "start_time": "2022-05-09T10:32:19.344Z"
   },
   {
    "duration": 1794,
    "start_time": "2022-05-09T10:35:00.352Z"
   },
   {
    "duration": 41,
    "start_time": "2022-05-09T10:35:09.631Z"
   },
   {
    "duration": 3499,
    "start_time": "2022-05-09T10:39:33.956Z"
   },
   {
    "duration": 6,
    "start_time": "2022-05-09T10:41:41.275Z"
   },
   {
    "duration": 5,
    "start_time": "2022-05-09T10:41:52.502Z"
   },
   {
    "duration": 27,
    "start_time": "2022-05-09T10:42:26.790Z"
   },
   {
    "duration": 7,
    "start_time": "2022-05-09T10:42:30.154Z"
   },
   {
    "duration": 8,
    "start_time": "2022-05-09T11:15:25.106Z"
   },
   {
    "duration": 424,
    "start_time": "2022-05-09T11:20:41.647Z"
   },
   {
    "duration": 121,
    "start_time": "2022-05-09T11:20:43.262Z"
   },
   {
    "duration": 209,
    "start_time": "2022-05-09T11:21:02.091Z"
   },
   {
    "duration": 147,
    "start_time": "2022-05-09T11:24:40.959Z"
   },
   {
    "duration": 5,
    "start_time": "2022-05-09T11:31:34.989Z"
   },
   {
    "duration": 136,
    "start_time": "2022-05-09T11:33:56.302Z"
   },
   {
    "duration": 8,
    "start_time": "2022-05-09T11:36:23.549Z"
   },
   {
    "duration": 165,
    "start_time": "2022-05-09T11:36:32.851Z"
   },
   {
    "duration": 3203,
    "start_time": "2022-05-09T11:37:04.461Z"
   },
   {
    "duration": 9,
    "start_time": "2022-05-09T11:37:15.118Z"
   },
   {
    "duration": 1644,
    "start_time": "2022-05-09T11:39:05.015Z"
   },
   {
    "duration": 239843,
    "start_time": "2022-05-09T11:40:13.399Z"
   },
   {
    "duration": 114,
    "start_time": "2022-05-09T11:44:13.244Z"
   },
   {
    "duration": 4,
    "start_time": "2022-05-09T11:45:37.747Z"
   },
   {
    "duration": 7,
    "start_time": "2022-05-09T11:45:46.149Z"
   },
   {
    "duration": 144,
    "start_time": "2022-05-09T11:50:52.573Z"
   },
   {
    "duration": 134,
    "start_time": "2022-05-09T11:54:42.491Z"
   },
   {
    "duration": 11435,
    "start_time": "2022-05-09T11:54:53.036Z"
   },
   {
    "duration": 11428,
    "start_time": "2022-05-09T11:55:11.766Z"
   },
   {
    "duration": 8,
    "start_time": "2022-05-09T11:56:47.137Z"
   },
   {
    "duration": 15425,
    "start_time": "2022-05-09T11:58:23.957Z"
   },
   {
    "duration": 7,
    "start_time": "2022-05-09T12:00:03.198Z"
   },
   {
    "duration": 7,
    "start_time": "2022-05-09T12:00:45.951Z"
   },
   {
    "duration": 305,
    "start_time": "2022-05-09T12:01:19.342Z"
   },
   {
    "duration": 2009,
    "start_time": "2022-05-09T12:01:53.214Z"
   },
   {
    "duration": 40,
    "start_time": "2022-05-09T12:01:55.225Z"
   },
   {
    "duration": 11,
    "start_time": "2022-05-09T12:01:55.267Z"
   },
   {
    "duration": 17,
    "start_time": "2022-05-09T12:01:55.281Z"
   },
   {
    "duration": 14,
    "start_time": "2022-05-09T12:01:55.300Z"
   },
   {
    "duration": 266,
    "start_time": "2022-05-09T12:01:55.315Z"
   },
   {
    "duration": 8,
    "start_time": "2022-05-09T12:01:55.583Z"
   },
   {
    "duration": 363,
    "start_time": "2022-05-09T12:01:55.592Z"
   },
   {
    "duration": 188,
    "start_time": "2022-05-09T12:01:55.957Z"
   },
   {
    "duration": 178,
    "start_time": "2022-05-09T12:01:56.154Z"
   },
   {
    "duration": 264,
    "start_time": "2022-05-09T12:01:56.334Z"
   },
   {
    "duration": 1761,
    "start_time": "2022-05-09T12:01:56.600Z"
   },
   {
    "duration": 95,
    "start_time": "2022-05-09T12:01:58.363Z"
   },
   {
    "duration": 96,
    "start_time": "2022-05-09T12:01:58.460Z"
   },
   {
    "duration": 26,
    "start_time": "2022-05-09T12:01:58.559Z"
   },
   {
    "duration": 6,
    "start_time": "2022-05-09T12:01:58.587Z"
   },
   {
    "duration": 11,
    "start_time": "2022-05-09T12:01:58.595Z"
   },
   {
    "duration": 3950,
    "start_time": "2022-05-09T12:01:58.608Z"
   },
   {
    "duration": 234301,
    "start_time": "2022-05-09T12:02:02.560Z"
   },
   {
    "duration": 17212,
    "start_time": "2022-05-09T12:05:56.863Z"
   },
   {
    "duration": 8,
    "start_time": "2022-05-09T12:06:14.077Z"
   },
   {
    "duration": 11,
    "start_time": "2022-05-09T12:06:14.087Z"
   },
   {
    "duration": 320,
    "start_time": "2022-05-09T12:06:14.099Z"
   },
   {
    "duration": 8,
    "start_time": "2022-05-09T12:07:41.603Z"
   },
   {
    "duration": 217,
    "start_time": "2022-05-09T12:07:43.505Z"
   },
   {
    "duration": 1654,
    "start_time": "2022-05-09T12:08:04.201Z"
   },
   {
    "duration": 42,
    "start_time": "2022-05-09T12:08:05.857Z"
   },
   {
    "duration": 11,
    "start_time": "2022-05-09T12:08:05.901Z"
   },
   {
    "duration": 13,
    "start_time": "2022-05-09T12:08:05.914Z"
   },
   {
    "duration": 8,
    "start_time": "2022-05-09T12:08:05.928Z"
   },
   {
    "duration": 272,
    "start_time": "2022-05-09T12:08:05.938Z"
   },
   {
    "duration": 8,
    "start_time": "2022-05-09T12:08:06.212Z"
   },
   {
    "duration": 357,
    "start_time": "2022-05-09T12:08:06.222Z"
   },
   {
    "duration": 169,
    "start_time": "2022-05-09T12:08:06.581Z"
   },
   {
    "duration": 193,
    "start_time": "2022-05-09T12:08:06.752Z"
   },
   {
    "duration": 273,
    "start_time": "2022-05-09T12:08:06.948Z"
   },
   {
    "duration": 3643,
    "start_time": "2022-05-09T12:08:07.223Z"
   },
   {
    "duration": 11,
    "start_time": "2022-05-09T12:08:10.954Z"
   },
   {
    "duration": 19,
    "start_time": "2022-05-09T12:08:11.055Z"
   },
   {
    "duration": 55,
    "start_time": "2022-05-09T12:08:11.076Z"
   },
   {
    "duration": 7,
    "start_time": "2022-05-09T12:08:11.133Z"
   },
   {
    "duration": 17,
    "start_time": "2022-05-09T12:08:11.142Z"
   },
   {
    "duration": 3702,
    "start_time": "2022-05-09T12:08:11.161Z"
   },
   {
    "duration": 692278,
    "start_time": "2022-05-09T12:08:14.865Z"
   },
   {
    "duration": 6114,
    "start_time": "2022-05-09T12:19:47.144Z"
   },
   {
    "duration": 8,
    "start_time": "2022-05-09T12:19:53.260Z"
   },
   {
    "duration": 30,
    "start_time": "2022-05-09T12:19:53.270Z"
   },
   {
    "duration": 318,
    "start_time": "2022-05-09T12:19:53.301Z"
   },
   {
    "duration": 7,
    "start_time": "2022-05-09T12:22:32.036Z"
   },
   {
    "duration": 9,
    "start_time": "2022-05-09T12:22:38.789Z"
   },
   {
    "duration": 236,
    "start_time": "2022-05-09T12:25:59.794Z"
   },
   {
    "duration": 29,
    "start_time": "2022-05-09T12:31:08.736Z"
   },
   {
    "duration": 133,
    "start_time": "2022-05-09T12:31:24.402Z"
   },
   {
    "duration": 128,
    "start_time": "2022-05-09T12:32:35.203Z"
   },
   {
    "duration": 5,
    "start_time": "2022-05-09T12:33:02.839Z"
   },
   {
    "duration": 125,
    "start_time": "2022-05-09T12:33:08.792Z"
   },
   {
    "duration": 263471,
    "start_time": "2022-05-09T12:33:21.844Z"
   },
   {
    "duration": 1738,
    "start_time": "2022-05-09T12:37:57.966Z"
   },
   {
    "duration": 43,
    "start_time": "2022-05-09T12:37:59.706Z"
   },
   {
    "duration": 11,
    "start_time": "2022-05-09T12:37:59.751Z"
   },
   {
    "duration": 13,
    "start_time": "2022-05-09T12:37:59.764Z"
   },
   {
    "duration": 4,
    "start_time": "2022-05-09T12:37:59.779Z"
   },
   {
    "duration": 291,
    "start_time": "2022-05-09T12:37:59.785Z"
   },
   {
    "duration": 7,
    "start_time": "2022-05-09T12:38:00.078Z"
   },
   {
    "duration": 361,
    "start_time": "2022-05-09T12:38:00.086Z"
   },
   {
    "duration": 180,
    "start_time": "2022-05-09T12:38:00.449Z"
   },
   {
    "duration": 189,
    "start_time": "2022-05-09T12:38:00.632Z"
   },
   {
    "duration": 269,
    "start_time": "2022-05-09T12:38:00.823Z"
   },
   {
    "duration": 1272,
    "start_time": "2022-05-09T12:38:01.094Z"
   },
   {
    "duration": 94,
    "start_time": "2022-05-09T12:38:02.368Z"
   },
   {
    "duration": 92,
    "start_time": "2022-05-09T12:38:02.465Z"
   },
   {
    "duration": 32,
    "start_time": "2022-05-09T12:38:02.559Z"
   },
   {
    "duration": 6,
    "start_time": "2022-05-09T12:38:02.593Z"
   },
   {
    "duration": 26,
    "start_time": "2022-05-09T12:38:02.601Z"
   },
   {
    "duration": 1839,
    "start_time": "2022-05-09T12:38:02.629Z"
   },
   {
    "duration": 395925,
    "start_time": "2022-05-09T12:38:04.556Z"
   },
   {
    "duration": 260079,
    "start_time": "2022-05-09T12:44:40.483Z"
   },
   {
    "duration": 7,
    "start_time": "2022-05-09T12:49:00.564Z"
   },
   {
    "duration": 12,
    "start_time": "2022-05-09T12:49:00.573Z"
   },
   {
    "duration": 352,
    "start_time": "2022-05-09T12:49:00.587Z"
   },
   {
    "duration": 5696,
    "start_time": "2022-05-09T12:51:59.214Z"
   },
   {
    "duration": 1855,
    "start_time": "2022-05-09T12:52:31.564Z"
   },
   {
    "duration": 39,
    "start_time": "2022-05-09T12:52:33.421Z"
   },
   {
    "duration": 11,
    "start_time": "2022-05-09T12:52:33.462Z"
   },
   {
    "duration": 62,
    "start_time": "2022-05-09T12:52:33.476Z"
   },
   {
    "duration": 40,
    "start_time": "2022-05-09T12:52:33.540Z"
   },
   {
    "duration": 443,
    "start_time": "2022-05-09T12:52:33.582Z"
   },
   {
    "duration": 9,
    "start_time": "2022-05-09T12:52:34.027Z"
   },
   {
    "duration": 386,
    "start_time": "2022-05-09T12:52:34.037Z"
   },
   {
    "duration": 188,
    "start_time": "2022-05-09T12:52:34.425Z"
   },
   {
    "duration": 199,
    "start_time": "2022-05-09T12:52:34.617Z"
   },
   {
    "duration": 278,
    "start_time": "2022-05-09T12:52:34.818Z"
   },
   {
    "duration": 1758,
    "start_time": "2022-05-09T12:52:35.098Z"
   },
   {
    "duration": 7,
    "start_time": "2022-05-09T12:52:36.859Z"
   },
   {
    "duration": 7,
    "start_time": "2022-05-09T12:52:36.955Z"
   },
   {
    "duration": 24,
    "start_time": "2022-05-09T12:52:36.964Z"
   },
   {
    "duration": 6,
    "start_time": "2022-05-09T12:52:36.990Z"
   },
   {
    "duration": 9,
    "start_time": "2022-05-09T12:52:36.999Z"
   },
   {
    "duration": 3648,
    "start_time": "2022-05-09T12:52:37.010Z"
   },
   {
    "duration": 824580,
    "start_time": "2022-05-09T12:52:40.662Z"
   },
   {
    "duration": 2378,
    "start_time": "2022-05-09T13:33:58.241Z"
   },
   {
    "duration": 41,
    "start_time": "2022-05-09T13:34:00.621Z"
   },
   {
    "duration": 13,
    "start_time": "2022-05-09T13:34:00.664Z"
   },
   {
    "duration": 13,
    "start_time": "2022-05-09T13:34:00.679Z"
   },
   {
    "duration": 13,
    "start_time": "2022-05-09T13:34:00.694Z"
   },
   {
    "duration": 305,
    "start_time": "2022-05-09T13:34:00.709Z"
   },
   {
    "duration": 9,
    "start_time": "2022-05-09T13:34:01.016Z"
   },
   {
    "duration": 484,
    "start_time": "2022-05-09T13:34:01.027Z"
   },
   {
    "duration": 182,
    "start_time": "2022-05-09T13:34:01.513Z"
   },
   {
    "duration": 291,
    "start_time": "2022-05-09T13:34:01.700Z"
   },
   {
    "duration": 433,
    "start_time": "2022-05-09T13:34:01.993Z"
   },
   {
    "duration": 1427,
    "start_time": "2022-05-09T13:34:02.429Z"
   },
   {
    "duration": 7,
    "start_time": "2022-05-09T13:34:03.859Z"
   },
   {
    "duration": 88,
    "start_time": "2022-05-09T13:34:03.868Z"
   },
   {
    "duration": 29,
    "start_time": "2022-05-09T13:34:03.958Z"
   },
   {
    "duration": 6,
    "start_time": "2022-05-09T13:34:03.989Z"
   },
   {
    "duration": 13,
    "start_time": "2022-05-09T13:34:03.997Z"
   },
   {
    "duration": 3951,
    "start_time": "2022-05-09T13:34:04.012Z"
   },
   {
    "duration": 426229,
    "start_time": "2022-05-09T13:34:07.965Z"
   },
   {
    "duration": 1135877,
    "start_time": "2022-05-09T13:41:14.196Z"
   },
   {
    "duration": 9,
    "start_time": "2022-05-09T14:00:10.155Z"
   },
   {
    "duration": 14,
    "start_time": "2022-05-09T14:00:10.166Z"
   },
   {
    "duration": 329,
    "start_time": "2022-05-09T14:00:10.182Z"
   },
   {
    "duration": 227,
    "start_time": "2022-05-09T14:01:46.097Z"
   },
   {
    "duration": 322,
    "start_time": "2022-05-09T14:02:14.866Z"
   },
   {
    "duration": 478,
    "start_time": "2022-05-09T14:03:02.596Z"
   },
   {
    "duration": 313,
    "start_time": "2022-05-09T14:03:17.683Z"
   },
   {
    "duration": 287,
    "start_time": "2022-05-09T14:03:23.117Z"
   },
   {
    "duration": 204,
    "start_time": "2022-05-09T14:03:36.719Z"
   },
   {
    "duration": 376,
    "start_time": "2022-05-09T14:03:47.406Z"
   },
   {
    "duration": 216,
    "start_time": "2022-05-09T14:04:05.857Z"
   },
   {
    "duration": 200,
    "start_time": "2022-05-09T14:04:15.214Z"
   },
   {
    "duration": 223,
    "start_time": "2022-05-09T14:04:31.602Z"
   },
   {
    "duration": 219,
    "start_time": "2022-05-09T14:04:43.588Z"
   },
   {
    "duration": 205,
    "start_time": "2022-05-09T14:04:48.105Z"
   },
   {
    "duration": 42,
    "start_time": "2022-05-09T14:09:10.607Z"
   },
   {
    "duration": 11,
    "start_time": "2022-05-09T14:09:17.544Z"
   },
   {
    "duration": 301,
    "start_time": "2022-05-09T14:09:19.372Z"
   }
  ],
  "kernelspec": {
   "display_name": "Python 3 (ipykernel)",
   "language": "python",
   "name": "python3"
  },
  "language_info": {
   "codemirror_mode": {
    "name": "ipython",
    "version": 3
   },
   "file_extension": ".py",
   "mimetype": "text/x-python",
   "name": "python",
   "nbconvert_exporter": "python",
   "pygments_lexer": "ipython3",
   "version": "3.9.5"
  },
  "toc": {
   "base_numbering": 1,
   "nav_menu": {},
   "number_sections": true,
   "sideBar": true,
   "skip_h1_title": true,
   "title_cell": "Содержание",
   "title_sidebar": "Contents",
   "toc_cell": true,
   "toc_position": {
    "height": "calc(100% - 180px)",
    "left": "10px",
    "top": "150px",
    "width": "294.594px"
   },
   "toc_section_display": true,
   "toc_window_display": true
  }
 },
 "nbformat": 4,
 "nbformat_minor": 2
}
