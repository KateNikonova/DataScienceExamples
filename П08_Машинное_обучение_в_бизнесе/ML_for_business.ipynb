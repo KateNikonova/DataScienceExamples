{
 "cells": [
{
   "cell_type": "markdown",
   "metadata": {},
   "source": [
    "# Выбор локации для скважины"
   ]
  },
  {
   "cell_type": "markdown",
   "metadata": {},
   "source": [
    "Допустим, вы работаете в добывающей компании «ГлавРосГосНефть». Нужно решить, где бурить новую скважину.\n",
    "\n",
    "Вам предоставлены пробы нефти в трёх регионах: в каждом 10 000 месторождений, где измерили качество нефти и объём её запасов. Постройте модель машинного обучения, которая поможет определить регион, где добыча принесёт наибольшую прибыль. Проанализируйте возможную прибыль и риски техникой *Bootstrap.*\n",
    "\n",
    "Шаги для выбора локации:\n",
    "\n",
    "- В избранном регионе ищут месторождения, для каждого определяют значения признаков;\n",
    "- Строят модель и оценивают объём запасов;\n",
    "- Выбирают месторождения с самым высокими оценками значений. Количество месторождений зависит от бюджета компании и стоимости разработки одной скважины;\n",
    "- Прибыль равна суммарной прибыли отобранных месторождений."
   ]
  },
  {
   "cell_type": "markdown",
   "metadata": {},
   "source": [
    "## Загрузка и подготовка данных"
   ]
  },
  {
   "cell_type": "code",
   "execution_count": 1,
   "metadata": {},
   "outputs": [],
   "source": [
    "import pandas as pd\n",
    "import numpy as np\n",
    "from sklearn.model_selection import train_test_split\n",
    "from sklearn.linear_model import LinearRegression\n",
    "from sklearn.metrics import mean_squared_error\n",
    "from scipy import stats as st\n",
    "import warnings\n",
    "warnings.filterwarnings(\"ignore\")\n",
    "pd.options.display.max_columns = None\n",
    "pd.options.display.max_rows = None"
   ]
  },
  {
   "cell_type": "markdown",
   "metadata": {},
   "source": [
    "### Загрузка данных"
   ]
  },
  {
   "cell_type": "markdown",
   "metadata": {},
   "source": [
    "Загрузим данные и посмотрим основную информацию."
   ]
  },
  {
   "cell_type": "code",
   "execution_count": 2,
   "metadata": {},
   "outputs": [
    {
     "name": "stdout",
     "output_type": "stream",
     "text": [
      "<class 'pandas.core.frame.DataFrame'>\n",
      "RangeIndex: 100000 entries, 0 to 99999\n",
      "Data columns (total 5 columns):\n",
      "id         100000 non-null object\n",
      "f0         100000 non-null float64\n",
      "f1         100000 non-null float64\n",
      "f2         100000 non-null float64\n",
      "product    100000 non-null float64\n",
      "dtypes: float64(4), object(1)\n",
      "memory usage: 3.8+ MB\n"
     ]
    }
   ],
   "source": [
    "df0 = pd.read_csv(\"/datasets/geo_data_0.csv\")\n",
    "df0.info()"
   ]
  },
  {
   "cell_type": "code",
   "execution_count": 3,
   "metadata": {},
   "outputs": [
    {
     "data": {
      "text/html": [
       "<div>\n",
       "<style scoped>\n",
       "    .dataframe tbody tr th:only-of-type {\n",
       "        vertical-align: middle;\n",
       "    }\n",
       "\n",
       "    .dataframe tbody tr th {\n",
       "        vertical-align: top;\n",
       "    }\n",
       "\n",
       "    .dataframe thead th {\n",
       "        text-align: right;\n",
       "    }\n",
       "</style>\n",
       "<table border=\"1\" class=\"dataframe\">\n",
       "  <thead>\n",
       "    <tr style=\"text-align: right;\">\n",
       "      <th></th>\n",
       "      <th>f0</th>\n",
       "      <th>f1</th>\n",
       "      <th>f2</th>\n",
       "      <th>product</th>\n",
       "    </tr>\n",
       "  </thead>\n",
       "  <tbody>\n",
       "    <tr>\n",
       "      <td>count</td>\n",
       "      <td>100000.000000</td>\n",
       "      <td>100000.000000</td>\n",
       "      <td>100000.000000</td>\n",
       "      <td>100000.000000</td>\n",
       "    </tr>\n",
       "    <tr>\n",
       "      <td>mean</td>\n",
       "      <td>0.500419</td>\n",
       "      <td>0.250143</td>\n",
       "      <td>2.502647</td>\n",
       "      <td>92.500000</td>\n",
       "    </tr>\n",
       "    <tr>\n",
       "      <td>std</td>\n",
       "      <td>0.871832</td>\n",
       "      <td>0.504433</td>\n",
       "      <td>3.248248</td>\n",
       "      <td>44.288691</td>\n",
       "    </tr>\n",
       "    <tr>\n",
       "      <td>min</td>\n",
       "      <td>-1.408605</td>\n",
       "      <td>-0.848218</td>\n",
       "      <td>-12.088328</td>\n",
       "      <td>0.000000</td>\n",
       "    </tr>\n",
       "    <tr>\n",
       "      <td>25%</td>\n",
       "      <td>-0.072580</td>\n",
       "      <td>-0.200881</td>\n",
       "      <td>0.287748</td>\n",
       "      <td>56.497507</td>\n",
       "    </tr>\n",
       "    <tr>\n",
       "      <td>50%</td>\n",
       "      <td>0.502360</td>\n",
       "      <td>0.250252</td>\n",
       "      <td>2.515969</td>\n",
       "      <td>91.849972</td>\n",
       "    </tr>\n",
       "    <tr>\n",
       "      <td>75%</td>\n",
       "      <td>1.073581</td>\n",
       "      <td>0.700646</td>\n",
       "      <td>4.715088</td>\n",
       "      <td>128.564089</td>\n",
       "    </tr>\n",
       "    <tr>\n",
       "      <td>max</td>\n",
       "      <td>2.362331</td>\n",
       "      <td>1.343769</td>\n",
       "      <td>16.003790</td>\n",
       "      <td>185.364347</td>\n",
       "    </tr>\n",
       "  </tbody>\n",
       "</table>\n",
       "</div>"
      ],
      "text/plain": [
       "                  f0             f1             f2        product\n",
       "count  100000.000000  100000.000000  100000.000000  100000.000000\n",
       "mean        0.500419       0.250143       2.502647      92.500000\n",
       "std         0.871832       0.504433       3.248248      44.288691\n",
       "min        -1.408605      -0.848218     -12.088328       0.000000\n",
       "25%        -0.072580      -0.200881       0.287748      56.497507\n",
       "50%         0.502360       0.250252       2.515969      91.849972\n",
       "75%         1.073581       0.700646       4.715088     128.564089\n",
       "max         2.362331       1.343769      16.003790     185.364347"
      ]
     },
     "execution_count": 3,
     "metadata": {},
     "output_type": "execute_result"
    }
   ],
   "source": [
    "df0.describe()"
   ]
  },
  {
   "cell_type": "code",
   "execution_count": 4,
   "metadata": {},
   "outputs": [
    {
     "name": "stdout",
     "output_type": "stream",
     "text": [
      "<class 'pandas.core.frame.DataFrame'>\n",
      "RangeIndex: 100000 entries, 0 to 99999\n",
      "Data columns (total 5 columns):\n",
      "id         100000 non-null object\n",
      "f0         100000 non-null float64\n",
      "f1         100000 non-null float64\n",
      "f2         100000 non-null float64\n",
      "product    100000 non-null float64\n",
      "dtypes: float64(4), object(1)\n",
      "memory usage: 3.8+ MB\n"
     ]
    }
   ],
   "source": [
    "df1 = pd.read_csv(\"/datasets/geo_data_1.csv\")\n",
    "df1.info()"
   ]
  },
  {
   "cell_type": "code",
   "execution_count": 5,
   "metadata": {},
   "outputs": [
    {
     "data": {
      "text/html": [
       "<div>\n",
       "<style scoped>\n",
       "    .dataframe tbody tr th:only-of-type {\n",
       "        vertical-align: middle;\n",
       "    }\n",
       "\n",
       "    .dataframe tbody tr th {\n",
       "        vertical-align: top;\n",
       "    }\n",
       "\n",
       "    .dataframe thead th {\n",
       "        text-align: right;\n",
       "    }\n",
       "</style>\n",
       "<table border=\"1\" class=\"dataframe\">\n",
       "  <thead>\n",
       "    <tr style=\"text-align: right;\">\n",
       "      <th></th>\n",
       "      <th>f0</th>\n",
       "      <th>f1</th>\n",
       "      <th>f2</th>\n",
       "      <th>product</th>\n",
       "    </tr>\n",
       "  </thead>\n",
       "  <tbody>\n",
       "    <tr>\n",
       "      <td>count</td>\n",
       "      <td>100000.000000</td>\n",
       "      <td>100000.000000</td>\n",
       "      <td>100000.000000</td>\n",
       "      <td>100000.000000</td>\n",
       "    </tr>\n",
       "    <tr>\n",
       "      <td>mean</td>\n",
       "      <td>1.141296</td>\n",
       "      <td>-4.796579</td>\n",
       "      <td>2.494541</td>\n",
       "      <td>68.825000</td>\n",
       "    </tr>\n",
       "    <tr>\n",
       "      <td>std</td>\n",
       "      <td>8.965932</td>\n",
       "      <td>5.119872</td>\n",
       "      <td>1.703572</td>\n",
       "      <td>45.944423</td>\n",
       "    </tr>\n",
       "    <tr>\n",
       "      <td>min</td>\n",
       "      <td>-31.609576</td>\n",
       "      <td>-26.358598</td>\n",
       "      <td>-0.018144</td>\n",
       "      <td>0.000000</td>\n",
       "    </tr>\n",
       "    <tr>\n",
       "      <td>25%</td>\n",
       "      <td>-6.298551</td>\n",
       "      <td>-8.267985</td>\n",
       "      <td>1.000021</td>\n",
       "      <td>26.953261</td>\n",
       "    </tr>\n",
       "    <tr>\n",
       "      <td>50%</td>\n",
       "      <td>1.153055</td>\n",
       "      <td>-4.813172</td>\n",
       "      <td>2.011479</td>\n",
       "      <td>57.085625</td>\n",
       "    </tr>\n",
       "    <tr>\n",
       "      <td>75%</td>\n",
       "      <td>8.621015</td>\n",
       "      <td>-1.332816</td>\n",
       "      <td>3.999904</td>\n",
       "      <td>107.813044</td>\n",
       "    </tr>\n",
       "    <tr>\n",
       "      <td>max</td>\n",
       "      <td>29.421755</td>\n",
       "      <td>18.734063</td>\n",
       "      <td>5.019721</td>\n",
       "      <td>137.945408</td>\n",
       "    </tr>\n",
       "  </tbody>\n",
       "</table>\n",
       "</div>"
      ],
      "text/plain": [
       "                  f0             f1             f2        product\n",
       "count  100000.000000  100000.000000  100000.000000  100000.000000\n",
       "mean        1.141296      -4.796579       2.494541      68.825000\n",
       "std         8.965932       5.119872       1.703572      45.944423\n",
       "min       -31.609576     -26.358598      -0.018144       0.000000\n",
       "25%        -6.298551      -8.267985       1.000021      26.953261\n",
       "50%         1.153055      -4.813172       2.011479      57.085625\n",
       "75%         8.621015      -1.332816       3.999904     107.813044\n",
       "max        29.421755      18.734063       5.019721     137.945408"
      ]
     },
     "execution_count": 5,
     "metadata": {},
     "output_type": "execute_result"
    }
   ],
   "source": [
    "df1.describe()"
   ]
  },
  {
   "cell_type": "code",
   "execution_count": 6,
   "metadata": {},
   "outputs": [
    {
     "name": "stdout",
     "output_type": "stream",
     "text": [
      "<class 'pandas.core.frame.DataFrame'>\n",
      "RangeIndex: 100000 entries, 0 to 99999\n",
      "Data columns (total 5 columns):\n",
      "id         100000 non-null object\n",
      "f0         100000 non-null float64\n",
      "f1         100000 non-null float64\n",
      "f2         100000 non-null float64\n",
      "product    100000 non-null float64\n",
      "dtypes: float64(4), object(1)\n",
      "memory usage: 3.8+ MB\n"
     ]
    }
   ],
   "source": [
    "df2 = pd.read_csv(\"/datasets/geo_data_2.csv\")\n",
    "df2.info()"
   ]
  },
  {
   "cell_type": "code",
   "execution_count": 7,
   "metadata": {},
   "outputs": [
    {
     "data": {
      "text/html": [
       "<div>\n",
       "<style scoped>\n",
       "    .dataframe tbody tr th:only-of-type {\n",
       "        vertical-align: middle;\n",
       "    }\n",
       "\n",
       "    .dataframe tbody tr th {\n",
       "        vertical-align: top;\n",
       "    }\n",
       "\n",
       "    .dataframe thead th {\n",
       "        text-align: right;\n",
       "    }\n",
       "</style>\n",
       "<table border=\"1\" class=\"dataframe\">\n",
       "  <thead>\n",
       "    <tr style=\"text-align: right;\">\n",
       "      <th></th>\n",
       "      <th>f0</th>\n",
       "      <th>f1</th>\n",
       "      <th>f2</th>\n",
       "      <th>product</th>\n",
       "    </tr>\n",
       "  </thead>\n",
       "  <tbody>\n",
       "    <tr>\n",
       "      <td>count</td>\n",
       "      <td>100000.000000</td>\n",
       "      <td>100000.000000</td>\n",
       "      <td>100000.000000</td>\n",
       "      <td>100000.000000</td>\n",
       "    </tr>\n",
       "    <tr>\n",
       "      <td>mean</td>\n",
       "      <td>0.002023</td>\n",
       "      <td>-0.002081</td>\n",
       "      <td>2.495128</td>\n",
       "      <td>95.000000</td>\n",
       "    </tr>\n",
       "    <tr>\n",
       "      <td>std</td>\n",
       "      <td>1.732045</td>\n",
       "      <td>1.730417</td>\n",
       "      <td>3.473445</td>\n",
       "      <td>44.749921</td>\n",
       "    </tr>\n",
       "    <tr>\n",
       "      <td>min</td>\n",
       "      <td>-8.760004</td>\n",
       "      <td>-7.084020</td>\n",
       "      <td>-11.970335</td>\n",
       "      <td>0.000000</td>\n",
       "    </tr>\n",
       "    <tr>\n",
       "      <td>25%</td>\n",
       "      <td>-1.162288</td>\n",
       "      <td>-1.174820</td>\n",
       "      <td>0.130359</td>\n",
       "      <td>59.450441</td>\n",
       "    </tr>\n",
       "    <tr>\n",
       "      <td>50%</td>\n",
       "      <td>0.009424</td>\n",
       "      <td>-0.009482</td>\n",
       "      <td>2.484236</td>\n",
       "      <td>94.925613</td>\n",
       "    </tr>\n",
       "    <tr>\n",
       "      <td>75%</td>\n",
       "      <td>1.158535</td>\n",
       "      <td>1.163678</td>\n",
       "      <td>4.858794</td>\n",
       "      <td>130.595027</td>\n",
       "    </tr>\n",
       "    <tr>\n",
       "      <td>max</td>\n",
       "      <td>7.238262</td>\n",
       "      <td>7.844801</td>\n",
       "      <td>16.739402</td>\n",
       "      <td>190.029838</td>\n",
       "    </tr>\n",
       "  </tbody>\n",
       "</table>\n",
       "</div>"
      ],
      "text/plain": [
       "                  f0             f1             f2        product\n",
       "count  100000.000000  100000.000000  100000.000000  100000.000000\n",
       "mean        0.002023      -0.002081       2.495128      95.000000\n",
       "std         1.732045       1.730417       3.473445      44.749921\n",
       "min        -8.760004      -7.084020     -11.970335       0.000000\n",
       "25%        -1.162288      -1.174820       0.130359      59.450441\n",
       "50%         0.009424      -0.009482       2.484236      94.925613\n",
       "75%         1.158535       1.163678       4.858794     130.595027\n",
       "max         7.238262       7.844801      16.739402     190.029838"
      ]
     },
     "execution_count": 7,
     "metadata": {},
     "output_type": "execute_result"
    }
   ],
   "source": [
    "df2.describe()"
   ]
  },
  {
   "cell_type": "markdown",
   "metadata": {},
   "source": [
    "### Пропуски"
   ]
  },
  {
   "cell_type": "code",
   "execution_count": 8,
   "metadata": {},
   "outputs": [
    {
     "data": {
      "text/plain": [
       "id         0\n",
       "f0         0\n",
       "f1         0\n",
       "f2         0\n",
       "product    0\n",
       "dtype: int64"
      ]
     },
     "execution_count": 8,
     "metadata": {},
     "output_type": "execute_result"
    }
   ],
   "source": [
    "df0.isnull().sum()"
   ]
  },
  {
   "cell_type": "code",
   "execution_count": 9,
   "metadata": {},
   "outputs": [
    {
     "data": {
      "text/plain": [
       "id         0\n",
       "f0         0\n",
       "f1         0\n",
       "f2         0\n",
       "product    0\n",
       "dtype: int64"
      ]
     },
     "execution_count": 9,
     "metadata": {},
     "output_type": "execute_result"
    }
   ],
   "source": [
    "df1.isnull().sum()"
   ]
  },
  {
   "cell_type": "code",
   "execution_count": 10,
   "metadata": {},
   "outputs": [
    {
     "data": {
      "text/plain": [
       "id         0\n",
       "f0         0\n",
       "f1         0\n",
       "f2         0\n",
       "product    0\n",
       "dtype: int64"
      ]
     },
     "execution_count": 10,
     "metadata": {},
     "output_type": "execute_result"
    }
   ],
   "source": [
    "df2.isnull().sum()"
   ]
  },
  {
   "cell_type": "markdown",
   "metadata": {},
   "source": [
    "Пропусков нет. С данными можно работать далее."
   ]
  },
  {
   "cell_type": "markdown",
   "metadata": {},
   "source": [
    "### Изучим зависимость данных"
   ]
  },
  {
   "cell_type": "markdown",
   "metadata": {},
   "source": [
    "Посмотрим корреляцию признаков в регионах"
   ]
  },
  {
   "cell_type": "code",
   "execution_count": 11,
   "metadata": {},
   "outputs": [
    {
     "data": {
      "text/html": [
       "<div>\n",
       "<style scoped>\n",
       "    .dataframe tbody tr th:only-of-type {\n",
       "        vertical-align: middle;\n",
       "    }\n",
       "\n",
       "    .dataframe tbody tr th {\n",
       "        vertical-align: top;\n",
       "    }\n",
       "\n",
       "    .dataframe thead th {\n",
       "        text-align: right;\n",
       "    }\n",
       "</style>\n",
       "<table border=\"1\" class=\"dataframe\">\n",
       "  <thead>\n",
       "    <tr style=\"text-align: right;\">\n",
       "      <th></th>\n",
       "      <th>f0</th>\n",
       "      <th>f1</th>\n",
       "      <th>f2</th>\n",
       "      <th>product</th>\n",
       "    </tr>\n",
       "  </thead>\n",
       "  <tbody>\n",
       "    <tr>\n",
       "      <td>f0</td>\n",
       "      <td>1.000000</td>\n",
       "      <td>-0.440723</td>\n",
       "      <td>-0.003153</td>\n",
       "      <td>0.143536</td>\n",
       "    </tr>\n",
       "    <tr>\n",
       "      <td>f1</td>\n",
       "      <td>-0.440723</td>\n",
       "      <td>1.000000</td>\n",
       "      <td>0.001724</td>\n",
       "      <td>-0.192356</td>\n",
       "    </tr>\n",
       "    <tr>\n",
       "      <td>f2</td>\n",
       "      <td>-0.003153</td>\n",
       "      <td>0.001724</td>\n",
       "      <td>1.000000</td>\n",
       "      <td>0.483663</td>\n",
       "    </tr>\n",
       "    <tr>\n",
       "      <td>product</td>\n",
       "      <td>0.143536</td>\n",
       "      <td>-0.192356</td>\n",
       "      <td>0.483663</td>\n",
       "      <td>1.000000</td>\n",
       "    </tr>\n",
       "  </tbody>\n",
       "</table>\n",
       "</div>"
      ],
      "text/plain": [
       "               f0        f1        f2   product\n",
       "f0       1.000000 -0.440723 -0.003153  0.143536\n",
       "f1      -0.440723  1.000000  0.001724 -0.192356\n",
       "f2      -0.003153  0.001724  1.000000  0.483663\n",
       "product  0.143536 -0.192356  0.483663  1.000000"
      ]
     },
     "execution_count": 11,
     "metadata": {},
     "output_type": "execute_result"
    }
   ],
   "source": [
    "df0.corr()"
   ]
  },
  {
   "cell_type": "code",
   "execution_count": 12,
   "metadata": {},
   "outputs": [
    {
     "data": {
      "text/html": [
       "<div>\n",
       "<style scoped>\n",
       "    .dataframe tbody tr th:only-of-type {\n",
       "        vertical-align: middle;\n",
       "    }\n",
       "\n",
       "    .dataframe tbody tr th {\n",
       "        vertical-align: top;\n",
       "    }\n",
       "\n",
       "    .dataframe thead th {\n",
       "        text-align: right;\n",
       "    }\n",
       "</style>\n",
       "<table border=\"1\" class=\"dataframe\">\n",
       "  <thead>\n",
       "    <tr style=\"text-align: right;\">\n",
       "      <th></th>\n",
       "      <th>f0</th>\n",
       "      <th>f1</th>\n",
       "      <th>f2</th>\n",
       "      <th>product</th>\n",
       "    </tr>\n",
       "  </thead>\n",
       "  <tbody>\n",
       "    <tr>\n",
       "      <td>f0</td>\n",
       "      <td>1.000000</td>\n",
       "      <td>0.182287</td>\n",
       "      <td>-0.001777</td>\n",
       "      <td>-0.030491</td>\n",
       "    </tr>\n",
       "    <tr>\n",
       "      <td>f1</td>\n",
       "      <td>0.182287</td>\n",
       "      <td>1.000000</td>\n",
       "      <td>-0.002595</td>\n",
       "      <td>-0.010155</td>\n",
       "    </tr>\n",
       "    <tr>\n",
       "      <td>f2</td>\n",
       "      <td>-0.001777</td>\n",
       "      <td>-0.002595</td>\n",
       "      <td>1.000000</td>\n",
       "      <td>0.999397</td>\n",
       "    </tr>\n",
       "    <tr>\n",
       "      <td>product</td>\n",
       "      <td>-0.030491</td>\n",
       "      <td>-0.010155</td>\n",
       "      <td>0.999397</td>\n",
       "      <td>1.000000</td>\n",
       "    </tr>\n",
       "  </tbody>\n",
       "</table>\n",
       "</div>"
      ],
      "text/plain": [
       "               f0        f1        f2   product\n",
       "f0       1.000000  0.182287 -0.001777 -0.030491\n",
       "f1       0.182287  1.000000 -0.002595 -0.010155\n",
       "f2      -0.001777 -0.002595  1.000000  0.999397\n",
       "product -0.030491 -0.010155  0.999397  1.000000"
      ]
     },
     "execution_count": 12,
     "metadata": {},
     "output_type": "execute_result"
    }
   ],
   "source": [
    "df1.corr()"
   ]
  },
  {
   "cell_type": "code",
   "execution_count": 13,
   "metadata": {},
   "outputs": [
    {
     "data": {
      "text/html": [
       "<div>\n",
       "<style scoped>\n",
       "    .dataframe tbody tr th:only-of-type {\n",
       "        vertical-align: middle;\n",
       "    }\n",
       "\n",
       "    .dataframe tbody tr th {\n",
       "        vertical-align: top;\n",
       "    }\n",
       "\n",
       "    .dataframe thead th {\n",
       "        text-align: right;\n",
       "    }\n",
       "</style>\n",
       "<table border=\"1\" class=\"dataframe\">\n",
       "  <thead>\n",
       "    <tr style=\"text-align: right;\">\n",
       "      <th></th>\n",
       "      <th>f0</th>\n",
       "      <th>f1</th>\n",
       "      <th>f2</th>\n",
       "      <th>product</th>\n",
       "    </tr>\n",
       "  </thead>\n",
       "  <tbody>\n",
       "    <tr>\n",
       "      <td>f0</td>\n",
       "      <td>1.000000</td>\n",
       "      <td>0.000528</td>\n",
       "      <td>-0.000448</td>\n",
       "      <td>-0.001987</td>\n",
       "    </tr>\n",
       "    <tr>\n",
       "      <td>f1</td>\n",
       "      <td>0.000528</td>\n",
       "      <td>1.000000</td>\n",
       "      <td>0.000779</td>\n",
       "      <td>-0.001012</td>\n",
       "    </tr>\n",
       "    <tr>\n",
       "      <td>f2</td>\n",
       "      <td>-0.000448</td>\n",
       "      <td>0.000779</td>\n",
       "      <td>1.000000</td>\n",
       "      <td>0.445871</td>\n",
       "    </tr>\n",
       "    <tr>\n",
       "      <td>product</td>\n",
       "      <td>-0.001987</td>\n",
       "      <td>-0.001012</td>\n",
       "      <td>0.445871</td>\n",
       "      <td>1.000000</td>\n",
       "    </tr>\n",
       "  </tbody>\n",
       "</table>\n",
       "</div>"
      ],
      "text/plain": [
       "               f0        f1        f2   product\n",
       "f0       1.000000  0.000528 -0.000448 -0.001987\n",
       "f1       0.000528  1.000000  0.000779 -0.001012\n",
       "f2      -0.000448  0.000779  1.000000  0.445871\n",
       "product -0.001987 -0.001012  0.445871  1.000000"
      ]
     },
     "execution_count": 13,
     "metadata": {},
     "output_type": "execute_result"
    }
   ],
   "source": [
    "df2.corr()"
   ]
  },
  {
   "cell_type": "markdown",
   "metadata": {},
   "source": [
    "Довольно сильно коррелирует признак f2 и целевой признак для второго региона. Но признаки между собой не сильно зависимы, поэтому оставляем все три. "
   ]
  },
  {
   "cell_type": "markdown",
   "metadata": {},
   "source": [
    "## Обучение и проверка модели"
   ]
  },
  {
   "cell_type": "markdown",
   "metadata": {},
   "source": [
    "### Разбивка данных на обучающую и валидационную выборки "
   ]
  },
  {
   "cell_type": "code",
   "execution_count": 14,
   "metadata": {},
   "outputs": [],
   "source": [
    "target0 = df0['product']\n",
    "features0 = df0.drop(['id','product'], axis=1)\n",
    "features0_train, features0_valid, target0_train, target0_valid = train_test_split(\n",
    "    features0, target0, test_size=0.25, random_state=12345)\n",
    "\n",
    "target1 = df1['product']\n",
    "features1 = df1.drop(['id','product'], axis=1)\n",
    "features1_train, features1_valid, target1_train, target1_valid = train_test_split(\n",
    "    features1, target1, test_size=0.25, random_state=12345)\n",
    "\n",
    "target2 = df2['product']\n",
    "features2 = df2.drop(['id','product'], axis=1)\n",
    "features2_train, features2_valid, target2_train, target2_valid = train_test_split(\n",
    "    features2, target2, test_size=0.25, random_state=12345)"
   ]
  },
  {
   "cell_type": "markdown",
   "metadata": {},
   "source": [
    "### Обучение модели"
   ]
  },
  {
   "cell_type": "code",
   "execution_count": 15,
   "metadata": {},
   "outputs": [
    {
     "data": {
      "text/plain": [
       "LinearRegression(copy_X=True, fit_intercept=True, n_jobs=None, normalize=False)"
      ]
     },
     "execution_count": 15,
     "metadata": {},
     "output_type": "execute_result"
    }
   ],
   "source": [
    "model0 = LinearRegression()\n",
    "model0.fit(features0_train,target0_train)\n",
    "\n",
    "model1 = LinearRegression()\n",
    "model1.fit(features1_train,target1_train)\n",
    "\n",
    "model2 = LinearRegression()\n",
    "model2.fit(features2_train,target2_train)"
   ]
  },
  {
   "cell_type": "markdown",
   "metadata": {},
   "source": [
    "### Предсказания на валидационной выборке"
   ]
  },
  {
   "cell_type": "code",
   "execution_count": 16,
   "metadata": {},
   "outputs": [],
   "source": [
    "predict0 = model0.predict(features0_valid)\n",
    "predict1 = model1.predict(features1_valid)\n",
    "predict2 = model2.predict(features2_valid)"
   ]
  },
  {
   "cell_type": "markdown",
   "metadata": {},
   "source": [
    "### Средний запас предсказанного сырья и RMSE модели"
   ]
  },
  {
   "cell_type": "code",
   "execution_count": 17,
   "metadata": {},
   "outputs": [],
   "source": [
    "def metrics(target,predict,n):\n",
    "    mse = mean_squared_error(target,predict)\n",
    "    rmse = round(mse**0.5,4)\n",
    "    mean = round(predict.mean(),4)\n",
    "    display(f'Регион {n}. Средний запас предсказанного сырья:{mean}  и RMSE модели: {rmse}')"
   ]
  },
  {
   "cell_type": "code",
   "execution_count": 18,
   "metadata": {},
   "outputs": [
    {
     "data": {
      "text/plain": [
       "'Регион 1. Средний запас предсказанного сырья:92.5926  и RMSE модели: 37.5794'"
      ]
     },
     "metadata": {},
     "output_type": "display_data"
    }
   ],
   "source": [
    "metrics(target0_valid,predict0,1)"
   ]
  },
  {
   "cell_type": "code",
   "execution_count": 19,
   "metadata": {},
   "outputs": [
    {
     "data": {
      "text/plain": [
       "'Регион 2. Средний запас предсказанного сырья:68.7285  и RMSE модели: 0.8931'"
      ]
     },
     "metadata": {},
     "output_type": "display_data"
    }
   ],
   "source": [
    "metrics(target1_valid,predict1,2)"
   ]
  },
  {
   "cell_type": "code",
   "execution_count": 20,
   "metadata": {},
   "outputs": [
    {
     "data": {
      "text/plain": [
       "'Регион 3. Средний запас предсказанного сырья:94.965  и RMSE модели: 40.0297'"
      ]
     },
     "metadata": {},
     "output_type": "display_data"
    }
   ],
   "source": [
    "metrics(target2_valid,predict2,3)"
   ]
  },
  {
   "cell_type": "markdown",
   "metadata": {},
   "source": [
    "Средний запас предсказанного сырья для первого и третьего региона близок, как из RMSE модели. <br>\n",
    "При этом для второй средний запас меньше и rmse меньше 1. Возможно это связано с тем, что для вторго региона корреялция меджду признаком f2 и целевым принаком близка к 1, и предсказания точнее."
   ]
  },
  {
   "cell_type": "markdown",
   "metadata": {},
   "source": [
    "## Подготовка к расчёту прибыли"
   ]
  },
  {
   "cell_type": "markdown",
   "metadata": {},
   "source": [
    "Рассчитаем достаточный объём сырья для безубыточной разработки новой скважины."
   ]
  },
  {
   "cell_type": "code",
   "execution_count": 21,
   "metadata": {},
   "outputs": [
    {
     "data": {
      "text/plain": [
       "'Объем сырья для безубыточной разработки новой скважины: 111.1111'"
      ]
     },
     "metadata": {},
     "output_type": "display_data"
    }
   ],
   "source": [
    "BUDGET = 10000000000\n",
    "AMOUNT_ALL = 500\n",
    "AMOUNT_B = 200\n",
    "BARREL1000_PRICE = 450000\n",
    "\n",
    "BUDGET_WELL = BUDGET/AMOUNT_B\n",
    "VOLUME = round(BUDGET_WELL/BARREL1000_PRICE,4)\n",
    "\n",
    "display(f'Объем сырья для безубыточной разработки новой скважины: {VOLUME}')"
   ]
  },
  {
   "cell_type": "markdown",
   "metadata": {},
   "source": [
    "Рассчитаем средний запас в каждом регионе."
   ]
  },
  {
   "cell_type": "code",
   "execution_count": 22,
   "metadata": {},
   "outputs": [
    {
     "data": {
      "text/plain": [
       "'Средний запас в регионе 0: 92.50000000000001'"
      ]
     },
     "metadata": {},
     "output_type": "display_data"
    },
    {
     "data": {
      "text/plain": [
       "'Средний запас в регионе 1: 68.82500000000002'"
      ]
     },
     "metadata": {},
     "output_type": "display_data"
    },
    {
     "data": {
      "text/plain": [
       "'Средний запас в регионе 2: 95.00000000000004'"
      ]
     },
     "metadata": {},
     "output_type": "display_data"
    }
   ],
   "source": [
    "mean_0 = df0['product'].mean()\n",
    "mean_1 = df1['product'].mean()\n",
    "mean_2 = df2['product'].mean()\n",
    "\n",
    "display(f'Средний запас в регионе 0: {mean_0}')\n",
    "display(f'Средний запас в регионе 1: {mean_1}')\n",
    "display(f'Средний запас в регионе 2: {mean_2}')"
   ]
  },
  {
   "cell_type": "markdown",
   "metadata": {},
   "source": [
    "Средний запас в каждом регионе ниже объема для безубыточной разработки. Но возможно данных много и есть скажины пустые или с довольно низким объемом."
   ]
  },
  {
   "cell_type": "markdown",
   "metadata": {},
   "source": [
    "## Расчёт прибыли и рисков "
   ]
  },
  {
   "cell_type": "markdown",
   "metadata": {},
   "source": [
    "### Расчет прибыли по выбранным скважинам и предсказаниям модели"
   ]
  },
  {
   "cell_type": "code",
   "execution_count": 23,
   "metadata": {},
   "outputs": [
    {
     "name": "stdout",
     "output_type": "stream",
     "text": [
      "Прибыль для полученного объёма сырья выборки df0: 3.32 млрд.руб.\n"
     ]
    }
   ],
   "source": [
    "def profit (predictions,target):\n",
    "    predict_sort = pd.Series(predictions, index=target.index)\n",
    "    predict_sort = predict_sort.sort_values(ascending=False)\n",
    "    target_sort = target[predict_sort.index][:AMOUNT_B]\n",
    "    sum_sort = target_sort.sum()\n",
    "    return (sum_sort * BARREL1000_PRICE - BUDGET)\n",
    " \n",
    "income0 = profit(predict0,target0_valid)\n",
    "print (\"Прибыль для полученного объёма сырья выборки df0:\", (income0/1000000000).round(2),\"млрд.руб.\")"
   ]
  },
  {
   "cell_type": "code",
   "execution_count": 24,
   "metadata": {},
   "outputs": [
    {
     "name": "stdout",
     "output_type": "stream",
     "text": [
      "Прибыль для полученного объёма сырья выборки df1: 2.42 млрд.руб.\n"
     ]
    }
   ],
   "source": [
    "income1 = profit(predict1,target1_valid)\n",
    "print (\"Прибыль для полученного объёма сырья выборки df1:\", (income1/1000000000).round(2),\"млрд.руб.\")"
   ]
  },
  {
   "cell_type": "code",
   "execution_count": 25,
   "metadata": {},
   "outputs": [
    {
     "name": "stdout",
     "output_type": "stream",
     "text": [
      "Прибыль для полученного объёма сырья выборки df2: 2.71 млрд.руб.\n"
     ]
    }
   ],
   "source": [
    "income2 = profit(predict2,target2_valid)\n",
    "print (\"Прибыль для полученного объёма сырья выборки df2:\", (income2/1000000000).round(2),\"млрд.руб.\")"
   ]
  },
  {
   "cell_type": "markdown",
   "metadata": {},
   "source": [
    "###  Риски и прибыль для каждого региона"
   ]
  },
  {
   "cell_type": "code",
   "execution_count": 26,
   "metadata": {},
   "outputs": [],
   "source": [
    "def bootstrap(predictions, target):\n",
    "    state = np.random.RandomState(0)\n",
    "    values = []\n",
    " \n",
    "    for i in range(1000):\n",
    "        target_subsamples = target.reset_index(drop=True).sample(n=500, replace=True, random_state=state)\n",
    "        predictions_subsamples = predictions[target_subsamples.index]\n",
    "        values.append(profit(predictions_subsamples, target_subsamples))\n",
    " \n",
    "    values = pd.Series(values)\n",
    "    lower = round(values.quantile(0.025)/1000000,2)\n",
    "    upper = round(values.quantile(0.975)/1000000,2)\n",
    "    mean_profit = round((values.mean()/1000000),2)\n",
    "    loss = (np.mean(values < 0)*100)\n",
    " \n",
    "    return mean_profit, loss, lower, upper"
   ]
  },
  {
   "cell_type": "code",
   "execution_count": 27,
   "metadata": {},
   "outputs": [],
   "source": [
    "mean0_profit, loss0, lower0, upper0 = bootstrap(predict0, target0_valid)\n",
    "mean1_profit, loss1, lower1, upper1 = bootstrap(predict1, target1_valid)\n",
    "mean2_profit, loss2, lower2, upper2 = bootstrap(predict2, target2_valid)"
   ]
  },
  {
   "cell_type": "code",
   "execution_count": 28,
   "metadata": {},
   "outputs": [
    {
     "data": {
      "text/plain": [
       "'Для 0 региона - Средняя прибыль:410.3 млн., Доверительный интревал: -163.03-972.21 млн., Риск убытков:7.7 %'"
      ]
     },
     "metadata": {},
     "output_type": "display_data"
    },
    {
     "data": {
      "text/plain": [
       "'Для 1 региона - Средняя прибыль:507.55 млн., Доверительный интревал: 87.32-915.14 млн., Риск убытков:0.6 %'"
      ]
     },
     "metadata": {},
     "output_type": "display_data"
    },
    {
     "data": {
      "text/plain": [
       "'Для 2 региона - Средняя прибыль:412.26 млн., Доверительный интревал: -131.31-947.92 млн., Риск убытков:7.5 %'"
      ]
     },
     "metadata": {},
     "output_type": "display_data"
    }
   ],
   "source": [
    "display(f'Для 0 региона - Средняя прибыль:{mean0_profit} млн., Доверительный интревал: {lower0}-{upper0} млн., Риск убытков:{loss0} %')\n",
    "display(f'Для 1 региона - Средняя прибыль:{mean1_profit} млн., Доверительный интревал: {lower1}-{upper1} млн., Риск убытков:{loss1} %')\n",
    "display(f'Для 2 региона - Средняя прибыль:{mean2_profit} млн., Доверительный интревал: {lower2}-{upper2} млн., Риск убытков:{loss2} %')"
   ]
  },
  {
   "cell_type": "markdown",
   "metadata": {},
   "source": [
    "Предпочтительным для разработки скажин является регион с номером 1(2ой). Так как риск убытков всего 0,6%. А так же средняя прибыль выше чем в других регионах."
   ]
  }
 ],
 "metadata": {
  "ExecuteTimeLog": [
   {
    "duration": 992,
    "start_time": "2022-03-12T22:08:31.610Z"
   },
   {
    "duration": 134,
    "start_time": "2022-03-12T22:08:32.669Z"
   },
   {
    "duration": 136,
    "start_time": "2022-03-12T22:09:05.191Z"
   },
   {
    "duration": 130,
    "start_time": "2022-03-12T22:09:05.827Z"
   },
   {
    "duration": 1478,
    "start_time": "2022-03-13T17:21:01.444Z"
   },
   {
    "duration": 278,
    "start_time": "2022-03-13T17:21:02.925Z"
   },
   {
    "duration": 62,
    "start_time": "2022-03-13T17:21:04.614Z"
   },
   {
    "duration": 270,
    "start_time": "2022-03-13T17:22:38.219Z"
   },
   {
    "duration": 55,
    "start_time": "2022-03-13T17:22:40.153Z"
   },
   {
    "duration": 167,
    "start_time": "2022-03-13T17:22:56.436Z"
   },
   {
    "duration": 52,
    "start_time": "2022-03-13T17:22:57.500Z"
   },
   {
    "duration": 14,
    "start_time": "2022-03-13T17:27:52.690Z"
   },
   {
    "duration": 22,
    "start_time": "2022-03-13T17:27:53.772Z"
   },
   {
    "duration": 14,
    "start_time": "2022-03-13T17:27:54.351Z"
   },
   {
    "duration": 17,
    "start_time": "2022-03-13T17:34:16.307Z"
   },
   {
    "duration": 18,
    "start_time": "2022-03-13T17:34:33.664Z"
   },
   {
    "duration": 19,
    "start_time": "2022-03-13T17:34:35.260Z"
   },
   {
    "duration": 84,
    "start_time": "2022-03-13T17:58:51.872Z"
   },
   {
    "duration": 544,
    "start_time": "2022-03-13T18:00:33.214Z"
   },
   {
    "duration": 403,
    "start_time": "2022-03-13T18:05:28.950Z"
   },
   {
    "duration": 84,
    "start_time": "2022-03-13T18:05:36.978Z"
   },
   {
    "duration": 413,
    "start_time": "2022-03-13T18:05:38.602Z"
   },
   {
    "duration": 416,
    "start_time": "2022-03-13T18:06:28.084Z"
   },
   {
    "duration": 425,
    "start_time": "2022-03-13T18:07:05.250Z"
   },
   {
    "duration": 6,
    "start_time": "2022-03-13T18:18:12.840Z"
   },
   {
    "duration": 326,
    "start_time": "2022-03-13T18:19:31.313Z"
   },
   {
    "duration": 349,
    "start_time": "2022-03-13T18:19:38.898Z"
   },
   {
    "duration": 344,
    "start_time": "2022-03-13T18:19:44.073Z"
   },
   {
    "duration": 88,
    "start_time": "2022-03-13T18:20:07.898Z"
   },
   {
    "duration": 341,
    "start_time": "2022-03-13T18:20:09.078Z"
   },
   {
    "duration": 85,
    "start_time": "2022-03-13T18:21:03.009Z"
   },
   {
    "duration": 22,
    "start_time": "2022-03-13T18:21:05.231Z"
   },
   {
    "duration": 342,
    "start_time": "2022-03-13T18:29:19.883Z"
   },
   {
    "duration": 340,
    "start_time": "2022-03-13T18:29:20.231Z"
   },
   {
    "duration": 383,
    "start_time": "2022-03-13T18:29:44.924Z"
   },
   {
    "duration": 18,
    "start_time": "2022-03-13T18:29:51.282Z"
   },
   {
    "duration": 57,
    "start_time": "2022-03-13T18:30:00.464Z"
   },
   {
    "duration": 18,
    "start_time": "2022-03-13T18:30:01.492Z"
   },
   {
    "duration": 17,
    "start_time": "2022-03-13T18:30:01.758Z"
   },
   {
    "duration": 15,
    "start_time": "2022-03-13T18:30:02.344Z"
   },
   {
    "duration": 38,
    "start_time": "2022-03-13T18:37:00.032Z"
   },
   {
    "duration": 12,
    "start_time": "2022-03-13T18:37:29.842Z"
   },
   {
    "duration": 12,
    "start_time": "2022-03-13T18:37:30.109Z"
   },
   {
    "duration": 13,
    "start_time": "2022-03-13T18:37:30.388Z"
   },
   {
    "duration": 27,
    "start_time": "2022-03-13T18:37:54.172Z"
   },
   {
    "duration": 100,
    "start_time": "2022-03-13T18:45:18.973Z"
   },
   {
    "duration": 4,
    "start_time": "2022-03-13T18:53:51.044Z"
   },
   {
    "duration": 1222,
    "start_time": "2022-03-13T18:53:52.227Z"
   },
   {
    "duration": 5,
    "start_time": "2022-03-13T18:54:40.731Z"
   },
   {
    "duration": 8942,
    "start_time": "2022-03-13T18:54:43.206Z"
   },
   {
    "duration": 6,
    "start_time": "2022-03-13T18:55:17.849Z"
   },
   {
    "duration": 6,
    "start_time": "2022-03-13T18:55:32.817Z"
   },
   {
    "duration": 7,
    "start_time": "2022-03-13T18:55:34.187Z"
   },
   {
    "duration": 4,
    "start_time": "2022-03-13T18:56:00.141Z"
   },
   {
    "duration": 6,
    "start_time": "2022-03-13T18:56:00.918Z"
   },
   {
    "duration": 6,
    "start_time": "2022-03-13T18:56:01.726Z"
   },
   {
    "duration": 7,
    "start_time": "2022-03-13T18:56:02.132Z"
   },
   {
    "duration": 1272,
    "start_time": "2022-03-13T20:45:24.323Z"
   },
   {
    "duration": 177,
    "start_time": "2022-03-13T20:45:25.597Z"
   },
   {
    "duration": 61,
    "start_time": "2022-03-13T20:45:25.777Z"
   },
   {
    "duration": 185,
    "start_time": "2022-03-13T20:45:25.841Z"
   },
   {
    "duration": 61,
    "start_time": "2022-03-13T20:45:26.028Z"
   },
   {
    "duration": 185,
    "start_time": "2022-03-13T20:45:26.092Z"
   },
   {
    "duration": 48,
    "start_time": "2022-03-13T20:45:26.279Z"
   },
   {
    "duration": 13,
    "start_time": "2022-03-13T20:45:26.330Z"
   },
   {
    "duration": 14,
    "start_time": "2022-03-13T20:45:26.374Z"
   },
   {
    "duration": 12,
    "start_time": "2022-03-13T20:45:26.391Z"
   },
   {
    "duration": 17,
    "start_time": "2022-03-13T20:45:26.405Z"
   },
   {
    "duration": 62,
    "start_time": "2022-03-13T20:45:26.424Z"
   },
   {
    "duration": 17,
    "start_time": "2022-03-13T20:45:26.488Z"
   },
   {
    "duration": 88,
    "start_time": "2022-03-13T20:45:26.507Z"
   },
   {
    "duration": 31,
    "start_time": "2022-03-13T20:45:26.597Z"
   },
   {
    "duration": 54,
    "start_time": "2022-03-13T20:45:26.630Z"
   },
   {
    "duration": 102,
    "start_time": "2022-03-13T20:45:26.780Z"
   },
   {
    "duration": 9,
    "start_time": "2022-03-13T20:45:26.885Z"
   },
   {
    "duration": 8,
    "start_time": "2022-03-13T20:45:26.897Z"
   },
   {
    "duration": 8,
    "start_time": "2022-03-13T20:45:26.907Z"
   },
   {
    "duration": 438,
    "start_time": "2022-03-13T20:57:52.869Z"
   },
   {
    "duration": 5,
    "start_time": "2022-03-13T20:58:00.730Z"
   },
   {
    "duration": 6,
    "start_time": "2022-03-13T21:02:49.492Z"
   },
   {
    "duration": 7,
    "start_time": "2022-03-13T21:03:07.312Z"
   },
   {
    "duration": 12,
    "start_time": "2022-03-13T21:20:16.726Z"
   },
   {
    "duration": 344,
    "start_time": "2022-03-13T21:38:43.518Z"
   },
   {
    "duration": 572,
    "start_time": "2022-03-13T21:39:05.714Z"
   },
   {
    "duration": 603,
    "start_time": "2022-03-13T21:40:02.105Z"
   },
   {
    "duration": 545,
    "start_time": "2022-03-13T21:40:52.954Z"
   },
   {
    "duration": 15,
    "start_time": "2022-03-13T21:41:47.357Z"
   },
   {
    "duration": 16,
    "start_time": "2022-03-13T21:42:00.589Z"
   },
   {
    "duration": 15,
    "start_time": "2022-03-13T21:42:35.498Z"
   },
   {
    "duration": 16,
    "start_time": "2022-03-13T21:42:36.932Z"
   },
   {
    "duration": 14,
    "start_time": "2022-03-13T21:42:50.235Z"
   },
   {
    "duration": 16,
    "start_time": "2022-03-13T21:42:50.652Z"
   },
   {
    "duration": 15,
    "start_time": "2022-03-13T21:42:51.355Z"
   },
   {
    "duration": 14,
    "start_time": "2022-03-13T21:44:03.802Z"
   },
   {
    "duration": 12,
    "start_time": "2022-03-13T21:44:05.970Z"
   },
   {
    "duration": 12,
    "start_time": "2022-03-13T21:44:06.502Z"
   },
   {
    "duration": 13,
    "start_time": "2022-03-13T21:46:08.129Z"
   },
   {
    "duration": 13,
    "start_time": "2022-03-13T21:46:08.482Z"
   },
   {
    "duration": 358,
    "start_time": "2022-03-13T21:50:05.247Z"
   },
   {
    "duration": 6,
    "start_time": "2022-03-13T21:52:21.892Z"
   },
   {
    "duration": 653,
    "start_time": "2022-03-13T21:53:30.022Z"
   },
   {
    "duration": 7,
    "start_time": "2022-03-13T21:54:07.606Z"
   },
   {
    "duration": 765,
    "start_time": "2022-03-13T21:54:09.963Z"
   },
   {
    "duration": 6,
    "start_time": "2022-03-13T21:55:10.145Z"
   },
   {
    "duration": 7,
    "start_time": "2022-03-13T21:55:14.029Z"
   },
   {
    "duration": 660,
    "start_time": "2022-03-13T21:55:14.278Z"
   },
   {
    "duration": 7,
    "start_time": "2022-03-13T21:55:28.279Z"
   },
   {
    "duration": 4121,
    "start_time": "2022-03-13T21:55:29.248Z"
   },
   {
    "duration": 7,
    "start_time": "2022-03-13T22:02:03.420Z"
   },
   {
    "duration": 4693,
    "start_time": "2022-03-13T22:02:05.404Z"
   },
   {
    "duration": 5,
    "start_time": "2022-03-13T22:03:14.480Z"
   },
   {
    "duration": 4535,
    "start_time": "2022-03-13T22:03:20.398Z"
   },
   {
    "duration": 7,
    "start_time": "2022-03-13T22:03:38.908Z"
   },
   {
    "duration": 12202,
    "start_time": "2022-03-13T22:03:39.703Z"
   },
   {
    "duration": 9,
    "start_time": "2022-03-13T22:08:20.454Z"
   },
   {
    "duration": 9,
    "start_time": "2022-03-13T22:08:52.110Z"
   },
   {
    "duration": 6,
    "start_time": "2022-03-13T22:10:12.542Z"
   },
   {
    "duration": 11824,
    "start_time": "2022-03-13T22:10:12.989Z"
   },
   {
    "duration": 8,
    "start_time": "2022-03-13T22:10:24.816Z"
   },
   {
    "duration": 7,
    "start_time": "2022-03-13T22:11:02.457Z"
   },
   {
    "duration": 11898,
    "start_time": "2022-03-13T22:11:03.323Z"
   },
   {
    "duration": 8,
    "start_time": "2022-03-13T22:11:15.224Z"
   },
   {
    "duration": 9,
    "start_time": "2022-03-13T22:12:28.162Z"
   },
   {
    "duration": 7,
    "start_time": "2022-03-13T22:12:33.012Z"
   },
   {
    "duration": 12171,
    "start_time": "2022-03-13T22:12:33.629Z"
   },
   {
    "duration": 8,
    "start_time": "2022-03-13T22:12:45.803Z"
   },
   {
    "duration": 1402,
    "start_time": "2022-03-13T22:15:33.200Z"
   },
   {
    "duration": 183,
    "start_time": "2022-03-13T22:15:34.605Z"
   },
   {
    "duration": 66,
    "start_time": "2022-03-13T22:15:34.791Z"
   },
   {
    "duration": 182,
    "start_time": "2022-03-13T22:15:34.873Z"
   },
   {
    "duration": 59,
    "start_time": "2022-03-13T22:15:35.057Z"
   },
   {
    "duration": 187,
    "start_time": "2022-03-13T22:15:35.119Z"
   },
   {
    "duration": 64,
    "start_time": "2022-03-13T22:15:35.308Z"
   },
   {
    "duration": 12,
    "start_time": "2022-03-13T22:15:35.377Z"
   },
   {
    "duration": 22,
    "start_time": "2022-03-13T22:15:35.393Z"
   },
   {
    "duration": 25,
    "start_time": "2022-03-13T22:15:35.418Z"
   },
   {
    "duration": 33,
    "start_time": "2022-03-13T22:15:35.445Z"
   },
   {
    "duration": 16,
    "start_time": "2022-03-13T22:15:35.481Z"
   },
   {
    "duration": 27,
    "start_time": "2022-03-13T22:15:35.500Z"
   },
   {
    "duration": 83,
    "start_time": "2022-03-13T22:15:35.529Z"
   },
   {
    "duration": 33,
    "start_time": "2022-03-13T22:15:35.614Z"
   },
   {
    "duration": 34,
    "start_time": "2022-03-13T22:15:35.649Z"
   },
   {
    "duration": 108,
    "start_time": "2022-03-13T22:15:35.776Z"
   },
   {
    "duration": 15,
    "start_time": "2022-03-13T22:15:35.886Z"
   },
   {
    "duration": 11,
    "start_time": "2022-03-13T22:15:35.904Z"
   },
   {
    "duration": 30,
    "start_time": "2022-03-13T22:15:35.918Z"
   },
   {
    "duration": 8,
    "start_time": "2022-03-13T22:15:35.950Z"
   },
   {
    "duration": 18,
    "start_time": "2022-03-13T22:15:35.960Z"
   },
   {
    "duration": 17,
    "start_time": "2022-03-13T22:15:35.982Z"
   },
   {
    "duration": 14,
    "start_time": "2022-03-13T22:15:36.001Z"
   },
   {
    "duration": 14,
    "start_time": "2022-03-13T22:15:36.018Z"
   },
   {
    "duration": 44,
    "start_time": "2022-03-13T22:15:36.035Z"
   },
   {
    "duration": 12191,
    "start_time": "2022-03-13T22:15:36.082Z"
   },
   {
    "duration": 11,
    "start_time": "2022-03-13T22:15:48.275Z"
   },
   {
    "duration": 1080,
    "start_time": "2022-03-14T06:53:31.672Z"
   },
   {
    "duration": 149,
    "start_time": "2022-03-14T06:53:32.754Z"
   },
   {
    "duration": 59,
    "start_time": "2022-03-14T06:53:32.905Z"
   },
   {
    "duration": 135,
    "start_time": "2022-03-14T06:53:32.966Z"
   },
   {
    "duration": 49,
    "start_time": "2022-03-14T06:53:33.103Z"
   },
   {
    "duration": 139,
    "start_time": "2022-03-14T06:53:33.154Z"
   },
   {
    "duration": 50,
    "start_time": "2022-03-14T06:53:33.295Z"
   },
   {
    "duration": 11,
    "start_time": "2022-03-14T06:53:33.348Z"
   },
   {
    "duration": 11,
    "start_time": "2022-03-14T06:53:33.362Z"
   },
   {
    "duration": 11,
    "start_time": "2022-03-14T06:53:33.375Z"
   },
   {
    "duration": 12,
    "start_time": "2022-03-14T06:53:33.388Z"
   },
   {
    "duration": 51,
    "start_time": "2022-03-14T06:53:33.402Z"
   },
   {
    "duration": 12,
    "start_time": "2022-03-14T06:53:33.455Z"
   },
   {
    "duration": 44,
    "start_time": "2022-03-14T06:53:33.468Z"
   },
   {
    "duration": 49,
    "start_time": "2022-03-14T06:53:33.514Z"
   },
   {
    "duration": 76,
    "start_time": "2022-03-14T06:53:33.565Z"
   },
   {
    "duration": 96,
    "start_time": "2022-03-14T06:53:33.644Z"
   },
   {
    "duration": 98,
    "start_time": "2022-03-14T06:53:33.747Z"
   },
   {
    "duration": 19,
    "start_time": "2022-03-14T06:53:33.847Z"
   },
   {
    "duration": 21,
    "start_time": "2022-03-14T06:53:33.868Z"
   },
   {
    "duration": 19,
    "start_time": "2022-03-14T06:53:33.890Z"
   },
   {
    "duration": 10,
    "start_time": "2022-03-14T06:53:33.910Z"
   },
   {
    "duration": 16,
    "start_time": "2022-03-14T06:53:33.923Z"
   },
   {
    "duration": 19,
    "start_time": "2022-03-14T06:53:33.941Z"
   },
   {
    "duration": 17,
    "start_time": "2022-03-14T06:53:33.962Z"
   },
   {
    "duration": 9,
    "start_time": "2022-03-14T06:53:33.981Z"
   },
   {
    "duration": 8201,
    "start_time": "2022-03-14T06:53:33.992Z"
   },
   {
    "duration": 6,
    "start_time": "2022-03-14T06:53:42.195Z"
   },
   {
    "duration": 5,
    "start_time": "2022-03-14T06:54:07.965Z"
   },
   {
    "duration": 7684,
    "start_time": "2022-03-14T06:54:08.968Z"
   },
   {
    "duration": 7,
    "start_time": "2022-03-14T06:54:16.654Z"
   },
   {
    "duration": 6,
    "start_time": "2022-03-14T10:41:25.324Z"
   },
   {
    "duration": 5,
    "start_time": "2022-03-14T10:45:08.691Z"
   },
   {
    "duration": 373,
    "start_time": "2022-03-14T10:45:10.468Z"
   },
   {
    "duration": 6,
    "start_time": "2022-03-14T10:45:11.040Z"
   },
   {
    "duration": 5,
    "start_time": "2022-03-14T10:45:35.674Z"
   },
   {
    "duration": 307,
    "start_time": "2022-03-14T10:45:37.053Z"
   },
   {
    "duration": 5,
    "start_time": "2022-03-14T10:45:50.839Z"
   },
   {
    "duration": 7136,
    "start_time": "2022-03-14T10:46:04.893Z"
   },
   {
    "duration": 11,
    "start_time": "2022-03-14T10:46:12.031Z"
   },
   {
    "duration": 1069,
    "start_time": "2022-03-14T10:51:06.798Z"
   },
   {
    "duration": 142,
    "start_time": "2022-03-14T10:51:07.869Z"
   },
   {
    "duration": 51,
    "start_time": "2022-03-14T10:51:08.013Z"
   },
   {
    "duration": 133,
    "start_time": "2022-03-14T10:51:08.066Z"
   },
   {
    "duration": 45,
    "start_time": "2022-03-14T10:51:08.201Z"
   },
   {
    "duration": 133,
    "start_time": "2022-03-14T10:51:08.247Z"
   },
   {
    "duration": 35,
    "start_time": "2022-03-14T10:51:08.381Z"
   },
   {
    "duration": 22,
    "start_time": "2022-03-14T10:51:08.418Z"
   },
   {
    "duration": 10,
    "start_time": "2022-03-14T10:51:08.442Z"
   },
   {
    "duration": 9,
    "start_time": "2022-03-14T10:51:08.453Z"
   },
   {
    "duration": 11,
    "start_time": "2022-03-14T10:51:08.464Z"
   },
   {
    "duration": 12,
    "start_time": "2022-03-14T10:51:08.477Z"
   },
   {
    "duration": 49,
    "start_time": "2022-03-14T10:51:08.490Z"
   },
   {
    "duration": 44,
    "start_time": "2022-03-14T10:51:08.541Z"
   },
   {
    "duration": 22,
    "start_time": "2022-03-14T10:51:08.587Z"
   },
   {
    "duration": 31,
    "start_time": "2022-03-14T10:51:08.611Z"
   },
   {
    "duration": 6,
    "start_time": "2022-03-14T10:51:08.644Z"
   },
   {
    "duration": 90,
    "start_time": "2022-03-14T10:51:08.652Z"
   },
   {
    "duration": 7,
    "start_time": "2022-03-14T10:51:08.744Z"
   },
   {
    "duration": 87,
    "start_time": "2022-03-14T10:51:08.753Z"
   },
   {
    "duration": 6,
    "start_time": "2022-03-14T10:51:08.842Z"
   },
   {
    "duration": 11,
    "start_time": "2022-03-14T10:51:08.849Z"
   },
   {
    "duration": 11,
    "start_time": "2022-03-14T10:51:08.863Z"
   },
   {
    "duration": 9,
    "start_time": "2022-03-14T10:51:08.877Z"
   },
   {
    "duration": 50,
    "start_time": "2022-03-14T10:51:08.888Z"
   },
   {
    "duration": 5,
    "start_time": "2022-03-14T10:51:08.939Z"
   },
   {
    "duration": 7001,
    "start_time": "2022-03-14T10:51:08.945Z"
   },
   {
    "duration": 5,
    "start_time": "2022-03-14T10:51:15.948Z"
   },
   {
    "duration": 5,
    "start_time": "2022-03-14T10:56:03.108Z"
   },
   {
    "duration": 7161,
    "start_time": "2022-03-14T10:56:05.798Z"
   },
   {
    "duration": 7,
    "start_time": "2022-03-14T10:56:12.961Z"
   },
   {
    "duration": 5,
    "start_time": "2022-03-14T10:57:29.656Z"
   },
   {
    "duration": 6885,
    "start_time": "2022-03-14T10:57:31.415Z"
   },
   {
    "duration": 6,
    "start_time": "2022-03-14T10:57:38.301Z"
   },
   {
    "duration": 4,
    "start_time": "2022-03-14T10:58:07.194Z"
   },
   {
    "duration": 6989,
    "start_time": "2022-03-14T10:58:09.083Z"
   },
   {
    "duration": 8,
    "start_time": "2022-03-14T10:58:16.074Z"
   },
   {
    "duration": 988,
    "start_time": "2022-03-14T11:01:41.075Z"
   },
   {
    "duration": 138,
    "start_time": "2022-03-14T11:01:42.066Z"
   },
   {
    "duration": 53,
    "start_time": "2022-03-14T11:01:42.207Z"
   },
   {
    "duration": 133,
    "start_time": "2022-03-14T11:01:42.261Z"
   },
   {
    "duration": 42,
    "start_time": "2022-03-14T11:01:42.396Z"
   },
   {
    "duration": 131,
    "start_time": "2022-03-14T11:01:42.440Z"
   },
   {
    "duration": 35,
    "start_time": "2022-03-14T11:01:42.574Z"
   },
   {
    "duration": 9,
    "start_time": "2022-03-14T11:01:42.611Z"
   },
   {
    "duration": 34,
    "start_time": "2022-03-14T11:01:42.622Z"
   },
   {
    "duration": 17,
    "start_time": "2022-03-14T11:01:42.658Z"
   },
   {
    "duration": 29,
    "start_time": "2022-03-14T11:01:42.677Z"
   },
   {
    "duration": 13,
    "start_time": "2022-03-14T11:01:42.708Z"
   },
   {
    "duration": 20,
    "start_time": "2022-03-14T11:01:42.723Z"
   },
   {
    "duration": 49,
    "start_time": "2022-03-14T11:01:42.744Z"
   },
   {
    "duration": 23,
    "start_time": "2022-03-14T11:01:42.795Z"
   },
   {
    "duration": 26,
    "start_time": "2022-03-14T11:01:42.820Z"
   },
   {
    "duration": 191,
    "start_time": "2022-03-14T11:01:42.848Z"
   },
   {
    "duration": 8,
    "start_time": "2022-03-14T11:01:43.040Z"
   },
   {
    "duration": 6,
    "start_time": "2022-03-14T11:01:43.050Z"
   },
   {
    "duration": 9,
    "start_time": "2022-03-14T11:01:43.057Z"
   },
   {
    "duration": 7,
    "start_time": "2022-03-14T11:01:43.067Z"
   },
   {
    "duration": 12,
    "start_time": "2022-03-14T11:01:43.077Z"
   },
   {
    "duration": 401,
    "start_time": "2022-03-14T11:01:43.091Z"
   },
   {
    "duration": -19,
    "start_time": "2022-03-14T11:01:43.513Z"
   },
   {
    "duration": -20,
    "start_time": "2022-03-14T11:01:43.515Z"
   },
   {
    "duration": -21,
    "start_time": "2022-03-14T11:01:43.517Z"
   },
   {
    "duration": -22,
    "start_time": "2022-03-14T11:01:43.519Z"
   },
   {
    "duration": -23,
    "start_time": "2022-03-14T11:01:43.521Z"
   },
   {
    "duration": 250,
    "start_time": "2022-03-14T11:02:27.425Z"
   },
   {
    "duration": 11,
    "start_time": "2022-03-14T11:02:46.913Z"
   },
   {
    "duration": 12,
    "start_time": "2022-03-14T11:02:48.302Z"
   },
   {
    "duration": 11,
    "start_time": "2022-03-14T11:02:48.743Z"
   },
   {
    "duration": 5,
    "start_time": "2022-03-14T11:02:49.899Z"
   },
   {
    "duration": 7037,
    "start_time": "2022-03-14T11:02:52.545Z"
   },
   {
    "duration": 6,
    "start_time": "2022-03-14T11:02:59.584Z"
   },
   {
    "duration": 969,
    "start_time": "2022-03-14T11:03:06.301Z"
   },
   {
    "duration": 131,
    "start_time": "2022-03-14T11:03:07.272Z"
   },
   {
    "duration": 46,
    "start_time": "2022-03-14T11:03:07.405Z"
   },
   {
    "duration": 136,
    "start_time": "2022-03-14T11:03:07.453Z"
   },
   {
    "duration": 47,
    "start_time": "2022-03-14T11:03:07.591Z"
   },
   {
    "duration": 132,
    "start_time": "2022-03-14T11:03:07.639Z"
   },
   {
    "duration": 37,
    "start_time": "2022-03-14T11:03:07.773Z"
   },
   {
    "duration": 27,
    "start_time": "2022-03-14T11:03:07.812Z"
   },
   {
    "duration": 10,
    "start_time": "2022-03-14T11:03:07.842Z"
   },
   {
    "duration": 10,
    "start_time": "2022-03-14T11:03:07.854Z"
   },
   {
    "duration": 12,
    "start_time": "2022-03-14T11:03:07.866Z"
   },
   {
    "duration": 12,
    "start_time": "2022-03-14T11:03:07.880Z"
   },
   {
    "duration": 46,
    "start_time": "2022-03-14T11:03:07.893Z"
   },
   {
    "duration": 47,
    "start_time": "2022-03-14T11:03:07.941Z"
   },
   {
    "duration": 48,
    "start_time": "2022-03-14T11:03:07.990Z"
   },
   {
    "duration": 12,
    "start_time": "2022-03-14T11:03:08.039Z"
   },
   {
    "duration": 186,
    "start_time": "2022-03-14T11:03:08.053Z"
   },
   {
    "duration": 11,
    "start_time": "2022-03-14T11:03:08.240Z"
   },
   {
    "duration": 7,
    "start_time": "2022-03-14T11:03:08.253Z"
   },
   {
    "duration": 7,
    "start_time": "2022-03-14T11:03:08.262Z"
   },
   {
    "duration": 229,
    "start_time": "2022-03-14T11:03:08.271Z"
   },
   {
    "duration": -5,
    "start_time": "2022-03-14T11:03:08.507Z"
   },
   {
    "duration": -6,
    "start_time": "2022-03-14T11:03:08.509Z"
   },
   {
    "duration": -6,
    "start_time": "2022-03-14T11:03:08.510Z"
   },
   {
    "duration": -7,
    "start_time": "2022-03-14T11:03:08.512Z"
   },
   {
    "duration": -8,
    "start_time": "2022-03-14T11:03:08.514Z"
   },
   {
    "duration": -8,
    "start_time": "2022-03-14T11:03:08.515Z"
   },
   {
    "duration": -11,
    "start_time": "2022-03-14T11:03:08.519Z"
   },
   {
    "duration": 1012,
    "start_time": "2022-03-14T11:03:28.549Z"
   },
   {
    "duration": 134,
    "start_time": "2022-03-14T11:03:29.563Z"
   },
   {
    "duration": 64,
    "start_time": "2022-03-14T11:03:29.703Z"
   },
   {
    "duration": 136,
    "start_time": "2022-03-14T11:03:29.770Z"
   },
   {
    "duration": 48,
    "start_time": "2022-03-14T11:03:29.908Z"
   },
   {
    "duration": 140,
    "start_time": "2022-03-14T11:03:29.958Z"
   },
   {
    "duration": 50,
    "start_time": "2022-03-14T11:03:30.101Z"
   },
   {
    "duration": 11,
    "start_time": "2022-03-14T11:03:30.154Z"
   },
   {
    "duration": 25,
    "start_time": "2022-03-14T11:03:30.167Z"
   },
   {
    "duration": 18,
    "start_time": "2022-03-14T11:03:30.194Z"
   },
   {
    "duration": 29,
    "start_time": "2022-03-14T11:03:30.215Z"
   },
   {
    "duration": 14,
    "start_time": "2022-03-14T11:03:30.246Z"
   },
   {
    "duration": 14,
    "start_time": "2022-03-14T11:03:30.262Z"
   },
   {
    "duration": 80,
    "start_time": "2022-03-14T11:03:30.279Z"
   },
   {
    "duration": 25,
    "start_time": "2022-03-14T11:03:30.361Z"
   },
   {
    "duration": 60,
    "start_time": "2022-03-14T11:03:30.388Z"
   },
   {
    "duration": 188,
    "start_time": "2022-03-14T11:03:30.450Z"
   },
   {
    "duration": 15,
    "start_time": "2022-03-14T11:03:30.639Z"
   },
   {
    "duration": 40,
    "start_time": "2022-03-14T11:03:30.655Z"
   },
   {
    "duration": 128,
    "start_time": "2022-03-14T11:03:30.696Z"
   },
   {
    "duration": 10,
    "start_time": "2022-03-14T11:03:30.825Z"
   },
   {
    "duration": 33,
    "start_time": "2022-03-14T11:03:30.838Z"
   },
   {
    "duration": 380,
    "start_time": "2022-03-14T11:03:30.872Z"
   },
   {
    "duration": -11,
    "start_time": "2022-03-14T11:03:31.265Z"
   },
   {
    "duration": -12,
    "start_time": "2022-03-14T11:03:31.268Z"
   },
   {
    "duration": -30,
    "start_time": "2022-03-14T11:03:31.286Z"
   },
   {
    "duration": -33,
    "start_time": "2022-03-14T11:03:31.290Z"
   },
   {
    "duration": -33,
    "start_time": "2022-03-14T11:03:31.291Z"
   },
   {
    "duration": 10,
    "start_time": "2022-03-14T11:03:46.400Z"
   },
   {
    "duration": 1079,
    "start_time": "2022-03-14T11:03:51.780Z"
   },
   {
    "duration": 130,
    "start_time": "2022-03-14T11:03:52.861Z"
   },
   {
    "duration": 49,
    "start_time": "2022-03-14T11:03:52.993Z"
   },
   {
    "duration": 133,
    "start_time": "2022-03-14T11:03:53.043Z"
   },
   {
    "duration": 35,
    "start_time": "2022-03-14T11:03:53.178Z"
   },
   {
    "duration": 140,
    "start_time": "2022-03-14T11:03:53.214Z"
   },
   {
    "duration": 35,
    "start_time": "2022-03-14T11:03:53.355Z"
   },
   {
    "duration": 8,
    "start_time": "2022-03-14T11:03:53.393Z"
   },
   {
    "duration": 10,
    "start_time": "2022-03-14T11:03:53.403Z"
   },
   {
    "duration": 30,
    "start_time": "2022-03-14T11:03:53.414Z"
   },
   {
    "duration": 12,
    "start_time": "2022-03-14T11:03:53.446Z"
   },
   {
    "duration": 12,
    "start_time": "2022-03-14T11:03:53.459Z"
   },
   {
    "duration": 11,
    "start_time": "2022-03-14T11:03:53.472Z"
   },
   {
    "duration": 78,
    "start_time": "2022-03-14T11:03:53.485Z"
   },
   {
    "duration": 22,
    "start_time": "2022-03-14T11:03:53.564Z"
   },
   {
    "duration": 59,
    "start_time": "2022-03-14T11:03:53.588Z"
   },
   {
    "duration": 90,
    "start_time": "2022-03-14T11:03:53.650Z"
   },
   {
    "duration": 96,
    "start_time": "2022-03-14T11:03:53.743Z"
   },
   {
    "duration": 4,
    "start_time": "2022-03-14T11:03:53.841Z"
   },
   {
    "duration": 12,
    "start_time": "2022-03-14T11:03:53.847Z"
   },
   {
    "duration": 6,
    "start_time": "2022-03-14T11:03:53.861Z"
   },
   {
    "duration": 13,
    "start_time": "2022-03-14T11:03:53.868Z"
   },
   {
    "duration": 10,
    "start_time": "2022-03-14T11:03:53.883Z"
   },
   {
    "duration": 17,
    "start_time": "2022-03-14T11:03:53.895Z"
   },
   {
    "duration": 10,
    "start_time": "2022-03-14T11:03:53.938Z"
   },
   {
    "duration": 4,
    "start_time": "2022-03-14T11:03:53.950Z"
   },
   {
    "duration": 6978,
    "start_time": "2022-03-14T11:03:53.956Z"
   },
   {
    "duration": 7,
    "start_time": "2022-03-14T11:04:00.935Z"
   },
   {
    "duration": 994,
    "start_time": "2022-03-14T11:07:42.263Z"
   },
   {
    "duration": 133,
    "start_time": "2022-03-14T11:07:43.259Z"
   },
   {
    "duration": 46,
    "start_time": "2022-03-14T11:07:43.394Z"
   },
   {
    "duration": 129,
    "start_time": "2022-03-14T11:07:43.442Z"
   },
   {
    "duration": 37,
    "start_time": "2022-03-14T11:07:43.573Z"
   },
   {
    "duration": 139,
    "start_time": "2022-03-14T11:07:43.612Z"
   },
   {
    "duration": 37,
    "start_time": "2022-03-14T11:07:43.753Z"
   },
   {
    "duration": 10,
    "start_time": "2022-03-14T11:07:43.793Z"
   },
   {
    "duration": 38,
    "start_time": "2022-03-14T11:07:43.806Z"
   },
   {
    "duration": 11,
    "start_time": "2022-03-14T11:07:43.846Z"
   },
   {
    "duration": 14,
    "start_time": "2022-03-14T11:07:43.858Z"
   },
   {
    "duration": 12,
    "start_time": "2022-03-14T11:07:43.874Z"
   },
   {
    "duration": 13,
    "start_time": "2022-03-14T11:07:43.888Z"
   },
   {
    "duration": 46,
    "start_time": "2022-03-14T11:07:43.939Z"
   },
   {
    "duration": 23,
    "start_time": "2022-03-14T11:07:43.986Z"
   },
   {
    "duration": 33,
    "start_time": "2022-03-14T11:07:44.010Z"
   },
   {
    "duration": 101,
    "start_time": "2022-03-14T11:07:44.046Z"
   },
   {
    "duration": 9,
    "start_time": "2022-03-14T11:07:44.239Z"
   },
   {
    "duration": 5,
    "start_time": "2022-03-14T11:07:44.250Z"
   },
   {
    "duration": 5,
    "start_time": "2022-03-14T11:07:44.257Z"
   },
   {
    "duration": 7,
    "start_time": "2022-03-14T11:07:44.264Z"
   },
   {
    "duration": 11,
    "start_time": "2022-03-14T11:07:44.273Z"
   },
   {
    "duration": 10,
    "start_time": "2022-03-14T11:07:44.288Z"
   },
   {
    "duration": 47,
    "start_time": "2022-03-14T11:07:44.300Z"
   },
   {
    "duration": 10,
    "start_time": "2022-03-14T11:07:44.349Z"
   },
   {
    "duration": 4,
    "start_time": "2022-03-14T11:07:44.361Z"
   },
   {
    "duration": 6929,
    "start_time": "2022-03-14T11:07:44.367Z"
   },
   {
    "duration": 6,
    "start_time": "2022-03-14T11:07:51.298Z"
   }
  ],
  "kernelspec": {
   "display_name": "Python 3 (ipykernel)",
   "language": "python",
   "name": "python3"
  },
  "language_info": {
   "codemirror_mode": {
    "name": "ipython",
    "version": 3
   },
   "file_extension": ".py",
   "mimetype": "text/x-python",
   "name": "python",
   "nbconvert_exporter": "python",
   "pygments_lexer": "ipython3",
   "version": "3.9.5"
  },
  "toc": {
   "base_numbering": 1,
   "nav_menu": {},
   "number_sections": true,
   "sideBar": true,
   "skip_h1_title": true,
   "title_cell": "Table of Contents",
   "title_sidebar": "Contents",
   "toc_cell": false,
   "toc_position": {
    "height": "calc(100% - 180px)",
    "left": "10px",
    "top": "150px",
    "width": "289.6px"
   },
   "toc_section_display": true,
   "toc_window_display": false
  }
 },
 "nbformat": 4,
 "nbformat_minor": 2
}
