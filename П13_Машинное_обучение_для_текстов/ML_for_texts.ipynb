{
 "cells": [
  {
   "cell_type": "markdown",
   "metadata": {
    "toc": true
   },
   "source": [
    "<h1>Содержание<span class=\"tocSkip\"></span></h1>\n",
    "<div class=\"toc\"><ul class=\"toc-item\"><li><span><a href=\"#Подготовка\" data-toc-modified-id=\"Подготовка-1\"><span class=\"toc-item-num\">1&nbsp;&nbsp;</span>Подготовка</a></span><ul class=\"toc-item\"><li><span><a href=\"#Загрузка-и-изучение-данных\" data-toc-modified-id=\"Загрузка-и-изучение-данных-1.1\"><span class=\"toc-item-num\">1.1&nbsp;&nbsp;</span>Загрузка и изучение данных</a></span></li><li><span><a href=\"#Подготовка-к-обучению\" data-toc-modified-id=\"Подготовка-к-обучению-1.2\"><span class=\"toc-item-num\">1.2&nbsp;&nbsp;</span>Подготовка к обучению</a></span></li></ul></li><li><span><a href=\"#Обучение\" data-toc-modified-id=\"Обучение-2\"><span class=\"toc-item-num\">2&nbsp;&nbsp;</span>Обучение</a></span><ul class=\"toc-item\"><li><span><a href=\"#Модель-RandomForestClassifier\" data-toc-modified-id=\"Модель-RandomForestClassifier-2.1\"><span class=\"toc-item-num\">2.1&nbsp;&nbsp;</span>Модель RandomForestClassifier</a></span></li><li><span><a href=\"#Модель-LogisticRegression\" data-toc-modified-id=\"Модель-LogisticRegression-2.2\"><span class=\"toc-item-num\">2.2&nbsp;&nbsp;</span>Модель LogisticRegression</a></span></li><li><span><a href=\"#Модель-LinearSVC\" data-toc-modified-id=\"Модель-LinearSVC-2.3\"><span class=\"toc-item-num\">2.3&nbsp;&nbsp;</span>Модель LinearSVC</a></span></li><li><span><a href=\"#Модель-DummyClassifier\" data-toc-modified-id=\"Модель-DummyClassifier-2.4\"><span class=\"toc-item-num\">2.4&nbsp;&nbsp;</span>Модель DummyClassifier</a></span></li><li><span><a href=\"#Сравнение-моделей\" data-toc-modified-id=\"Сравнение-моделей-2.5\"><span class=\"toc-item-num\">2.5&nbsp;&nbsp;</span>Сравнение моделей</a></span><ul class=\"toc-item\"><li><span><a href=\"#Тестирование-лучшей-модели\" data-toc-modified-id=\"Тестирование-лучшей-модели-2.5.1\"><span class=\"toc-item-num\">2.5.1&nbsp;&nbsp;</span>Тестирование лучшей модели</a></span></li></ul></li></ul></li><li><span><a href=\"#Выводы\" data-toc-modified-id=\"Выводы-3\"><span class=\"toc-item-num\">3&nbsp;&nbsp;</span>Выводы</a></span></li><li><span><a href=\"#Чек-лист-проверки\" data-toc-modified-id=\"Чек-лист-проверки-4\"><span class=\"toc-item-num\">4&nbsp;&nbsp;</span>Чек-лист проверки</a></span></li></ul></div>"
   ]
  },
  {
   "cell_type": "markdown",
   "metadata": {},
   "source": [
    "# Проект для «Викишоп»"
   ]
  },
  {
   "cell_type": "markdown",
   "metadata": {},
   "source": [
    "Интернет-магазин «Викишоп» запускает новый сервис. Теперь пользователи могут редактировать и дополнять описания товаров, как в вики-сообществах. То есть клиенты предлагают свои правки и комментируют изменения других. Магазину нужен инструмент, который будет искать токсичные комментарии и отправлять их на модерацию. \n",
    "\n",
    "Обучите модель классифицировать комментарии на позитивные и негативные. В вашем распоряжении набор данных с разметкой о токсичности правок.\n",
    "\n",
    "Постройте модель со значением метрики качества *F1* не меньше 0.75. \n",
    "\n",
    "**Инструкция по выполнению проекта**\n",
    "\n",
    "1. Загрузите и подготовьте данные.\n",
    "2. Обучите разные модели. \n",
    "3. Сделайте выводы.\n",
    "\n",
    "Для выполнения проекта применять *BERT* необязательно, но вы можете попробовать.\n",
    "\n",
    "**Описание данных**\n",
    "\n",
    "Данные находятся в файле `toxic_comments.csv`. Столбец *text* в нём содержит текст комментария, а *toxic* — целевой признак."
   ]
  },
  {
   "cell_type": "markdown",
   "metadata": {},
   "source": [
    "## Подготовка"
   ]
  },
  {
   "cell_type": "code",
   "execution_count": 1,
   "metadata": {},
   "outputs": [],
   "source": [
    "import pandas as pd\n",
    "import numpy as np\n",
    "import matplotlib.pyplot as plt\n",
    "\n",
    "from sklearn.model_selection import train_test_split\n",
    "from sklearn.feature_extraction.text import CountVectorizer\n",
    "from sklearn.feature_extraction.text import TfidfVectorizer\n",
    "from sklearn.model_selection import GridSearchCV\n",
    "from sklearn.metrics import f1_score\n",
    "\n",
    "from sklearn.dummy import DummyClassifier\n",
    "from sklearn.ensemble import RandomForestClassifier\n",
    "from sklearn.linear_model import LogisticRegression\n",
    "from sklearn.svm import LinearSVC\n",
    "\n",
    "import warnings\n",
    "warnings.filterwarnings(\"ignore\")"
   ]
  },
  {
   "cell_type": "code",
   "execution_count": 2,
   "metadata": {},
   "outputs": [
    {
     "name": "stderr",
     "output_type": "stream",
     "text": [
      "[nltk_data] Downloading package stopwords to /home/jovyan/nltk_data...\n",
      "[nltk_data]   Package stopwords is already up-to-date!\n",
      "[nltk_data] Downloading package wordnet to /home/jovyan/nltk_data...\n",
      "[nltk_data]   Package wordnet is already up-to-date!\n",
      "[nltk_data] Downloading package punkt to /home/jovyan/nltk_data...\n",
      "[nltk_data]   Package punkt is already up-to-date!\n",
      "[nltk_data] Downloading package averaged_perceptron_tagger to\n",
      "[nltk_data]     /home/jovyan/nltk_data...\n",
      "[nltk_data]   Package averaged_perceptron_tagger is already up-to-\n",
      "[nltk_data]       date!\n"
     ]
    },
    {
     "data": {
      "text/plain": [
       "True"
      ]
     },
     "execution_count": 2,
     "metadata": {},
     "output_type": "execute_result"
    }
   ],
   "source": [
    "import re\n",
    "import nltk\n",
    "import spacy\n",
    "\n",
    "from nltk.corpus import stopwords \n",
    "\n",
    "nltk.download('stopwords')\n",
    "nltk.download('wordnet')\n",
    "nltk.download('punkt')\n",
    "nltk.download('averaged_perceptron_tagger')"
   ]
  },
  {
   "cell_type": "markdown",
   "metadata": {},
   "source": [
    "### Загрузка и изучение данных"
   ]
  },
  {
   "cell_type": "code",
   "execution_count": 3,
   "metadata": {},
   "outputs": [
    {
     "data": {
      "text/html": [
       "<div>\n",
       "<style scoped>\n",
       "    .dataframe tbody tr th:only-of-type {\n",
       "        vertical-align: middle;\n",
       "    }\n",
       "\n",
       "    .dataframe tbody tr th {\n",
       "        vertical-align: top;\n",
       "    }\n",
       "\n",
       "    .dataframe thead th {\n",
       "        text-align: right;\n",
       "    }\n",
       "</style>\n",
       "<table border=\"1\" class=\"dataframe\">\n",
       "  <thead>\n",
       "    <tr style=\"text-align: right;\">\n",
       "      <th></th>\n",
       "      <th>text</th>\n",
       "      <th>toxic</th>\n",
       "    </tr>\n",
       "  </thead>\n",
       "  <tbody>\n",
       "    <tr>\n",
       "      <th>0</th>\n",
       "      <td>Explanation\\nWhy the edits made under my usern...</td>\n",
       "      <td>0</td>\n",
       "    </tr>\n",
       "    <tr>\n",
       "      <th>1</th>\n",
       "      <td>D'aww! He matches this background colour I'm s...</td>\n",
       "      <td>0</td>\n",
       "    </tr>\n",
       "    <tr>\n",
       "      <th>2</th>\n",
       "      <td>Hey man, I'm really not trying to edit war. It...</td>\n",
       "      <td>0</td>\n",
       "    </tr>\n",
       "    <tr>\n",
       "      <th>3</th>\n",
       "      <td>\"\\nMore\\nI can't make any real suggestions on ...</td>\n",
       "      <td>0</td>\n",
       "    </tr>\n",
       "    <tr>\n",
       "      <th>4</th>\n",
       "      <td>You, sir, are my hero. Any chance you remember...</td>\n",
       "      <td>0</td>\n",
       "    </tr>\n",
       "  </tbody>\n",
       "</table>\n",
       "</div>"
      ],
      "text/plain": [
       "                                                text  toxic\n",
       "0  Explanation\\nWhy the edits made under my usern...      0\n",
       "1  D'aww! He matches this background colour I'm s...      0\n",
       "2  Hey man, I'm really not trying to edit war. It...      0\n",
       "3  \"\\nMore\\nI can't make any real suggestions on ...      0\n",
       "4  You, sir, are my hero. Any chance you remember...      0"
      ]
     },
     "execution_count": 3,
     "metadata": {},
     "output_type": "execute_result"
    }
   ],
   "source": [
    "df =  pd.read_csv('/datasets/toxic_comments.csv')\n",
    "df.head()"
   ]
  },
  {
   "cell_type": "code",
   "execution_count": 4,
   "metadata": {},
   "outputs": [
    {
     "data": {
      "text/plain": [
       "(159571, 2)"
      ]
     },
     "execution_count": 4,
     "metadata": {},
     "output_type": "execute_result"
    }
   ],
   "source": [
    "df.shape"
   ]
  },
  {
   "cell_type": "code",
   "execution_count": 5,
   "metadata": {},
   "outputs": [
    {
     "name": "stdout",
     "output_type": "stream",
     "text": [
      "<class 'pandas.core.frame.DataFrame'>\n",
      "RangeIndex: 159571 entries, 0 to 159570\n",
      "Data columns (total 2 columns):\n",
      " #   Column  Non-Null Count   Dtype \n",
      "---  ------  --------------   ----- \n",
      " 0   text    159571 non-null  object\n",
      " 1   toxic   159571 non-null  int64 \n",
      "dtypes: int64(1), object(1)\n",
      "memory usage: 2.4+ MB\n"
     ]
    }
   ],
   "source": [
    "df.info()"
   ]
  },
  {
   "cell_type": "code",
   "execution_count": 6,
   "metadata": {},
   "outputs": [
    {
     "data": {
      "image/png": "[encoded data removed]",
      "text/plain": [
       "<Figure size 432x288 with 1 Axes>"
      ]
     },
     "metadata": {},
     "output_type": "display_data"
    }
   ],
   "source": [
    "gr = df.groupby('toxic').count()\n",
    "labels = ['','Toxic']\n",
    "colors = ['tab:green', 'tab:red']\n",
    "explode = (0, 0.2)\n",
    "plt.pie(gr['text'], labels = labels, colors=colors, explode= explode, autopct='%.1f%%')\n",
    "plt.title('Процентное содержание токсичных комментариев',fontweight='bold')\n",
    "plt.show()"
   ]
  },
  {
   "cell_type": "markdown",
   "metadata": {},
   "source": [
    "### Подготовка к обучению"
   ]
  },
  {
   "cell_type": "markdown",
   "metadata": {},
   "source": [
    "Функция лемматизации"
   ]
  },
  {
   "cell_type": "code",
   "execution_count": 7,
   "metadata": {},
   "outputs": [],
   "source": [
    "def lemmatize(text, lemmatizer):\n",
    "    doc = lemmatizer(text)\n",
    "    lemm_text = \" \".join([token.lemma_ for token in doc])\n",
    "        \n",
    "    return lemm_text"
   ]
  },
  {
   "cell_type": "markdown",
   "metadata": {},
   "source": [
    "Функция очистки текста"
   ]
  },
  {
   "cell_type": "code",
   "execution_count": 8,
   "metadata": {},
   "outputs": [],
   "source": [
    "def clear(text):\n",
    "    cleaned = re.sub(r\"[^a-zA-Z\\' ]\", ' ', text)\n",
    "    return \" \".join(cleaned.split())"
   ]
  },
  {
   "cell_type": "markdown",
   "metadata": {},
   "source": [
    "Очистка текста"
   ]
  },
  {
   "cell_type": "code",
   "execution_count": 9,
   "metadata": {},
   "outputs": [
    {
     "name": "stdout",
     "output_type": "stream",
     "text": [
      "CPU times: user 2.07 s, sys: 46.4 ms, total: 2.12 s\n",
      "Wall time: 2.13 s\n"
     ]
    }
   ],
   "source": [
    "%%time\n",
    "df['text'] = df['text'].apply(clear)"
   ]
  },
  {
   "cell_type": "markdown",
   "metadata": {},
   "source": [
    "Лемматизируем текст"
   ]
  },
  {
   "cell_type": "code",
   "execution_count": 10,
   "metadata": {},
   "outputs": [
    {
     "name": "stdout",
     "output_type": "stream",
     "text": [
      "CPU times: user 14min 59s, sys: 872 ms, total: 15min\n",
      "Wall time: 15min 1s\n"
     ]
    }
   ],
   "source": [
    "%%time\n",
    "sp = spacy.load('en_core_web_sm', disable=['parser', 'ner'])\n",
    "df['lemma'] = df['text'].apply(lemmatize, lemmatizer=sp)"
   ]
  },
  {
   "cell_type": "markdown",
   "metadata": {},
   "source": [
    "**Вывод:**\n",
    "- Данные успешно загружены и изучены\n",
    "- Пропусков нет\n",
    "- Классы несбалансированы, что нужно учесть при обучении моделей\n",
    "- Проведена лемматизация\n",
    "- Данные готовы к обучению"
   ]
  },
  {
   "cell_type": "markdown",
   "metadata": {},
   "source": [
    "## Обучение"
   ]
  },
  {
   "cell_type": "code",
   "execution_count": 11,
   "metadata": {},
   "outputs": [],
   "source": [
    "# Проведем downsampling\n",
    "#df_toxic = df[df['toxic'] == 1]\n",
    "#df_not_toxic = df[df['toxic'] == 0]\n",
    "\n",
    "#df_downsampled = pd.concat([df_toxic] + [df_not_toxic.sample(n=16225, random_state=12345)])\n",
    "#df_downsampled['toxic'].value_counts()"
   ]
  },
  {
   "cell_type": "markdown",
   "metadata": {},
   "source": [
    "Определение признаков"
   ]
  },
  {
   "cell_type": "code",
   "execution_count": 12,
   "metadata": {},
   "outputs": [],
   "source": [
    "#df_downsampled = df_downsampled.dropna()\n",
    "features = df['lemma']\n",
    "target = df['toxic']"
   ]
  },
  {
   "cell_type": "markdown",
   "metadata": {},
   "source": [
    "Разделение данных на обучающую и тестовую выборки"
   ]
  },
  {
   "cell_type": "code",
   "execution_count": 13,
   "metadata": {},
   "outputs": [],
   "source": [
    "features_train, features_test, target_train, target_test = train_test_split(features, target,\n",
    "                                                                            test_size=0.25, \n",
    "                                                                            shuffle=True,\n",
    "                                                                            random_state=12345)"
   ]
  },
  {
   "cell_type": "code",
   "execution_count": 14,
   "metadata": {},
   "outputs": [
    {
     "data": {
      "text/plain": [
       "((119678,), (39893,))"
      ]
     },
     "execution_count": 14,
     "metadata": {},
     "output_type": "execute_result"
    }
   ],
   "source": [
    "features_train.shape, features_test.shape"
   ]
  },
  {
   "cell_type": "markdown",
   "metadata": {},
   "source": [
    "Рассчитаем для каждого слова TF-IDF"
   ]
  },
  {
   "cell_type": "code",
   "execution_count": 15,
   "metadata": {},
   "outputs": [
    {
     "name": "stdout",
     "output_type": "stream",
     "text": [
      "Размер массива TF-IDF: (119678, 132841)\n"
     ]
    }
   ],
   "source": [
    "stop_words = set(stopwords.words('english'))\n",
    "\n",
    "count_tf_idf = TfidfVectorizer(stop_words=stop_words) \n",
    "count_tf_idf.fit(features_train) \n",
    "tf_idf = count_tf_idf.transform(features_train)\n",
    "\n",
    "print(\"Размер массива TF-IDF:\", tf_idf.shape)"
   ]
  },
  {
   "cell_type": "markdown",
   "metadata": {},
   "source": [
    "### Модель RandomForestClassifier"
   ]
  },
  {
   "cell_type": "code",
   "execution_count": 16,
   "metadata": {},
   "outputs": [],
   "source": [
    "comparison = pd.DataFrame(columns = ['model', 'f1'])"
   ]
  },
  {
   "cell_type": "code",
   "execution_count": 17,
   "metadata": {},
   "outputs": [
    {
     "name": "stdout",
     "output_type": "stream",
     "text": [
      "CPU times: user 7min 2s, sys: 408 ms, total: 7min 3s\n",
      "Wall time: 7min 3s\n"
     ]
    },
    {
     "data": {
      "text/plain": [
       "{'max_depth': 15}"
      ]
     },
     "execution_count": 17,
     "metadata": {},
     "output_type": "execute_result"
    }
   ],
   "source": [
    "%%time\n",
    "model_rfc = RandomForestClassifier(ccp_alpha=0.005,\n",
    "                                   n_jobs=-1,\n",
    "                                   class_weight='balanced')\n",
    "\n",
    "parameters = {'max_depth' : [15, 30]}\n",
    "\n",
    "model_rfc_cv = GridSearchCV(model_rfc, parameters, scoring = 'f1')\n",
    "model_rfc_cv.fit(tf_idf, target_train)\n",
    "\n",
    "comparison = comparison.append({'model' : 'RandomForestClassifier',\n",
    "                     'f1' : f1_score(target_train, model_rfc_cv.predict(tf_idf))}, ignore_index=True)\n",
    "\n",
    "model_rfc_cv.best_params_"
   ]
  },
  {
   "cell_type": "markdown",
   "metadata": {},
   "source": [
    "### Модель LogisticRegression"
   ]
  },
  {
   "cell_type": "code",
   "execution_count": 18,
   "metadata": {},
   "outputs": [
    {
     "name": "stdout",
     "output_type": "stream",
     "text": [
      "CPU times: user 3min 33s, sys: 3min 42s, total: 7min 15s\n",
      "Wall time: 7min 15s\n"
     ]
    },
    {
     "data": {
      "text/plain": [
       "{'solver': 'lbfgs'}"
      ]
     },
     "execution_count": 18,
     "metadata": {},
     "output_type": "execute_result"
    }
   ],
   "source": [
    "%%time\n",
    "model_lr = LogisticRegression(class_weight='balanced',\n",
    "                           n_jobs=-1,\n",
    "                           random_state=42)\n",
    "\n",
    "parameters = {'solver': ['liblinear','newton-cg', 'lbfgs']}\n",
    "\n",
    "\n",
    "model_lr_cv = GridSearchCV(model_lr, parameters, scoring = 'f1')\n",
    "model_lr_cv.fit(tf_idf, target_train)\n",
    "\n",
    "comparison = comparison.append({'model' : 'LogisticRegression',\n",
    "                     'f1' : f1_score(target_train, model_lr_cv.predict(tf_idf))}, ignore_index=True)\n",
    "\n",
    "model_lr_cv.best_params_"
   ]
  },
  {
   "cell_type": "markdown",
   "metadata": {},
   "source": [
    "### Модель LinearSVC"
   ]
  },
  {
   "cell_type": "code",
   "execution_count": 19,
   "metadata": {},
   "outputs": [
    {
     "name": "stdout",
     "output_type": "stream",
     "text": [
      "CPU times: user 6min, sys: 1.93 s, total: 6min 1s\n",
      "Wall time: 6min 2s\n"
     ]
    },
    {
     "data": {
      "text/plain": [
       "{'C': 1, 'loss': 'squared_hinge', 'multi_class': 'ovr', 'penalty': 'l2'}"
      ]
     },
     "execution_count": 19,
     "metadata": {},
     "output_type": "execute_result"
    }
   ],
   "source": [
    "%%time\n",
    "model_svc = LinearSVC(random_state=42, \n",
    "                      class_weight='balanced', \n",
    "                      max_iter=50)\n",
    "\n",
    "parameters = {'multi_class': ['ovr', 'crammer_singer'],\n",
    "              'loss' : ['hinge','squared_hinge'],\n",
    "              'C' : [1e-8, 1e-4, 1e-2, 1],\n",
    "              'penalty' : ['l1', 'l2']}\n",
    "\n",
    "model_svc_cv = GridSearchCV(model_svc, parameters, scoring = 'f1')\n",
    "model_svc_cv.fit(tf_idf, target_train)\n",
    "\n",
    "comparison = comparison.append({'model' : 'LinearSVC',\n",
    "                     'f1' : f1_score(target_train, model_svc_cv.predict(tf_idf))}, ignore_index=True)\n",
    "\n",
    "model_svc_cv.best_params_"
   ]
  },
  {
   "cell_type": "markdown",
   "metadata": {},
   "source": [
    "### Модель DummyClassifier"
   ]
  },
  {
   "cell_type": "markdown",
   "metadata": {},
   "source": [
    "Для проверки модели на адекватность, вычислим F1 для дамми модели."
   ]
  },
  {
   "cell_type": "code",
   "execution_count": 20,
   "metadata": {},
   "outputs": [],
   "source": [
    "dummy = DummyClassifier(strategy=\"constant\", constant=1)\n",
    "dummy.fit(tf_idf, target_train)\n",
    "\n",
    "comparison = comparison.append({'model' : 'DummyClassifier',\n",
    "                     'f1' : f1_score(target_train, dummy.predict(tf_idf))}, ignore_index=True)"
   ]
  },
  {
   "cell_type": "markdown",
   "metadata": {},
   "source": [
    "### Сравнение моделей"
   ]
  },
  {
   "cell_type": "code",
   "execution_count": 21,
   "metadata": {},
   "outputs": [
    {
     "data": {
      "text/html": [
       "<div>\n",
       "<style scoped>\n",
       "    .dataframe tbody tr th:only-of-type {\n",
       "        vertical-align: middle;\n",
       "    }\n",
       "\n",
       "    .dataframe tbody tr th {\n",
       "        vertical-align: top;\n",
       "    }\n",
       "\n",
       "    .dataframe thead th {\n",
       "        text-align: right;\n",
       "    }\n",
       "</style>\n",
       "<table border=\"1\" class=\"dataframe\">\n",
       "  <thead>\n",
       "    <tr style=\"text-align: right;\">\n",
       "      <th></th>\n",
       "      <th>model</th>\n",
       "      <th>f1</th>\n",
       "    </tr>\n",
       "  </thead>\n",
       "  <tbody>\n",
       "    <tr>\n",
       "      <th>0</th>\n",
       "      <td>RandomForestClassifier</td>\n",
       "      <td>0.327789</td>\n",
       "    </tr>\n",
       "    <tr>\n",
       "      <th>1</th>\n",
       "      <td>LogisticRegression</td>\n",
       "      <td>0.833250</td>\n",
       "    </tr>\n",
       "    <tr>\n",
       "      <th>2</th>\n",
       "      <td>LinearSVC</td>\n",
       "      <td>0.913760</td>\n",
       "    </tr>\n",
       "    <tr>\n",
       "      <th>3</th>\n",
       "      <td>DummyClassifier</td>\n",
       "      <td>0.184166</td>\n",
       "    </tr>\n",
       "  </tbody>\n",
       "</table>\n",
       "</div>"
      ],
      "text/plain": [
       "                    model        f1\n",
       "0  RandomForestClassifier  0.327789\n",
       "1      LogisticRegression  0.833250\n",
       "2               LinearSVC  0.913760\n",
       "3         DummyClassifier  0.184166"
      ]
     },
     "execution_count": 21,
     "metadata": {},
     "output_type": "execute_result"
    }
   ],
   "source": [
    "comparison"
   ]
  },
  {
   "cell_type": "markdown",
   "metadata": {},
   "source": [
    "#### Тестирование лучшей модели"
   ]
  },
  {
   "cell_type": "markdown",
   "metadata": {},
   "source": [
    "Лучшие показатели у модели LinearSVC"
   ]
  },
  {
   "cell_type": "code",
   "execution_count": 22,
   "metadata": {},
   "outputs": [
    {
     "name": "stdout",
     "output_type": "stream",
     "text": [
      "Размер массива TF-IDF: (39893, 132841)\n"
     ]
    }
   ],
   "source": [
    "tf_idf_test = count_tf_idf.transform(features_test) \n",
    "print(\"Размер массива TF-IDF:\", tf_idf_test.shape)"
   ]
  },
  {
   "cell_type": "code",
   "execution_count": 23,
   "metadata": {},
   "outputs": [
    {
     "name": "stdout",
     "output_type": "stream",
     "text": [
      "F1 score LinearSVC: 0.7658752697943882\n"
     ]
    }
   ],
   "source": [
    "predicted_test = model_svc_cv.best_estimator_.predict(tf_idf_test)\n",
    "print(f\"F1 score LinearSVC: {f1_score(target_test, predicted_test)}\")"
   ]
  },
  {
   "cell_type": "markdown",
   "metadata": {},
   "source": [
    "## Выводы"
   ]
  },
  {
   "cell_type": "markdown",
   "metadata": {},
   "source": [
    "- Текст лемматизирован с использованием библиотеки spacy \n",
    "- Обучены модели Random Forrest, Logistic Regression и LinearSVC\n",
    "- Гиперпараметры подобраны с помощью Grid Search\n",
    "- Наилучшие резуьтаты показала модель LinearSVC\n",
    "- На тестовой выборке результат выбранной модели получился F1 ~ 0.77"
   ]
  }
 ],
 "metadata": {
  "ExecuteTimeLog": [
   {
    "duration": 0,
    "start_time": "2022-05-10T10:53:44.365Z"
   },
   {
    "duration": 112,
    "start_time": "2022-05-10T10:53:58.156Z"
   },
   {
    "duration": 4116,
    "start_time": "2022-05-10T10:54:09.556Z"
   },
   {
    "duration": 203,
    "start_time": "2022-05-10T10:54:21.856Z"
   },
   {
    "duration": 411,
    "start_time": "2022-05-10T10:54:44.461Z"
   },
   {
    "duration": 6609,
    "start_time": "2022-05-10T10:55:13.056Z"
   },
   {
    "duration": 11,
    "start_time": "2022-05-10T10:55:24.156Z"
   },
   {
    "duration": 11,
    "start_time": "2022-05-10T10:55:25.256Z"
   },
   {
    "duration": 497,
    "start_time": "2022-05-10T10:55:33.462Z"
   },
   {
    "duration": 111,
    "start_time": "2022-05-10T10:55:39.356Z"
   },
   {
    "duration": 201,
    "start_time": "2022-05-10T10:56:12.756Z"
   },
   {
    "duration": 132,
    "start_time": "2022-05-10T10:56:29.157Z"
   },
   {
    "duration": 11,
    "start_time": "2022-05-10T10:56:33.656Z"
   },
   {
    "duration": 2910,
    "start_time": "2022-05-10T10:58:54.156Z"
   },
   {
    "duration": 1599,
    "start_time": "2022-05-10T10:59:08.356Z"
   },
   {
    "duration": 409,
    "start_time": "2022-05-10T11:00:32.164Z"
   },
   {
    "duration": 200,
    "start_time": "2022-05-10T11:01:55.656Z"
   },
   {
    "duration": 203,
    "start_time": "2022-05-10T11:02:05.756Z"
   },
   {
    "duration": 205,
    "start_time": "2022-05-10T11:03:30.755Z"
   },
   {
    "duration": 1401,
    "start_time": "2022-05-10T11:03:39.457Z"
   },
   {
    "duration": 0,
    "start_time": "2022-05-10T11:06:20.212Z"
   },
   {
    "duration": 0,
    "start_time": "2022-05-10T11:06:20.215Z"
   },
   {
    "duration": 7,
    "start_time": "2022-05-10T11:06:23.928Z"
   },
   {
    "duration": 45,
    "start_time": "2022-05-10T11:06:32.231Z"
   },
   {
    "duration": 169,
    "start_time": "2022-05-10T11:06:42.432Z"
   },
   {
    "duration": 22,
    "start_time": "2022-05-10T11:07:02.272Z"
   },
   {
    "duration": 42,
    "start_time": "2022-05-10T11:07:05.651Z"
   },
   {
    "duration": 179,
    "start_time": "2022-05-10T11:07:07.387Z"
   },
   {
    "duration": 45,
    "start_time": "2022-05-10T11:07:31.941Z"
   },
   {
    "duration": 103,
    "start_time": "2022-05-10T11:07:39.828Z"
   },
   {
    "duration": 42,
    "start_time": "2022-05-10T11:07:50.294Z"
   },
   {
    "duration": 102,
    "start_time": "2022-05-10T11:08:11.360Z"
   },
   {
    "duration": 127,
    "start_time": "2022-05-10T11:09:47.608Z"
   },
   {
    "duration": 123,
    "start_time": "2022-05-10T11:09:51.942Z"
   },
   {
    "duration": 146,
    "start_time": "2022-05-10T11:10:06.066Z"
   },
   {
    "duration": 58,
    "start_time": "2022-05-10T11:10:19.567Z"
   },
   {
    "duration": 61,
    "start_time": "2022-05-10T11:10:25.060Z"
   },
   {
    "duration": 59,
    "start_time": "2022-05-10T11:10:35.472Z"
   },
   {
    "duration": 104,
    "start_time": "2022-05-10T11:10:50.670Z"
   },
   {
    "duration": 103,
    "start_time": "2022-05-10T11:11:32.696Z"
   },
   {
    "duration": 102,
    "start_time": "2022-05-10T11:11:37.284Z"
   },
   {
    "duration": 115,
    "start_time": "2022-05-10T11:11:44.231Z"
   },
   {
    "duration": 105,
    "start_time": "2022-05-10T11:11:48.741Z"
   },
   {
    "duration": 156,
    "start_time": "2022-05-10T11:12:42.742Z"
   },
   {
    "duration": 103,
    "start_time": "2022-05-10T11:12:47.393Z"
   },
   {
    "duration": 105,
    "start_time": "2022-05-10T11:12:59.661Z"
   },
   {
    "duration": 112,
    "start_time": "2022-05-10T11:13:25.722Z"
   },
   {
    "duration": 177,
    "start_time": "2022-05-10T11:14:14.998Z"
   },
   {
    "duration": 112,
    "start_time": "2022-05-10T11:15:06.692Z"
   },
   {
    "duration": 110,
    "start_time": "2022-05-10T11:15:17.961Z"
   },
   {
    "duration": 4,
    "start_time": "2022-05-10T11:23:18.517Z"
   },
   {
    "duration": 4,
    "start_time": "2022-05-10T11:23:50.634Z"
   },
   {
    "duration": 4,
    "start_time": "2022-05-10T11:23:58.376Z"
   },
   {
    "duration": 3,
    "start_time": "2022-05-10T11:23:59.210Z"
   },
   {
    "duration": 4112,
    "start_time": "2022-05-10T19:26:16.974Z"
   },
   {
    "duration": 4,
    "start_time": "2022-05-10T19:26:21.095Z"
   },
   {
    "duration": 56,
    "start_time": "2022-05-10T19:26:21.102Z"
   },
   {
    "duration": 169,
    "start_time": "2022-05-10T19:26:21.160Z"
   },
   {
    "duration": 3,
    "start_time": "2022-05-10T19:26:21.331Z"
   },
   {
    "duration": 8,
    "start_time": "2022-05-10T19:26:21.336Z"
   },
   {
    "duration": 1378,
    "start_time": "2022-05-11T19:13:57.205Z"
   },
   {
    "duration": 74790,
    "start_time": "2022-05-11T19:13:59.992Z"
   },
   {
    "duration": 3,
    "start_time": "2022-05-11T19:15:14.784Z"
   },
   {
    "duration": 7,
    "start_time": "2022-05-11T19:15:14.789Z"
   },
   {
    "duration": 3,
    "start_time": "2022-05-11T19:17:10.297Z"
   },
   {
    "duration": 3,
    "start_time": "2022-05-11T19:17:10.758Z"
   },
   {
    "duration": 520,
    "start_time": "2022-05-11T19:17:13.533Z"
   },
   {
    "duration": 7,
    "start_time": "2022-05-11T19:17:27.335Z"
   },
   {
    "duration": 6,
    "start_time": "2022-05-11T19:17:29.908Z"
   },
   {
    "duration": 9,
    "start_time": "2022-05-11T19:17:32.801Z"
   },
   {
    "duration": 8,
    "start_time": "2022-05-11T19:17:35.394Z"
   },
   {
    "duration": 8,
    "start_time": "2022-05-11T19:17:37.579Z"
   },
   {
    "duration": 7,
    "start_time": "2022-05-11T19:17:39.516Z"
   },
   {
    "duration": 46,
    "start_time": "2022-05-11T22:38:17.295Z"
   },
   {
    "duration": 1622,
    "start_time": "2022-05-12T07:33:31.669Z"
   },
   {
    "duration": 112689,
    "start_time": "2022-05-12T07:33:33.297Z"
   },
   {
    "duration": 810,
    "start_time": "2022-05-12T07:35:25.989Z"
   },
   {
    "duration": 9,
    "start_time": "2022-05-12T07:35:26.802Z"
   },
   {
    "duration": 34,
    "start_time": "2022-05-12T07:35:26.813Z"
   },
   {
    "duration": 116,
    "start_time": "2022-05-12T07:35:26.848Z"
   },
   {
    "duration": 10,
    "start_time": "2022-05-12T07:35:26.965Z"
   },
   {
    "duration": 37,
    "start_time": "2022-05-12T07:35:26.977Z"
   },
   {
    "duration": 2432,
    "start_time": "2022-05-12T07:35:27.015Z"
   },
   {
    "duration": 544,
    "start_time": "2022-05-12T07:35:29.449Z"
   },
   {
    "duration": 2,
    "start_time": "2022-05-12T07:35:29.997Z"
   },
   {
    "duration": 1854,
    "start_time": "2022-05-12T07:35:30.001Z"
   },
   {
    "duration": 0,
    "start_time": "2022-05-12T07:35:31.857Z"
   },
   {
    "duration": 0,
    "start_time": "2022-05-12T07:35:31.859Z"
   },
   {
    "duration": 0,
    "start_time": "2022-05-12T07:35:31.859Z"
   },
   {
    "duration": 0,
    "start_time": "2022-05-12T07:35:31.860Z"
   },
   {
    "duration": 0,
    "start_time": "2022-05-12T07:35:31.862Z"
   },
   {
    "duration": 0,
    "start_time": "2022-05-12T07:35:31.863Z"
   },
   {
    "duration": 0,
    "start_time": "2022-05-12T07:35:31.864Z"
   },
   {
    "duration": 0,
    "start_time": "2022-05-12T07:35:31.865Z"
   },
   {
    "duration": 0,
    "start_time": "2022-05-12T07:35:31.865Z"
   },
   {
    "duration": 0,
    "start_time": "2022-05-12T07:35:31.867Z"
   },
   {
    "duration": 0,
    "start_time": "2022-05-12T07:35:31.868Z"
   },
   {
    "duration": 0,
    "start_time": "2022-05-12T07:35:31.869Z"
   },
   {
    "duration": 2208,
    "start_time": "2022-05-12T07:37:25.890Z"
   },
   {
    "duration": 870354,
    "start_time": "2022-05-12T07:37:38.347Z"
   },
   {
    "duration": 3,
    "start_time": "2022-05-12T07:52:38.837Z"
   },
   {
    "duration": 34,
    "start_time": "2022-05-12T07:52:43.240Z"
   },
   {
    "duration": 4,
    "start_time": "2022-05-12T07:52:43.839Z"
   },
   {
    "duration": 9914,
    "start_time": "2022-05-12T07:52:48.290Z"
   },
   {
    "duration": 5,
    "start_time": "2022-05-12T07:53:03.945Z"
   },
   {
    "duration": 509789,
    "start_time": "2022-05-12T07:53:04.995Z"
   },
   {
    "duration": 439641,
    "start_time": "2022-05-12T08:07:50.271Z"
   },
   {
    "duration": 167165,
    "start_time": "2022-05-12T08:15:24.165Z"
   },
   {
    "duration": 35,
    "start_time": "2022-05-12T08:18:19.434Z"
   },
   {
    "duration": 7,
    "start_time": "2022-05-12T08:18:23.958Z"
   },
   {
    "duration": 1665,
    "start_time": "2022-05-12T08:18:53.431Z"
   },
   {
    "duration": 27,
    "start_time": "2022-05-12T08:18:56.376Z"
   },
   {
    "duration": 1816,
    "start_time": "2022-05-12T08:20:38.096Z"
   },
   {
    "duration": 25,
    "start_time": "2022-05-12T08:20:40.667Z"
   },
   {
    "duration": 27,
    "start_time": "2022-05-12T08:20:49.402Z"
   },
   {
    "duration": 194054,
    "start_time": "2022-05-12T08:21:11.192Z"
   },
   {
    "duration": 17,
    "start_time": "2022-05-12T08:24:38.048Z"
   },
   {
    "duration": 1748,
    "start_time": "2022-05-12T08:24:42.197Z"
   },
   {
    "duration": 28,
    "start_time": "2022-05-12T08:24:44.867Z"
   },
   {
    "duration": 45,
    "start_time": "2022-05-12T08:26:45.950Z"
   },
   {
    "duration": 57,
    "start_time": "2022-05-12T08:26:54.151Z"
   },
   {
    "duration": 151,
    "start_time": "2022-05-12T08:27:09.968Z"
   },
   {
    "duration": 190,
    "start_time": "2022-05-12T08:28:07.822Z"
   },
   {
    "duration": 1620,
    "start_time": "2022-05-12T08:30:33.284Z"
   },
   {
    "duration": 87456,
    "start_time": "2022-05-12T08:30:34.907Z"
   },
   {
    "duration": 726,
    "start_time": "2022-05-12T08:32:02.365Z"
   },
   {
    "duration": 4,
    "start_time": "2022-05-12T08:32:03.093Z"
   },
   {
    "duration": 32,
    "start_time": "2022-05-12T08:32:03.098Z"
   },
   {
    "duration": 129,
    "start_time": "2022-05-12T08:32:03.131Z"
   },
   {
    "duration": 3,
    "start_time": "2022-05-12T08:32:03.262Z"
   },
   {
    "duration": 3,
    "start_time": "2022-05-12T08:32:03.272Z"
   },
   {
    "duration": 1957,
    "start_time": "2022-05-12T08:32:03.276Z"
   },
   {
    "duration": 855490,
    "start_time": "2022-05-12T08:32:05.236Z"
   },
   {
    "duration": 3,
    "start_time": "2022-05-12T08:46:20.728Z"
   },
   {
    "duration": 6,
    "start_time": "2022-05-12T08:46:20.733Z"
   },
   {
    "duration": 67,
    "start_time": "2022-05-12T08:46:20.741Z"
   },
   {
    "duration": 4,
    "start_time": "2022-05-12T08:46:20.810Z"
   },
   {
    "duration": 10804,
    "start_time": "2022-05-12T08:46:20.815Z"
   },
   {
    "duration": 5,
    "start_time": "2022-05-12T08:46:31.621Z"
   },
   {
    "duration": 515654,
    "start_time": "2022-05-12T08:46:31.628Z"
   },
   {
    "duration": 453634,
    "start_time": "2022-05-12T08:55:07.289Z"
   },
   {
    "duration": 470654,
    "start_time": "2022-05-12T09:02:40.925Z"
   },
   {
    "duration": 57,
    "start_time": "2022-05-12T09:10:31.582Z"
   },
   {
    "duration": 11,
    "start_time": "2022-05-12T09:10:31.643Z"
   },
   {
    "duration": 2356,
    "start_time": "2022-05-12T09:10:31.656Z"
   },
   {
    "duration": 18,
    "start_time": "2022-05-12T09:10:34.014Z"
   },
   {
    "duration": 27,
    "start_time": "2022-05-12T09:14:46.358Z"
   },
   {
    "duration": 1348,
    "start_time": "2022-05-12T09:28:51.510Z"
   },
   {
    "duration": 85643,
    "start_time": "2022-05-12T09:28:52.860Z"
   },
   {
    "duration": 796,
    "start_time": "2022-05-12T09:30:18.505Z"
   },
   {
    "duration": 4,
    "start_time": "2022-05-12T09:30:19.303Z"
   },
   {
    "duration": 32,
    "start_time": "2022-05-12T09:30:19.309Z"
   },
   {
    "duration": 153,
    "start_time": "2022-05-12T09:30:19.343Z"
   },
   {
    "duration": 3,
    "start_time": "2022-05-12T09:30:19.498Z"
   },
   {
    "duration": 6,
    "start_time": "2022-05-12T09:30:19.503Z"
   },
   {
    "duration": 2141,
    "start_time": "2022-05-12T09:30:19.510Z"
   },
   {
    "duration": 901463,
    "start_time": "2022-05-12T09:30:21.654Z"
   },
   {
    "duration": 2,
    "start_time": "2022-05-12T09:45:23.119Z"
   },
   {
    "duration": 9,
    "start_time": "2022-05-12T09:45:23.123Z"
   },
   {
    "duration": 41,
    "start_time": "2022-05-12T09:45:23.134Z"
   },
   {
    "duration": 4,
    "start_time": "2022-05-12T09:45:23.177Z"
   },
   {
    "duration": 9072,
    "start_time": "2022-05-12T09:45:23.183Z"
   },
   {
    "duration": 5,
    "start_time": "2022-05-12T09:45:32.257Z"
   },
   {
    "duration": 423547,
    "start_time": "2022-05-12T09:45:32.271Z"
   },
   {
    "duration": 435987,
    "start_time": "2022-05-12T09:52:35.820Z"
   },
   {
    "duration": 362178,
    "start_time": "2022-05-12T09:59:51.808Z"
   },
   {
    "duration": 33,
    "start_time": "2022-05-12T10:05:53.988Z"
   },
   {
    "duration": 6,
    "start_time": "2022-05-12T10:05:54.023Z"
   },
   {
    "duration": 1440,
    "start_time": "2022-05-12T10:05:54.031Z"
   },
   {
    "duration": 17,
    "start_time": "2022-05-12T10:05:55.472Z"
   }
  ],
  "kernelspec": {
   "display_name": "Python 3 (ipykernel)",
   "language": "python",
   "name": "python3"
  },
  "language_info": {
   "codemirror_mode": {
    "name": "ipython",
    "version": 3
   },
   "file_extension": ".py",
   "mimetype": "text/x-python",
   "name": "python",
   "nbconvert_exporter": "python",
   "pygments_lexer": "ipython3",
   "version": "3.9.5"
  },
  "toc": {
   "base_numbering": 1,
   "nav_menu": {},
   "number_sections": true,
   "sideBar": true,
   "skip_h1_title": true,
   "title_cell": "Содержание",
   "title_sidebar": "Contents",
   "toc_cell": true,
   "toc_position": {
    "height": "calc(100% - 180px)",
    "left": "10px",
    "top": "150px",
    "width": "302.391px"
   },
   "toc_section_display": true,
   "toc_window_display": true
  }
 },
 "nbformat": 4,
 "nbformat_minor": 2
}
